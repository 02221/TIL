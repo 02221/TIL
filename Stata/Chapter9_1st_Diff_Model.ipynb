{
 "cells": [
  {
   "cell_type": "markdown",
   "metadata": {},
   "source": [
    "# 9.1. 1차 차분 추정I"
   ]
  },
  {
   "cell_type": "markdown",
   "metadata": {},
   "source": [
    "- $y_{it} + \\alpha + \\beta x_{it} + u_i + e_{it}$\n",
    "    - 차분을 통한 u_i 제거  \n",
    "        - $y_{i1} = \\alpha + \\beta x_{i1} + u_i + e_{i1}$...(1)\n",
    "        - $y_{i2} = \\alpha + \\beta x_{i2} + u_i + e_{i2}$...(2)\n",
    "        - result (1) - (2)\n",
    "            - $\\Delta y_i = \\beta \\Delta x_i + \\Delta e_i$\n",
    "                - $\\Delta e_i = e_{it} - e_{it-1}$\n",
    "                    - $E[\\Delta e_i] = 0$\n",
    "                    - $Var[\\Delta e_i] = 2\\sigma^2_\\epsilon$                    \n",
    "            - OLS로 추정시 효율적이면서 일치추정량\n",
    "                - $u_i$가 모형에서 제외되었기 때문에 $cov(u_i, x_{it})$가 상관관계에 있더라도 $\\beta$ 일치추정량 얻을 수 있음\n",
    "                - if T = 2일 경우 $\\Delta e_i$에서는 시간 개념이 사라지기 때문에 자기상관이 존재하지 않음\n",
    "- regime switching 모델\n",
    "    - 깁스 샘플링"
   ]
  },
  {
   "cell_type": "markdown",
   "metadata": {},
   "source": [
    "## 9.2. 1차 차분 추정 II$(T \\ge 3)$"
   ]
  },
  {
   "cell_type": "markdown",
   "metadata": {},
   "source": [
    "- T = 3\n",
    "    - Equation\n",
    "        - $y_{i1} = \\alpha + \\beta x_{i1} + u_i + e_{i1}$...(1)\n",
    "        - $y_{i2} = \\alpha + \\beta x_{i2} + u_i + e_{i2}$...(2)\n",
    "        - $y_{i3} = \\alpha + \\beta x_{i3} + u_i + e_{i3}$...(3)\n",
    "    - Diff Equation\n",
    "        - $\\Delta y_{i2} = \\beta \\Delta x_{i2} + \\Delta e_{i2}$\n",
    "        - $\\Delta y_{i3} = \\beta \\Delta x_{i3} + \\Delta e_{i3}$\n",
    "        - 차분을 해요 횡단면데이터 구조 유지\n",
    "        - 자기상관 유지\n",
    "            - if 자기상관 x\n",
    "                - $E[e_{it} e_{it-1}] - E[e_{it}]E[e_{it-1}] = 0$\n",
    "                    - $cov(\\Delta e_{it}, \\Delta e_{it-1}) = -\\sigma^2_e$\n",
    "            - if 자기상관 o\n",
    "                - $cov(\\Delta e_{it}, \\Delta e_{i, t-1} = cov (e_{it} - e_{it-1}, e_{it-1} - e_{it-2}) = - \\sigma^2_e$\n",
    "                - $e_{it}$에 1계 자기상관이 있을 때 $\\Delta e_{it}$에 자기상관이 존재하지 않음\n",
    "                    - $e_{it} = e_{it-1} + v_{it}$\n",
    "                        - $v_{it}$는 순수한 오차항의 기본 가정 모두 만족\n",
    "                        - $\\Delta e_{it} = v_{it}$\n",
    "                        - $cov(\\Delta e_{it}, \\Delta e_{it-1}) = 0$\n",
    "                - $T \\ge 3$인 경우 원래 모형 오차항 $e_{it}$에 자기상관이 있을 때 1차 차분에서 효율적 추정량을 얻을 수 있다\n",
    "                - 즉 error들 사이에 자기상관이 있다면 within보다 1차 차분하는 것보다 좋다\n",
    "- 자기상관이 존재하는 경우\n",
    "    - 패널 그룹 내에서 오차항끼리 서로 독립이라는 가정을 완화해여 표준오차 계산\n",
    "    - 패널 그룹 내에 오차항의 자기상관이 존재할 때 강건한 표준오차를 구할 수 있다\n",
    "    - $\\Delta y_{it} = \\beta \\Delta x_{it} + \\Delta e_{it}$\n",
    "        - t = 2,3\n",
    "- time control 하지 않은 결과를 보여주면 이런 문제가 생김"
   ]
  },
  {
   "cell_type": "markdown",
   "metadata": {},
   "source": [
    "## 9.3 DID 추정"
   ]
  },
  {
   "cell_type": "markdown",
   "metadata": {},
   "source": [
    "- 실험군, 대조군 개념에서 영향\n",
    "- 기본 모형\n",
    "    - $y_{it} = \\alpha + \\beta prog_{it} + u_i + v_t + e_{it}$\n",
    "        - t = 1, 2\n",
    "        - $prog$ : 프로그램 적용시 1 else 0\n",
    "        - $u_i$ : 개체 특성\n",
    "        - $v_i$ : 시간 특성\n",
    "    - $y_{it} = \\alpha + \\beta prog_{it} + \\delta D_{2t} + u_i + e_{it}$\n",
    "        - t = 1, 2\n",
    "        - $D_{2t}$ 관측시점이 t = 2이면 1, t = 1이면 0인 더미 변수\n",
    "- **1차 차분 모형**\n",
    "    - $\\Delta y_i = \\beta \\Delta prog_i +\\delta + \\Delta e_i$\n",
    "        - $\\delta$ : 1 아니면 0인 더미 변수에서 1만 살아남기 때문\n",
    "    - **실험 설계**\n",
    "        - **1 시점**\n",
    "            - 실험군과 대조군 모두 프로그램 적용 받지 않음\n",
    "        - **2 시점**\n",
    "            - 실험군은 프로그램 적용, 대조군은 적용 받지 않음\n",
    "                - 실험군\n",
    "                    - $\\Delta prog_i = 1$\n",
    "                - 대조군\n",
    "                    - $\\Delta prog_i = 0$                \n",
    "            - $\\beta$\n",
    "                - 실험군과 대조군의 두 시점 간의 차이를 각각 계산한 후 다시 그 둘의 차이를 계산함\n",
    "        - $\\hat \\beta^{DID} = \\bar{\\Delta y_{i실험군}} - \\bar{\\Delta y_{i대조군}}$ \n",
    "- diff and diff\n",
    "    - 실험군 내에서 차이, 실험군과 대조군의 차이이기 때문에 위와 같은 이름 생김\n",
    "    - 교차효과로 해석\n",
    "        - did를 배웠을 때 지금처럼 fully specify를 하면 did를 하는 것 과 똑같은 결과를 얻을 수 있음\n",
    "        - 사람들이 정책의 효과를 볼 때 yi alpha + beta를 통해 정책의 효과를 제대로 판단할 수 없다\n",
    "        - did를 해야 충분히 이해할 수 있다"
   ]
  },
  {
   "cell_type": "markdown",
   "metadata": {},
   "source": [
    "제일 중요한 것\n",
    "- DID\n",
    "- regime switching model\n",
    "    - 깁스 샘플링"
   ]
  },
  {
   "cell_type": "markdown",
   "metadata": {},
   "source": [
    "- DID\n",
    "    - 처리효과를 볼 수 있는 자료에서 사용\n",
    "        - 이중차분 추정 방법\n",
    "    - 총 네 개 집단에 대한 자료를 활용\n",
    "        - 처리집단의 정책 시행 이후 자료\n",
    "        - 처리잡단의 정책 시행 이전 자료\n",
    "        - 통제집단의 정책 시행 이후 자료\n",
    "        - 통제집단의 정책 시행 이전 자료\n",
    "    - 정책 효과에 직접적으로 영향을 받는처리군과 통제군이 상이한지를 검정하는 방법론\n",
    "- ATE\n",
    "    - 평균처리효과\n",
    "        - 가중평균\n",
    "- ATET\n",
    "    - 처리 그룹의 평균 처리효과\n",
    "- ATENT\n",
    "    - 비그룹의 평균 처리효과"
   ]
  }
 ],
 "metadata": {
  "kernelspec": {
   "display_name": "Python 3",
   "language": "python",
   "name": "python3"
  },
  "language_info": {
   "codemirror_mode": {
    "name": "ipython",
    "version": 3
   },
   "file_extension": ".py",
   "mimetype": "text/x-python",
   "name": "python",
   "nbconvert_exporter": "python",
   "pygments_lexer": "ipython3",
   "version": "3.7.6"
  }
 },
 "nbformat": 4,
 "nbformat_minor": 4
}
