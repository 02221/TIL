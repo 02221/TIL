{
 "cells": [
  {
   "cell_type": "markdown",
   "metadata": {},
   "source": [
    "## Goal\n",
    "- 시간에 따라 변하지 않는 패널 개체의 이질성을 고려하는 모형 추정\n",
    "    - $y_{it} = \\alpha + \\beta x_{it} + u_i + e_{it}$\n",
    "        - $u_i$를 Random Variable이 아닌 Parameter로 간주하는 모형을 고정효과 모형이라고 함\n",
    "    - 고정효과 모형은 두 가지 추정 방식이 있음\n",
    "        - 변환을 통한 $u_i$ 제거\n",
    "            - Between Effect 모형(7장) 사용\n",
    "        - $u_i$ 직접 추정\n"
   ]
  },
  {
   "cell_type": "markdown",
   "metadata": {},
   "source": [
    "# 8.1. 기본 모형 및 추정방법"
   ]
  },
  {
   "cell_type": "markdown",
   "metadata": {},
   "source": [
    "- **Basic Model**\n",
    "    - Equation\n",
    "        - $y_{it} = \\alpha + \\beta x_{it} + u_i + e_{it}$\n",
    "            - $i = 1, 2, \\cdots, n$\n",
    "            - $t = 1, 2, \\cdots, T$      \n",
    "    - Property\n",
    "        - two error terms\n",
    "            - $u_i$\n",
    "                - penel\n",
    "            - $e_i$           \n",
    "                - penel\n",
    "                - time\n",
    "        - 시간에 따라 변하지 않는 패널 개체의 이질성을 고려하는 모형\n",
    "- Fixed Effects Model\n",
    "    - Def\n",
    "        - view $u_i$ as parameter not random variable\n",
    "    - Equation\n",
    "        - $y_{it} = (\\alpha + u_i) \\beta x_{it} + e_{it}$\n",
    "    - 특징\n",
    "        - 상수항이 패널 개체별로 서로 다르며서 고정되어 있다\n",
    "        - \\beta 는 패널 개체에 따라 다르지만, 상수항 ($\\alpha + u_i)$는 채널 개체별로 달라진다\n",
    "    - idea\n",
    "        - 1. \n",
    "            - $u_i$를 모형에서 제외하는 변환 사용\n",
    "                - 각 변수들에 대해 within 변환\n",
    "                - between 모형\n",
    "                    - $y_{it} = (\\alpha + u_i) \\beta x_{it} + e_{it}$..(1)\n",
    "                    - $\\bar y_i = \\alpha + \\beta \\bar x_i + u_i + \\bar e_i$..(2)\n",
    "                    - result..(1) - (2)\n",
    "                        - $(y_{it} - \\bar y_i) = \\beta (x_{it} - \\bar x_i) + (e_{it} - \\bar e_i)$\n",
    "                            - 오차항 u_i가 사라짐\n",
    "                            - cov(x_it, u_i) \\ne 0 이어도 OLS 추정을 통해 일치추정 가능\n",
    "        - 2. \n",
    "            - $u_i$를 직접 추정\n",
    "                - 개체별 더미변수 이용 \n",
    "                - 최소제곱더미변수(LSDV)\n",
    "                    - $y_{it} = \\sum \\alpha_i + \\beta x_{it} + e_{it}$\n",
    "                        - $\\alpha_i = \\alpha +  u_i$\n",
    "                            - 한계\n",
    "                                - \\alpha_i에 대한 양질의 추정량을 얻기 위해서는\n",
    "                                    - n이 작아야 한다\n",
    "                                    - T가 충분해야 한다\n",
    "    "
   ]
  },
  {
   "cell_type": "markdown",
   "metadata": {},
   "source": [
    "## 8.2. Within 추정\n",
    "- 균형 패널 확인\n",
    "- within 추정량 \n",
    "    - $R^2$\n",
    "        - $within R^2$\n",
    "            - $[corr(\\hat \\alpha_{FE} + \\hat \\beta_{FE} (x_i - \\bar x_i), (y_i - \\bar y_i)]^2$\n",
    "        - $between R^2$\n",
    "            - $[corr(\\hat \\alpha_{FE} + \\hat \\beta_{FE} \\bar x_i, \\bar y_i]^2$\n",
    "        - $overall R^2$\n",
    "            - $corr(\\hat \\alpha_{FE} + \\hat \\beta_{FE} x_{it}, y_{it}]^2$\n",
    "    - $\\hat \\rho$\n",
    "        - 식\n",
    "            - $\\hat \\rho = {\\hat \\sigma^2_u \\over \\hat \\sigma^2_u + \\hat \\sigma^2_e} = {1 \\over 1 + \\hat \\sigma^2_e / \\hat \\sigma^2_u}$\n",
    "        - 해석\n",
    "            - 1에 가까울수록 $\\hat \\sigma^2_e / \\hat \\sigma^2_u = 0$\n",
    "                - 패널 개체의 특성을 나타나는 것이 더 중요하다\n",
    "        - 오차항의 총 분산에서 패널 개체특성을 의미하는 오차항으ㅟ 분산이 차지하는 비율\n",
    "        - 1이 가깝다는 것은 독립변수에 의해 설명되지 않는 종속변수 변동의 대부분은 패널의 개체특성을 나타내는 오ㅓ차항의 분서ㅏㄴ이 차지한다는 것\n",
    "        - 1에 가까울수록 시간에 따라 변하지 않는 패널 개체의 특성을 감안하는 것이 중요하다\n",
    "    - F : 귀무가설 검정\n",
    "        - **이유*8\n",
    "            - 내생성 Defence\n",
    "                - $\\beta$의 부호가 같고 크기가 크게 변하지 않아야 한다\n",
    "                - 1. unobservable heterogeneioty \n",
    "                    - **fixed effect**로 control 해봄\n",
    "                    - rho가 0에 가까우면 이 issue가 중요하지 않다\n",
    "                - 2. reversal causality\n",
    "                    - 역인과관계\n",
    "                        - $x_{it} = \\alpha + \\beta y_{it} + e_{it}$\n",
    "                    - $y_{it} = \\alpha + \\beta x_{i t-1} + e_{it}$\n",
    "                    - $y_{it + 1} = \\alpha + \\beta x_{i t} + e_{it}$\n",
    "                - 3. Persistent Effect\n",
    "                    - 시간에 따라 변하지 않음\n",
    "                        - $y_{it} - \\sum_{s = 1}^p a_s \\times y_{it-s} = \\alpha + \\sum_{h=1}^q \\beta_h \\times x_{i,t-1-h} + e_{it}$\n",
    "        - $H_0$ : 모든 $i$에 대해 $u_i = 0$\n",
    "            - 이 경우 $\\alpha + u_i = \\alpha$\n",
    "                - 패널 간 이질성을 고려할 필요 없음\n",
    "                - 그냥 OLS로 추정하면 모수에 대한 일치추정량을 얻을 수 있음\n",
    "                - $y_{it} = \\alpha + \\beta x_{it} + e_{it}$\n",
    "        - reject 되면 고정효과 모형이 적절하다\n",
    "- 고정효과 모형에서 within 추정법으로 시간에 따라 변하지 않는 변수의 계수를 추정 가능한가?\n",
    "    - 추정이 안됨\n",
    "    - $y_{it} = (\\alpha + u_i) + \\beta x_{it} + vz_i + e_{it}$\n",
    "        - within으로는 안 됩니다\n",
    "        - 생략됩니다\n",
    "    - 어떻게 해석해야 하는가?\n",
    "        - 직접적인 해석은 불가능하고, 다른 변수 해석시 z 변수는 균등하게 여기고 해석\n",
    "        "
   ]
  },
  {
   "cell_type": "markdown",
   "metadata": {},
   "source": [
    "## 8.3. LSDV 추정"
   ]
  },
  {
   "cell_type": "markdown",
   "metadata": {},
   "source": [
    "- $y_{it} = \\sum \\alpha_i + \\beta x_{it} + e_{it}$ \n",
    "    - $\\alpha_i$\n",
    "        - 더미변수로써 개체 설명\n",
    "        - p -value를 통해 각 개체 추정이 의미가 있는지 확인 가능\n",
    "        - f 검정을 통해서도 가능\n",
    "    - 이를 OLS로 추정하면 고정효과 모형을 가정한 LSDV 추정량 구할 수 있음"
   ]
  },
  {
   "cell_type": "markdown",
   "metadata": {},
   "source": [
    "#### 이원고정효과 모형\n",
    "- $y_{it} = \\alpha + \\beta x_{it} + u_i + v_t + e_{it}$\n",
    "    - $v_t$ = 시간의 이질성\n",
    "    - $u_i$ = 개체의 이질성\n",
    "- within estimate을 통해 v_t를 더미변수로 만들어서 고려해줄 수 있음\n",
    "- 각각 t가 가진 특성을 평균을 내줌"
   ]
  },
  {
   "cell_type": "markdown",
   "metadata": {},
   "source": [
    "시간에 대한 더미변수\n",
    "- 더미 변수가 증가할수록 변수 수가 많아짐\n",
    "- 효율적인 추정치를 얻을 수 없음\n",
    "- 통상은 패널 데이터의 time scale 4~5년\n",
    "    - 이 경우 시간 변수 넣을 수 있음\n",
    "- 그런데 10개 이상이면 모든 시간 변수를 넣을 수 없음\n",
    "- landmark 정도가 되는 시간일 때만 넣음\n",
    "- $y_it = \\alpha + \\beta + x_{it} + e_{it} $\n",
    "    - 금융위기를 컨트롤 하기 위해서는 아래와 같은 변수를 추가할 수 있음\n",
    "    - $y_it =  \\alpha + \\beta + x_{it} + \\gamma z_t + e_{it} $\n",
    "        - z_t = 금융위기 때 1, else 0\n",
    "    - boom = 1 resession = 0 등으로 추가할 수 있음"
   ]
  },
  {
   "cell_type": "markdown",
   "metadata": {},
   "source": [
    "## 8.4. 사후분석"
   ]
  }
 ],
 "metadata": {
  "kernelspec": {
   "display_name": "Python 3",
   "language": "python",
   "name": "python3"
  },
  "language_info": {
   "codemirror_mode": {
    "name": "ipython",
    "version": 3
   },
   "file_extension": ".py",
   "mimetype": "text/x-python",
   "name": "python",
   "nbconvert_exporter": "python",
   "pygments_lexer": "ipython3",
   "version": "3.7.6"
  }
 },
 "nbformat": 4,
 "nbformat_minor": 4
}
