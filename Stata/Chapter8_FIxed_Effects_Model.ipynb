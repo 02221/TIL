{
 "cells": [
  {
   "cell_type": "markdown",
   "metadata": {},
   "source": [
    "## Goal\n",
    "- 시간에 따라 변하지 않는 패널 개체의 이질성을 고려하는 모형 추정\n",
    "    - $y_{it} = \\alpha + \\beta x_{it} + u_i + e_{it}$\n",
    "        - $u_i$를 Random Variable이 아닌 Parameter로 간주하는 모형을 고정효과 모형이라고 함\n",
    "    - 고정효과 모형은 두 가지 추정 방식이 있음\n",
    "        - 변환을 통한 $u_i$ 제거\n",
    "            - Between Effect 모형(7장) 사용\n",
    "        - $u_i$ 직접 추정\n"
   ]
  },
  {
   "cell_type": "markdown",
   "metadata": {},
   "source": [
    "# 8.1. 기본 모형 및 추정방법"
   ]
  },
  {
   "cell_type": "markdown",
   "metadata": {},
   "source": [
    "- **Basic Model**\n",
    "    - Equation\n",
    "        - $y_{it} = \\alpha + \\beta x_{it} + u_i + e_{it}$\n",
    "            - $i = 1, 2, \\cdots, n$\n",
    "            - $t = 1, 2, \\cdots, T$      \n",
    "    - Property\n",
    "        - two error terms\n",
    "            - $u_i$\n",
    "                - penel\n",
    "            - $e_i$           \n",
    "                - penel\n",
    "                - time\n",
    "        - 시간에 따라 변하지 않는 패널 개체의 이질성을 고려하는 모형\n",
    "- Fixed Effects Model\n",
    "    - Def\n",
    "        - view $u_i$ as parameter not random variable\n",
    "    - Equation\n",
    "        - $y_{it} = (\\alpha + u_i) \\beta x_{it} + e_{it}$\n",
    "    - 특징\n",
    "        - 상수항이 패널 개체별로 서로 다르며서 고정되어 있다\n",
    "        - \\beta 는 패널 개체에 따라 다르지만, 상수항 ($\\alpha + u_i)$는 채널 개체별로 달라진다\n",
    "    - idea\n",
    "        - 1. \n",
    "            - $u_i$를 모형에서 제외하는 변환 사용\n",
    "                - 각 변수들에 대해 within 변환\n",
    "                - between 모형\n",
    "                    - $y_{it} = (\\alpha + u_i) \\beta x_{it} + e_{it}$..(1)\n",
    "                    - $\\bar y_i = \\alpha + \\beta \\bar x_i + u_i + \\bar e_i$..(2)\n",
    "                    - result..(1) - (2)\n",
    "                        - $(y_{it} - \\bar y_i) = \\beta (x_{it} - \\bar x_i) + (e_{it} - \\bar e_i)$\n",
    "                            - 오차항 u_i가 사라짐\n",
    "                            - cov(x_it, u_i) \\ne 0 이어도 OLS 추정을 통해 일치추정 가능\n",
    "        - 2. \n",
    "            - $u_i$를 직접 추정\n",
    "                - 개체별 더미변수 이용 \n",
    "                - 최소제곱더미변수(LSDV)\n",
    "                    - $y_{it} = \\sum \\alpha_i + \\beta x_{it} + e_{it}$\n",
    "                        - $\\alpha_i = \\alpha +  u_i$\n",
    "                            - 한계\n",
    "                                - \\alpha_i에 대한 양질의 추정량을 얻기 위해서는\n",
    "                                    - n이 작아야 한다\n",
    "                                    - T가 충분해야 한다\n",
    "    "
   ]
  },
  {
   "cell_type": "markdown",
   "metadata": {},
   "source": [
    "## 8.2. Within 추정\n",
    "- 균형 패널 확인\n",
    "- within 추정량 \n",
    "    - $R^2$\n",
    "        - $within R^2$\n",
    "        - $between R^2$\n",
    "            - $[corr(\\hat \\alpha_{FE} + \\hat \\beta_{FE} \\bar x_i, \\bar y_i]^2$\n",
    "        - $overall R^2$\n",
    "            - $corr(\\hat \\alpha_{FE} + \\hat \\beta_{FE} x_{it}, y_{it}]^2$\n",
    "    - $\\hat \\rho$\n",
    "        - 오차항의 총 분산에서 패널 개체특성을 의미하는 오차항으ㅟ 분산이 차지하는 비율\n",
    "        - 1이 가깝다는 것은 독립변수에 의해 설명되지 않는 종속변수 변동의 대부분은 패널의 개체특성을 나타내는 오ㅓ차항의 분서ㅏㄴ이 차지한다는 것\n",
    "        - 1에 가까울수록 시간에 따라 변하지 않는 패널 개체의 특성을 감안하는 것이 중요하다\n",
    "        - $\\hat \\rho = {\\hat \\sigma^2_u \\over \\hat \\sigma^2_u + \\hat \\sigma^2_e} = {1 \\over 1 + \\hat \\sigma^2_e / \\hat \\sigma^2_u}$\n",
    "    - F : 귀무가설 검정\n",
    "        - $H_0$ : 모든 $i$에 대해 $u_i = 0$\n",
    "            - 이 경우 $\\alpha + u_i = \\alpha$\n",
    "                - 패널 간 이질성을 고려할 필요 없음\n",
    "                - 그냥 OLS로 추정하면 모수에 대한 일치추정량을 얻을 수 있음\n",
    "                - $y_{it} = \\alpha + \\beta x_{it} + e_{it}$"
   ]
  },
  {
   "cell_type": "markdown",
   "metadata": {},
   "source": [
    "## 8.3. LSDV 추정"
   ]
  },
  {
   "cell_type": "markdown",
   "metadata": {},
   "source": [
    "- $y_{it} = \\sum \\alpha_i + \\beta x_{it} + e_{it}$ \n",
    "    - 이를 OLS로 추정하면 고정효과 모형을 가정한 LSDV 추정량 구할 수 있음"
   ]
  },
  {
   "cell_type": "markdown",
   "metadata": {},
   "source": [
    "#### 이원고정효과 모형\n",
    "- $y_{it} = \\alpha + \\beta x_{it} + u_i + v_t + e_{it}$"
   ]
  },
  {
   "cell_type": "markdown",
   "metadata": {},
   "source": [
    "## 8.4. 사후분석"
   ]
  }
 ],
 "metadata": {
  "kernelspec": {
   "display_name": "Python 3",
   "language": "python",
   "name": "python3"
  },
  "language_info": {
   "codemirror_mode": {
    "name": "ipython",
    "version": 3
   },
   "file_extension": ".py",
   "mimetype": "text/x-python",
   "name": "python",
   "nbconvert_exporter": "python",
   "pygments_lexer": "ipython3",
   "version": "3.7.6"
  }
 },
 "nbformat": 4,
 "nbformat_minor": 4
}
