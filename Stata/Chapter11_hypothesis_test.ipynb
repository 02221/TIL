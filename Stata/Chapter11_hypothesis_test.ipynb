{
 "cells": [
  {
   "cell_type": "markdown",
   "metadata": {},
   "source": [
    "# 11. 가설검정"
   ]
  },
  {
   "cell_type": "markdown",
   "metadata": {},
   "source": [
    "## 11.1 오차항 $u_i$에 대한 가설검정\n",
    "- 고정효과 모형\n",
    "    - $H_0$ : 모든 패널 개체 i 에 대해 $u_i = 0$\n",
    "        - 귀무가설 맞음\n",
    "            - 합동 OLS로 추정\n",
    "        - 귀무가설 기각\n",
    "            - 고정효과 모형 추정\n",
    "- 확률효과 모형\n",
    "    - $H_0 : var(u_i) = \\sigma^2_u = 0$\n",
    "        - 귀무가설 맞음\n",
    "            - $(\\sigma^2_u + \\sigma^2_e)$이 단순히 $sigma^2_e$\n",
    "                - 패널 고려할 필요 없음\n",
    "                - 합동 OLS로 추정\n",
    "        - 귀무가설 기각\n",
    "            - 패널 그룹의 특성을 고려한 확률효과 모형\n",
    "    - Breusch-Pagan의 LM 검정결과"
   ]
  },
  {
   "cell_type": "markdown",
   "metadata": {},
   "source": [
    "## 11.2. 상관관계와 이분산성 검정\n",
    "- $e_{it} = \\rho e_{it-1} + v_{it}$ \n",
    "    - 패널 선형회귀 모형에서 순수한 오차항 $e_{it}$에는 자기상관이 없다고 가정\n",
    "        - $\\rho = 0$으로 가정\n",
    "    - $\\rho \\ne 0$이면 1계 자기상관 존재\n",
    "        - $H_0 : \\rho = 0$\n",
    "    - $ALM(Var(u)=0)$\n",
    "        - 오차항 $e_{it}$에 1계 자기상관이 존재할 때에도 여전히 확률효과의 존재를 효과적으로 검정하게 해 주는 통계량\n",
    "    - $LM(rho=0)$\n",
    "        - 확률효과가 존재하지 않는다고 가정\n",
    "            - $var(u_i) = 0$\n",
    "- 패널 데이터에서는 하나의 패널 개체 내에서의 상관관계뿐 아니라 패널 개체간의 동시적 상관관계도 존재\n",
    "    - $cov(e_{it}, e_{jt}) \\ne 0$\n",
    "        - 패널 개체간 상관관계 존재\n",
    "- 패널 개체간 이분산성\n",
    "    - $var(u_i) = \\sigma^2_i = \\sigma^2_u \\forall i$\n",
    "        - 성립할 경우 패널 개체간 동분산성 존재\n",
    "        - 성립하지 않을 경우 이분산성"
   ]
  },
  {
   "cell_type": "markdown",
   "metadata": {},
   "source": [
    "## 11.3. 하우스만 검정\n",
    "- $y_{it} = (\\alpha + u_i) + \\beta x_{it} + e_{it}$\n",
    "    - 패널 개체에 따라 상수항이 달라지는 모형\n",
    "        - 고정효과 모형에서는 상수항을 패널 개체별로 고정되어 있는 모수\n",
    "        - 확률효과 모형에서는 확률분포를 따르는 확률변수\n",
    "            - $\\alpha + u_i \\sim N(\\alpha, \\sigma^2_u)$\n",
    "    - 고정효과와 확률효과 판단 기준\n",
    "        - $u_i$에 대한 추론\n",
    "            - 무작위 추출된 표본일 경우 확률효과 모형으로 추정하는 것이 직관과 일치\n",
    "            - 특정 대상을 기준으로 추출된 표본은 $u_i$를 고정효과로 간주하는 것이 적절함\n",
    "        - $cov(x_{it}, u_i) = 0$\n",
    "            - 이 경우 고정효과와 확률효과 모두 일치추정량\n",
    "                - 같은 결과 산출\n",
    "\n",
    "        - $(y_{it} - \\theta_i \\bar y_i) = \\alpha(1 - \\theta_i) + \\beta(x_{it} - \\theta_i \\bar x_i ) + [u_i (1 - \\theta_i) + (e_{it} -\\theta_i \\bar e_i)]$\n",
    "            - 오차항 : $[u_i (1 - \\theta_i) + (e_{it} -\\theta_i \\bar e_i)]$\n",
    "                - $u_i$ 포함\n",
    "                    \n",
    "            - 확률효과 모형\n",
    "                - 일치추정량이 되기 위해서는 $cov(x_{it}, u_i) = 0$\n",
    "            - 고정효과 모형\n",
    "                - $cov(x_{it}, u_i) = 0$일 경우 $u_i$가 사라지기 때문에 여전히 일치추정량\n",
    "- 하우스만 검정\n",
    "    - 귀무가설, 대립가설\n",
    "        - $H_0 : cov(x_{it}, u_i)=0$\n",
    "        - $H_1 : cov(x_{it}, u_i)\\ne 0$\n",
    "    - 해석\n",
    "        - 귀무가설이 맞다면 \n",
    "            - 확률효과 모형이 더 효율적\n",
    "        - 귀무가설이 틀리다면\n",
    "            - $H_1$ 하에서는 일치추정량을 얻을 수 있는 고정효과 모형 선택\n",
    "    - 의미\n",
    "        - $H_0$이 맞을 경우 Fe 와 RE 모두 일치추정량, 그러므로 비슷한 결과\n",
    "        - $H_1$일 경우 H1은 일치추정량이 아니므로 FE와 체계적 차이가 있다\n",
    "    - 특징\n",
    "        - 검정통계량은 카이제곱분포를 따름\n",
    "            - 자유도는 상수항을 제외한 설명변수의 개수\n",
    "            "
   ]
  }
 ],
 "metadata": {
  "kernelspec": {
   "display_name": "Python 3",
   "language": "python",
   "name": "python3"
  },
  "language_info": {
   "codemirror_mode": {
    "name": "ipython",
    "version": 3
   },
   "file_extension": ".py",
   "mimetype": "text/x-python",
   "name": "python",
   "nbconvert_exporter": "python",
   "pygments_lexer": "ipython3",
   "version": "3.7.6"
  }
 },
 "nbformat": 4,
 "nbformat_minor": 4
}
