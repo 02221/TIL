{
 "cells": [
  {
   "cell_type": "markdown",
   "metadata": {},
   "source": [
    "## Rnadom_Effect_Model\n",
    "- 기본 모델\n",
    "    - $y_{it} = \\alpha+ \\beta x_{it} + u_i + e_{it}$\n",
    "    - $ u_i$에 대한 관점\n",
    "        - 고정효과 모형\n",
    "            - 추정해야 할 모수로 가정\n",
    "        - 확률효과 모형\n",
    "            - 확률변수로 가정\n",
    "                - $u_i \\sim N(0, \\sigma^2_u)$\n",
    "                - $e_{it} \\sim N(0, \\sigma^2_e)$"
   ]
  },
  {
   "cell_type": "markdown",
   "metadata": {},
   "source": [
    "- 확률효과 모형\n",
    "    - 확률변수로 가정\n",
    "        - $u_i \\sim N(0, \\sigma^2_u)$\n",
    "        - $e_{it} \\sim N(0, \\sigma^2_e)$\n",
    "    - $y_{it} = (\\alpha + u_i) + \\beta x_{it} + e_{it}$\n",
    "        - $(\\alpha + u_i) = \\alpha + E(u_i) = \\alpha$\n",
    "    - 문제\n",
    "        - 자기상관문제\n",
    "            - $cov(u_i + e_{it}, u_i + e_{i t-1}$\n",
    "                - $= cov(u_i, u_i) + cov(u_i, e_{it-1}) + cov(e_{it}, u_i) + cov(e_{it}, e_{it-1})$\n",
    "                - $\\sigma^2_u \\ne 0$\n",
    "        - 설명변수와 개체 특성 오차항 간에 상관관계가 없어야 함\n",
    "            - $cov(x_{it} , u_i) = 0$\n",
    "                - 이 경우\n",
    "                    - $(y_{it} - \\theta_i \\bar{y_i}) = \\alpha(1- \\theta_i) + \\beta  (x_{it} - \\theta_i) + \\beta (x_{it} - \\theta_i \\bar {x_i}) + [u_i(1 - \\theta_i) + (e_{it} - \\theta_i \\bar{e_i})]$\n",
    "                    - $\\theta_i = 1 - \\sqrt{\\sigma^2_e \\over T_i \\sigma^2_u + \\sigma^2_e}$\n",
    "                        - if $T_i = T \\rightarrow \\theta_i = \\theta$\n",
    "                        - between effects 모형 및 고정효과 모형에서 오차항 분산과 관련\n",
    "                            - $sigma^2_e$ : 고정효과 모형에서 오차항 분산\n",
    "                            - $T_i \\sigma^2_u + \\sigma^2_e$ : between 모형의 오차항 분산\n",
    "                - 따라서 $\\hat \\sigma^2_u, \\hat \\sigma^2_e$를 추정한 후 ,$\\hat \\theta_i$를 구한 후 이를 OLS로 추정\n",
    "    - 특징\n",
    "        - between 모형 추정량보다 효율적\n",
    "            - 그룹간 정보와 그룹 내 정보 모두 사용\n",
    "                - between 모형에서는 그룹별 평균만을 변수로 사용\n",
    "            - $cov(x_{it} , u_i) = 0$이 성립한다면 확률효과 모형의 추정량이 더 효율적\n",
    "                - 이것이 성립하지 않는다면 일치추정량이 못됨"
   ]
  },
  {
   "cell_type": "markdown",
   "metadata": {},
   "source": [
    "$\\hat \\rho = {\\hat \\sigma^2_u \\over \\hat \\sigma^2_u + \\hat \\sigma^2_e}$"
   ]
  },
  {
   "cell_type": "markdown",
   "metadata": {},
   "source": [
    "- ## 10.5. 최우추정법\n",
    "    - 확률효과모형의 두 오차항$u_i, e_{it}$을 모두 정규분포로 가정하는 경우 최우추정법(MLE)으로 추정계수를 얻을 수있다.\n",
    "        - 최우추정에서는 $\\beta, \\sigma^2_u, \\sigma^2_e$를 동시에 추정한다\n",
    "        - 오차항 분포에 대한 가정이 적절하면 효율적이다. \n",
    "    - 귀무가설\n",
    "        - $H_0 : var(u_i) = \\sigma^2_u = 0$\n",
    "            - 위 가설이 맞다면 패널 그룹 간 이질성이 존재하지 않는다\n",
    "        - $LR = -2(ln L_r - lnL_{full})$\n",
    "    - 일반적으로 표본의 수가 적은 불균형 패널인 경우를 제외하고는 GLS와 MLE의 추정결과가 기본적으로 같다"
   ]
  }
 ],
 "metadata": {
  "kernelspec": {
   "display_name": "Python 3",
   "language": "python",
   "name": "python3"
  },
  "language_info": {
   "codemirror_mode": {
    "name": "ipython",
    "version": 3
   },
   "file_extension": ".py",
   "mimetype": "text/x-python",
   "name": "python",
   "nbconvert_exporter": "python",
   "pygments_lexer": "ipython3",
   "version": "3.7.6"
  }
 },
 "nbformat": 4,
 "nbformat_minor": 4
}
