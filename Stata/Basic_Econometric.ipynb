{
 "cells": [
  {
   "cell_type": "markdown",
   "metadata": {},
   "source": [
    "## Estimators\n",
    "- Population을 알고 싶음\n",
    "- 하지만 우리가 가진 것은 Sample이 전부\n",
    "## What is the proporty of good estimators\n",
    "- $\\beta^p$\n",
    "    - Sample 추출\n",
    "        - $S_1, S_2 \\cdots S_N$\n",
    "    - Sample 별 추정치\n",
    "        - $\\beta_1^*, \\beta_2^* \\cdots \\beta_N^*$\n",
    "    - **Unbiased**\n",
    "        - $\\beta_i^*$의 평균이 $\\beta^p$이 되도록 만족\n",
    "            - 고로 $E(\\hat \\beta ) = \\beta^p$\n",
    "        - $\\tilde X = {1 \\over N - 1}\\sum x_i$\n",
    "        - $E[\\tilde X] = {1 \\over N - 1}\\sum E[x_i] = {1 \\over N - 1}N \\mu = {N \\mu \\over N - 1} \\ne \\mu$\n",
    "    - **Consistency**\n",
    "        - Sample size가 커질수록 $B^p$에 수렴\n",
    "            - as $n \\rightarrow \\infty \\rightarrow \\hat \\beta \\rightarrow \\beta^p$ \n",
    "        - $N \\rightarrow \\infty, E[\\tilde x] \\rightarrow \\mu$\n",
    "    - **Efficiency**\n",
    "        - small variance"
   ]
  },
  {
   "cell_type": "markdown",
   "metadata": {},
   "source": [
    "- BLUE estimators in presence of heteroscedasticity\n",
    "- $y = X\\beta + u$\n",
    "    - $var(y | x) = \\sigma^2\\Omega$\n",
    "        - homoscedasticity : $\\Omega = I$\n",
    "    - = $var(u | x)$\n",
    "- $\\hat \\beta_{OLS}  = (X^{'} X)^{-1}X^{'}y $\n",
    "    - $Var(\\hat \\beta_{OLS} | X) = (X^{'} X)^{-1}X^{'} var(y | X)X(X^{'}X)^{-1}$ \n",
    "        - $var(A X) = A var(X) A$\n",
    "            - A is constant\n",
    "            - X is matrix"
   ]
  },
  {
   "cell_type": "markdown",
   "metadata": {},
   "source": [
    "- **Homoscedasticity**\n",
    "    - **Def**\n",
    "        - $var(y|x) = \\sigma^2\\Omega$\n",
    "            - $\\Omega = I$\n",
    "    - **Equation**\n",
    "        - $Var(\\hat \\beta_{OLS} | X) = \\sigma^2(X^{'}X)^{-1}X' I X (X'X)^{-1}$\n",
    "            - $X'X = I$\n",
    "        - $Var(\\hat \\beta_{OLS} | X) = \\sigma^2(X^{'}X)^{-1}X X (X'X)^{-1}$\n",
    "        - $Var(\\hat \\beta_{OLS} | X) = \\sigma^2(X^{'}X)^{-1}(X'X)^{-1}$\n",
    "        - $Var(\\hat \\beta_{OLS} | X) = \\sigma^2(X'X)^{-1}$\n",
    "    - **Result**\n",
    "        - $var(\\hat \\beta_{OLS}|x) = \\sigma^2(X'X)^{-1}$\n",
    "- **Heteroscedasticity**\n",
    "    - **Def**\n",
    "        - $var(y|x) = \\sigma^2\\Omega$\n",
    "            - $\\Omega$\n",
    "    - **Eaqtion**\n",
    "        - $Var(\\hat \\beta_{OLS} | X) = \\sigma^2(X^{'}X)^{-1}X' \\Omega X (X'X)^{-1}$\n",
    "- diff between Homoscedasticity and Heteroscedasticity\n",
    "    - $ \\sigma^2(X'X)^{-1} \\ne \\sigma^2(X^{'}X)^{-1}X' \\Omega X (X'X)^{-1}$\n",
    "        - $var(\\hat \\beta_{OLS} |het) > var(\\hat \\beta_{OLS} | homo)$\n",
    "    - estimate $\\Omega$\n",
    "- GM 상에서 hetero이면 OLS가 더 이상 BLUE가 아님\n",
    "    - better estimator가 존재 \n",
    "        - Low variance"
   ]
  },
  {
   "cell_type": "markdown",
   "metadata": {},
   "source": [
    "## GLS estimators\n",
    "- $y = X\\beta + u$\n",
    "    - $var(u|X) = \\sigma \\Omega$\n",
    "    - $Py = PX\\beta + Pu$\n",
    "        - P : transformation matrix\n",
    "    - $var (P u | X) = \\sigma^2 I$\n",
    "- **process**\n",
    "    - **stage 1**\n",
    "        - transform system using P\n",
    "    - **stage 2**\n",
    "        - estimate OLS\n",
    "- In this reason, we first need to derive matrix P  \n",
    "    - **Goal**\n",
    "        - $var (P u | X) = \\sigma^2 I$\n",
    "    - $Var(Pu |X) = P var(u|X)P' = \\sigma^2 P \\Omega P' = \\sigma^2 I$\n",
    "        - $P \\Omega P' = I$\n",
    "        - $Var(Ax) = Avar(x)A'$\n",
    "- $I = P \\Omega P'$\n",
    "    - $P^{-1} = P^{-1}P\\Omega P'$\n",
    "    - $P^{-1} = \\Omega P'$\n",
    "    - $P^{-1}P'^{-1} = \\Omega P'P'^{-1} = \\Omega$ \n",
    "- **result**\n",
    "    - $\\Omega = (P'P)^{-1}$\n",
    "        - P is symmetric matrix\n",
    "            - $P = P' \\rightarrow \\Omega = (P^2)^{-1} = P^{-2}$\n",
    "            - $P = \\Omega^{-{1\\over2}}$\n",
    "    - $var(\\Omega^{-{1 \\over 2}}u | X) = \\sigma^2 \\Omega^{-{1 \\over 2}} \\Omega \\Omega ^{-{1 \\over 2}}$\n",
    "        - $\\sigma^2 \\Omega^0 = \\sigma^2 I$"
   ]
  },
  {
   "cell_type": "markdown",
   "metadata": {},
   "source": [
    "## GLS Estimators\n",
    "- $y = X\\beta + u$\n",
    "    - $P = \\Omega^{-{1 \\over 2}}$\n",
    "- $\\Omega^{-{1 \\over 2}}y = \\Omega^{-{1 \\over 2}}X\\beta + \\Omega^{-{1 \\over 2}} u$ -> OLS : BLUE\n",
    "    - $Z = Py$\n",
    "    - $W = PX$\n",
    "        - $W' = (PX)' = X'P$\n",
    "    - $\\epsilon = Pu$\n",
    "    - $Z = W\\beta + \\epsilon$\n",
    "    - $\\hat \\beta_{OLS} = (W'W)^{-1}W'Z$\n",
    "    - $\\hat \\beta_{GLS} = (X'P'PX)^{-1}X'P'Py)$\n",
    "        - $P=P'=\\Omega^{-{1 \\over 2}}$\n",
    "    - $(X'\\Omega^{-1}X)^{-1}X'\\Omega^{-1}y$"
   ]
  },
  {
   "cell_type": "markdown",
   "metadata": {},
   "source": [
    "## Variance of GLS estimators\n",
    "- $y = X\\beta + u$\n",
    "- $\\hat \\beta_{GLS} = (X'\\Omega^{-1}X)^{-1}X'\\Omega^{-1}y$\n",
    "    - $A = (X'\\Omega^{-1}X)^{-1}X'\\Omega^{-1}$\n",
    "- $var(\\hat \\beta_{GLS}) = (X'\\Omega^{-1}X)^{-1}X'\\Omega^{-1}var(y|X) \\Omega^{-1}X(X'\\Omega^{-1}X)^{-1}$\n",
    "    - $(\\Omega^{-1})' = \\Omega^{-1}$\n",
    "    - $var(y|X) = \\sigma^2\\Omega$\n",
    "- $var(\\hat \\beta_{GLS} | X) =\\sigma^2(X'\\Omega^{-1}X)^{-1} X'\\Omega^{-1}X(X'\\Omega^{-1}X)^{-1}$\n",
    "- $var(\\hat \\beta_{GLS} | X) =\\sigma^2(X'\\Omega^{-1}X)^{-1}$\n"
   ]
  },
  {
   "cell_type": "code",
   "execution_count": null,
   "metadata": {},
   "outputs": [],
   "source": []
  }
 ],
 "metadata": {
  "kernelspec": {
   "display_name": "Python 3",
   "language": "python",
   "name": "python3"
  },
  "language_info": {
   "codemirror_mode": {
    "name": "ipython",
    "version": 3
   },
   "file_extension": ".py",
   "mimetype": "text/x-python",
   "name": "python",
   "nbconvert_exporter": "python",
   "pygments_lexer": "ipython3",
   "version": "3.7.6"
  }
 },
 "nbformat": 4,
 "nbformat_minor": 4
}
