{
 "cells": [
  {
   "cell_type": "markdown",
   "metadata": {},
   "source": [
    "# Between Effects 모형"
   ]
  },
  {
   "cell_type": "markdown",
   "metadata": {},
   "source": [
    "- 기본 회귀 모형 가정\n",
    "    - $y_{it} = \\alpha + \\beta x_{it} + \\epsilon_{it}$\n",
    "- 6장에서는 $\\alpha, \\beta$가 모든 패널 개체에 동일하다고 가정\n",
    "    - 합동 OLS\n",
    "    - 패널 GLS\n",
    "        - 고정계수 모형\n",
    "    - 각 패널 개체의 특성을 고려하는 모형\n",
    "        - 두 개의 오차항을 가진 모형으로 변경\n",
    "            - $y_{it} = \\alpha + \\beta x_{it} + u_i + \\epsilon_{it}$\n",
    "        - 모델 설명\n",
    "            - $u_i$\n",
    "                - 패널 개체에 따라 변하는 이질성을 나타냄\n",
    "                - 하나의 패널 개체 내에서는 시간에 따라 변하지 않는 영속적 특성을 지님\n",
    "            - $e_{it}$          \n",
    "                - 패널 개체와 시간에 따라 변하는 순수한 오차항\n",
    "        - 각 오차항에 대해서 평균이 0이고 동분산성을 만족하도록 함\n",
    "            - $u_i \\sim (0, \\sigma^2_u)$\n",
    "            - $e_i \\sim (0, \\sigma^2_e)$\n",
    "            - $cov(u_i, e_{it}) = 0$    \n",
    "            - $e_{it}$는 $cov(e_{it}, e_{is}) = 0$즉 자기상관이 없다\n",
    "        - 식 변형\n",
    "            - $y_{it} = (\\alpha + u_i) + \\beta x_{it}  + \\epsilon_{it}$\n",
    "                - 기울기 모수 $beta$ 는 모든 패널에서 동일\n",
    "                - 상수항 $(\\alpha + u_i)$는 패널 개체에 따라 달라짐\n",
    "                    - 변동계수 모형\n",
    "        - 이번 장에서는 between effects 모형을 통해 식을 추정함\n",
    "            - 패널 데이터는 횡단ㅂ면과 시계열의 특성을 동시에 가짐\n",
    "            - 따라서 하나의 패널 개체 내에서 시계열 변동과 패널 개체간 변동을 동시에 관찰할 수 있음\n",
    "            - between effect 모형은 개체 간 변동만을 고려\n",
    "               - $\\bar y_i = \\alpha + \\beta \\bar x_i + u_i + \\bar e_i$\n",
    "               - 패널 데이터를 횡단면 데이터로 변환\n",
    "               - $\\beta$는 패널 개체 간 한계효과 의미\n",
    "       - 추정 \n",
    "           - 방법\n",
    "               - 종속변수 : $\\bar y_i$\n",
    "               - 설명변수 : 상수항, $\\bar x_i$\n",
    "           - 요구사항\n",
    "               - $cov(\\bar x_i, u_i)$ = 0\n",
    "                   - - $cov(\\bar x_{it}, u_i)$ = 0\n",
    "               - 이것이 성립하지 못할 경우 추정량에 문제가 생김\n",
    "           - 결과\n",
    "               - $overall R^2$\n",
    "                   - $overall R^2 = [corr(y_{it}, \\hat \\alpha_{BE} + \\hat \\beta_{BE}x_{it}]^2$\n",
    "        \n"
   ]
  },
  {
   "cell_type": "markdown",
   "metadata": {},
   "source": [
    "## 사후분석"
   ]
  },
  {
   "cell_type": "markdown",
   "metadata": {},
   "source": [
    "- predict 결과값\n",
    "    - $\\hat y_{it} = \\hat \\alpha_{BE} + \\hat \\beta_{BE}x_{it}$\n",
    "    -$\\hat u_i = \\hat y_{i} - \\hat \\alpha_{BE} + \\hat \\beta_{BE}x_{i}$"
   ]
  }
 ],
 "metadata": {
  "kernelspec": {
   "display_name": "Python 3",
   "language": "python",
   "name": "python3"
  },
  "language_info": {
   "codemirror_mode": {
    "name": "ipython",
    "version": 3
   },
   "file_extension": ".py",
   "mimetype": "text/x-python",
   "name": "python",
   "nbconvert_exporter": "python",
   "pygments_lexer": "ipython3",
   "version": "3.7.6"
  }
 },
 "nbformat": 4,
 "nbformat_minor": 4
}
