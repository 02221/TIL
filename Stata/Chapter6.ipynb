{
 "cells": [
  {
   "cell_type": "markdown",
   "metadata": {},
   "source": [
    "# Panel Data Analysis"
   ]
  },
  {
   "cell_type": "markdown",
   "metadata": {},
   "source": [
    "## Goal\n",
    "- **Background**\n",
    "    - Basic Assumption\n",
    "    - BLUE\n",
    "- **Basic Model**\n",
    "- **Statistical Test**\n",
    "    - Prove\n",
    "    - Meaning\n",
    "    - Application\n",
    "- **Advanced Model**\n",
    "    - Equation\n",
    "    - Meaning\n",
    "    - Related Statistical Test\n",
    "    - Situation"
   ]
  },
  {
   "cell_type": "markdown",
   "metadata": {},
   "source": [
    "## Background"
   ]
  },
  {
   "cell_type": "markdown",
   "metadata": {},
   "source": [
    "### Basic Assumption\n",
    "- 0 Linearity\n",
    "- 1 $E(\\epsilon_{it}) = 0$\n",
    "    - 모든 시점 오차항의 기댓값이 0\n",
    "- 2 $var(\\epsilon_{it}) = \\sigma^2$\n",
    "    - 모든 패널 개체에 대해 모든 시점에서 오차항의 분산이 $\\sigma^2$\n",
    "    - 동분산성\n",
    "- 3 $cov(\\epsilon_{it}, \\epsilon_{js}) = 0$\n",
    "    - 모든 시점 오차항의 기댓값이 0\n",
    "    - 패널 개체의 오차항은 서로 상관관계가 없어야 함 \n",
    "    - 다른 시점의 오차항 사이에도 상관관계가 존재하지 않아야 함\n",
    "        - 동시적 상관\n",
    "            - 주어진 시점에서 패널 개체간 상관관계\n",
    "        - 자기상관\n",
    "            - 한 패널 그룹 내에서 서로 다른 시점간의 상관\n",
    "- 4 $cov(x_{it},\\epsilon_{it}) = 0$\n",
    "    - 모든 시점 오차항의 기댓값이 0\n",
    "    - 설명변수의 외생성"
   ]
  },
  {
   "cell_type": "markdown",
   "metadata": {},
   "source": [
    "### BLUE\n",
    "- **Best Linear Unbiased Estiomator**\n",
    "    - 모든 시점 오차항의 공분산 행렬이 고정된 분산의 대각행렬\n",
    "    - $\\begin{bmatrix} \\sigma^2 & 0 & 0 & 0 & 0 \\\\ 0 & \\sigma^2 & 0 & 0 & 0 \\\\ \\dots \\\\ 0 & 0 & 0 & 0 & \\sigma^2\\end{bmatrix}$\n",
    "    - 최소자승선은 데이터들 사이의 거리가 최소가 되도록 하는 식\n",
    "    - 단순선형회귀 모형에서 모든 값은 최소자승선으로 회귀할 것이라고 추정하기 때문에 추정치라고 부르는 것\n",
    "        - 실제 데이터와 추정치간의 차이를 잔차라고 함\n",
    "            - $\\epsilon_i = y_i - \\hat y_i$\n",
    "            - SSE(Sum of Squares for Error)를 통해 잔차 확인\n",
    "    - 여기서 오차 변수가 정규분포를 따르면 MVUE(Minimum Variance Unbiased Estimator)가 된다.\n"
   ]
  },
  {
   "cell_type": "markdown",
   "metadata": {},
   "source": [
    "- **LS-good**\n",
    "    - **good estimator**\n",
    "        - Unbiased\n",
    "        - Consistency\n",
    "        - Efficiency\n",
    "    - LS가 Gauss-Markov Condition 하에서 **BLUE**이다\n",
    "        - B : Best\n",
    "            - no other esitmator that is more eifficient, consistence\n",
    "        - L : Linear \n",
    "        - U : Unbiased\n",
    "        - E : Estimator"
   ]
  },
  {
   "cell_type": "markdown",
   "metadata": {},
   "source": [
    "## Basic Model"
   ]
  },
  {
   "cell_type": "markdown",
   "metadata": {},
   "source": [
    "### Pooled OLS\n",
    "- Pooled OLS is a Basic Model for Panel Data\n",
    "- Def **Panel Data**\n",
    "    - Panel Data is cross-sectional time series data\n",
    "        - cross-sectional\n",
    "            - collection of many subjects at one point\n",
    "        - time-series\n",
    "- **Equation**\n",
    "    - $y_{it} = \\alpha + \\beta x_{it} + \\epsilon_{it}$\n",
    "        - Terms\n",
    "            - $n$ : # of panel object  , $i = 1, \\cdots, n$\n",
    "            - $T_i$ : time period of object i \n",
    "                - if $T_i = T \\rightarrow$ balanced panel\n",
    "                    - $N$ : all obeserved object\n",
    "                - Def classification of panel based on balance                        \n",
    "                    - balanced panel : $n \\times T$\n",
    "                        - Time period of all objects are same\n",
    "                    - unbalanced panel : $\\sum T_i$\n",
    "                        - Time period of all objects are **not** same\n",
    "                        - Useally our practical data is unbalanced panel data\n",
    "                        - we can derive result with a little bias for unbalanced panel by using Wooldridge method\n",
    "        - Meaning\n",
    "            - Sharing $\\alpha, \\beta$\n",
    "                - Do not reflect individual panel's property\n",
    "- Situation\n",
    "    - All Assumption holds\n",
    "        - If not\n",
    "            - 공적분 기법이 검정력이 낮다는 문제\n",
    "            - 검정력이 높으면 귀무가설이 너무 빈번하게 기각됨\n",
    "            - stationarity에서 random walk로 변환 이후 변화가 생기는 중\n",
    "            - random walk의 경우 유한한 분산을 가지지 않기 때문에 일관성 있는 회귀계수 추정 불가능\n",
    "            - 따라서 우선 안전성 검정을 해야 함"
   ]
  },
  {
   "cell_type": "markdown",
   "metadata": {},
   "source": [
    "- LR 검정통계량\n",
    "    - Likelihood Ratio\n",
    "    - Equation\n",
    "        - $LR = -2(ln L_R - ln L_{UR}) \\sim \\chi^2_{df}$\n",
    "            - $L_R$  : 제약이 가해진 모델\n",
    "            - $L_{UR}$ : 제약이 가해지지 않은 모델\n",
    "    - 비제약 모형은 오차항의 분산이 패널 개체별로 서로 다르다고 가정\n",
    "    - 제약 모향은 오차항의 분산이 패널 그룹에 따라 다르지 않다(같다)고 가정\n",
    "    - 로그 우도 함수를 통해 검정 통계량 계산\n",
    "    - 검정통계량은 카이제곱 분포를 따름\n",
    "- Understanding Likelihood\n",
    "    - Random variable is $\\epsilon$ \n",
    "        - we assume $\\epsilon \\sim N$ \n",
    "            - $\\epsilon \\sim N \\rightarrow y \\sim N$ \n",
    "            - $y \\sim N \\rightarrow likelihood \\sim N$ \n",
    "            - Normal distribution PDF has exp form\n",
    "                - Log transformation makes calculation easier\n",
    "                    - By using First Order Tayler approximation, we can derive LR\n",
    "                        - This is relared with $\\chi^2$"
   ]
  },
  {
   "cell_type": "code",
   "execution_count": 73,
   "metadata": {},
   "outputs": [],
   "source": [
    "import scipy as sp\n",
    "%matplotlib inline"
   ]
  },
  {
   "cell_type": "code",
   "execution_count": 74,
   "metadata": {},
   "outputs": [
    {
     "data": {
      "image/png": "[encoded data removed]",
      "text/plain": [
       "<Figure size 432x288 with 1 Axes>"
      ]
     },
     "metadata": {
      "needs_background": "light"
     },
     "output_type": "display_data"
    }
   ],
   "source": [
    "mu = 3\n",
    "lr = sp.stats.norm(mu, 2)\n",
    "xx = np.linspace(-7, 7, 100)\n",
    "plt.plot(xx, lr.pdf(xx))\n",
    "plt.scatter(0, lr.pdf(0), c=\"r\")\n",
    "plt.scatter(mu, lr.pdf(mu), c=\"r\")\n",
    "plt.hlines(lr.pdf(0), -7, 0, colors = \"r\")\n",
    "plt.hlines(lr.pdf(mu), -7, mu, colors = \"r\")\n",
    "\n",
    "plt.title(\"pdf of normal distribution\")\n",
    "plt.vlines(mu, 0, lr.pdf(mu), colors = \"r\")\n",
    "plt.vlines(0, 0, lr.pdf(0), colors = \"r\")\n",
    "plt.vlines(-7+0.1, lr.pdf(0), lr.pdf(mu), colors = \"black\")\n",
    "plt.hlines(0, 0, mu, colors = \"black\")\n",
    "plt.scatter(0,0, c = \"r\")\n",
    "plt.scatter(mu,0, c = \"r\")\n",
    "plt.text(-0.25, 0.01, 'H0', c = \"Black\")\n",
    "plt.text(mu -0.25, 0.01, 'H1', c = \"Black\")\n",
    "plt.text(mu  / 2 - 0.25, -.01, 'Wald', c = \"Black\")\n",
    "plt.text(-7 + 0.25,  lr.pdf(0), \"L0\", c = \"Black\")\n",
    "plt.text(-7 + 0.25,  lr.pdf(mu), \"Lmu\", c = \"Black\")\n",
    "plt.text(-7,  (lr.pdf(0) + lr.pdf(mu)) / 2, \"LR\", c = \"Black\")\n",
    "plt.xlim(-7, 7)\n",
    "plt.show()"
   ]
  },
  {
   "cell_type": "markdown",
   "metadata": {},
   "source": [
    "## 이분산성 가정(기본 가정 2 확장)\n",
    "- 패널 데이터는 2-4 가정이 위배될 수 있음\n",
    "    - 따라서 오차항에 이분산성이 존재하는 경우(고정된 분산의 대각행렬이 아닌 경우)\n",
    "        - GLS\n",
    "            - generalized least squares\n",
    "            - 오차항의 이분산 구조나 자기상관 구조를 활용해 이를 상쇄하는 함수를 활용하는 최소제곱방법\n",
    "        - sigma 추정치를 N이 아닌 N - k 값 사용\n",
    "            - k : 추정해야 할 모수 개수\n",
    "        - 동분산성 가정\n",
    "        - 자기상관 존재 x\n",
    "    - 오차항에서 이분산성 가정\n",
    "        - $\\Omega \\begin{bmatrix} \\sigma_1^2 & 0 & \\cdots & 0 \\\\ 0 & \\sigma_2^2 & \\cdots & 0 \\\\ \\dots \\\\ 0 & 0 &  \\cdots & \\sigma_n^2\\end{bmatrix}$\n",
    "        - 패널간 이분산성 가정\n",
    "        - 자기상관 없음\n",
    "- LR"
   ]
  },
  {
   "cell_type": "markdown",
   "metadata": {},
   "source": [
    "## 상관관계 가정(기본 가정 3 확장)\n",
    "- $\\epsilon_{i,j}$에 자기상관이나 동시적 상관이 존재할 수 있음\n",
    "    - 자기상관\n",
    "        - $cov(\\epsilon_{it}, \\epsilon_{is}) \\ne 0$\n",
    "        - $\\epsilon_{it} = \\rho \\epsilon_{it-1} + v_{it}$\n",
    "            - 자기상관을 넣었을 때는 이전과 다른 결과가 나올 수 있다\n",
    "                - 즉 자기상관을 넣지 않았을 때는 유의하다고 나온 변수가, 자기상관을 넣었을 때는 유의하다고 나오는 것이다\n",
    "            - 로그우도 결과는 이전과 같다\n",
    "        - Wooldridge 검정을 통해 자기상관 검정을 할 수 있다. \n",
    "    - 동시적 상관\n",
    "        - $corr(\\epsilon_{it}, \\epsilon_{jt}) \\ne 0$\n",
    "        - $\\begin{bmatrix} \\sigma_1^2 & \\sigma_{21} & \\cdots & \\sigma_{n1} \\\\ \\sigma_{12} & \\sigma_2^2 & \\cdots & \\sigma_{n2} \\\\ \\dots \\\\ \\sigma_{1n} & \\sigma_{2n} & \\cdots & \\sigma_n^2\\end{bmatrix}$"
   ]
  },
  {
   "cell_type": "markdown",
   "metadata": {},
   "source": [
    "## 사후 분석(Post-hoc)\n",
    "- Def\n",
    "    - Wald 검사\n",
    "    - LR 검정\n",
    "        - 비제약 모형을 추정한 후 그 결과를 저장\n",
    "    - "
   ]
  },
  {
   "cell_type": "markdown",
   "metadata": {},
   "source": [
    "## Tips for Data Analysis\n",
    "- Log Transformation\n",
    "    - 양수이면서 분포가 치우친 형태이면, 로그변환을 했을 때 CLM 가정 더 만족함\n",
    "        - 왜도가 -1~1 범위를 벗어날 때 사용\n",
    "    - 왜곡이 심하거나, 변환 이후 분산이 크게 감소하면 변환해줌\n",
    "        - outlier에 덜 민감해짐\n",
    "        - 거시경제에서 나타나는 이분산성 문제 완화\n",
    "    - 2 이상의 왜도 개선이 보인다면 로그변환\n",
    "    - 첨도가 정규분포에서 멀어지면 의미 없음\n",
    "    - 변화율이나 변화의 탄력성 확인할 수 있음  "
   ]
  }
 ],
 "metadata": {
  "kernelspec": {
   "display_name": "Python 3",
   "language": "python",
   "name": "python3"
  },
  "language_info": {
   "codemirror_mode": {
    "name": "ipython",
    "version": 3
   },
   "file_extension": ".py",
   "mimetype": "text/x-python",
   "name": "python",
   "nbconvert_exporter": "python",
   "pygments_lexer": "ipython3",
   "version": "3.7.6"
  }
 },
 "nbformat": 4,
 "nbformat_minor": 4
}
