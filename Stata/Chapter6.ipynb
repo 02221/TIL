{
 "cells": [
  {
   "cell_type": "raw",
   "metadata": {},
   "source": [
    "# 패널 GLS"
   ]
  },
  {
   "cell_type": "markdown",
   "metadata": {},
   "source": [
    "## Basic OLS\n",
    "- **패널 데이터**\n",
    "    - 여러 개체들을 복수의 시간에 걸쳐서 추적하여 얻는 데이터\n",
    "    - 횡단면 자료에 시계열 형태 자료가 추가됨\n",
    "- $y_{it} = \\alpha + \\beta x_{it} + \\epsilon_{it}$\n",
    "    - $n$ : 패널 개체의 수, $i = 1, \\cdots, n$\n",
    "    - $T_i$ : 개체 i의 데이터 포괄기간\n",
    "    - $T_i = T$이면 균형패널이다.\n",
    "        - $N$ : 전체 관측개체\n",
    "            - 균형패널 : $n \\times T$\n",
    "                - 조사 대상 개체가 관측된 시점이 모두 동일\n",
    "            - 불균형패널 : $\\sum T_i$\n",
    "                - 일반적으로 불균형\n",
    "                - Wooldridge 방법을 불균형 패널에 활용할 경우 아주 작은 bias만이 존재함\n",
    "- **팁**\n",
    "    - **로그 변환**\n",
    "        - 양수이면서 분포가 치우친 형태이면, 로그변환을 했을 때 CLM 가정 더 만족함\n",
    "            - 왜도가 -1~1 범위를 벗어날 때 사용\n",
    "        - 왜곡이 심하거나, 변환 이후 분산이 크게 감소하면 변환해줌\n",
    "            - outlier에 덜 민감해짐\n",
    "            - 거시경제에서 나타나는 이분산성 문제 완화\n",
    "        - 2 이상의 왜도 개선이 보인다면 로그변환\n",
    "        - 첨도가 정규분포에서 멀어지면 의미 없음\n",
    "        - 변화율이나 변화의 탄력성 확인할 수 있음  \n",
    "        \n",
    "- **기본 가정**\n",
    "    - 0 Linearity\n",
    "    - 1 $E(\\epsilon_{it}) = 0$\n",
    "        - 모든 시점 오차항의 기댓값이 0\n",
    "    - 2 $var(\\epsilon_{it}) = \\sigma^2$\n",
    "        - 모든 패널 개체에 대해 모든 시점에서 오차항의 분산이 $\\sigma^2$\n",
    "        - 동분산성\n",
    "    - 3 $cov(\\epsilon_{it}, \\epsilon_{js}) = 0$\n",
    "        - 모든 시점 오차항의 기댓값이 0\n",
    "        - 패널 개체의 오차항은 서로 상관관계가 없어야 함 \n",
    "        - 다른 시점의 오차항 사이에도 상관관계가 존재하지 않아야 함\n",
    "            - 동시적 상관\n",
    "                - 주어진 시점에서 패널 개체간 상관관계\n",
    "            - 자기상관\n",
    "                - 한 패널 그룹 내에서 서로 다른 시점간의 상관\n",
    "    - 4 $cov(x_{it},\\epsilon_{it}) = 0$\n",
    "        - 모든 시점 오차항의 기댓값이 0\n",
    "        - 설명변수의 외생성\n",
    "- 기본 가정이 위배되는 경우 OLS 추정량에 문제가 있을 수 있음\n",
    "    - 공적분 기법이 검정력이 낮다는 문제\n",
    "    - 검정력이 높으면 귀무가설이 너무 빈번하게 기각됨\n",
    "    - stationarity에서 random walk로 변환 이후 변화가 생기는 중\n",
    "    - random walk의 경우 유한한 분산을 가지지 않기 때문에 일관성 있는 회귀계수 추정 불가능\n",
    "    - 따라서 우선 안전성 검정을 해야 함\n",
    "    \n",
    "- #### BLUE\n",
    "- **Best Linear Unbiased Estiomator**\n",
    "    - 모든 시점 오차항의 공분산 행렬이 고정된 분산의 대각행렬\n",
    "    - $\\begin{bmatrix} \\sigma^2 & 0 & 0 & 0 & 0 \\\\ 0 & \\sigma^2 & 0 & 0 & 0 \\\\ \\dots \\\\ 0 & 0 & 0 & 0 & \\sigma^2\\end{bmatrix}$\n",
    "    - 최소자승선은 데이터들 사이의 거리가 최소가 되도록 하는 식\n",
    "    - 단순선형회귀 모형에서 모든 값은 최소자승선으로 회귀할 것이라고 추정하기 때문에 추정치라고 부르는 것\n",
    "        - 실제 데이터와 추정치간의 차이를 잔차라고 함\n",
    "            - $\\epsilon_i = y_i - \\hat y_i$\n",
    "            - SSE(Sum of Squares for Error)를 통해 잔차 확인\n",
    "    - 여기서 오차 변수가 정규분포를 따르면 MVUE(Minimum Variance Unbiased Estimator)가 된다.\n",
    "- **LS-good**\n",
    "    - **good estimator**\n",
    "        - Unbiased\n",
    "        - Consistency\n",
    "        - Efficiency\n",
    "    - LS가 Gauss-Markov Condition 하에서 **BLUE**이다\n",
    "        - B : Best\n",
    "            - no other esitmator that is more eifficient, consistence\n",
    "        - L : Linear \n",
    "        - U : Unbiased\n",
    "        - E : Estimator"
   ]
  },
  {
   "cell_type": "markdown",
   "metadata": {},
   "source": [
    "## 이분산성 가정(기본 가정 2 확장)\n",
    "- 패널 데이터는 2-4 가정이 위배될 수 있음\n",
    "    - 따라서 오차항에 이분산성이 존재하는 경우(고정된 분산의 대각행렬이 아닌 경우)\n",
    "        - GLS\n",
    "            - generalized least squares\n",
    "            - 오차항의 이분산 구조나 자기상관 구조를 활용해 이를 상쇄하는 함수를 활용하는 최소제곱방법\n",
    "        - sigma 추정치를 N이 아닌 N - k 값 사용\n",
    "            - k : 추정해야 할 모수 개수\n",
    "        - 동분산성 가정\n",
    "        - 자기상관 존재 x\n",
    "    - 오차항에서 이분산성 가정\n",
    "        - $\\Omega \\begin{bmatrix} \\sigma_1^2 & 0 & \\cdots & 0 \\\\ 0 & \\sigma_2^2 & \\cdots & 0 \\\\ \\dots \\\\ 0 & 0 &  \\cdots & \\sigma_n^2\\end{bmatrix}$\n",
    "        - 패널간 이분산성 가정\n",
    "        - 자기상관 없음\n",
    "- LR 검정통계량\n",
    "    - Likelihood Ratio\n",
    "    - Equation\n",
    "        - $LR = -2(ln L_R - ln L_{UR}) \\sim \\chi^2_{df}$\n",
    "            - $L_R$  : 제약이 가해진 모델\n",
    "            - $L_{UR}$ : 제약이 가해지지 않은 모델\n",
    "    - 비제약 모형은 오차항의 분산이 패널 개체별로 서로 다르다고 가정\n",
    "    - 제약 모향은 오차항의 분산이 패널 그룹에 따라 다르지 않다(같다)고 가정\n",
    "    - 로그 우도 함수를 통해 검정 통계량 계산\n",
    "    - 검정통계량은 카이제곱 분포를 따름"
   ]
  },
  {
   "cell_type": "markdown",
   "metadata": {},
   "source": [
    "## 상관관계 가정(기본 가정 3 확장)\n",
    "- $\\epsilon_{i,j}$에 자기상관이나 동시적 상관이 존재할 수 있음\n",
    "    - 자기상관\n",
    "        - $cov(\\epsilon_{it}, \\epsilon_{is}) \\ne 0$\n",
    "        - $\\epsilon_{it} = \\rho \\epsilon_{it-1} + v_{it}$\n",
    "            - 자기상관을 넣었을 때는 이전과 다른 결과가 나올 수 있다\n",
    "                - 즉 자기상관을 넣지 않았을 때는 유의하다고 나온 변수가, 자기상관을 넣었을 때는 유의하다고 나오는 것이다\n",
    "            - 로그우도 결과는 이전과 같다\n",
    "        - Wooldridge 검정을 통해 자기상관 검정을 할 수 있다. \n",
    "    - 동시적 상관\n",
    "        - $corr(\\epsilon_{it}, \\epsilon_{jt}) \\ne 0$\n",
    "        - $\\begin{bmatrix} \\sigma_1^2 & \\sigma_{21} & \\cdots & \\sigma_{n1} \\\\ \\sigma_{12} & \\sigma_2^2 & \\cdots & \\sigma_{n2} \\\\ \\dots \\\\ \\sigma_{1n} & \\sigma_{2n} & \\cdots & \\sigma_n^2\\end{bmatrix}$"
   ]
  },
  {
   "cell_type": "markdown",
   "metadata": {},
   "source": [
    "## 사후 분석(Post-hoc)\n",
    "- Def\n",
    "    - Wald 검사\n",
    "    - LR 검정\n",
    "        - 비제약 모형을 추정한 후 그 결과를 저장\n",
    "    - "
   ]
  },
  {
   "cell_type": "markdown",
   "metadata": {},
   "source": []
  },
  {
   "cell_type": "code",
   "execution_count": null,
   "metadata": {},
   "outputs": [],
   "source": []
  }
 ],
 "metadata": {
  "kernelspec": {
   "display_name": "Python 3",
   "language": "python",
   "name": "python3"
  },
  "language_info": {
   "codemirror_mode": {
    "name": "ipython",
    "version": 3
   },
   "file_extension": ".py",
   "mimetype": "text/x-python",
   "name": "python",
   "nbconvert_exporter": "python",
   "pygments_lexer": "ipython3",
   "version": "3.7.6"
  }
 },
 "nbformat": 4,
 "nbformat_minor": 4
}
