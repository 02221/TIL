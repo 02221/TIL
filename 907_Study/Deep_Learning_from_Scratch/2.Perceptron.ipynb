{
 "cells": [
  {
   "cell_type": "markdown",
   "metadata": {},
   "source": [
    "## 퍼셉트론\n",
    "- Def\n",
    "    - 다수의 신호를 입력으로 받아 하나의 신호 출력\n",
    "        - 입력\n",
    "            - denote\n",
    "                - x\n",
    "        - 가중치\n",
    "            - denote\n",
    "               -w\n",
    "        - 출력        \n",
    "            - 1\n",
    "                - 신호가 흐름\n",
    "            - 0\n",
    "                - 신호가 흐르지 않음\n",
    "- 절차\n",
    "    - 입력 신호(x)를 받음\n",
    "    - 입력 신호(x)에 가중치(w)를 곱합(wx)\n",
    "    - 입력과 가중치의 곱(wx)가 특정 한계(입계값, $\\theta$)를 넘어설 때 1 출력 else 0\n",
    "        - 가중치가 클수록 해당 신호가 중요함 "
   ]
  },
  {
   "cell_type": "markdown",
   "metadata": {},
   "source": [
    "## 논리 회로\n",
    "- AND 게이트\n",
    "    - Def\n",
    "        - 1\n",
    "            - 두 입력이 모두 1\n",
    "        - 0\n",
    "            - 두 입력이 모두 1이 아님\n",
    "- NAND 게이트\n",
    "    - Def\n",
    "        - Not And\n",
    "        - AND 출력 뒤집음\n",
    "        - 1\n",
    "            - 두 입력이 모두 1이 아님\n",
    "        - 0 \n",
    "            - 두 입력이 모두 1\n",
    "- OR 게이트\n",
    "    - Def\n",
    "        - 입력 신호 중 하나 이상이 1이면 출력이 1\n",
    "        - 1\n",
    "            - 두 입력 중 하나 이상이 1\n",
    "        - 0\n",
    "            - 두 입력 모두 0"
   ]
  },
  {
   "cell_type": "markdown",
   "metadata": {},
   "source": [
    "## 퍼셉트론 구현하기"
   ]
  },
  {
   "cell_type": "code",
   "execution_count": 2,
   "metadata": {},
   "outputs": [],
   "source": [
    "def AND(x1, x2):\n",
    "    w1, w2, theta = 0.5, 0.5, 0.7\n",
    "    tmp = x1*w1 +x2*w2\n",
    "    if tmp <= theta:\n",
    "        return 0\n",
    "    elif tmp > theta:\n",
    "        return 1\n",
    "    else:\n",
    "        assert False(\"This should never happen, but it does\")"
   ]
  },
  {
   "cell_type": "code",
   "execution_count": 3,
   "metadata": {},
   "outputs": [
    {
     "name": "stdout",
     "output_type": "stream",
     "text": [
      "x1 = 0, x2 = 0, AND(x1, x2) = 0\n",
      "x1 = 0, x2 = 1, AND(x1, x2) = 0\n",
      "x1 = 1, x2 = 0, AND(x1, x2) = 0\n",
      "x1 = 1, x2 = 1, AND(x1, x2) = 1\n"
     ]
    }
   ],
   "source": [
    "x = [0, 1]\n",
    "for x1 in x:\n",
    "    for x2 in x:\n",
    "        print(f\"x1 = {x1}, x2 = {x2}, AND(x1, x2) = {AND(x1, x2)}\")"
   ]
  },
  {
   "cell_type": "markdown",
   "metadata": {},
   "source": [
    "b : bias 도입 "
   ]
  },
  {
   "cell_type": "code",
   "execution_count": 5,
   "metadata": {},
   "outputs": [],
   "source": [
    "def AND(x1, x2):\n",
    "    x = np.array([x1,x2])\n",
    "    w = np.array([0.5, 0.5])\n",
    "    b = -0.7\n",
    "    tmp = np.sum(w*x) + b\n",
    "    if tmp <= 0:\n",
    "        return 0\n",
    "    elif tmp > 0:\n",
    "        return 1\n",
    "    else:\n",
    "        assert False(\"This should never happen, but it does\")"
   ]
  },
  {
   "cell_type": "code",
   "execution_count": 6,
   "metadata": {},
   "outputs": [
    {
     "name": "stdout",
     "output_type": "stream",
     "text": [
      "x1 = 0, x2 = 0, AND(x1, x2) = 0\n",
      "x1 = 0, x2 = 1, AND(x1, x2) = 0\n",
      "x1 = 1, x2 = 0, AND(x1, x2) = 0\n",
      "x1 = 1, x2 = 1, AND(x1, x2) = 1\n"
     ]
    }
   ],
   "source": [
    "x = [0, 1]\n",
    "for x1 in x:\n",
    "    for x2 in x:\n",
    "        print(f\"x1 = {x1}, x2 = {x2}, AND(x1, x2) = {AND(x1, x2)}\")"
   ]
  },
  {
   "cell_type": "code",
   "execution_count": 15,
   "metadata": {},
   "outputs": [],
   "source": [
    "def NAND(x1, x2):\n",
    "    x = np.array([x1,x2])\n",
    "    w = np.array([-0.5, -0.5])\n",
    "    b = 0.7\n",
    "    tmp = np.sum(w*x) + b\n",
    "    if tmp <= 0:\n",
    "        return 0\n",
    "    elif tmp > 0:\n",
    "        return 1\n",
    "    else:\n",
    "        assert False(\"This should never happen, but it does\")"
   ]
  },
  {
   "cell_type": "code",
   "execution_count": 16,
   "metadata": {},
   "outputs": [
    {
     "name": "stdout",
     "output_type": "stream",
     "text": [
      "x1 = 0, x2 = 0, NAND(x1, x2) = 1\n",
      "x1 = 0, x2 = 1, NAND(x1, x2) = 1\n",
      "x1 = 1, x2 = 0, NAND(x1, x2) = 1\n",
      "x1 = 1, x2 = 1, NAND(x1, x2) = 0\n"
     ]
    }
   ],
   "source": [
    "x = [0, 1]\n",
    "for x1 in x:\n",
    "    for x2 in x:\n",
    "        print(f\"x1 = {x1}, x2 = {x2}, NAND(x1, x2) = {NAND(x1, x2)}\")"
   ]
  },
  {
   "cell_type": "code",
   "execution_count": 11,
   "metadata": {},
   "outputs": [],
   "source": [
    "def OR(x1, x2):\n",
    "    x = np.array([x1,x2])\n",
    "    w = np.array([0.5, 0.5])\n",
    "    b = -0.2\n",
    "    tmp = np.sum(w*x) + b\n",
    "    if tmp <= 0:\n",
    "        return 0\n",
    "    elif tmp > 0:\n",
    "        return 1\n",
    "    else:\n",
    "        assert False(\"This should never happen, but it does\")"
   ]
  },
  {
   "cell_type": "code",
   "execution_count": 12,
   "metadata": {},
   "outputs": [
    {
     "name": "stdout",
     "output_type": "stream",
     "text": [
      "x1 = 0, x2 = 0, OR(x1, x2) = 0\n",
      "x1 = 0, x2 = 1, OR(x1, x2) = 1\n",
      "x1 = 1, x2 = 0, OR(x1, x2) = 1\n",
      "x1 = 1, x2 = 1, OR(x1, x2) = 1\n"
     ]
    }
   ],
   "source": [
    "x = [0, 1]\n",
    "for x1 in x:\n",
    "    for x2 in x:\n",
    "        print(f\"x1 = {x1}, x2 = {x2}, OR(x1, x2) = {OR(x1, x2)}\")"
   ]
  },
  {
   "cell_type": "markdown",
   "metadata": {},
   "source": [
    "- AND, NAND, OR은 같은 구조이나 가중치와 편향만 다음"
   ]
  },
  {
   "cell_type": "markdown",
   "metadata": {},
   "source": [
    "## 퍼셉트론의 한계\n",
    "- XOR 게이트\n",
    "    - Def\n",
    "        - 배타적 논리합\n",
    "        - x1과 x2 중 한쪽이 1일때만 1을 출력\n",
    "    - 특징\n",
    "        - 선형으로는 분리할 수 없음\n",
    "        - 비선형으로만 분리 가능"
   ]
  },
  {
   "cell_type": "markdown",
   "metadata": {},
   "source": [
    "## 다층 퍼셉트론\n",
    "### 기존 게이트 조합하기\n",
    "- 기존 게이트 조합"
   ]
  },
  {
   "cell_type": "code",
   "execution_count": 17,
   "metadata": {},
   "outputs": [],
   "source": [
    "def XOR(x1, x2):\n",
    "    s1 = NAND(x1,x2)\n",
    "    s2 = OR(x1,x2)\n",
    "    y = AND(s1,s2)\n",
    "    return y"
   ]
  },
  {
   "cell_type": "code",
   "execution_count": 18,
   "metadata": {},
   "outputs": [
    {
     "name": "stdout",
     "output_type": "stream",
     "text": [
      "x1 = 0, x2 = 0, XOR(x1, x2) = 0\n",
      "x1 = 0, x2 = 1, XOR(x1, x2) = 1\n",
      "x1 = 1, x2 = 0, XOR(x1, x2) = 1\n",
      "x1 = 1, x2 = 1, XOR(x1, x2) = 0\n"
     ]
    }
   ],
   "source": [
    "x = [0, 1]\n",
    "for x1 in x:\n",
    "    for x2 in x:\n",
    "        print(f\"x1 = {x1}, x2 = {x2}, XOR(x1, x2) = {XOR(x1, x2)}\")"
   ]
  }
 ],
 "metadata": {
  "kernelspec": {
   "display_name": "Python 3",
   "language": "python",
   "name": "python3"
  },
  "language_info": {
   "codemirror_mode": {
    "name": "ipython",
    "version": 3
   },
   "file_extension": ".py",
   "mimetype": "text/x-python",
   "name": "python",
   "nbconvert_exporter": "python",
   "pygments_lexer": "ipython3",
   "version": "3.7.6"
  }
 },
 "nbformat": 4,
 "nbformat_minor": 4
}
