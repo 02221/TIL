{
 "cells": [
  {
   "cell_type": "markdown",
   "metadata": {},
   "source": [
    "# Lecture6. Sampling Distribution"
   ]
  },
  {
   "cell_type": "markdown",
   "metadata": {},
   "source": [
    "- Random Sample\n",
    "    - Property\n",
    "        - i.i.d.\n",
    "        - X_i are independent random variable\n",
    "        - every X_i has the same probability distribution\n",
    "- Statistic\n",
    "    - Def\n",
    "        - any function of the observations in a random sample\n",
    "- Sampling Distribution\n",
    "    - Def\n",
    "        - The probability distribution of a statistic     "
   ]
  },
  {
   "cell_type": "markdown",
   "metadata": {},
   "source": [
    "- Important Statistics\n",
    "    - Sample Mean\n",
    "        - $\\bar X = \\sum X_i / n$\n",
    "        - $E[\\bar X] = \\mu$\n",
    "    - Sample Variance\n",
    "        - $V[\\bar X] = {\\sigma^2 \\over n}$\n",
    "        - $S^2 = {\\sum (X_i - \\bar X)^2 \\over n - 1}$\n",
    "        - $E[S^2] = \\sigma^2$"
   ]
  },
  {
   "cell_type": "markdown",
   "metadata": {},
   "source": [
    "- Central Limit Theorem\n",
    "    - Requirements\n",
    "        - Sequence of independent and identicvally distributed random variables\n",
    "        - n is large( more than 30)\n",
    "    - the distribution of $X_1 + X_2 + X_3 + \\cdots + X_n$ is approximately Normal with mean $n\\mu$ and variance $n\\sigma^2$\n",
    "- Normal Approximation to the Binomial \n",
    "    - Requirements\n",
    "        - X is a Binomial random variable, having parameters (n, p)\n",
    "        - $\\hat p = (={X \\over n})$\n",
    "    - $Normal[p, {p(1-p) \\over n}]$\n",
    "    "
   ]
  },
  {
   "cell_type": "markdown",
   "metadata": {},
   "source": [
    "- Smapling Distributions\n",
    "    - Mean\n",
    "        - $\\bar X \\sim N[\\mu, {\\sigma^2 \\over n}] \\rightarrow Z = {\\bar X - \\mu \\over \\sigma / \\sqrt n} \\sim N(0,1)$\n",
    "            - whether X are from Normal or not\n",
    "                - if n is large\n",
    "    - Sample Variance\n",
    "        - Know Variance\n",
    "            - ${(n-1)S^2 \\over \\sigma^2 }\\sim \\chi^2[n-1]$\n",
    "        - Unknown Variance\n",
    "            - ${\\bar X - \\mu \\over X / \\sqrt n} \\sim t[n-1]$"
   ]
  }
 ],
 "metadata": {
  "kernelspec": {
   "display_name": "Python 3",
   "language": "python",
   "name": "python3"
  },
  "language_info": {
   "codemirror_mode": {
    "name": "ipython",
    "version": 3
   },
   "file_extension": ".py",
   "mimetype": "text/x-python",
   "name": "python",
   "nbconvert_exporter": "python",
   "pygments_lexer": "ipython3",
   "version": "3.7.6"
  }
 },
 "nbformat": 4,
 "nbformat_minor": 4
}
