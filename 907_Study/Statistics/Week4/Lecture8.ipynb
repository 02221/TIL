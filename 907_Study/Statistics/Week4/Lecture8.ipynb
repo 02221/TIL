{
 "cells": [
  {
   "cell_type": "markdown",
   "metadata": {},
   "source": [
    "# Lecture8 Concepts of Hypothesis Testing"
   ]
  },
  {
   "cell_type": "markdown",
   "metadata": {},
   "source": [
    "- Introduction\n",
    "    - Basic Idea\n",
    "        - True\n",
    "            - if sample information is consistent with hypothesis\n",
    "        - False\n",
    "            - if sample information is inconsistent"
   ]
  },
  {
   "cell_type": "markdown",
   "metadata": {},
   "source": [
    "- Developing Null and Alternative Hypotheses\n",
    "    - Null Hypothesis\n",
    "        -  a maintained hypothesis that is held to be true unless sufficient evidence to the contrary is obtained. \n",
    "    - Alternative Hypothesis \n",
    "        - the opposite of what is stated in the null hypothesis, what the test is attempting to establish"
   ]
  },
  {
   "cell_type": "markdown",
   "metadata": {},
   "source": [
    "- Concepts of Hypothesis Testing\n",
    "    - Test Statistic\n",
    "        - A Statistic which is calculated from the sample data to be used to make the decision about hypotheses \n",
    "    - Regecting Rule\n",
    "        - Rejection Region\n",
    "            - range of values such that if the test statistic from a random sample \n",
    "        - Critical Values\n",
    "            - boundaries of the rejection region\n",
    "    - Conclusion of the Hypothesis Testing"
   ]
  },
  {
   "cell_type": "markdown",
   "metadata": {},
   "source": [
    "- Type 1 and Type 2 Errors Significance Level\n",
    "    - Hypothesis Testing as a Two-Decision Problem\n",
    "        - Type 1 Error\n",
    "            - regecting H_0 even though it is True\n",
    "        - Type 2 Error\n",
    "            - Failing to reject H_0 even though it is False"
   ]
  },
  {
   "cell_type": "markdown",
   "metadata": {},
   "source": [
    "- Level of Significance\n",
    "    - put upper bound on the P(Type1 Error)\n",
    "    - subject top that constraint, find a test with the lowest possible P(Type2 Error)\n",
    "- Def\n",
    "    - Maximum probability of making a Type1 error, when H_0 i sture\n",
    "        - \\alpha -level test\n",
    "            - hypothesis test with a significance level \\alpha\n",
    "- Steps of Hypothesis Testing\n",
    "    - Hypothesis Testing Procedure\n",
    "        - Develop the null and alternative hypothesis\n",
    "        - Specify the level of significance \\alpha\n",
    "        - Collect the sample data and compute the test statistic\n",
    "    - Method\n",
    "        - Critical Value Approach\n",
    "            - Use the level of significance to determine the critical value and the rejecture rule\n",
    "        - p-Value Approach\n",
    "            - Use the value of the test statistic to compute the p-value"
   ]
  }
 ],
 "metadata": {
  "kernelspec": {
   "display_name": "Python 3",
   "language": "python",
   "name": "python3"
  },
  "language_info": {
   "codemirror_mode": {
    "name": "ipython",
    "version": 3
   },
   "file_extension": ".py",
   "mimetype": "text/x-python",
   "name": "python",
   "nbconvert_exporter": "python",
   "pygments_lexer": "ipython3",
   "version": "3.7.6"
  }
 },
 "nbformat": 4,
 "nbformat_minor": 4
}
