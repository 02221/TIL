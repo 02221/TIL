{
 "cells": [
  {
   "cell_type": "markdown",
   "metadata": {},
   "source": [
    "# Lecture7. Estimation"
   ]
  },
  {
   "cell_type": "markdown",
   "metadata": {},
   "source": [
    "- Two types of Statistical Inference\n",
    "    - Estimation\n",
    "        - detemining the approximate value of a population paramete on the vasis of a sample statistic\n",
    "            - Point Estimation\n",
    "            - Interval Estimation\n",
    "    - Hypothesis Testing\n",
    "        - Determining whether there is enough statistical evidence in favor of a certain belief about a parameter\n",
    "\n",
    "    "
   ]
  },
  {
   "cell_type": "markdown",
   "metadata": {},
   "source": [
    "- Terminology\n",
    "    - estimator\n",
    "        - statistic that is used to estimate an unkown population parameter\n",
    "    - standard error\n",
    "        - standard deviation of the estimator"
   ]
  },
  {
   "cell_type": "markdown",
   "metadata": {},
   "source": [
    "- Desirable Characteristics of Estimators\n",
    "    - Unbiased\n",
    "        - expected value is equal to that parameter\n",
    "    - Consistency\n",
    "        - if the difference between the estimator and the parameter grows smaller as the sample size increase\n",
    "    - Relative efficiency\n",
    "        - smaller variance\n",
    "    -MVUE\n",
    "        - Minimum Variance Unbiased Estimator"
   ]
  },
  {
   "cell_type": "markdown",
   "metadata": {},
   "source": []
  },
  {
   "cell_type": "markdown",
   "metadata": {},
   "source": []
  },
  {
   "cell_type": "markdown",
   "metadata": {},
   "source": []
  }
 ],
 "metadata": {
  "kernelspec": {
   "display_name": "Python 3",
   "language": "python",
   "name": "python3"
  },
  "language_info": {
   "codemirror_mode": {
    "name": "ipython",
    "version": 3
   },
   "file_extension": ".py",
   "mimetype": "text/x-python",
   "name": "python",
   "nbconvert_exporter": "python",
   "pygments_lexer": "ipython3",
   "version": "3.7.6"
  }
 },
 "nbformat": 4,
 "nbformat_minor": 4
}
