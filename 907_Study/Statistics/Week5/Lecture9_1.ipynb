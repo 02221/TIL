{
 "cells": [
  {
   "cell_type": "markdown",
   "metadata": {},
   "source": [
    "## Chapter 9. Hypothesis Tests of a Single Population\n",
    "- ### Inference About a population mean\n",
    "    - **Mean of a normal population**\n",
    "        - $\\sigma :Known$\n",
    "        - $\\mu : \\bar X$\n",
    "        - Sample Distribution of the Test Statistic\n",
    "            - $H-0 : \\mu = \\mu_0$\n",
    "            - $Z = {\\bar X - \\mu_0 \\over \\sigma / \\sqrt n} \\sim N(0, 1)$\n",
    "        - Summary of the Test\n",
    "            - up\n",
    "                - $H_0 : \\mu = \\mu_0$\n",
    "                - $H_1 : \\mu > \\mu_0$\n",
    "                - Critical Value Approach\n",
    "                    - Reject if $Z > z_\\alpha$\n",
    "            - down\n",
    "                - $H_0 : \\mu = \\mu_0$\n",
    "                - $H_1 : \\mu < \\mu_0$\n",
    "                - Critical Value Approach                \n",
    "                    - Reject if $Z < z_\\alpha$\n",
    "            - none\n",
    "                - $H_0 : \\mu = \\mu_0$\n",
    "                - $H_1 : \\mu \\ne \\mu_0$\n",
    "                - Critical Value Approach                \n",
    "                    - Reject if $Z \\ne z_\\alpha$\n",
    "            - p-Value Approach\n",
    "                - Rejects if p-value < $\\alpha$\n",
    "    - **Mean of a Non-Normal Population**\n",
    "        - $Z = {\\bar X - \\mu_0 \\over \\sigma / \\sqrt n} \\sim N(0, 1)$\n",
    "            - by CLT "
   ]
  },
  {
   "cell_type": "code",
   "execution_count": null,
   "metadata": {},
   "outputs": [],
   "source": []
  }
 ],
 "metadata": {
  "kernelspec": {
   "display_name": "Python 3",
   "language": "python",
   "name": "python3"
  },
  "language_info": {
   "codemirror_mode": {
    "name": "ipython",
    "version": 3
   },
   "file_extension": ".py",
   "mimetype": "text/x-python",
   "name": "python",
   "nbconvert_exporter": "python",
   "pygments_lexer": "ipython3",
   "version": "3.7.6"
  }
 },
 "nbformat": 4,
 "nbformat_minor": 4
}
