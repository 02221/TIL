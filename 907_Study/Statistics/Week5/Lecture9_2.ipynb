{
 "cells": [
  {
   "cell_type": "markdown",
   "metadata": {},
   "source": [
    "- ### Inference About a Population Proportion\n",
    "    - $X_n$ is a random sample from Ber[p]\n",
    "        - poin estimator of p : $\\hat p = {\\sum X_i \\over n }$\n",
    "        - Sampling Distribution\n",
    "            - $Z = {\\hat p - p_0 \\over \\sqrt{p_0(1-p_0) \\over n}} \\sim N[0, 1] $by CLT"
   ]
  },
  {
   "cell_type": "markdown",
   "metadata": {},
   "source": [
    "- ### Inference About a Population Variation\n",
    "    - $X_n$ is a random sample from $N(\\mu, \\sigma^2)$\n",
    "        - poin estimator of $\\sigma^2$ : $S^2$\n",
    "        - Sampling Distribution\n",
    "            - $X = {(n-1) S^2 \\over \\sigma_0^2} \\sim \\chi^2[n-1]$"
   ]
  }
 ],
 "metadata": {
  "kernelspec": {
   "display_name": "Python 3",
   "language": "python",
   "name": "python3"
  },
  "language_info": {
   "codemirror_mode": {
    "name": "ipython",
    "version": 3
   },
   "file_extension": ".py",
   "mimetype": "text/x-python",
   "name": "python",
   "nbconvert_exporter": "python",
   "pygments_lexer": "ipython3",
   "version": "3.7.6"
  }
 },
 "nbformat": 4,
 "nbformat_minor": 4
}
