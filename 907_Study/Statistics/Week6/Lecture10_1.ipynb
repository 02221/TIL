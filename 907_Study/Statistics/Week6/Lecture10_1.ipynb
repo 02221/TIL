{
 "cells": [
  {
   "cell_type": "markdown",
   "metadata": {},
   "source": [
    "# Lecture10.Inference about comparing Two Population"
   ]
  },
  {
   "cell_type": "markdown",
   "metadata": {},
   "source": [
    "- ### Inference about a Difference in means$\\mu_X - \\mu_Y$\n",
    "    - Difference in Means of two normal populations \n",
    "        - X and Y are independent\n",
    "    - point estimator \n",
    "        - $\\mu_X - \\mu_Y : \\bar X - \\bar Y$\n",
    "        - $E[\\bar X - \\bar Y] = \\mu_X - \\mu_Y$\n",
    "        - $Var[\\bar X - \\bar Y] = {\\sigma^2_X \\over n_X} + {\\sigma^2_Y \\over n_Y}$\n",
    "    - sampling Distribution\n",
    "        - $Z = {(\\bar X - \\bar Y) - (\\mu_X - \\mu_Y) \\over \\sqrt{{\\sigma^2_X \\over n_X} + {\\sigma^2_Y \\over n_Y}}} \\sim N[0, 1]$\n",
    "\n",
    "\n",
    "- ### Inference about a Difference in means$\\mu_X - \\mu_Y$\n",
    "    - Difference in Means of two normal populations \n",
    "        - X and Y are independent and **$\\sigma^2_x = \\sigma^2_Y = \\sigma^2$**\n",
    "    - point estimator \n",
    "        - $\\mu_X - \\mu_Y : \\bar X - \\bar Y$\n",
    "        - $E[\\bar X - \\bar Y] = \\mu_X - \\mu_Y$\n",
    "        - $Var[\\bar X - \\bar Y] = {\\sigma^2_X \\over n_X} + {\\sigma^2_Y \\over n_Y}$ = $\\sigma^2({1 \\over n_X} + {1 \\over n_Y})$\n",
    "        - $S^2_p = {(n_X - 1)S^2_X + (n_Y - 1)S^2_Y \\over n_X + n_Y - 2}$\n",
    "            - $S^2_X = {\\sum(X_i - \\bar X)^2 \\over n_X - 1}$\n",
    "            - $S^2_Y = {\\sum(Y_i - \\bar Y)^2 \\over n_Y - 1}$\n",
    "        - $S^2_p : {(n_X - n_Y - 2)S^2_p \\over \\sigma^2}\\sim \\chi^2[n_X -n_Y -2]$\n",
    "    - sampling Distribution\n",
    "        - $T = {(\\bar X - \\bar Y) - (\\mu_X - \\mu_Y) \\over S_p \\sqrt{{1 \\over n_X} + {1 \\over n_Y}}} \\sim t[n_X +n_Y - 2]$"
   ]
  }
 ],
 "metadata": {
  "kernelspec": {
   "display_name": "Python 3",
   "language": "python",
   "name": "python3"
  },
  "language_info": {
   "codemirror_mode": {
    "name": "ipython",
    "version": 3
   },
   "file_extension": ".py",
   "mimetype": "text/x-python",
   "name": "python",
   "nbconvert_exporter": "python",
   "pygments_lexer": "ipython3",
   "version": "3.7.6"
  }
 },
 "nbformat": 4,
 "nbformat_minor": 4
}
