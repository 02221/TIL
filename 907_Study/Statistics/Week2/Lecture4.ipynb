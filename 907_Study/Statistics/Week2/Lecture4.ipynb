{
 "cells": [
  {
   "cell_type": "markdown",
   "metadata": {},
   "source": [
    "# Probability"
   ]
  },
  {
   "cell_type": "markdown",
   "metadata": {},
   "source": [
    "## Terminology\n",
    "- **Random Experiment**\n",
    "    - **Def**\n",
    "        - Process of uncertain outcomes\n",
    "- **Sample Space**\n",
    "    - **Def**\n",
    "        - A List of all possible outcomes of the experiment\n",
    "    - **Property**\n",
    "        - The outcomes must be **exhasutive** and **mutually exclusive**\n",
    "- **Event**\n",
    "    - Collection of simple event in a sample space\n",
    "    - Basic Units\n",
    "- **Probability of Event**\n",
    "    - The sum of the probabilitties of the single evenets that consititude the event\n",
    "- Joint Probability\n",
    "    - Probability of events A and B\n",
    "- Margianl Probabilirty\n",
    "    - Probabilitoy of event X = A given Y\n",
    "- Conditional Probability\n",
    "    - Probability of event A given event B"
   ]
  },
  {
   "cell_type": "markdown",
   "metadata": {},
   "source": [
    "## Requirements of Probabilities\n",
    "- lies between 0 to 1\n",
    "- The sum of the probabilities of all the outcomes in a sample space is 1"
   ]
  },
  {
   "cell_type": "markdown",
   "metadata": {},
   "source": [
    "## Probability Rules\n",
    "- Complement Rule\n",
    "    - $P(A^c) = 1 - P(A)$\n",
    "- Addition Rule\n",
    "    - $P(A \\cup B) = P(A) + P(B) - P(A \\cap B)$\n",
    "- Conditional Probability\n",
    "    - $P(A|B) = {P(A \\cap B) \\over P(B)}$\n",
    "- Multiplication\n",
    "    - $P(A\\cap B) = P(A|B) \\cdot P(B)= P(B|A) \\cdot P(A)$\n",
    "- Independence\n",
    "    - $P(A \\cap B) = P(A) \\cdot P(B)$\n",
    "    - $P(A | B) = P(A), if P(B) > 0$\n",
    "    - $P(B | A) = P(A), if P(A) > 0$\n",
    "    - $P(A \\cap B) = P(A) \\cdot P(B)$"
   ]
  },
  {
   "cell_type": "markdown",
   "metadata": {},
   "source": [
    "## Baye's Theorem\n",
    "- equation\n",
    "    - $P(E_1 | A) = {P(A | E_1)P(E_1) \\over P(A)}$\n",
    "        - where $P(A) = P(A\\cap E_1)\\cup P(A\\cap E_2)\\cup  \\cdots \\cup P(A\\cap E_n)$"
   ]
  }
 ],
 "metadata": {
  "kernelspec": {
   "display_name": "Python 3",
   "language": "python",
   "name": "python3"
  },
  "language_info": {
   "codemirror_mode": {
    "name": "ipython",
    "version": 3
   },
   "file_extension": ".py",
   "mimetype": "text/x-python",
   "name": "python",
   "nbconvert_exporter": "python",
   "pygments_lexer": "ipython3",
   "version": "3.7.6"
  }
 },
 "nbformat": 4,
 "nbformat_minor": 4
}
