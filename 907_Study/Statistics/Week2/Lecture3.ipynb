{
 "cells": [
  {
   "cell_type": "markdown",
   "metadata": {},
   "source": [
    "# Lecture3. Numerical Descriptive Statistics"
   ]
  },
  {
   "cell_type": "markdown",
   "metadata": {},
   "source": [
    "## Def\n",
    "- Descriving Statistics using numbers\n",
    "## Convention\n",
    "- **Denote **\n",
    "    - **Random Variable**\n",
    "        - Capital Letter\n",
    "    - **Estimator**\n",
    "        - Small Letter\n",
    "## Outlier\n",
    "- Def\n",
    "    - data point that differs significantly from other observations.\n",
    "## Classification of Measure\n",
    "- **Measure of Location**\n",
    "    - **Mean**\n",
    "        - **Def**\n",
    "            - the sum fo the data values divide by the number of observation\n",
    "        - **Classification**\n",
    "            - Population mean\n",
    "            - Sample mean\n",
    "        - **Property**\n",
    "            - outlier should be fully considerate\n",
    "    - **Median**\n",
    "        - **Def**\n",
    "            - The middle obsevation of a set of observations that are arranged in ascending orders\n",
    "        - **Property**\n",
    "            - Robust with outlier\n",
    "    - **Mode**\n",
    "        - **Def**\n",
    "            - The most frequently occurring value\n",
    "        - **Usage**\n",
    "            - use in nominal variable\n",
    "    - **Skewness**\n",
    "        - **Left skewed**\n",
    "            - mean < median < mod\n",
    "        - **Right skewed**\n",
    "            - mod < median < mean\n",
    "    - **Relative standing**\n",
    "        - **Percentile**\n",
    "            - **Def**\n",
    "                - $p^{th}$ percentile is the value for which p% are less than that value\n",
    "            - **Example**\n",
    "                - **Q1**\n",
    "                    - $Q_1 = {(n + 1) \\over 4}$\n",
    "                - **Q2**\n",
    "                    - $Q_2 = {2(n + 1) \\over 4}$\n",
    "                - **Q3**  \n",
    "                    - $Q_3 = {3(n + 1) \\over 4}$\n",
    "- Measure of Variability(Spread)\n",
    "    - **Terms**\n",
    "        - **Range**\n",
    "            - $max(x_i) - min(x_i)$\n",
    "        - **IQR(Inter Quartile Range)**\n",
    "            - $Q3 - Q1$\n",
    "                - Robust with outlier\n",
    "        - **Sample Variance**\n",
    "            - $s^2 = {\\sum (x_i - \\bar x)^2 \\over n - 1}$\n",
    "            - reason why we divide $n$ with population variance and $n-1$ with sample variance\n",
    "                - https://www.youtube.com/watch?v=D1hgiAla3KI\n",
    "        - **Sample Standard Deviation**\n",
    "            - $s = \\sqrt s^2$\n",
    "        - **Coefficient of Variation**\n",
    "            - $cv = {s \\over \\bar x}$\n",
    "            - normalized variability based on mean\n",
    "- Measure of Association\n",
    "    - Linear Relationship\n",
    "        - Covariance\n",
    "            - Def\n",
    "                - Measure sign and magnitude of linerity\n",
    "            - Population Covariance\n",
    "                - $\\sigma_{x,y} = {\\sum (x_i - \\bar x)(y_i - \\bar y) \\over N} $ = $E((X - \\mu_X)(Y - \\mu_Y))$\n",
    "            - Sample Covariance\n",
    "                - $S_{x,y} = {\\sum(x_i - \\bar x)(y_i - \\bar y) \\over n - 1}$\n",
    "        - Correltation coefficient\n",
    "            - Def\n",
    "                - Normalized Covariance\n",
    "            - Population Correlation\n",
    "                - $\\rho_{xy} = {\\sigma_{xy} \\over \\sigma_x \\sigma_y}$\n",
    "            - Sample Correlation\n",
    "                - $r_{xy} = {S_{xy} \\over S_x S_y}$\n",
    "    - Warning \n",
    "        - Non-linear Correlation\n",
    "            - although correlation is 0, there is a possibility that there is a non-linearity not linearity\n",
    "            - Need to check plot in order to find real linearity "
   ]
  },
  {
   "cell_type": "markdown",
   "metadata": {},
   "source": [
    "## Example"
   ]
  },
  {
   "cell_type": "markdown",
   "metadata": {},
   "source": [
    "- ### 1 \n",
    "    - Calculate the mean, variance and standard deviation \n",
    "        - a. 2; 5; 2; 3  \n",
    "        - b. 2; 18; 1; 3; 1 \n",
    "        - c. 2; 3; 1; 3; 1 "
   ]
  },
  {
   "cell_type": "markdown",
   "metadata": {},
   "source": [
    "- ### 2\n",
    "    - Use the following data (first exam scores) from Susan Dean’s spring pre-calculus class 33; 42; 49; 49; 53; 55; 55; 61; 63; 67; 68; 68; 69; 69; 72; 73; 74; 78; 80; 83; 88; 88; 88; 90; 92; 94; 94; 94; 94; 96; 100 Calculate the following. \n",
    "        - a. The sample mean \n",
    "        - b. The sample standard deviation \n",
    "        - c. The median \n",
    "        - d. The first quartile \n",
    "        - e. The third quartile \n",
    "        - f. IQR \n"
   ]
  },
  {
   "cell_type": "markdown",
   "metadata": {},
   "source": [
    "- ### 3\n",
    "    - A certain treatment is used in two different centers, A and B; patients in center A were 25 and were on average 54 years old; patients treated in center B were 62 and had mean age equal to 58 years. What is the overall mean among all patients who got the treatment? \n"
   ]
  },
  {
   "cell_type": "markdown",
   "metadata": {},
   "source": [
    "- ### 4\n",
    "    - Pregnant women (within month 4) who are being followed-up by a nutritionist had weights (kg) equal to: 64.3; 65.2; 70.0; 54.5; 58.8; 81.5; 61.0; 62.0. What was the mean? and the median? Do data suggest a strong skewness of the distribution of the Weight? \n",
    "\n"
   ]
  },
  {
   "cell_type": "markdown",
   "metadata": {},
   "source": [
    "- ### 5\n",
    "    - The Age quartiles in a sample of participants in a clinical trial were respectively 27, 41 and 59. This means that:\n",
    "        - a. 1 out of 4 was younger than _____years. \n",
    "        - b. 1 out of 4 was older than _____ years. \n",
    "        - c. half of them was more than _____ years old. "
   ]
  }
 ],
 "metadata": {
  "kernelspec": {
   "display_name": "Python 3",
   "language": "python",
   "name": "python3"
  },
  "language_info": {
   "codemirror_mode": {
    "name": "ipython",
    "version": 3
   },
   "file_extension": ".py",
   "mimetype": "text/x-python",
   "name": "python",
   "nbconvert_exporter": "python",
   "pygments_lexer": "ipython3",
   "version": "3.7.6"
  }
 },
 "nbformat": 4,
 "nbformat_minor": 4
}
