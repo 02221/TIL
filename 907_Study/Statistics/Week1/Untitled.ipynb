{
 "cells": [
  {
   "cell_type": "markdown",
   "metadata": {},
   "source": [
    "# Statistic"
   ]
  },
  {
   "cell_type": "markdown",
   "metadata": {},
   "source": [
    "Statistics is a science dealing with data.  \n",
    "Although we use same data, the meaning of data can be differed by the perspective we have. \n",
    "For example, there is an aspect concerned with the objects we wish to study. and the other aspect is concerned with the characteristics of those objects we wish to study. \n",
    "Roughly, we can divide statistics as a two part, **Descriptive** statistics and **Inferential** statistics.\n",
    "**Descriptive** statistics deals with presentation and description of sample data  \n",
    "while **Inferential** statistics try to reveal ideal population with sampled data.\n",
    "Inference inevitably contains error. One of basic problems which we deal with is how to minimize error term.\n"
   ]
  },
  {
   "cell_type": "markdown",
   "metadata": {},
   "source": [
    "## Terms\n",
    "Population is an idea that we try to know by using sampled data(Phenomenon).  \n",
    "Inference is our effort to recognize the real world by transform the information from sample data to the representation for real world \n"
   ]
  },
  {
   "cell_type": "markdown",
   "metadata": {},
   "source": [
    "## Statistics and Philsophy(...)\n",
    " A.N Whitehead once commented, “The safest general characterization of the European philosophical tradition is that it consists of a series of footnotes to Plato.  \n",
    "I do not mean the systematic scheme of thought which scholars have doubtfully extracted from his writings. I allude to the wealth of general ideas scattered through them”.  \n",
    "I also think that the statistics is also a variation of Plato's thought.   \n",
    "The platonic theory divide world into two part.   \n",
    "The world of reality is unchanged and belongs to outside of time and space, while the world of ours constantly change.   \n",
    "What we trying to do is to understanding  by recognising that what we obseve are but imperfect copies of ideal form.   \n",
    ".. "
   ]
  },
  {
   "cell_type": "markdown",
   "metadata": {},
   "source": [
    "## The difference between qualitative and quantitative\n",
    "1. Qualitative\n",
    "    - characteristics\n",
    "        - Nonmetric data\n",
    "        - need interpretation for meaning\n",
    "    - Classification\n",
    "        - Nominal\n",
    "            - labeled data without quantitative value\n",
    "        - Ordinal\n",
    "            - Type of data that the order is important\n",
    "2. Quantitative\n",
    "    - Characteristics\n",
    "        - Metric data\n",
    "    - Classification\n",
    "        - Numerical Data\n",
    "        - Ratio Data\n",
    "        - Intercal Data"
   ]
  },
  {
   "cell_type": "markdown",
   "metadata": {},
   "source": [
    "## The difference between time series and cross sectional data\n",
    "- Time Series Data\n",
    "    - Definition\n",
    "        - Set of observations colled at discrete and equally spaced time intervals.\n",
    "- Cross-sectional data\n",
    "    - Definition\n",
    "        - come from different individuals or groups at a single point in time"
   ]
  },
  {
   "cell_type": "markdown",
   "metadata": {},
   "source": [
    "## Process of statistics\n",
    "- 1. collect data\n",
    "- 2. summary data\n",
    "- 3. parameter estimation\n",
    "- 4. Hypothesis test\n",
    "- 5. Model analysis"
   ]
  },
  {
   "cell_type": "code",
   "execution_count": null,
   "metadata": {},
   "outputs": [],
   "source": []
  }
 ],
 "metadata": {
  "kernelspec": {
   "display_name": "Python 3",
   "language": "python",
   "name": "python3"
  },
  "language_info": {
   "codemirror_mode": {
    "name": "ipython",
    "version": 3
   },
   "file_extension": ".py",
   "mimetype": "text/x-python",
   "name": "python",
   "nbconvert_exporter": "python",
   "pygments_lexer": "ipython3",
   "version": "3.7.6"
  }
 },
 "nbformat": 4,
 "nbformat_minor": 4
}
