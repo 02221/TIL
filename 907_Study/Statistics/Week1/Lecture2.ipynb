{
 "cells": [
  {
   "cell_type": "markdown",
   "metadata": {},
   "source": [
    "# Chart, Graph and Descriptive Statistic"
   ]
  },
  {
   "cell_type": "markdown",
   "metadata": {},
   "source": [
    "# What is Descrptive statistic\n",
    "- Def\n",
    "    - Descriptive statistic\n",
    "        - A Descriptive statistic is a summary statistic that quanntitativelyu describes or summarizes features from a collection of information\n",
    "    - Descriptive statistics\n",
    "        - process of using and anlysing those statitics\n",
    "        - Central Tendency\n",
    "            - Mean, Median, Mode\n",
    "        - Scatter\n",
    "            - Max, Min, Range, Variance, Standard Deviation, Standard Error\n",
    "        - Distribution\n",
    "            - Skewness, Kurtosis, quantile\n",
    "    - Random Variable\n",
    "        -  variable whose values depend on outcomes of a random phenomenon.\n",
    "    - Parameter\n",
    "        - Numerical characteristic of a statistical population\n",
    "    - Statistic\n",
    "        - Quantity computed from values in a sample\n",
    "        - When a statistic is used to estimate a populkation parameter, is called an estimator"
   ]
  },
  {
   "cell_type": "markdown",
   "metadata": {},
   "source": [
    "## Frequency Distribution\n",
    "- Def\n",
    "    - a list that display the frequency of various outcomes in sample. "
   ]
  },
  {
   "cell_type": "markdown",
   "metadata": {},
   "source": [
    "## Graph\n",
    "- Bar Chart\n",
    "- Pie Chart\n",
    "- Histogram\n",
    "    - Unimodal shape\n",
    "    - Bimodal shape\n",
    "        - needs to check wheter the sample consists with two distribution  \n",
    "- Box-plot\n",
    "    -box and whisker plot\n",
    "- Time Series Plot\n",
    "- Scatter plot"
   ]
  }
 ],
 "metadata": {
  "kernelspec": {
   "display_name": "Python 3",
   "language": "python",
   "name": "python3"
  },
  "language_info": {
   "codemirror_mode": {
    "name": "ipython",
    "version": 3
   },
   "file_extension": ".py",
   "mimetype": "text/x-python",
   "name": "python",
   "nbconvert_exporter": "python",
   "pygments_lexer": "ipython3",
   "version": "3.7.6"
  }
 },
 "nbformat": 4,
 "nbformat_minor": 4
}
