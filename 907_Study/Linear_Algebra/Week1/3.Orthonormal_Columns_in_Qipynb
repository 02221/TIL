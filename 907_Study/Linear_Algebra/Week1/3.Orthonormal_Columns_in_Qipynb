{
 "cells": [
  {
   "cell_type": "markdown",
   "metadata": {},
   "source": [
    "# Lecture3. Orthonormal Columns in Q Give Q'Q = I"
   ]
  },
  {
   "cell_type": "markdown",
   "metadata": {},
   "source": [
    "- $Q^TQ =I$ \n",
    "    - $\\begin{bmatrix}&q_1^T &  \\\\ & \\cdots & \\\\ &q_n^T & \\end{bmatrix}\\begin{bmatrix}\\\\ q_1 & q_2 & \\cdots & q_n \\\\ \\\\  \\end{bmatrix} = I$\n",
    "        - normal part : length or each vector($q_i^T q_i= 1$) \n",
    "        - orthogonal  part : ($q_i^T q_j=1$)($i \\ne j$)\n",
    "    - is $QQ^T = I?$\n",
    "        - yes : when Q is square\n",
    "            - Q : Orthogonal Matrix\n",
    "                - Square\n",
    "        - no  : when Q is not square"
   ]
  },
  {
   "cell_type": "markdown",
   "metadata": {},
   "source": [
    "- $\\begin{bmatrix} cos \\theta & -sin \\theta \\\\ sin \\theta & cos \\theta \\end{bmatrix}$\n",
    "    - rotate $\\theta$\n",
    "    - it does not change length"
   ]
  },
  {
   "cell_type": "markdown",
   "metadata": {},
   "source": []
  },
  {
   "cell_type": "code",
   "execution_count": null,
   "metadata": {},
   "outputs": [],
   "source": []
  }
 ],
 "metadata": {
  "kernelspec": {
   "display_name": "Python 3",
   "language": "python",
   "name": "python3"
  },
  "language_info": {
   "codemirror_mode": {
    "name": "ipython",
    "version": 3
   },
   "file_extension": ".py",
   "mimetype": "text/x-python",
   "name": "python",
   "nbconvert_exporter": "python",
   "pygments_lexer": "ipython3",
   "version": "3.7.6"
  }
 },
 "nbformat": 4,
 "nbformat_minor": 4
}
