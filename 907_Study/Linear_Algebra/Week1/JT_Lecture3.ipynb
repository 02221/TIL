{
 "cells": [
  {
   "cell_type": "markdown",
   "metadata": {},
   "source": [
    "# Lecture3. Multiplication and Inverse Matrices"
   ]
  },
  {
   "cell_type": "markdown",
   "metadata": {},
   "source": [
    "## Table of Contents\n",
    "- Five ways of multiplying Matrices\n",
    "- Finding the inverse Matrices"
   ]
  },
  {
   "cell_type": "markdown",
   "metadata": {},
   "source": [
    "## Five ways of Multiplyling Matrices\n",
    "C = AB\n",
    "- 1. Basic\n",
    "    - $c_{34} = row3_A \\cdot column4_B$\n",
    "    - $= \\sum_{k=1}^n a_{3k}b_{k4}$\n",
    "- 2. Columnwise\n",
    "    - Multiply matrix A with each column in B\n",
    "    - Columns of C are combination of columns of A \n",
    "    \n",
    "- 3. Rowwise\n",
    "    - Multiply matrix B with each row in A\n",
    "    - Rows of C are combination of Rows of B\n",
    "- 4. look product of $A \\cdot B$ as a sum of $columns_A$ time $rows_B$\n",
    "- 5. Chop matrices as a blocks\n",
    "    - Multiply blocks"
   ]
  },
  {
   "cell_type": "markdown",
   "metadata": {},
   "source": [
    "## Inverses(Square Matrices)"
   ]
  },
  {
   "cell_type": "markdown",
   "metadata": {},
   "source": [
    "when does inverse matrix exists  \n",
    "if it does exists, how can we find it   \n",
    "- invertible\n",
    "    - Invertible\n",
    "    - Nonsigular\n",
    "- Singular\n",
    "    - No inverse\n",
    "    - if we can find a non-zero vector x such that $A \\cdot x = 0$\n",
    "- Gauss-Jordann elimination\n",
    "    - $(A|I) \\rightarrow (I|A^{-1})$"
   ]
  }
 ],
 "metadata": {
  "kernelspec": {
   "display_name": "Python 3",
   "language": "python",
   "name": "python3"
  },
  "language_info": {
   "codemirror_mode": {
    "name": "ipython",
    "version": 3
   },
   "file_extension": ".py",
   "mimetype": "text/x-python",
   "name": "python",
   "nbconvert_exporter": "python",
   "pygments_lexer": "ipython3",
   "version": "3.7.6"
  }
 },
 "nbformat": 4,
 "nbformat_minor": 4
}
