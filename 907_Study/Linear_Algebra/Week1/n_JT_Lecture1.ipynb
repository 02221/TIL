{
 "cells": [
  {
   "cell_type": "markdown",
   "metadata": {},
   "source": [
    "## Column Space of a contains all vectors AX"
   ]
  },
  {
   "cell_type": "markdown",
   "metadata": {},
   "source": [
    "- ### Right way to multiply matrix with vector(Maxtrix)\n",
    "    - basic problem\n",
    "        - $Ax = b$\n",
    "        - $Ax = \\lambda x$\n",
    "        - $Av = \\sigma u$\n",
    "        - $Min ||Ax||^2 / ||x||^2$"
   ]
  },
  {
   "cell_type": "markdown",
   "metadata": {},
   "source": [
    "- ### Goal of Linear Algebra\n",
    "    - find basis and everthing in the column space is a combination of these\n",
    "        - rank(A) = #independent columns\n",
    "\n",
    "- ### **Def**\n",
    "    - columns space\n",
    "        - all combination of Columns of A\n",
    "    - row space\n",
    "        - all combination of Rows of A\n",
    "    - Rank\n",
    "        - Rank of Column space\n",
    "            - C : $\\begin{vmatrix}2 & 1\\\\ 3 & 1 \\\\ 5 & 7 \\end{vmatrix}$\n",
    "                - each column is a basis of column space\n",
    "        - Rank of Row space\n",
    "            - R : $\\begin{vmatrix}1 & 0 & 1 \\\\ 0 & 1 & 1 \\end{vmatrix}$\n",
    "                - each row is a basis of row space\n",
    "        - rank(A) = column space rank = row space rank\n",
    "\n",
    "\n",
    "- ### Right way to multiply matrix with vector(matrix)\n",
    "    - Example\n",
    "        - Ax : $\\begin{vmatrix}2 & 1 & 3 \\\\ 3 & 1 & 4 \\\\ 5 & 7 & 12 \\end{vmatrix} \\begin{vmatrix} x_1 \\\\ x_2 \\\\ x_3 \\end{vmatrix}$\n",
    "    - **Baseline**\n",
    "        - we used to do **dot product** when we multiply matrix with vector\n",
    "        - This is roswwise perspective to see matrix\n",
    "    - Novel way\n",
    "        - Combination of the columns\n",
    "        - Columnwise perspective\n",
    "            - columns $\\times$ rows\n",
    "            - the beauty of this perspective is leading us to the column space\n",
    "        - vector\n",
    "            - $x_1 \\begin{vmatrix}2 \\\\ 3 \\\\ 5 \\end{vmatrix} + x_2 \\begin{vmatrix}1 \\\\ 1 \\\\ 7 \\end{vmatrix} + x_3 \\begin{vmatrix}3 \\\\ 4 \\\\ 12 \\end{vmatrix}$\n",
    "        - matrix\n",
    "            - $AB = col_1 row_1 + \\cdots + col_n row_n $\n",
    "            - sum of outer product\n",
    "                - **outper product** A = $\\begin{vmatrix}1 & 3 & 8 \\\\ 1 & 3 & 8 \\\\ 1 & 3 & 8  \\end{vmatrix} $ = $\\begin{vmatrix}1  \\\\  1 \\\\ 1  \\end{vmatrix} \\begin{vmatrix}1 & 3 & 8 \\end{vmatrix} = uv^T$\n",
    "                - each outer product have rank one\n",
    "                    - perfect building blocks for everty matrix\n",
    "    - numbers within multiplication\n",
    "        - example\n",
    "            - $(m \\times n)(n \\times p)$\n",
    "        - rowwise\n",
    "            - mp * n\n",
    "                - mp : inner product\n",
    "                - n  : multiplication\n",
    "        - columnwise\n",
    "            - n  * mp\n",
    "                - n : outer product\n",
    "                - mp : each multiplication\n",
    "     - #### reason why use outer space\n",
    "         - we are looking for the imporatant part of a matrix A\n",
    "             - those pieces are rank one matrices $uv^T$\n",
    "\n",
    "- ### How to check that is those vectors are basis?\n",
    "    - **independent**\n",
    "    - **combination produce all the rows( columns)**"
   ]
  }
 ],
 "metadata": {
  "kernelspec": {
   "display_name": "Python 3",
   "language": "python",
   "name": "python3"
  },
  "language_info": {
   "codemirror_mode": {
    "name": "ipython",
    "version": 3
   },
   "file_extension": ".py",
   "mimetype": "text/x-python",
   "name": "python",
   "nbconvert_exporter": "python",
   "pygments_lexer": "ipython3",
   "version": "3.7.6"
  }
 },
 "nbformat": 4,
 "nbformat_minor": 4
}
