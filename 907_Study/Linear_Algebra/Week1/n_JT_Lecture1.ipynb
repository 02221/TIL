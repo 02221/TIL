{
 "cells": [
  {
   "cell_type": "markdown",
   "metadata": {},
   "source": [
    "## Column Space of a contains all vectors AX"
   ]
  },
  {
   "cell_type": "markdown",
   "metadata": {},
   "source": [
    "- ### Do you know what is the right way to multiply matrix with vector?\n",
    "    - Ax : $\\begin{vmatrix}2 & 1 & 3 \\\\ 3 & 1 & 4 \\\\ 5 & 7 & 12 \\end{vmatrix} \\begin{vmatrix} x_1 \\\\ x_2 \\\\ x_3 \\end{vmatrix}$\n",
    "    - 1) dot products\n",
    "        - (row)X\n",
    "    - 2) $x_1 \\begin{vmatrix}2 \\\\ 3 \\\\ 5 \\end{vmatrix} + x_2 \\begin{vmatrix}1 \\\\ 1 \\\\ 7 \\end{vmatrix} + x_3 \\begin{vmatrix}3 \\\\ 4 \\\\ 12 \\end{vmatrix}$\n",
    "        - (column)\n",
    "            - all combination of columns of A\n",
    "    - all Ax = column space = C(A)\n",
    "        - rank(A) = 2\n",
    "            - column space rank = 2\n",
    "            - row space rank = 2\n",
    "        - C : $\\begin{vmatrix}2 & 1\\\\ 3 & 1 \\\\ 5 & 7 \\end{vmatrix}$\n",
    "            - each column is a basis of column space\n",
    "        - R : $\\begin{vmatrix}1 & 0 & 1 \\\\ 0 & 1 & 1 \\end{vmatrix}$\n",
    "            - each row is a basis of row space\n",
    "- ### How to check that is those vectors are basis?\n",
    "    - **independent**\n",
    "    - **combination produce all the rows( columns)**\n"
   ]
  },
  {
   "cell_type": "markdown",
   "metadata": {},
   "source": [
    "- A = $\\begin{vmatrix}1 & 3 & 8 \\\\ 1 & 3 & 8 \\\\ 1 & 3 & 8  \\end{vmatrix} $ = $\\begin{vmatrix}1  \\\\  1 \\\\ 1  \\end{vmatrix} \\begin{vmatrix}1 & 3 & 8 \\end{vmatrix} = uv^T$\n",
    "    - column space is a line\n",
    "        - rank(A) = 1\n",
    "- Ax\n",
    "    - is in column space\n",
    "- ABCx\n",
    "    - is in column space\n",
    "    - A(BCx)"
   ]
  },
  {
   "cell_type": "markdown",
   "metadata": {},
   "source": [
    "# Matrix Multiplication\n",
    "- dot porduct\n",
    "- column times row\n",
    "    - combination of AB\n",
    "        - sum of col k_A row k_B\n",
    "            - (m \\times n )(n \\times p)\n",
    "            - rowwise : m * n *  p\n",
    "            - columnwise : n * (mp)"
   ]
  },
  {
   "cell_type": "markdown",
   "metadata": {},
   "source": [
    "- Goal of Linear Algebra\n",
    "    - find basis and everthing in the column space is a combination of these\n",
    "        - rank(A) = #independent columns\n",
    "    - Most of Data does not come in square matrix"
   ]
  },
  {
   "cell_type": "markdown",
   "metadata": {},
   "source": [
    "- **Def**\n",
    "    - columns space\n",
    "        - all combination of Columns of A\n",
    "    - row space\n",
    "        - all combination of Rows of A"
   ]
  },
  {
   "cell_type": "markdown",
   "metadata": {},
   "source": [
    "- **Theorem**\n",
    "    - column rank = row rank"
   ]
  },
  {
   "cell_type": "code",
   "execution_count": null,
   "metadata": {},
   "outputs": [],
   "source": []
  }
 ],
 "metadata": {
  "kernelspec": {
   "display_name": "Python 3",
   "language": "python",
   "name": "python3"
  },
  "language_info": {
   "codemirror_mode": {
    "name": "ipython",
    "version": 3
   },
   "file_extension": ".py",
   "mimetype": "text/x-python",
   "name": "python",
   "nbconvert_exporter": "python",
   "pygments_lexer": "ipython3",
   "version": "3.7.6"
  }
 },
 "nbformat": 4,
 "nbformat_minor": 4
}
