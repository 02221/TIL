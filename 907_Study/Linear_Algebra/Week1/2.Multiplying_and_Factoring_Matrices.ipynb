{
 "cells": [
  {
   "cell_type": "markdown",
   "metadata": {},
   "source": [
    "# Multiplying and Factoring Matrix"
   ]
  },
  {
   "cell_type": "markdown",
   "metadata": {},
   "source": [
    "- Factorizations\n",
    "    - $A = LU$\n",
    "        - elimination\n",
    "            - Lower Triangular\n",
    "            - Upper Triangular\n",
    "    - $A = QR$\n",
    "        - Gram-Schmits\n",
    "            - Q : orthonormal \n",
    "        - application\n",
    "            - Least Squares\n",
    "    - $S = Q\\Lambda Q^T$\n",
    "        - $S$ : Symmetric MaTrix\n",
    "        - $Q$ : eigenvector\n",
    "            - orthogonal(ca be chosen otrhonormal)\n",
    "            - n set(complete)\n",
    "            - matrix can be diagonalized\n",
    "        - $\\Lambda$ : diagonal eigenvalue matrix\n",
    "            - $\\lambda_i$ : eigenvalues\n",
    "                - there are all real\n",
    "         - $\\begin{pmatrix}q_1 & q_2 & \\cdots & q_3 \\end{pmatrix}\\begin{pmatrix} \\lambda_1 & 0 & \\cdots & 0 \\\\ 0 & \\lambda_1 & \\cdots & 0 \\\\ \\cdots \\\\ 0 & 0 & \\cdots & \\lambda_n\\end{pmatrix}\\begin{pmatrix}q_1^T \\\\ q_2^T \\\\ \\cdots \\\\ q_3^T \\end{pmatrix}$\n",
    "             - columns of $Q\\Lambda$ \\times rows of Q^T\n",
    "                 - it's rank is 1\n",
    "             - $S$ = $(Q\\Lambda Q^T)$ = sum of rank 1 = $\\lambda_1 q_1 q_1^T + \\lambda_2 q_2 q_2^T + \\cdots + \\lambda_n q_n q_n^T$\n",
    "                 - check\n",
    "                     - $S q_1 = \\lambda_1 q_1 q_1^T q_1 + \\lambda_1 q_2 q_2^T q_1 + \\cdots + \\lambda_1 q_n q_n^T q_1$\n",
    "                     - $ = \\lambda_1 q_1 q_1^T q_1 + 0 + \\cdots + 0$\n",
    "                         - q_i are orthogonal\n",
    "                     - $ = \\lambda_1 q_1 q_1^T q_1$\n",
    "                         - $q_1^T q_1 = 1$\n",
    "                     - $= \\lambda_1 q_1$\n",
    "    - $A = X\\Lambda X^{-1}$\n",
    "        - \n",
    "    - $A = U\\sum V^T$\n",
    "        - SIngular Value Decomposition(SVD)\n",
    "            - $U$ : orthogonal\n",
    "            - $\\Sigma$ : diogonal\n",
    "            - $V$ : orthogonal"
   ]
  },
  {
   "cell_type": "markdown",
   "metadata": {},
   "source": [
    "- $A$ = $\\begin{bmatrix} 2 & 3 \\\\ 4 & 7\\end{bmatrix}$\n",
    "    - A = LU\n",
    "        - $\\begin{bmatrix} 2 & 3 \\\\ 4 & 7\\end{bmatrix}$ = $\\begin{bmatrix} 1 & 0 \\\\ 2 & 1\\end{bmatrix}$$\\begin{bmatrix} 2 & 3 \\\\ 0 & 1\\end{bmatrix}$ \n",
    "        - $\\begin{bmatrix} 2 & 3 \\\\ 4 & 7\\end{bmatrix}$ =  $\\begin{bmatrix} 2 & 3 \\\\ 4 & ?\\end{bmatrix}$ +  $\\begin{bmatrix} 0 & 0 \\\\ 0 & ?\\end{bmatrix}$\n",
    "            -  rank $\\begin{bmatrix} 2 & 3 \\\\ 4 & ?\\end{bmatrix}$ = 1\n",
    "            -  rank $\\begin{bmatrix} 0 & 0 \\\\ 0 & ?\\end{bmatrix}$ = 1            \n",
    "        - $\\begin{bmatrix} 2 & 3 \\\\ 4 & 7\\end{bmatrix}$ =  $\\begin{bmatrix} 2 & 3 \\\\ 4 & 6\\end{bmatrix}$ +  $\\begin{bmatrix} 0 & 0 \\\\ 0 & 1\\end{bmatrix}$\n",
    "            - $LU= \\begin{bmatrix} \\\\ l_1 \\\\   \\\\ \\end{bmatrix} \\begin{bmatrix}  & u_1^T & \\end{bmatrix} + \\begin{bmatrix} \\\\ l_2 \\\\   \\\\ \\end{bmatrix} \\begin{bmatrix}  & u_2^T & \\end{bmatrix}$"
   ]
  },
  {
   "cell_type": "markdown",
   "metadata": {},
   "source": [
    "## 4 Fundamental Subspaces $A$ $m \\times n$ rank $r$\n",
    "- Def Space\n",
    "    - Linear combination\n",
    "        - add vectors\n",
    "        - multiply sclara\n",
    "- Column Space\n",
    "    - C(A)\n",
    "    - dim : $r$ ($r \\le n, r \\le m$)\n",
    "- Row Space\n",
    "    - C(A^T)\n",
    "    - dim : $r$ ($r \\le n, r \\le m$)\n",
    "- Null Space\n",
    "    - N(A)\n",
    "    - Def\n",
    "        - set of solution of $Ax = 0$\n",
    "            - x\n",
    "    - $Ax = 0, Ay = 0 \\rightarrow A(x + y) = 0$\n",
    "    - How many independent vectors are in the null space\n",
    "        - how many independent solution does that system of equations have?\n",
    "            - dim\n",
    "                - $R^n$\n",
    "                    - $C(A^T)$\n",
    "                        - dum : r\n",
    "                    - $N(A)$, $Ax = 0$\n",
    "                        - dim : n - r\n",
    "                - $R^m$\n",
    "                    - $C(A)$\n",
    "                        - dim : r\n",
    "                    - $N(A^T)$\n",
    "                        - dim : m - r\n",
    "- Null Space\n",
    "    - N(A^T)"
   ]
  },
  {
   "cell_type": "markdown",
   "metadata": {},
   "source": [
    "- Example\n",
    "    - $A = \\begin{bmatrix} 1 & 2 & 4 \\\\ 2 & 4 & 8\\end{bmatrix}\\begin{bmatrix} 0 \\\\ -2 \\\\ 1\\end{bmatrix}\\begin{bmatrix} 4 \\\\ 0 \\\\ -1\\end{bmatrix} = \\begin{bmatrix} 0 \\\\ 0\\end{bmatrix}$\n",
    "        - m = 2\n",
    "        - n = 3\n",
    "        - r = 1\n",
    "        - n - r = 2\n",
    "    - x is orthogonal to rows\n",
    "        - 90 degree angles"
   ]
  }
 ],
 "metadata": {
  "kernelspec": {
   "display_name": "Python 3",
   "language": "python",
   "name": "python3"
  },
  "language_info": {
   "name": ""
  }
 },
 "nbformat": 4,
 "nbformat_minor": 4
}
