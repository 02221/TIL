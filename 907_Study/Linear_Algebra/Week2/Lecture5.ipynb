{
 "cells": [
  {
   "cell_type": "markdown",
   "metadata": {},
   "source": [
    "## PA = LU\n",
    "### Vector Spaces and subspaces"
   ]
  },
  {
   "cell_type": "markdown",
   "metadata": {},
   "source": [
    "- Permutation Matrix\n",
    "    - 순서가 부여된 임의의 행렬을 의도된 다른 순서로 뒤섞는 연산 행렬이다"
   ]
  },
  {
   "cell_type": "markdown",
   "metadata": {},
   "source": [
    "- Permutataions P : execute row\n",
    "    - exchanges\n",
    "- $A = LU$\n",
    "    - becomes PA = LU\n",
    "        - Permutation Matrix\n",
    "            - any invertible A \n",
    "        - Permutations\n",
    "            - P = identity matrix with reordered rows\n",
    "            - $n! = n(n-1)\\cdots(3)(2)(1)$\n",
    "            - $P^{-1} = P^T$\n",
    "                - $P^TP =I$\n",
    "- Transpose\n",
    "    - $A^T_{ij} = A_{ji}$\n",
    "- Symmetric Matrices\n",
    "    - $A^T = A$\n",
    "    - $R^TR$ is always symmetric\n",
    "        - prove\n",
    "            - $(R^TR)^T$ = $R^TR^{TT}$ = $R^TR$\n",
    "- Vector Spaces\n",
    "    - Examples\n",
    "        - $R^2 = all 2-dim real vectors$\n",
    "- Subspaces of $R^2$\n",
    "    - all of $R^2$\n",
    "    - any line through $\\begin{vmatrix} 0 \\\\ 0 \\end{vmatrix}$\n",
    "    - zero vector only Z\n",
    "    - all their combinations from a subspace\n",
    "        - combination\n",
    "            - multipling numbers\n",
    "            - adding vectors\n",
    "        - column space C(A)"
   ]
  }
 ],
 "metadata": {
  "kernelspec": {
   "display_name": "Python 3",
   "language": "python",
   "name": "python3"
  },
  "language_info": {
   "codemirror_mode": {
    "name": "ipython",
    "version": 3
   },
   "file_extension": ".py",
   "mimetype": "text/x-python",
   "name": "python",
   "nbconvert_exporter": "python",
   "pygments_lexer": "ipython3",
   "version": "3.7.6"
  }
 },
 "nbformat": 4,
 "nbformat_minor": 4
}
