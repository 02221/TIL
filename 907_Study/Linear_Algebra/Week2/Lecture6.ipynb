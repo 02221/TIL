{
 "cells": [
  {
   "cell_type": "markdown",
   "metadata": {},
   "source": [
    "# Vector Spaces and Subspaces\n",
    "- Column Space of A\n",
    "    - Solving $Ax = b$\n",
    "- NullSpace of A"
   ]
  },
  {
   "cell_type": "markdown",
   "metadata": {},
   "source": [
    "- ## What is Vectorspace?\n",
    "    - set of vectors v and u that if v, u is in vectorspace, so does $cv + du$\n",
    "        - c, d is scaler\n",
    "- ## Subspace\n",
    "    - Subspaces S and T\n",
    "        - intersection $S \\cap T$ is subspace\n",
    "    - Let $A = \\begin{vmatrix} 1 &1 & 2 \\\\ 2 & 1 & 3\\\\ 3 & 1 & 4\\\\ 4 & 1 & 5\\end{vmatrix}$\n",
    "        - columns space of A is subspace of $R^4$\n",
    "            - denote \n",
    "                - C(A)\n",
    "            - All linear combination of columns\n",
    "                - Does Ax = b have a solution for every b?\n",
    "                    - 4 equations and 3 unknowns\n",
    "                - \n",
    "    - $Ax = \\begin{vmatrix} 1 &1 & 2 \\\\ 2 & 1 & 3\\\\ 3 & 1 & 4\\\\ 4 & 1 & 5\\end{vmatrix}\\begin{vmatrix} x_1 \\\\ x_2 \\\\ x_3\\end{vmatrix} = \\begin{vmatrix} b_1 \\\\ b_2 \\\\ b_3 \\\\ b_4 \\end{vmatrix}$\n",
    "    - which b's allow this system to be solved?\n",
    "        - b : all zeros\n",
    "        - b : Can solve Ax = b exactly when b is in C(A)"
   ]
  },
  {
   "cell_type": "markdown",
   "metadata": {},
   "source": []
  },
  {
   "cell_type": "markdown",
   "metadata": {},
   "source": []
  },
  {
   "cell_type": "markdown",
   "metadata": {},
   "source": []
  },
  {
   "cell_type": "markdown",
   "metadata": {},
   "source": []
  },
  {
   "cell_type": "markdown",
   "metadata": {},
   "source": []
  },
  {
   "cell_type": "markdown",
   "metadata": {},
   "source": []
  },
  {
   "cell_type": "code",
   "execution_count": null,
   "metadata": {},
   "outputs": [],
   "source": []
  }
 ],
 "metadata": {
  "kernelspec": {
   "display_name": "Python 3",
   "language": "python",
   "name": "python3"
  },
  "language_info": {
   "codemirror_mode": {
    "name": "ipython",
    "version": 3
   },
   "file_extension": ".py",
   "mimetype": "text/x-python",
   "name": "python",
   "nbconvert_exporter": "python",
   "pygments_lexer": "ipython3",
   "version": "3.7.6"
  }
 },
 "nbformat": 4,
 "nbformat_minor": 4
}
