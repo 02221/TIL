{
 "cells": [
  {
   "cell_type": "markdown",
   "metadata": {},
   "source": [
    "# Factorization into A = LU"
   ]
  },
  {
   "cell_type": "markdown",
   "metadata": {},
   "source": [
    "- A = LU\n",
    "    - $A A^{-1} = I = A^{-1}A$\n",
    "        - $(A^{-1})^T A^T$\n",
    "            - $A^{-1}$\n",
    "    - $(AB)(B^{-1}A^{-1}) = I$\n",
    "    "
   ]
  },
  {
   "cell_type": "markdown",
   "metadata": {},
   "source": [
    "- EA = U  \n",
    "    - $\\begin{bmatrix} 1 & 0 \\\\ -4 & 1  \\end{bmatrix} \\begin{bmatrix} 2 & 1 \\\\ 8 & 7  \\end{bmatrix}$ = $\\begin{bmatrix} 2 & 1 \\\\ 0 & 3  \\end{bmatrix}$  \n",
    "- A = LU  \n",
    "    - $\\begin{bmatrix} 2 & 1 \\\\ 8 & 7  \\end{bmatrix} = \\begin{bmatrix} 1 & 0 \\\\ 4 & 1  \\end{bmatrix} \\begin{bmatrix} 2 & 1 \\\\ 0 & 3  \\end{bmatrix}$  \n",
    "        - L : Lower triangle\n",
    "        - U : Upper triangle\n",
    "    - $\\begin{bmatrix} 2 & 1 \\\\ 8 & 7  \\end{bmatrix} = \\begin{bmatrix} 1 & 0 \\\\ 4 & 1  \\end{bmatrix} \\begin{bmatrix} 2 & 0 \\\\ 0 & 3  \\end{bmatrix} \\begin{bmatrix} 1 & {1 \\over 2} \\\\ 0 & 1  \\end{bmatrix}$"
   ]
  },
  {
   "cell_type": "markdown",
   "metadata": {},
   "source": [
    "- 3 by 3\n",
    "    - A: 3 * 3 matrix\n",
    "        - elimination step\n",
    "            - $E_{21}$\n",
    "            - $E_{31}$\n",
    "            - $E_{32}$\n",
    "        - $E_{32}E_{31}E_{21}A = U$\n",
    "    - $A = E_{21}^{-1}E_{31}^{-1}E_{32}^{-1}U$\n",
    "        - $A = LU$\n",
    "            - $L = E_{21}^{-1}E_{31}^{-1}E_{32}^{-1}$\n",
    "            "
   ]
  }
 ],
 "metadata": {
  "kernelspec": {
   "display_name": "Python 3",
   "language": "python",
   "name": "python3"
  },
  "language_info": {
   "codemirror_mode": {
    "name": "ipython",
    "version": 3
   },
   "file_extension": ".py",
   "mimetype": "text/x-python",
   "name": "python",
   "nbconvert_exporter": "python",
   "pygments_lexer": "ipython3",
   "version": "3.7.6"
  }
 },
 "nbformat": 4,
 "nbformat_minor": 4
}
