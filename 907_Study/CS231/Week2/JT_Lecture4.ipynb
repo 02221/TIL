{
 "cells": [
  {
   "cell_type": "markdown",
   "metadata": {},
   "source": [
    "# Lecture4 Introduction to Neural Networks"
   ]
  },
  {
   "cell_type": "markdown",
   "metadata": {},
   "source": [
    "https://cs231n.github.io/optimization-2/"
   ]
  },
  {
   "cell_type": "markdown",
   "metadata": {},
   "source": [
    "- Overview\n",
    "    - Backpropagation\n",
    "        - recursive application of the chian rule along a computational graph to compute gradient of all inputs/parameters/intermediates\n",
    "            - computational gragh\n",
    "                - Directed graph\n",
    "                - Each nodes represent operatios of variables\n",
    "                - Every graph defines a function fo the variables\n",
    "        - Advantage\n",
    "            - We can use backpropagation technique\n",
    "                - recurrsively using chian rules \n",
    "    - nodes implement\n",
    "        - forward\n",
    "            - compute result of an operation and save any intermediates needed for gradient computation in memory\n",
    "        - backward\n",
    "            - apply the chain rule to compute the gradient of the loss function with respect to the inputs"
   ]
  },
  {
   "cell_type": "markdown",
   "metadata": {},
   "source": [
    "- Goal\n",
    "    - Want $w$ that make minimum $\\nabla_W L$\n",
    "- Gradient Descent\n",
    "    - Equation\n",
    "        - ${d f(x) \\over dx} = lim {f(x +h ) - f(x) \\over h}$\n",
    "    - Classification\n",
    "        - Numerical Gradient\n",
    "            - Property\n",
    "                - Slow (B)\n",
    "                - Approximate (B)\n",
    "                - Easy to write (G)\n",
    "        - Analytic Gradient\n",
    "            - Property\n",
    "                - Fast (G)\n",
    "                - Exact (G)\n",
    "                - Error-Prone(B)\n",
    "    - Practice\n",
    "        - First\n",
    "            - Derive Analytic Gradient\n",
    "        - Second\n",
    "            - check implementation with numerical gradient"
   ]
  },
  {
   "cell_type": "markdown",
   "metadata": {},
   "source": [
    "## BackPropagation\n",
    "- example\n",
    "    - $f(x,y,z) = (x + y)z$\n",
    "        - x = -2\n",
    "        - y = 5\n",
    "        - z = -4\n",
    "        - x + y = q\n",
    "    - $\\partial f \\over \\partial x$\n",
    "        - ${\\partial f \\over \\partial f}{ \\partial f \\over \\partial q}{\\partial q \\over \\partial x} = 1 * z * 1 = z$\n",
    "        \n",
    "    - $\\partial f \\over \\partial y$\n",
    "        - ${\\partial f \\over \\partial f}{ \\partial f \\over \\partial q}{\\partial q \\over \\partial y} = 1 * z * 1 = z$    \n",
    "    - $\\partial f \\over \\partial z$    \n",
    "        - $\\partial f \\over \\partial f$$\\partial f \\over \\partial z$ $= 1 * q = q$\n",
    "- Process\n",
    "    - 1. get input X\n",
    "    - 2. compute function\n",
    "        - get local gradient\n",
    "    - 3. work from back to start\n",
    "        - get upstream gradient\n",
    "        - use chian rule with upstream gradient and local gradient\n",
    "            - chain rule\n",
    "                - ${\\partial f \\over \\partial X} = \\sum {\\partial f \\over \\partial q_i}{\\partial q_i \\over \\partial X}$\n",
    "- Property of each gate\n",
    "    - **add gate**\n",
    "        - Gradient Distributior\n",
    "        - Distribute upstream gradient\n",
    "    - **max gate**\n",
    "        - Gradient Router\n",
    "        - one of them get full gradient and the others does not\n",
    "    - **mul gate**\n",
    "        - Gradient Switcher"
   ]
  },
  {
   "cell_type": "code",
   "execution_count": null,
   "metadata": {},
   "outputs": [],
   "source": [
    "class Computational_Graph(object):\n",
    "    #...\n",
    "    def forward(inputs):\n",
    "        # 1. pass inputs to input gates:\n",
    "        # 2. forward the computational graph\n",
    "        for gate in self.graph.nodes_topologically_sorted():\n",
    "            gate.forward()\n",
    "        return loss #the final gate in the graph outpus the loss\n",
    "    def backward():\n",
    "        for gate in reversed(self.graph.nodes_topologically_sorted()):\n",
    "            gate.backward() ## little piece of backprop \n",
    "        return inputs_gradients"
   ]
  },
  {
   "cell_type": "code",
   "execution_count": null,
   "metadata": {},
   "outputs": [],
   "source": [
    "class Multiply_Gate(object):\n",
    "    def foraward(x, y):\n",
    "        z = x*y\n",
    "        return z\n",
    "    def backward(dz):\n",
    "        # dx = ...#todo\n",
    "        # dy = ...#todo\n",
    "        return [dx, dy]"
   ]
  },
  {
   "cell_type": "markdown",
   "metadata": {},
   "source": [
    "# Neural Network"
   ]
  },
  {
   "cell_type": "markdown",
   "metadata": {},
   "source": [
    "- Neural Network\n",
    "    - Def\n",
    "        - Understanding through comparisons\n",
    "            - before\n",
    "                - Linear score functions\n",
    "                    - $f = Wx$\n",
    "            - now\n",
    "                - 2-layer Neural Network\n",
    "                    - $f = W_2 max(0, W_1x)$\n",
    "                - 3-layer Neural Network\n",
    "                    - $f = W_3 max(0, W_2 max(0, W_1 x))$\n",
    "        - class of functions, that stack simple function in a hierarchical way in order to make up a more complex non-linear function\n",
    "        -  \n",
    "                    \n",
    "                    \n"
   ]
  },
  {
   "cell_type": "code",
   "execution_count": 13,
   "metadata": {},
   "outputs": [],
   "source": [
    "from numpy.random import randn\n",
    "N, D_in, H, D_out = 64, 1000, 100, 10\n",
    "x, y = randn(N, D_in), randn(N, D_out)\n",
    "w1, w2 = randn(D_in, H), randn(H, D_out)"
   ]
  },
  {
   "cell_type": "code",
   "execution_count": 14,
   "metadata": {},
   "outputs": [
    {
     "name": "stdout",
     "output_type": "stream",
     "text": [
      "(64, 10)\n",
      "loss : 39356.656\n",
      "(64, 10)\n",
      "loss : 238.161\n",
      "(64, 10)\n",
      "loss : 53.643\n",
      "(64, 10)\n",
      "loss : 17.920\n"
     ]
    }
   ],
   "source": [
    "for t in range(2000):\n",
    "    h = 1 / (1 + np.exp(-x.dot(w1)))\n",
    "    y_pred = h.dot(w2)\n",
    "    loss = np.square(y_pred - y).sum()\n",
    "    if t % 500 == 0:\n",
    "        print(y.shape)\n",
    "        print(f\"loss : {loss:.3f}\")\n",
    "    \n",
    "    grad_y_pred = 2.0 * (y_pred - y)\n",
    "    grad_w2 = h.T.dot(grad_y_pred)\n",
    "    grad_h = grad_y_pred.dot(w2.T)\n",
    "    grad_w1 = x.T.dot(grad_h * h * (1-h))\n",
    "    \n",
    "    w1 -= 1e-4 * grad_w1\n",
    "    w2 -= 1e-4 * grad_w2"
   ]
  },
  {
   "cell_type": "markdown",
   "metadata": {},
   "source": [
    "## Activation functions\n",
    "- Sigmoid\n",
    "- tanh\n",
    "- ReLU\n",
    "- Leaky ReLU\n",
    "- Maxout\n",
    "- ELU"
   ]
  },
  {
   "cell_type": "markdown",
   "metadata": {},
   "source": []
  },
  {
   "cell_type": "markdown",
   "metadata": {},
   "source": []
  },
  {
   "cell_type": "markdown",
   "metadata": {},
   "source": []
  },
  {
   "cell_type": "code",
   "execution_count": null,
   "metadata": {},
   "outputs": [],
   "source": []
  }
 ],
 "metadata": {
  "kernelspec": {
   "display_name": "Python 3",
   "language": "python",
   "name": "python3"
  },
  "language_info": {
   "codemirror_mode": {
    "name": "ipython",
    "version": 3
   },
   "file_extension": ".py",
   "mimetype": "text/x-python",
   "name": "python",
   "nbconvert_exporter": "python",
   "pygments_lexer": "ipython3",
   "version": "3.7.6"
  }
 },
 "nbformat": 4,
 "nbformat_minor": 4
}
