{
 "cells": [
  {
   "cell_type": "markdown",
   "metadata": {},
   "source": [
    "# Lecture3 Loss Functions and Optimization"
   ]
  },
  {
   "cell_type": "markdown",
   "metadata": {},
   "source": [
    "https://cs231n.github.io/linear-classify/"
   ]
  },
  {
   "cell_type": "markdown",
   "metadata": {},
   "source": [
    "## Contents of Table"
   ]
  },
  {
   "cell_type": "markdown",
   "metadata": {},
   "source": [
    "- ## To Do\n",
    "    - **Loss Function**\n",
    "        - Def \n",
    "        - Usage\n",
    "        - \n",
    "    - **Optimization**\n",
    "        - Def \n",
    "            - find the parameters that minimize the loss function\n",
    "\n",
    "            - point of machine learning is not lies in fitting train data, but test data\n",
    "            - we usally solve this problem(overfit) by using regularization\n",
    "                -  add additional terms of loss function \n",
    "                    - Occam's Razor"
   ]
  },
  {
   "cell_type": "markdown",
   "metadata": {},
   "source": [
    "## Loss Function"
   ]
  },
  {
   "cell_type": "markdown",
   "metadata": {},
   "source": [
    "- ### Def\n",
    "    - Measures that quantifies unhappinesss of the model's result compare with the optimal choice\n",
    "        - how to quantify how bad are diffenrent mistake\n",
    "        - how to weight off the different trade-offs between different types of mistake the classifier might make\n",
    "- ### Usage\n",
    "    - Tell how good our current classifier is, given a dataset \n",
    "    - Use as objective function for optimization\n",
    "        - Associated with Econ's Utility function(negative)\n",
    "- ### Type\n",
    "    - #### Hinge Loss\n",
    "        - maximum-margin classification\n",
    "        - Max form function\n",
    "        - Care only whether the score of ture class is **much** higher **than** the score of other classes, not the score **itself**\n",
    "            - **much**\n",
    "                - more than the given margin\n",
    "            - **than**\n",
    "                - relatively higher\n",
    "                    - Difference between Softmax\n",
    "            - **itself**\n",
    "                - Cares absolute score\n",
    "                    - Softmax\n",
    "         - If score of true category is larger than the scroe of False catefories, than Loss is zero\n",
    "         - If the true class's score is less than the other score, than we get some loss\n",
    "        - #### Diff with Squared Hinge Loss\n",
    "            - if we use hinge loss\n",
    "                - we don't actually care between being a little bit wrong and being a lot wrong \n",
    "            - if we use squred hinge loss\n",
    "                - very bad things can be interpreted as squred very bad things \n"
   ]
  },
  {
   "cell_type": "code",
   "execution_count": 5,
   "metadata": {},
   "outputs": [
    {
     "data": {
      "image/png": "[encoded data removed]",
      "text/plain": [
       "<Figure size 576x288 with 1 Axes>"
      ]
     },
     "metadata": {
      "needs_background": "light"
     },
     "output_type": "display_data"
    }
   ],
   "source": [
    "%matplotlib inline\n",
    "## params\n",
    "s_j = -0.5\n",
    "fixed_margin = 1\n",
    "\n",
    "s_y = np.linspace(-2, 2)\n",
    "L = [np.max([x, 0]) for x in (s_j - s_y + fixed_margin)]\n",
    "fig = plt.figure(figsize = (8, 4))\n",
    "plt.plot(s_y, L)\n",
    "plt.scatter(s_j, 0, c = \"r\")\n",
    "plt.plot([s_j, s_j + fixed_margin ], [0,0], c = \"r\")\n",
    "plt.scatter(s_j + 1, 0, c = \"r\")\n",
    "plt.text(s_j + 0.3, .1, f\"margin : {fixed_margin }\" )\n",
    "plt.title(\"Hinge Loss\")\n",
    "plt.xlabel(\"s_h\")\n",
    "plt.ylabel(\"L\")\n",
    "plt.show()"
   ]
  },
  {
   "cell_type": "markdown",
   "metadata": {},
   "source": [
    "- ### Regularization\n",
    "    - **Def**\n",
    "        - Anything that penalizes the complexity of the model\n",
    "            - rather than explicitly trying to fit the training data\n",
    "    - **Usage**\n",
    "        - usually we use L2 regulizer(weight decay)\n",
    "            - But choosing regulizer depends on how do you think that the complexity should be measured\n",
    "        - $\\lambda R(W)$terms help model to prefer regression model to be lower degree rather than higher degree\n",
    "     \n",
    "    - **Examples**\n",
    "        - **L2 regularizaiton **\n",
    "            - **Def** \n",
    "                - penalizing the euclidian norm of W\n",
    "                - weight decay\n",
    "                - measure the complexity of classifier\n",
    "            - **Equation**\n",
    "                - $R(W) \\sum\\sum W^2$\n",
    "            - **Mechanism**\n",
    "                - Deals with second momentum\n",
    "                    - Linear classification useally done with dot product.\n",
    "                    - However, L2 regularization deals with second momentum\n",
    "                        - which dot product does not measure\n",
    "                        - L2 norm can capture some situation that dot product omits\n",
    "                            - especially situation that [0.25, 0.25, 0.25, 0.25] and [0, 0, 0, 1]\n",
    "            - **See also**\n",
    "                - MAP inference using a Gaussian prior on W\n",
    "        - **L1 regularization**\n",
    "            - **Def**\n",
    "                - penalizing L1 norm of W\n",
    "                - Encourage sparse solutions\n",
    "                    - derives all your entries of W to zero\n",
    "                    - number of non-zero entries\n",
    "            - **Equation**\n",
    "                - $R(W) \\sum\\sum |W|$                  \n",
    "        - **Elastic net(L1 + L2)**\n",
    "            - $R(W) \\sum\\sum \\beta W^2 + |W|$                        \n",
    "        - **Maxnorm regularization**\n",
    "            - penalizing max norm rather than L1 and L2\n",
    "        - **Dropout**\n",
    "        - **Fancier**\n",
    "            - Batch normalization\n",
    "            stochastic depth"
   ]
  },
  {
   "cell_type": "markdown",
   "metadata": {},
   "source": [
    "## Examples of Loss Function"
   ]
  },
  {
   "cell_type": "markdown",
   "metadata": {},
   "source": [
    "- ### 1. Multilcass SVM loss  \n",
    "    - Def\n",
    "        - Kinds of **Hinge Loss**\n",
    "    - Equation\n",
    "        - $L_i = \\sum max(s_j - s_{y_i} + 1,0)$\n",
    "    - Terms of notation\n",
    "        - $s$\n",
    "            - predicted scores come out of the classifier\n",
    "        - $s_{y_i}$\n",
    "            - score of ground truth label\n",
    "        - $s_j$\n",
    "            - Score of flase label\n",
    "    - Process\n",
    "        - For each class, we sub score of true class from the other classes.\n",
    "            - If value of true class is max in terms of all classes score in the class, than loss might be 0\n",
    "            - On the other hands, if true class socre is small than the other classes, than loss might be possitive\n",
    "    - Properties\n",
    "        - Uniqueness\n",
    "            - The set of W is not necessarily unique. \n",
    "            - if some parameters W is optimal parmameters, than so does $\\lambda W$\n",
    "            - In this reason we use regularization penalty $\\lambda R(W) $\n",
    "    - Q\n",
    "        - 1) Min, Max\n",
    "            - Min : 0\n",
    "            - Max : inf\n",
    "        - 2) Think of situation that W is small so all s = 0(usually initialization), what is the Loss?(Standard Initial Loss)\n",
    "            - In this case score follows uniform distribution\n",
    "            - result is #classes -1\n",
    "                - for each False class $max(s_j - s_{y_i} + 1,0)$, if s_j and s_{y_i} is 0, than $max(s_j - s_{y_i} + 1,0) = 1$\n",
    "                    - iterate c - 1 times\n",
    "        - 3) what happen if the add true class's score to sum of score?\n",
    "            - loss increses by 1, which make optimal loss as 1\n",
    "                - We psychologically want loss to be 0, that is why we omit true score when computing Loss function\n",
    "        - 4) What if we use mean instead of sum\n",
    "            - the answer does not change\n",
    "                - Linear Operation\n",
    "        - 5) What if we use $L_i = \\sum max(0, s_j - s_{y_i} + 1)^2$\n",
    "            - this is a different problem compare with previous problem.\n",
    "                - because we change loss function in non-leaiear way\n",
    "                - this kinds of squred hinge loss somtimes used in practice\n",
    "                    - Diff\n",
    "                        - setting loss function is same as saying computer to how you care about and what types of errors it should trade off against \n",
    "                        - setting linear loss function means you focuss more about the fact of difference itself\n",
    "                        - setting squared loss function means you focuss more quantity of difference \n"
   ]
  },
  {
   "cell_type": "code",
   "execution_count": 7,
   "metadata": {},
   "outputs": [],
   "source": [
    "def L_i_vectorized(x, y, W):\n",
    "    scores = W.dot(x)\n",
    "    margins = np.maximum(0, scores - scores[y] + 1)\n",
    "    margins[y] = 0\n",
    "    loss_i = np.sum(margins)\n",
    "    return loss_i"
   ]
  },
  {
   "cell_type": "markdown",
   "metadata": {},
   "source": [
    "- ### 2. Softmax classifier (Multinomial Logistic Regression) / Cross Entrophy\n",
    "    - Def\n",
    "        - Meaning of Score\n",
    "            - compute probability distribution over classes\n",
    "            - expoenentiate the score\n",
    "                - This process make score tobe positive\n",
    "            - normalize them by the sum fo those expoents\n",
    "                - range 0 to 1, and sum of score is 1 \n",
    "        - probabilities of the classes\n",
    "            - compare computed probability distribution with real probability distribution(which consist of 0 and 1)\n",
    "                - KL divergence\n",
    "                - MLE\n",
    "    - Goal\n",
    "        - probability of true class is high and as close to one\n",
    "        - loss : negative log of probabilities\n",
    "            - we want to maximize probability\n",
    "            - log is monotonic(does not ditrupt order) and make equation easy to compute\n",
    "                - therefore maximize log probability is the same problem with maximize probability\n",
    "            - Loss function is for computing badness\n",
    "                - therefore minimizing negative log probability is fit with the definition of loss function and our goal, maximizing true probability\n",
    "- Equation\n",
    "        - $L_i = -log{e^{s y_i} \\over \\sum e^{s_j}}$\n",
    "    - Q\n",
    "        - What is min and max of possible loss L_i\n",
    "            - Min : 0\n",
    "            - Max : inf\n",
    "        - W is small so all s = 0, than whaat is the loss\n",
    "            - $-log {1 \\over C} = log C$\n",
    "        - Suppose I take a datapoint and I jiggle a bit, whta happens to the loss in both case?\n",
    "            - SVM\n",
    "                - Does not change\n",
    "                - cares only the fact that whether correct score is greather than a margin above the incorrect scores\n",
    "            - Softmax\n",
    "                - loss get smaller as score of true class get higher"
   ]
  },
  {
   "cell_type": "markdown",
   "metadata": {},
   "source": [
    "- Recap\n",
    "    - We have Dataset and W\n",
    "    - Score Fucntion($f(x;W)$)\n",
    "    - Loss function\n",
    "        - Softmax\n",
    "        - SVM\n",
    "    - Full Loss\n",
    "        - ${1 \\over N}\\sum L_i + R(W)$"
   ]
  },
  {
   "cell_type": "markdown",
   "metadata": {},
   "source": [
    "## Optimization"
   ]
  },
  {
   "cell_type": "markdown",
   "metadata": {},
   "source": [
    "- Def\n",
    "    - Walking Lage Vally\n",
    "- Examples\n",
    "    - Strategy #1 : Random Search\n",
    "        - Bad\n",
    "    - Strategy #2 : Follow the Slope\n",
    "        - What is Slope?\n",
    "            - 1-dimension\n",
    "                - derivative\n",
    "            - Multiple dimensions\n",
    "                - Gradient is the vector of along each dimension\n",
    "            - dot product of the direction with thje gradient\n",
    "                - steepes descent is the negative gradient\n",
    "        - Gradient Descent\n",
    "            - Calculating all gradient is inefficient\n",
    "                - but accuarte\n",
    "            - Use analytic gradient(With chain Rule)\n",
    "                - But implicate errores\n",
    "        - Stochastic Gradient Descent\n",
    "            - Use when N is too large to compute\n",
    "                - Approxiamte sum using a minibatch of examples\n",
    "                    - 32, 64, 128 is common\n",
    "            - rather than computing the loss and gradient over the entrie training set\n",
    "            - at every iteration we sample some small set\n",
    "                - mini-batch\n",
    "                    - use mini-batch to compute an estimate of the full sum\n",
    "                - may can see Monte Carlo estimate of some expectation                "
   ]
  },
  {
   "cell_type": "code",
   "execution_count": 1,
   "metadata": {},
   "outputs": [
    {
     "ename": "SyntaxError",
     "evalue": "invalid syntax (<ipython-input-1-e1d8835fcf36>, line 2)",
     "output_type": "error",
     "traceback": [
      "\u001b[1;36m  File \u001b[1;32m\"<ipython-input-1-e1d8835fcf36>\"\u001b[1;36m, line \u001b[1;32m2\u001b[0m\n\u001b[1;33m    return = weights_grad\u001b[0m\n\u001b[1;37m           ^\u001b[0m\n\u001b[1;31mSyntaxError\u001b[0m\u001b[1;31m:\u001b[0m invalid syntax\n"
     ]
    }
   ],
   "source": [
    "def evaluate_gradient(loss_func, data, weights):\n",
    "    return = weights_grad\n",
    "    \n",
    "while True:\n",
    "    weights_grad = evaluate_gradient(loss_func, data, weights)\n",
    "    weights += -step_size * weights_grad"
   ]
  },
  {
   "cell_type": "code",
   "execution_count": null,
   "metadata": {},
   "outputs": [],
   "source": [
    "def evaluate_gradient(loss_func, data, weights):\n",
    "    return = weights_grad\n",
    "    \n",
    "while True:\n",
    "    data_batch = sample_training_data(data,256)\n",
    "    weights_grad = evaluate_gradient(loss_func, data_batch, weights)\n",
    "    weights += -step_size * weights_grad"
   ]
  },
  {
   "cell_type": "markdown",
   "metadata": {},
   "source": [
    "- Image Features : Motivation\n",
    "    - Previous\n",
    "        - try to solve problem by using feature trainsform when cannot separate data with linear classifier\n",
    "        - Gistogram of Oriented Gradients\n",
    "            - find dominent edge of image \n",
    "        - Image -> Feature Extraction -> F - > Training\n",
    "    - CNN\n",
    "        - Image -< Training\n",
    "            "
   ]
  },
  {
   "cell_type": "markdown",
   "metadata": {},
   "source": [
    "## tip\n",
    "step size is the first hyper-parameter that I always check"
   ]
  }
 ],
 "metadata": {
  "kernelspec": {
   "display_name": "Python 3",
   "language": "python",
   "name": "python3"
  },
  "language_info": {
   "codemirror_mode": {
    "name": "ipython",
    "version": 3
   },
   "file_extension": ".py",
   "mimetype": "text/x-python",
   "name": "python",
   "nbconvert_exporter": "python",
   "pygments_lexer": "ipython3",
   "version": "3.7.6"
  }
 },
 "nbformat": 4,
 "nbformat_minor": 4
}
