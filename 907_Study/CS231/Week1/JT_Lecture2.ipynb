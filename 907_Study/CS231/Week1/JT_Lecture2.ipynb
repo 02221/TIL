{
 "cells": [
  {
   "cell_type": "markdown",
   "metadata": {},
   "source": [
    "# Lecture2 Image Classification pipeline"
   ]
  },
  {
   "cell_type": "markdown",
   "metadata": {},
   "source": [
    "## Image Classification\n",
    "- The Problem\n",
    "    - Semantic Gap\n",
    "        - What computer recognize\n",
    "            - Just a big grid of numbers between [0, 255]\n",
    "                - Meanings come from diff erence and repetition\n",
    "            - Pixels change when the camera moves, illumination, deformation, occlusion, backgroun clutter, intraclass variation\n",
    "                - Ontological Dependence \n",
    "- "
   ]
  },
  {
   "cell_type": "markdown",
   "metadata": {},
   "source": [
    "## An Image Classifier"
   ]
  },
  {
   "cell_type": "code",
   "execution_count": 1,
   "metadata": {},
   "outputs": [],
   "source": [
    "def classify_image(image):\n",
    "    class_label = None\n",
    "    return class_label"
   ]
  },
  {
   "cell_type": "markdown",
   "metadata": {},
   "source": [
    "## Attemps have been made\n",
    "- Find edges, Find corners\n",
    "    - Extensibility issues(Scalablility)\n",
    "    - Hard to Find right features\n",
    "-> Data Driven Approach"
   ]
  },
  {
   "cell_type": "markdown",
   "metadata": {},
   "source": [
    "## Data-Driven Approach\n",
    "- Process\n",
    "    - 1. Collect a datset of images an labels\n",
    "    - 2. Use Machine Learning to train a classifier\n",
    "    - 3. Evaluate the classifier on new images"
   ]
  },
  {
   "cell_type": "code",
   "execution_count": 2,
   "metadata": {},
   "outputs": [],
   "source": [
    "def train(images, labels):\n",
    "    return model\n",
    "def predict(model, test_images):\n",
    "    return test_labels"
   ]
  },
  {
   "cell_type": "markdown",
   "metadata": {},
   "source": [
    "## Classifier"
   ]
  },
  {
   "cell_type": "markdown",
   "metadata": {},
   "source": [
    "### 1. Nearest Neighbor\n",
    "- Very Slow at test time\n",
    "- Distance metrics on pidexls are not informatic\n",
    "- Curse of dimensionality\n",
    "    - As dimensions increase, points increase exponentially"
   ]
  },
  {
   "cell_type": "code",
   "execution_count": 3,
   "metadata": {},
   "outputs": [],
   "source": [
    "def train(images, labels):\n",
    "    ## memorize all images and labes\n",
    "    return model\n",
    "def predict(model, test_images):\n",
    "    ## predict the label of the most similar training images \n",
    "    return test_labels"
   ]
  },
  {
   "cell_type": "markdown",
   "metadata": {},
   "source": [
    "## Distance Metric\n",
    "- L1 Distance(Manhattan)\n",
    "    - $d_1(I_1, I_2) = \\sum |I^p_1 - I^p_2|$\n",
    "        - use if meaning of rotation is important\n",
    "        - every elements have some meaning\n",
    "- L2 Distance(Eyclidean)\n",
    "    - $d_2(I_1, I_2) = \\sqrt{\\sum I^p_1 - I^p_2}$\n",
    "    - rotation free\n",
    "        - generic vectors in the space\n",
    "- Criterion\n",
    "    - If each feature vectors have their own individual meanings\n",
    "        - L1\n",
    "    - If it is hard to know practical meaning\n",
    "        - L2"
   ]
  },
  {
   "cell_type": "code",
   "execution_count": 4,
   "metadata": {},
   "outputs": [],
   "source": [
    "class NearestNeighbor:\n",
    "    def __init__(self):\n",
    "        pass\n",
    "    def train(self, X, y):\n",
    "        ## Remeber all the training data\n",
    "        self.Xtr = X\n",
    "        sefl.ytr = y\n",
    "    def predict(self, X):\n",
    "        num_test = X.shape[0]\n",
    "        Y_pred = np.zeroes(num_test, dtype = self.ytr.dtype)\n",
    "    \n",
    "        for i in xrange(num_test):\n",
    "            # for each test image\n",
    "            # finde the nearest training image to the i'th test image\n",
    "            # using the L1 dstance \n",
    "            distances = np.sum(np.abs(self.Xtr - X[i, :]), axis = 1)\n",
    "            min_index = np.argmnin(distances)\n",
    "            Y_pred[i] = self.ytr[min_index]\n",
    "        return Y_pred"
   ]
  },
  {
   "cell_type": "markdown",
   "metadata": {},
   "source": [
    "- Q1. how fast are trainin and prediction\n",
    "- A1\n",
    "    - training\n",
    "        - O(1)\n",
    "    - predict\n",
    "        - O(N)\n",
    "    - bad : need classifier that are fast at prediction, slow for training is ok\n",
    "- Q2. What is the best value of k to use, What is the best distance to use?\n",
    "- A2.\n",
    "    - problem depandent \n",
    "    - idea 1\n",
    "        - choose hyperparametes that work best on the data\n",
    "            - Bad: generalization issue\n",
    "    - idea 2\n",
    "        - split data ino train, test\n",
    "            - Bad : no idea how algorithm will perform on new data\n",
    "    - idea 3\n",
    "        - train, valid, test\n",
    "            - choose hyperparameters on val and evaluate on test\n",
    "    - Cross-Validation\n",
    "        - Split data into folds\n",
    "        - useful for small datasets, but not used too frequently in deep Learning\n"
   ]
  },
  {
   "cell_type": "markdown",
   "metadata": {},
   "source": [
    "# Linear Classifier"
   ]
  },
  {
   "cell_type": "markdown",
   "metadata": {},
   "source": [
    "## Parametric Approach\n",
    "- Image -> f(x,W) -> class score  \n",
    "    - Wx\n",
    "    - Parameters or weights\n",
    "- The purpose of Deep Learning is to construct a function F to model the optimal structure that represent the data"
   ]
  }
 ],
 "metadata": {
  "kernelspec": {
   "display_name": "Python 3",
   "language": "python",
   "name": "python3"
  },
  "language_info": {
   "codemirror_mode": {
    "name": "ipython",
    "version": 3
   },
   "file_extension": ".py",
   "mimetype": "text/x-python",
   "name": "python",
   "nbconvert_exporter": "python",
   "pygments_lexer": "ipython3",
   "version": "3.7.6"
  }
 },
 "nbformat": 4,
 "nbformat_minor": 4
}
