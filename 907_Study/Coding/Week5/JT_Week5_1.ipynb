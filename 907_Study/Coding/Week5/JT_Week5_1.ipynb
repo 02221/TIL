{
 "cells": [
  {
   "cell_type": "markdown",
   "metadata": {},
   "source": [
    "파일 이름 : 이름_Week5_1"
   ]
  },
  {
   "cell_type": "markdown",
   "metadata": {},
   "source": [
    "# [쿼드트리](#쿼드트리)"
   ]
  },
  {
   "cell_type": "markdown",
   "metadata": {},
   "source": [
    "## 출처\n",
    "https://www.acmicpc.net/problem/1992"
   ]
  },
  {
   "cell_type": "markdown",
   "metadata": {},
   "source": [
    "# 선행학습"
   ]
  },
  {
   "cell_type": "markdown",
   "metadata": {},
   "source": []
  },
  {
   "cell_type": "markdown",
   "metadata": {},
   "source": [
    "# 쿼드트리"
   ]
  },
  {
   "cell_type": "markdown",
   "metadata": {},
   "source": [
    "## 문제\n",
    "흑백 영상을 압축하여 표현하는 데이터 구조로 쿼드 트리(Quad Tree)라는 방법이 있다. 흰 점을 나타내는 0과 검은 점을 나타내는 1로만 이루어진 영상(2차원 배열)에서 같은 숫자의 점들이 한 곳에 많이 몰려있으면, 쿼드 트리에서는 이를 압축하여 간단히 표현할 수 있다.\n",
    "\n",
    "주어진 영상이 모두 0으로만 되어 있으면 압축 결과는 \"0\"이 되고, 모두 1로만 되어 있으면 압축 결과는 \"1\"이 된다. 만약 0과 1이 섞여 있으면 전체를 한 번에 나타내지를 못하고, 왼쪽 위, 오른쪽 위, 왼쪽 아래, 오른쪽 아래, 이렇게 4개의 영상으로 나누어 압축하게 되며, 이 4개의 영역을 압축한 결과를 차례대로 괄호 안에 묶어서 표현한다\n",
    "\n",
    "\n",
    "\n",
    "위 그림에서 왼쪽의 영상은 오른쪽의 배열과 같이 숫자로 주어지며, 이 영상을 쿼드 트리 구조를 이용하여 압축하면 \"(0(0011)(0(0111)01)1)\"로 표현된다.  N ×N 크기의 영상이 주어질 때, 이 영상을 압축한 결과를 출력하는 프로그램을 작성하시오."
   ]
  },
  {
   "cell_type": "markdown",
   "metadata": {},
   "source": [
    "## 입력\n",
    "\n",
    "첫째 줄에는 영상의 크기를 나타내는 숫자 N 이 주어진다. N 은 언제나 2의 제곱수로 주어지며, 1≤N ≤64의 범위를 가진다. 두 번째 줄부터는 길이 N 의 문자열이 N 개 들어온다. 각 문자열은 0 또는 1의 숫자로 이루어져 있으며, 영상의 각 점들을 나타낸다.\n"
   ]
  },
  {
   "cell_type": "markdown",
   "metadata": {},
   "source": [
    "## 출력\n",
    "영상을 압축한 결과를 출력한다."
   ]
  },
  {
   "cell_type": "markdown",
   "metadata": {},
   "source": [
    "## 풀이"
   ]
  },
  {
   "cell_type": "code",
   "execution_count": 230,
   "metadata": {},
   "outputs": [
    {
     "name": "stdin",
     "output_type": "stream",
     "text": [
      " 8\n",
      " 11110000\n",
      " 11110000\n",
      " 00011100\n",
      " 00011100\n",
      " 11110000\n",
      " 11110000\n",
      " 11110011\n",
      " 11110011\n"
     ]
    },
    {
     "name": "stdout",
     "output_type": "stream",
     "text": [
      "((110(0101))(0010)1(0001))\n"
     ]
    }
   ],
   "source": [
    "num = int(input())\n",
    "M = [[int(x) for x in input()]for _ in range(num)]\n",
    "\n",
    "def div_m(M, mid, row_start, col_start):\n",
    "    return [row[col_start:col_start + mid] for row in M[row_start:row_start + mid]]\n",
    "def quad(M):\n",
    "    mid = int(len(M) / 2)\n",
    "    if mid == 0:\n",
    "        return M[0][0]\n",
    "    q1 = div_m(M, mid, 0, 0)\n",
    "    q2 = div_m(M, mid, 0, mid)\n",
    "    q3 = div_m(M, mid, mid, 0)\n",
    "    q4 = div_m(M, mid, mid, mid)\n",
    "    answer1 = quad(q1)\n",
    "    answer2 = quad(q2)\n",
    "    answer3 = quad(q3)\n",
    "    answer4 = quad(q4)\n",
    "    if answer1 == answer2 == answer3 == answer4:\n",
    "        return answer1\n",
    "    return f\"({answer1}{answer2}{answer3}{answer4})\"\n",
    "print(quad(M))"
   ]
  },
  {
   "cell_type": "code",
   "execution_count": 261,
   "metadata": {},
   "outputs": [
    {
     "name": "stdin",
     "output_type": "stream",
     "text": [
      " 8\n",
      " 11110000\n",
      " 11110000\n",
      " 00011100\n",
      " 00011100\n",
      " 11110000\n",
      " 11110000\n",
      " 11110011\n",
      " 11110011\n"
     ]
    },
    {
     "name": "stdout",
     "output_type": "stream",
     "text": [
      "((110(0101))(0010)1(0001))\n"
     ]
    }
   ],
   "source": [
    "num = int(input())\n",
    "M = [[int(x) for x in input()]for _ in range(num)]\n",
    "def div_m(M, mid, row_start, col_start):\n",
    "    return [row[col_start:col_start + mid] for row in M[row_start:row_start + mid]]\n",
    "def quad(M):\n",
    "    mid = int(len(M) / 2)\n",
    "    if mid == 0:\n",
    "        return M[0][0]\n",
    "    ls = [0, mid]\n",
    "    Q = [div_m(M, mid, row_start, col_start) for row_start in ls for col_start in ls ]\n",
    "    lu= quad(Q[0])\n",
    "    ru = quad(Q[1])\n",
    "    ld = quad(Q[2])\n",
    "    rd = quad(Q[3])\n",
    "    if lu == ru == ld == rd:\n",
    "        return lu\n",
    "    return f\"({lu}{ru}{ld}{rd})\"\n",
    "print(quad(M))"
   ]
  },
  {
   "cell_type": "code",
   "execution_count": null,
   "metadata": {},
   "outputs": [],
   "source": [
    "num = int(input())\n",
    "M = [[int(x) for x in input()]for _ in range(num)]\n",
    "def div_m(M, mid, row_start, col_start):\n",
    "    return [row[col_start:col_start + mid] for row in M[row_start:row_start + mid]]\n",
    "def quad(M):\n",
    "    mid = int(len(M) / 2)\n",
    "    if mid == 0:\n",
    "        return M[0][0]\n",
    "    ls = [0, mid]\n",
    "    Q = [div_m(M, mid, row_start, col_start) for row_start in ls for col_start in ls ]\n",
    "    Q = [quad(x) for x in Q]    \n",
    "    if Q[0] == Q[1] == Q[2] == Q[3]:\n",
    "        return Q[0]\n",
    "    return f\"({Q[0]}{Q[1]}{Q[2]}{Q[3]})\"\n",
    "print(quad(M))"
   ]
  },
  {
   "cell_type": "code",
   "execution_count": 16,
   "metadata": {},
   "outputs": [
    {
     "name": "stdin",
     "output_type": "stream",
     "text": [
      " 4\n",
      " 1010\n",
      " 0000\n",
      " 1010\n",
      " 0000\n"
     ]
    },
    {
     "name": "stdout",
     "output_type": "stream",
     "text": [
      "((1000)(1000)(1000)(1000))\n"
     ]
    }
   ],
   "source": [
    "num = int(input())\n",
    "M = [[x for x in input()]for _ in range(num)]\n",
    "answer_ls = [\"0\", \"1\"]\n",
    "def div_m(M, mid, row_start, col_start):\n",
    "    return [row[col_start:col_start + mid] for row in M[row_start:row_start + mid]]\n",
    "def quad(M):\n",
    "    mid = int(len(M) / 2)\n",
    "    if mid == 0:\n",
    "        return M[0][0]\n",
    "    ls = [0, mid]\n",
    "    quad_ls = [div_m(M, mid, row_start, col_start) for row_start in ls for col_start in ls ]\n",
    "    Q = [quad(x) for x in quad_ls]    \n",
    "    if Q[0] == Q[1] == Q[2] == Q[3] in answer_ls:\n",
    "        return Q[0]\n",
    "    return f\"({''.join(Q)})\"\n",
    "print(quad(M))"
   ]
  },
  {
   "cell_type": "code",
   "execution_count": null,
   "metadata": {},
   "outputs": [],
   "source": [
    "def quad(M):\n",
    "    mid = int(len(M) / 2)\n",
    "    if mid == 0:\n",
    "        return M[0][0]\n",
    "    ls = [0, mid]\n",
    "    quad_ls = [div_m(M, mid, row_start, col_start) for row_start in ls for col_start in ls ]\n",
    "    Q = [quad(x) for x in quad_ls]    \n",
    "    if Q[0] == Q[1] == Q[2] == Q[3] in answer_ls:\n",
    "        return Q[0]\n",
    "    return f\"({''.join(Q)})\""
   ]
  }
 ],
 "metadata": {
  "kernelspec": {
   "display_name": "Python 3",
   "language": "python",
   "name": "python3"
  },
  "language_info": {
   "codemirror_mode": {
    "name": "ipython",
    "version": 3
   },
   "file_extension": ".py",
   "mimetype": "text/x-python",
   "name": "python",
   "nbconvert_exporter": "python",
   "pygments_lexer": "ipython3",
   "version": "3.7.6"
  }
 },
 "nbformat": 4,
 "nbformat_minor": 4
}
