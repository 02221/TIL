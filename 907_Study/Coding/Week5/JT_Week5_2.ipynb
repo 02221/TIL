{
 "cells": [
  {
   "cell_type": "markdown",
   "metadata": {},
   "source": [
    "파일 이름 : 이름_Week5_2"
   ]
  },
  {
   "cell_type": "markdown",
   "metadata": {},
   "source": [
    "# [차이를 최소로](#차이를최소로)"
   ]
  },
  {
   "cell_type": "markdown",
   "metadata": {},
   "source": [
    "## 출처\n",
    "https://www.acmicpc.net/problem/3090\n"
   ]
  },
  {
   "cell_type": "markdown",
   "metadata": {},
   "source": [
    "# 선행학습"
   ]
  },
  {
   "cell_type": "markdown",
   "metadata": {},
   "source": []
  },
  {
   "cell_type": "markdown",
   "metadata": {},
   "source": [
    "# 차이를최소로"
   ]
  },
  {
   "cell_type": "markdown",
   "metadata": {},
   "source": [
    "## 문제\n",
    "정수 N개로 이루어진 배열 A가 주어진다. 상근이는 수열의 수 하나를 골라서 값을 1 감소시킬 수 있다. 단, 수는 1보다 작아질 수 없다.\n",
    "\n",
    "상근이는 위의 감소시키는 연산을 최대 T번 하려고 한다. 이때, 인접한 수의 차이의 최댓값을 최소로 하는 프로그램을 출력하시오."
   ]
  },
  {
   "cell_type": "markdown",
   "metadata": {},
   "source": [
    "## 입력\n",
    "\n",
    "첫째 줄에 N과 T가 주어진다.$(2 ≤ N ≤ 100 000, 1 ≤ T ≤ 10^9)$\n",
    "\n",
    "둘째 줄에는 배열에 들어있는 수가 주어진다. (109보다 작은 자연수)"
   ]
  },
  {
   "cell_type": "markdown",
   "metadata": {},
   "source": [
    "## 출력\n",
    "첫째 줄에 인접한 수의 차이의 최댓값을 가장 작게한 배열 A의 내용을 공백으로 구분하여 출력한다. 최대 T번 감소시켜야 한다."
   ]
  },
  {
   "cell_type": "markdown",
   "metadata": {},
   "source": [
    "## 풀이"
   ]
  },
  {
   "cell_type": "code",
   "execution_count": 2,
   "metadata": {},
   "outputs": [],
   "source": [
    "import copy"
   ]
  },
  {
   "cell_type": "code",
   "execution_count": 3,
   "metadata": {},
   "outputs": [
    {
     "name": "stdin",
     "output_type": "stream",
     "text": [
      " 5 5\n",
      " 4 2 3 7 6\n"
     ]
    },
    {
     "data": {
      "text/plain": [
       "'3 2 3 4 5'"
      ]
     },
     "execution_count": 3,
     "metadata": {},
     "output_type": "execute_result"
    }
   ],
   "source": [
    "N, T = [int(x) for x in input().split()]\n",
    "ar = [int(x) for x in input().split()]\n",
    "array = copy.deepcopy(ar)\n",
    "def get_max_diff(array):\n",
    "    diff_ls = [(abs(array[i+1] - array[i]), i+1)  if array[i+1] > array[i] else (abs(array[i+1] - array[i]), i) for i in range(N -1)]\n",
    "    return diff_ls\n",
    "def get_max_diff_idx(array):\n",
    "    diff_ls = get_max_diff(array)\n",
    "    return max(get_max_diff(array))[1]\n",
    "for i in range(T):\n",
    "    idx = get_max_diff_idx(array)\n",
    "    array[idx] -= 1\n",
    "\" \".join([str(x) for x in array])   "
   ]
  },
  {
   "cell_type": "code",
   "execution_count": 6,
   "metadata": {},
   "outputs": [
    {
     "name": "stdin",
     "output_type": "stream",
     "text": [
      " 5 5\n",
      " 4 2 3 7 6\n"
     ]
    },
    {
     "data": {
      "text/plain": [
       "'3 2 3 4 5'"
      ]
     },
     "execution_count": 6,
     "metadata": {},
     "output_type": "execute_result"
    }
   ],
   "source": [
    "N, T = [int(x) for x in input().split()]\n",
    "ar = [int(x) for x in input().split()]\n",
    "array = copy.deepcopy(ar)\n",
    "def get_max_diff(array):\n",
    "    diff_ls = [(abs(array[i+1] - array[i]), i+1)  if array[i+1] > array[i] else (abs(array[i+1] - array[i]), i) for i in range(N -1)]\n",
    "    return diff_ls\n",
    "def get_max_diff_idx(array):\n",
    "    diff_ls = get_max_diff(array)\n",
    "    return max(get_max_diff(array))\n",
    "while T > 0:\n",
    "    val, idx = get_max_diff_idx(array)\n",
    "    T -= val // 2\n",
    "    array[idx] -= val // 2\n",
    "\" \".join([str(x) for x in array])    "
   ]
  },
  {
   "cell_type": "code",
   "execution_count": 14,
   "metadata": {},
   "outputs": [],
   "source": [
    "a = \"asd Kim asd\""
   ]
  },
  {
   "cell_type": "code",
   "execution_count": 15,
   "metadata": {},
   "outputs": [
    {
     "data": {
      "text/plain": [
       "4"
      ]
     },
     "execution_count": 15,
     "metadata": {},
     "output_type": "execute_result"
    }
   ],
   "source": [
    "a.find(\"Kim\")"
   ]
  },
  {
   "cell_type": "code",
   "execution_count": 29,
   "metadata": {},
   "outputs": [],
   "source": [
    "a = [\"Jane\", \"Kim\"]"
   ]
  },
  {
   "cell_type": "code",
   "execution_count": 36,
   "metadata": {},
   "outputs": [],
   "source": [
    "def solution(seoul):\n",
    "    answer = [idx for idx, val in enumerate(seoul) if val == \"Kim\"][0]\n",
    "    return f\"김서방은 {answer}에 있다\""
   ]
  },
  {
   "cell_type": "code",
   "execution_count": 37,
   "metadata": {},
   "outputs": [
    {
     "data": {
      "text/plain": [
       "'김서방은 1에 있다'"
      ]
     },
     "execution_count": 37,
     "metadata": {},
     "output_type": "execute_result"
    }
   ],
   "source": [
    "solution(a)"
   ]
  },
  {
   "cell_type": "code",
   "execution_count": null,
   "metadata": {},
   "outputs": [],
   "source": []
  }
 ],
 "metadata": {
  "kernelspec": {
   "display_name": "Python 3",
   "language": "python",
   "name": "python3"
  },
  "language_info": {
   "codemirror_mode": {
    "name": "ipython",
    "version": 3
   },
   "file_extension": ".py",
   "mimetype": "text/x-python",
   "name": "python",
   "nbconvert_exporter": "python",
   "pygments_lexer": "ipython3",
   "version": "3.7.6"
  }
 },
 "nbformat": 4,
 "nbformat_minor": 4
}
