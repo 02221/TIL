{
 "cells": [
  {
   "cell_type": "markdown",
   "metadata": {},
   "source": [
    "파일 이름 : 이름_Week5_2"
   ]
  },
  {
   "cell_type": "markdown",
   "metadata": {},
   "source": [
    "# [차이를 최소로](#차이를 최소로)"
   ]
  },
  {
   "cell_type": "markdown",
   "metadata": {},
   "source": [
    "## 출처\n",
    "https://www.acmicpc.net/problem/3090\n"
   ]
  },
  {
   "cell_type": "markdown",
   "metadata": {},
   "source": [
    "# 선행학습"
   ]
  },
  {
   "cell_type": "markdown",
   "metadata": {},
   "source": []
  },
  {
   "cell_type": "markdown",
   "metadata": {},
   "source": [
    "# 차이를 최소로"
   ]
  },
  {
   "cell_type": "markdown",
   "metadata": {},
   "source": [
    "## 문제\n",
    "정수 N개로 이루어진 배열 A가 주어진다. 상근이는 수열의 수 하나를 골라서 값을 1 감소시킬 수 있다. 단, 수는 1보다 작아질 수 없다.\n",
    "\n",
    "상근이는 위의 감소시키는 연산을 최대 T번 하려고 한다. 이때, 인접한 수의 차이의 최댓값을 최소로 하는 프로그램을 출력하시오."
   ]
  },
  {
   "cell_type": "markdown",
   "metadata": {},
   "source": [
    "## 입력\n",
    "\n",
    "첫째 줄에 N과 T가 주어진다.$(2 ≤ N ≤ 100 000, 1 ≤ T ≤ 10^9)$\n",
    "\n",
    "둘째 줄에는 배열에 들어있는 수가 주어진다. (109보다 작은 자연수)"
   ]
  },
  {
   "cell_type": "markdown",
   "metadata": {},
   "source": [
    "## 출력\n",
    "첫째 줄에 인접한 수의 차이의 최댓값을 가장 작게한 배열 A의 내용을 공백으로 구분하여 출력한다. 최대 T번 감소시켜야 한다."
   ]
  },
  {
   "cell_type": "markdown",
   "metadata": {},
   "source": [
    "## 풀이"
   ]
  },
  {
   "cell_type": "code",
   "execution_count": null,
   "metadata": {},
   "outputs": [],
   "source": [
    "N,T=map(int,input().split())\n",
    "arr=list(map(int,input().split()))\n",
    "list_left=[]\n",
    "\n",
    "\n",
    "def left(k):   \n",
    "    if abs(arr[k]-arr[k+1])!=1 :\n",
    "        arr[k]=arr[k]-1    \n",
    "        left(k)\n",
    "\n",
    "    elif abs(arr[k]-arr[k+1])==1:\n",
    "        if k-1==0:\n",
    "            list_left.insert(0,arr[k])\n",
    "            left(k-1)       \n",
    "            return\n",
    "        elif k-1>0:      \n",
    "            left(k-1)\n",
    "        elif k==0:\n",
    "            list_left.insert(0,arr[k])\n",
    "            return\n",
    "    elif abs(arr[k]-arr[k+1])==0:\n",
    "        return \n",
    "        \n",
    "def right(k):\n",
    "    if abs(arr[k]-arr[k-1])!=1:\n",
    "        arr[k]=arr[k]-1\n",
    "        right(k)\n",
    "    elif abs(arr[k]-arr[k-1])==1:\n",
    "        if k==len(arr)-1:\n",
    "            list_left.append(arr[k])\n",
    "            return\n",
    "\n",
    "        elif k<len(arr)-1:\n",
    "            list_left.append(arr[k])\n",
    "            right(k+1)\n",
    "        \n",
    "    elif abs(arr[k]-arr[k-1])==0:\n",
    "        return\n",
    "\n",
    "k=int((len(arr)-1)/2)\n",
    "list_left.append(arr[k])\n",
    "left(k-1)\n",
    "right(k+1)\n",
    "\n",
    "print(list_left)\n"
   ]
  }
 ],
 "metadata": {
  "kernelspec": {
   "display_name": "Python 3",
   "language": "python",
   "name": "python3"
  },
  "language_info": {
   "codemirror_mode": {
    "name": "ipython",
    "version": 3
   },
   "file_extension": ".py",
   "mimetype": "text/x-python",
   "name": "python",
   "nbconvert_exporter": "python",
   "pygments_lexer": "ipython3",
   "version": "3.7.3"
  }
 },
 "nbformat": 4,
 "nbformat_minor": 4
}
