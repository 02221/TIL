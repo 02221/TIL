{
 "cells": [
  {
   "cell_type": "markdown",
   "metadata": {},
   "source": [
    "파일 이름 : 이름_Week2_1"
   ]
  },
  {
   "cell_type": "markdown",
   "metadata": {},
   "source": [
    "# [프린터 큐](#프린터큐)"
   ]
  },
  {
   "cell_type": "markdown",
   "metadata": {},
   "source": [
    "## 출처\n",
    "https://www.acmicpc.net/problem/14681"
   ]
  },
  {
   "cell_type": "markdown",
   "metadata": {},
   "source": [
    "# 선행학습"
   ]
  },
  {
   "cell_type": "markdown",
   "metadata": {},
   "source": [
    "https://www.youtube.com/watch?v=BdsyG5yP1cQ  \n",
    "https://www.youtube.com/watch?v=wrF6YQS6BZ8&list=PLbhbGI_ppZIS8EDpOliM7d8GA7wQqAs2q&index=2  "
   ]
  },
  {
   "cell_type": "markdown",
   "metadata": {},
   "source": [
    "# 프린터큐"
   ]
  },
  {
   "cell_type": "markdown",
   "metadata": {},
   "source": [
    "## 문제\n",
    "여러분도 알다시피 여러분의 프린터 기기는 여러분이 인쇄하고자 하는 문서를 인쇄 명령을 받은 ‘순서대로’, 즉 먼저 요청된 것을 먼저 인쇄한다. 여러 개의 문서가 쌓인다면 Queue 자료구조에 쌓여서 FIFO - First In First Out - 에 따라 인쇄가 되게 된다. 하지만 상근이는 새로운 프린터기 내부 소프트웨어를 개발하였는데, 이 프린터기는 다음과 같은 조건에 따라 인쇄를 하게 된다.\n",
    "\n",
    "현재 Queue의 가장 앞에 있는 문서의 ‘중요도’를 확인한다.\n",
    "나머지 문서들 중 현재 문서보다 중요도가 높은 문서가 하나라도 있다면, 이 문서를 인쇄하지 않고 Queue의 가장 뒤에 재배치 한다. 그렇지 않다면 바로 인쇄를 한다.\n",
    "예를 들어 Queue에 4개의 문서(A B C D)가 있고, 중요도가 2 1 4 3 라면 C를 인쇄하고, 다음으로 D를 인쇄하고 A, B를 인쇄하게 된다.\n",
    "\n",
    "여러분이 할 일은, 현재 Queue에 있는 문서의 수와 중요도가 주어졌을 때, 어떤 한 문서가 몇 번째로 인쇄되는지 알아내는 것이다. 예를 들어 위의 예에서 C문서는 1번째로, A문서는 3번째로 인쇄되게 된다."
   ]
  },
  {
   "cell_type": "markdown",
   "metadata": {},
   "source": [
    "## 입력\n",
    "첫 줄에 test case의 수가 주어진다. 각 test case에 대해서 문서의 수 N(100이하)와 몇 번째로 인쇄되었는지 궁금한 문서가 현재 Queue의 어떤 위치에 있는지를 알려주는 M(0이상 N미만)이 주어진다. 다음줄에 N개 문서의 중요도가 주어지는데, 중요도는 1 이상 9 이하이다. 중요도가 같은 문서가 여러 개 있을 수도 있다. 위의 예는 N=4, M=0(A문서가 궁금하다면), 중요도는 2 1 4 3이 된다."
   ]
  },
  {
   "cell_type": "markdown",
   "metadata": {},
   "source": [
    "## 출력\n",
    "각 test case에 대해 문서가 몇 번째로 인쇄되는지 출력한다."
   ]
  },
  {
   "cell_type": "markdown",
   "metadata": {},
   "source": [
    "## 풀이"
   ]
  },
  {
   "cell_type": "code",
   "execution_count": 1,
   "metadata": {},
   "outputs": [],
   "source": [
    "#qdic = {'A':2, 'B':1,'C':4, 'D':3}\n",
    "#딕셔너리 형으로 자료를 input하면 문서랑 순서를 대응시킬 수 있으니까 좋지 않을까?"
   ]
  },
  {
   "cell_type": "code",
   "execution_count": 2,
   "metadata": {},
   "outputs": [
    {
     "data": {
      "text/plain": [
       "dict_keys(['A', 'B', 'C', 'D'])"
      ]
     },
     "execution_count": 2,
     "metadata": {},
     "output_type": "execute_result"
    }
   ],
   "source": [
    "#qdic.keys()"
   ]
  },
  {
   "cell_type": "code",
   "execution_count": 3,
   "metadata": {},
   "outputs": [
    {
     "data": {
      "text/plain": [
       "dict_values([2, 1, 4, 3])"
      ]
     },
     "execution_count": 3,
     "metadata": {},
     "output_type": "execute_result"
    }
   ],
   "source": [
    "#qdic.values()"
   ]
  },
  {
   "cell_type": "code",
   "execution_count": null,
   "metadata": {},
   "outputs": [],
   "source": [
    "#dic_keys객체는 리스트 고유의 append, insert, pop, remove, sort함수 사용불가"
   ]
  },
  {
   "cell_type": "code",
   "execution_count": 4,
   "metadata": {},
   "outputs": [],
   "source": []
  },
  {
   "cell_type": "code",
   "execution_count": null,
   "metadata": {},
   "outputs": [],
   "source": [
    "#count=0 부터 시작해서 앞의 요소들이 꺼내질 때마다 count += 1\n",
    "#맨 앞 문서의 중요도가 max면 출력: if index(max()) == 0:\n",
    "#아닐 때 그 문서를 뒤로 보냄"
   ]
  },
  {
   "cell_type": "code",
   "execution_count": null,
   "metadata": {},
   "outputs": [],
   "source": []
  },
  {
   "cell_type": "code",
   "execution_count": null,
   "metadata": {},
   "outputs": [],
   "source": [
    "case = int(input())\n",
    "\n",
    "for _ in range(case):\n",
    "    N, M = map(int, input().split())\n",
    "    # https://dojang.io/mod/page/view.php?id=2179\n",
    "    # N, M = input().split()\n",
    "    # N = int(N)\n",
    "    # M = int(M)\n",
    "    \n",
    "    print_list = list(map(int, input().split()))\n",
    "    prior_number = [] # prior number에 모든 수를 넣어 우선순위의 max 숫자 확인할 때 쓴다\n",
    "\n",
    "    # 우선순위를 탐색하기 위한 리스트\n",
    "    for doc in print_list:\n",
    "        prior_number.append(doc) # 문서를 prior_number 리스트에 넣어주기\n",
    "            \n",
    "    # queue 안에 index를 넣어 탐색    \n",
    "    result = [0 for _ in range(N)] # [(변수를 활용한 값) for (사용할 변수이름) in (순회할 수 있는 값)]\n",
    "    queue = [i for i in range(N)]\n",
    "    sequence = 1 # sequence로 해당 숫자가 몇 번째로 꺼내지는 지를 표시한다\n",
    "    \n",
    "    while queue:\n",
    "        if print_list[queue[0]] == max(prior_number):\n",
    "        # queue 의 첫번째 자리 숫자가 prior_number 리스트 안의 가장 높은 숫자라면\n",
    "        \n",
    "            prior_number.remove(max(prior_number))\n",
    "            # 그 문서를 prior_number 리스트에서 제거하고\n",
    "            # result 리스트안에 담아줌\n",
    "            result[queue.pop(0)] = sequence\n",
    "            # pop(x)는 리스트의 x번째 요소를 돌려주고 그 요소를 삭제한다\n",
    "            \n",
    "            sequence += 1\n",
    "            # 만약 4,3,2,1 순으로 담겨져 있다면 1은 4번째로 꺼내짐\n",
    "        \n",
    "        else:\n",
    "            queue.append(queue.pop(0))\n",
    "            # 가장 높은 숫자가 아니라면 queue의 첫번째 요소를 queue의 뒷부분으로 다시 보냄\n",
    "            # 앞자리에서 뒷부분으로 보냄 => 앞자리에서 제거 + 뒷자리에 추가\n",
    "            \n",
    "    print(result[M])"
   ]
  },
  {
   "cell_type": "code",
   "execution_count": null,
   "metadata": {},
   "outputs": [],
   "source": []
  }
 ],
 "metadata": {
  "kernelspec": {
   "display_name": "Python 3",
   "language": "python",
   "name": "python3"
  },
  "language_info": {
   "codemirror_mode": {
    "name": "ipython",
    "version": 3
   },
   "file_extension": ".py",
   "mimetype": "text/x-python",
   "name": "python",
   "nbconvert_exporter": "python",
   "pygments_lexer": "ipython3",
   "version": "3.7.4"
  }
 },
 "nbformat": 4,
 "nbformat_minor": 4
}
