{
 "cells": [
  {
   "cell_type": "markdown",
   "metadata": {},
   "source": [
    "파일 이름 : 이름_Week2_1"
   ]
  },
  {
   "cell_type": "markdown",
   "metadata": {},
   "source": [
    "# [프린터 큐](#프린터큐)"
   ]
  },
  {
   "cell_type": "markdown",
   "metadata": {},
   "source": [
    "## 출처\n",
    "https://www.acmicpc.net/problem/14681"
   ]
  },
  {
   "cell_type": "markdown",
   "metadata": {},
   "source": [
    "# 선행학습"
   ]
  },
  {
   "cell_type": "markdown",
   "metadata": {},
   "source": [
    "https://www.youtube.com/watch?v=BdsyG5yP1cQ  \n",
    "https://www.youtube.com/watch?v=wrF6YQS6BZ8&list=PLbhbGI_ppZIS8EDpOliM7d8GA7wQqAs2q&index=2  "
   ]
  },
  {
   "cell_type": "markdown",
   "metadata": {},
   "source": [
    "# 프린터큐"
   ]
  },
  {
   "cell_type": "markdown",
   "metadata": {},
   "source": [
    "## 문제\n",
    "여러분도 알다시피 여러분의 프린터 기기는 여러분이 인쇄하고자 하는 문서를 인쇄 명령을 받은 ‘순서대로’, 즉 먼저 요청된 것을 먼저 인쇄한다. 여러 개의 문서가 쌓인다면 Queue 자료구조에 쌓여서 FIFO - First In First Out - 에 따라 인쇄가 되게 된다. 하지만 상근이는 새로운 프린터기 내부 소프트웨어를 개발하였는데, 이 프린터기는 다음과 같은 조건에 따라 인쇄를 하게 된다.\n",
    "\n",
    "현재 Queue의 가장 앞에 있는 문서의 ‘중요도’를 확인한다.\n",
    "나머지 문서들 중 현재 문서보다 중요도가 높은 문서가 하나라도 있다면, 이 문서를 인쇄하지 않고 Queue의 가장 뒤에 재배치 한다. 그렇지 않다면 바로 인쇄를 한다.\n",
    "예를 들어 Queue에 4개의 문서(A B C D)가 있고, 중요도가 2 1 4 3 라면 C를 인쇄하고, 다음으로 D를 인쇄하고 A, B를 인쇄하게 된다.\n",
    "\n",
    "여러분이 할 일은, 현재 Queue에 있는 문서의 수와 중요도가 주어졌을 때, 어떤 한 문서가 몇 번째로 인쇄되는지 알아내는 것이다. 예를 들어 위의 예에서 C문서는 1번째로, A문서는 3번째로 인쇄되게 된다."
   ]
  },
  {
   "cell_type": "markdown",
   "metadata": {},
   "source": [
    "## 입력\n",
    "첫 줄에 test case의 수가 주어진다. 각 test case에 대해서 문서의 수 N(100이하)와 몇 번째로 인쇄되었는지 궁금한 문서가 현재 Queue의 어떤 위치에 있는지를 알려주는 M(0이상 N미만)이 주어진다. 다음줄에 N개 문서의 중요도가 주어지는데, 중요도는 1 이상 9 이하이다. 중요도가 같은 문서가 여러 개 있을 수도 있다. 위의 예는 N=4, M=0(A문서가 궁금하다면), 중요도는 2 1 4 3이 된다."
   ]
  },
  {
   "cell_type": "markdown",
   "metadata": {},
   "source": [
    "## 출력\n",
    "각 test case에 대해 문서가 몇 번째로 인쇄되는지 출력한다."
   ]
  },
  {
   "cell_type": "markdown",
   "metadata": {},
   "source": [
    "## 풀이"
   ]
  },
  {
   "cell_type": "code",
   "execution_count": 1,
   "metadata": {},
   "outputs": [],
   "source": [
    "import copy ## 깊은 copy를 하기 위해 import"
   ]
  },
  {
   "cell_type": "code",
   "execution_count": null,
   "metadata": {},
   "outputs": [
    {
     "name": "stdin",
     "output_type": "stream",
     "text": [
      "100이하의 자연수 입력\n",
      " 4\n"
     ]
    }
   ],
   "source": [
    "num = int(input(\"100이하의 자연수 입력\\n\"))\n",
    "board = [[int(x) for x in input().split()] for y in range(num*2)]"
   ]
  },
  {
   "cell_type": "code",
   "execution_count": 4,
   "metadata": {},
   "outputs": [],
   "source": [
    "data = copy.deepcopy(board) ## 필요없는 코드지만 코딩중에 계속 input을 입력하기 어려워서 깊은 copy로 데이터 저장"
   ]
  },
  {
   "cell_type": "code",
   "execution_count": 5,
   "metadata": {},
   "outputs": [],
   "source": [
    "## k_th는 우리가 알고자하는 안쇄물이 배열의 어디에 위치하는지 나타냄\n",
    "## quelist는 가중치가 쓰여있는 배열 \n",
    "## k번째, 가중치 배열을 입력했을 때 몇 번째 인쇄되는지 구하는 함수 \n",
    "def print_numb(k_th, quelist):\n",
    "    count = 0                                    ## count : 프린트 된 홧수\n",
    "    while True:                                 ## 아래 과정이 계속 반복되어야 하므로 while문 사용\n",
    "        if quelist[0] == max(quelist):           ## quelist의 맨 앞이 가장 큰 수라면 그걸 인쇄한다\n",
    "            del quelist[0]                       ## 그리고 그 수를 배열에서 삭제한다\n",
    "            count += 1             \n",
    "            if k_th == 0:                        ## 만약 우리가 보고자 한게 0번째에 있다면 그게 프린트 된것이므로 반복문 탈출\n",
    "                return count\n",
    "            else:\n",
    "                k_th -= 1                        ## 우리가 보고자 한게 0번째가 아니라면 배열에서 한칸 앞으로 왔으므로 k_th를 1 빼줌\n",
    "        else:\n",
    "            quelist.append(quelist[0])            ## quelist 맨 앞의 수가 배열에서 가장 크지 않다면 배열의 맨뒤로 보냄\n",
    "            del quelist[0]\n",
    "            if k_th > 0:                          ## 우리가 보고자 하는게 0보다 크다면 배열 한칸 앞으로 땡겨졌으니까 k_th를 1빼줌\n",
    "                k_th -= 1\n",
    "            elif k_th == 0:                       ## 우리가 보고자 하는게 맨 앞에 있었다면 이젠 맨 뒤로 가야하니까 k_th를 이렇게 바꿈\n",
    "                k_th = len(quelist) - 1\n",
    "            else:\n",
    "                pass"
   ]
  },
  {
   "cell_type": "code",
   "execution_count": 6,
   "metadata": {},
   "outputs": [
    {
     "name": "stdout",
     "output_type": "stream",
     "text": [
      "1\n",
      "2\n",
      "5\n"
     ]
    }
   ],
   "source": [
    "for i in range(num):\n",
    "    print(print_numb(data[i*2][1], data[i*2+1]))"
   ]
  },
  {
   "cell_type": "code",
   "execution_count": null,
   "metadata": {},
   "outputs": [],
   "source": []
  }
 ],
 "metadata": {
  "kernelspec": {
   "display_name": "Python 3",
   "language": "python",
   "name": "python3"
  },
  "language_info": {
   "codemirror_mode": {
    "name": "ipython",
    "version": 3
   },
   "file_extension": ".py",
   "mimetype": "text/x-python",
   "name": "python",
   "nbconvert_exporter": "python",
   "pygments_lexer": "ipython3",
   "version": "3.7.4"
  }
 },
 "nbformat": 4,
 "nbformat_minor": 4
}
