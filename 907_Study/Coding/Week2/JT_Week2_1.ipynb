{
 "cells": [
  {
   "cell_type": "markdown",
   "metadata": {},
   "source": [
    "파일 이름 : 이름_Week2_1"
   ]
  },
  {
   "cell_type": "markdown",
   "metadata": {},
   "source": [
    "# [프린터 큐](#프린터큐)"
   ]
  },
  {
   "cell_type": "markdown",
   "metadata": {},
   "source": [
    "## 출처\n",
    "https://www.acmicpc.net/problem/1966"
   ]
  },
  {
   "cell_type": "markdown",
   "metadata": {},
   "source": [
    "# 선행학습"
   ]
  },
  {
   "cell_type": "markdown",
   "metadata": {},
   "source": [
    "https://www.youtube.com/watch?v=BdsyG5yP1cQ  \n",
    "https://www.youtube.com/watch?v=wrF6YQS6BZ8&list=PLbhbGI_ppZIS8EDpOliM7d8GA7wQqAs2q&index=2  "
   ]
  },
  {
   "cell_type": "markdown",
   "metadata": {},
   "source": [
    "# 프린터큐"
   ]
  },
  {
   "cell_type": "markdown",
   "metadata": {},
   "source": [
    "## 문제\n",
    "여러분도 알다시피 여러분의 프린터 기기는 여러분이 인쇄하고자 하는 문서를 인쇄 명령을 받은 ‘순서대로’, 즉 먼저 요청된 것을 먼저 인쇄한다. 여러 개의 문서가 쌓인다면 Queue 자료구조에 쌓여서 FIFO - First In First Out - 에 따라 인쇄가 되게 된다. 하지만 상근이는 새로운 프린터기 내부 소프트웨어를 개발하였는데, 이 프린터기는 다음과 같은 조건에 따라 인쇄를 하게 된다.\n",
    "\n",
    "현재 Queue의 가장 앞에 있는 문서의 ‘중요도’를 확인한다.\n",
    "나머지 문서들 중 현재 문서보다 중요도가 높은 문서가 하나라도 있다면, 이 문서를 인쇄하지 않고 Queue의 가장 뒤에 재배치 한다. 그렇지 않다면 바로 인쇄를 한다.\n",
    "예를 들어 Queue에 4개의 문서(A B C D)가 있고, 중요도가 2 1 4 3 라면 C를 인쇄하고, 다음으로 D를 인쇄하고 A, B를 인쇄하게 된다.\n",
    "\n",
    "여러분이 할 일은, 현재 Queue에 있는 문서의 수와 중요도가 주어졌을 때, 어떤 한 문서가 몇 번째로 인쇄되는지 알아내는 것이다. 예를 들어 위의 예에서 C문서는 1번째로, A문서는 3번째로 인쇄되게 된다."
   ]
  },
  {
   "cell_type": "markdown",
   "metadata": {},
   "source": [
    "## 입력\n",
    "첫 줄에 test case의 수가 주어진다. 각 test case에 대해서 문서의 수 N(100이하)와 몇 번째로 인쇄되었는지 궁금한 문서가 현재 Queue의 어떤 위치에 있는지를 알려주는 M(0이상 N미만)이 주어진다. 다음줄에 N개 문서의 중요도가 주어지는데, 중요도는 1 이상 9 이하이다. 중요도가 같은 문서가 여러 개 있을 수도 있다. 위의 예는 N=4, M=0(A문서가 궁금하다면), 중요도는 2 1 4 3이 된다."
   ]
  },
  {
   "cell_type": "markdown",
   "metadata": {},
   "source": [
    "## 출력\n",
    "각 test case에 대해 문서가 몇 번째로 인쇄되는지 출력한다."
   ]
  },
  {
   "cell_type": "markdown",
   "metadata": {},
   "source": [
    "## 풀이"
   ]
  },
  {
   "cell_type": "code",
   "execution_count": null,
   "metadata": {},
   "outputs": [],
   "source": [
    "# 중요도 확인, if 높은게 있다면 가장 뒤에 재배치\n",
    "# 중요도가 높은 문서가 있다면 가장 뒤에 배치를 한다\n",
    "def dequeue(enum_ls):\n",
    "    result = []\n",
    "    while len(enum_ls): #if len(enum_ls) == 0: break\n",
    "        max_imp = max(enum_ls, key = lambda x : x[1]) # max importance\n",
    "        if enum_ls[0][1] < max_imp[1]:\n",
    "            enum_ls.insert(len(enum_ls), enum_ls.pop(0))\n",
    "        else:\n",
    "            result.append(enum_ls[0])\n",
    "            enum_ls.pop(0)          \n",
    "    return result\n",
    "def index_to_output(result, size, imp_index):\n",
    "    for i in result:\n",
    "        if i[0] == imp_index:\n",
    "            answer = result.index(i) + 1\n",
    "            return answer\n",
    "        else:\n",
    "            continue\n",
    "outputs = []\n",
    "## case 개수 입력\n",
    "for _ in range(int(input())):\n",
    "    ## 문서 수(N), 궁금한 문서(M)\n",
    "    N, M = map(int, input().split(\" \"))\n",
    "    ## 문서 중요도\n",
    "    queue   = list(enumerate(map(int, input().split(\" \"))))\n",
    "    ## dequeue : 중요도 -> (dequeue 순서)(중요도, 위치)\n",
    "    result = dequeue(queue)\n",
    "    ## 관심(M)이 있으면 \n",
    "    answer = index_to_output(result, N, M)\n",
    "    outputs.append(answer)\n",
    "for output in outputs:\n",
    "    print(output)"
   ]
  },
  {
   "cell_type": "code",
   "execution_count": 59,
   "metadata": {},
   "outputs": [],
   "source": [
    "def dequeue(enum_ls):\n",
    "    result = []\n",
    "    while len(enum_ls): #if len(enum_ls) == 0: break\n",
    "        max_imp = max(enum_ls, key = lambda x : x[1]) # max importance\n",
    "        if enum_ls[0][1] < max_imp[1]:\n",
    "            enum_ls.insert(len(enum_ls), enum_ls.pop(0))\n",
    "        else:\n",
    "            result.append(enum_ls[0])\n",
    "            enum_ls.pop(0)\n",
    "    return result\n",
    "def index_to_output(result, size, imp_index):\n",
    "    for i in result:\n",
    "        if i[0] == imp_index:\n",
    "            answer = result.index(i) + 1\n",
    "            return answer\n",
    "        else:\n",
    "            continue\n",
    "\n",
    "def solution(priorities, location):\n",
    "    result = dequeue(list(enumerate(priorities)))\n",
    "    answer = index_to_output(result, len(priorities), location)\n",
    "    return answer"
   ]
  },
  {
   "cell_type": "code",
   "execution_count": 60,
   "metadata": {},
   "outputs": [
    {
     "data": {
      "text/plain": [
       "13"
      ]
     },
     "execution_count": 60,
     "metadata": {},
     "output_type": "execute_result"
    }
   ],
   "source": [
    "solution([6, 5, 7, 8, 9, 2, 9, 8, 4, 5, 8, 4, 8, 7, 5, 8, 2, 4, 9, 4, 4, 6, 4, 6, 6, 4, 5, 1, 7, 6, 8, 2, 2, 6, 9, 8, 5, 6, 4, 8, 8, 9, 9, 6, 5, 5, 4], 35)"
   ]
  }
 ],
 "metadata": {
  "kernelspec": {
   "display_name": "Python 3",
   "language": "python",
   "name": "python3"
  },
  "language_info": {
   "codemirror_mode": {
    "name": "ipython",
    "version": 3
   },
   "file_extension": ".py",
   "mimetype": "text/x-python",
   "name": "python",
   "nbconvert_exporter": "python",
   "pygments_lexer": "ipython3",
   "version": "3.7.6"
  }
 },
 "nbformat": 4,
 "nbformat_minor": 4
}
