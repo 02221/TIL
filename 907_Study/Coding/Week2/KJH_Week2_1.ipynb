{
 "cells": [
  {
   "cell_type": "markdown",
   "metadata": {},
   "source": [
    "파일 이름 : 이름_Week2_1"
   ]
  },
  {
   "cell_type": "markdown",
   "metadata": {},
   "source": [
    "# [프린터 큐](#프린터큐)"
   ]
  },
  {
   "cell_type": "markdown",
   "metadata": {},
   "source": [
    "## 출처\n",
    "https://www.acmicpc.net/problem/1966"
   ]
  },
  {
   "cell_type": "markdown",
   "metadata": {},
   "source": [
    "# 선행학습"
   ]
  },
  {
   "cell_type": "markdown",
   "metadata": {},
   "source": [
    "https://www.youtube.com/watch?v=BdsyG5yP1cQ  \n",
    "https://www.youtube.com/watch?v=wrF6YQS6BZ8&list=PLbhbGI_ppZIS8EDpOliM7d8GA7wQqAs2q&index=2  "
   ]
  },
  {
   "cell_type": "markdown",
   "metadata": {},
   "source": [
    "# 프린터큐"
   ]
  },
  {
   "cell_type": "markdown",
   "metadata": {},
   "source": [
    "## 문제\n",
    "여러분도 알다시피 여러분의 프린터 기기는 여러분이 인쇄하고자 하는 문서를 인쇄 명령을 받은 ‘순서대로’, 즉 먼저 요청된 것을 먼저 인쇄한다. 여러 개의 문서가 쌓인다면 Queue 자료구조에 쌓여서 FIFO - First In First Out - 에 따라 인쇄가 되게 된다. 하지만 상근이는 새로운 프린터기 내부 소프트웨어를 개발하였는데, 이 프린터기는 다음과 같은 조건에 따라 인쇄를 하게 된다.\n",
    "\n",
    "현재 Queue의 가장 앞에 있는 문서의 ‘중요도’를 확인한다.\n",
    "나머지 문서들 중 현재 문서보다 중요도가 높은 문서가 하나라도 있다면, 이 문서를 인쇄하지 않고 Queue의 가장 뒤에 재배치 한다. 그렇지 않다면 바로 인쇄를 한다.\n",
    "예를 들어 Queue에 4개의 문서(A B C D)가 있고, 중요도가 2 1 4 3 라면 C를 인쇄하고, 다음으로 D를 인쇄하고 A, B를 인쇄하게 된다.\n",
    "\n",
    "여러분이 할 일은, 현재 Queue에 있는 문서의 수와 중요도가 주어졌을 때, 어떤 한 문서가 몇 번째로 인쇄되는지 알아내는 것이다. 예를 들어 위의 예에서 C문서는 1번째로, A문서는 3번째로 인쇄되게 된다."
   ]
  },
  {
   "cell_type": "markdown",
   "metadata": {},
   "source": [
    "## 입력\n",
    "첫 줄에 test case의 수가 주어진다. 각 test case에 대해서 문서의 수 N(100이하)와 몇 번째로 인쇄되었는지 궁금한 문서가 현재 Queue의 어떤 위치에 있는지를 알려주는 M(0이상 N미만)이 주어진다. 다음줄에 N개 문서의 중요도가 주어지는데, 중요도는 1 이상 9 이하이다. 중요도가 같은 문서가 여러 개 있을 수도 있다. 위의 예는 N=4, M=0(A문서가 궁금하다면), 중요도는 2 1 4 3이 된다."
   ]
  },
  {
   "cell_type": "markdown",
   "metadata": {},
   "source": [
    "## 출력\n",
    "각 test case에 대해 문서가 몇 번째로 인쇄되는지 출력한다."
   ]
  },
  {
   "cell_type": "markdown",
   "metadata": {},
   "source": [
    "## 풀이"
   ]
  },
  {
   "cell_type": "code",
   "execution_count": 1,
   "metadata": {},
   "outputs": [
    {
     "name": "stdout",
     "output_type": "stream",
     "text": [
      "3 1 0 5 4 2 1 2 3 4 6 0 1 1 9 1 1 1\n"
     ]
    },
    {
     "ename": "ValueError",
     "evalue": "invalid literal for int() with base 10: '3 1 0 5 4 2 1 2 3 4 6 0 1 1 9 1 1 1'",
     "output_type": "error",
     "traceback": [
      "\u001b[1;31m---------------------------------------------------------------------------\u001b[0m",
      "\u001b[1;31mValueError\u001b[0m                                Traceback (most recent call last)",
      "\u001b[1;32m<ipython-input-1-fb0a6692cecc>\u001b[0m in \u001b[0;36m<module>\u001b[1;34m\u001b[0m\n\u001b[0;32m      1\u001b[0m \u001b[1;31m#import string\u001b[0m\u001b[1;33m\u001b[0m\u001b[1;33m\u001b[0m\u001b[1;33m\u001b[0m\u001b[0m\n\u001b[0;32m      2\u001b[0m \u001b[1;31m#alp_list = list(string.ascii_uppercase)\u001b[0m\u001b[1;33m\u001b[0m\u001b[1;33m\u001b[0m\u001b[1;33m\u001b[0m\u001b[0m\n\u001b[1;32m----> 3\u001b[1;33m \u001b[0mcase_n\u001b[0m \u001b[1;33m=\u001b[0m \u001b[0mint\u001b[0m\u001b[1;33m(\u001b[0m\u001b[0minput\u001b[0m\u001b[1;33m(\u001b[0m\u001b[1;33m)\u001b[0m\u001b[1;33m)\u001b[0m \u001b[1;31m#변수를 입력받는다(시행 횟수)\u001b[0m\u001b[1;33m\u001b[0m\u001b[1;33m\u001b[0m\u001b[0m\n\u001b[0m\u001b[0;32m      4\u001b[0m \u001b[1;32mfor\u001b[0m \u001b[0mi\u001b[0m \u001b[1;32min\u001b[0m \u001b[0mrange\u001b[0m\u001b[1;33m(\u001b[0m\u001b[1;36m0\u001b[0m\u001b[1;33m,\u001b[0m \u001b[0mcase_n\u001b[0m\u001b[1;33m)\u001b[0m\u001b[1;33m:\u001b[0m\u001b[1;33m\u001b[0m\u001b[1;33m\u001b[0m\u001b[0m\n\u001b[0;32m      5\u001b[0m     \u001b[0mlength\u001b[0m\u001b[1;33m,\u001b[0m \u001b[0morder\u001b[0m \u001b[1;33m=\u001b[0m \u001b[0mmap\u001b[0m\u001b[1;33m(\u001b[0m\u001b[0mint\u001b[0m\u001b[1;33m,\u001b[0m \u001b[0minput\u001b[0m\u001b[1;33m(\u001b[0m\u001b[1;33m)\u001b[0m\u001b[1;33m.\u001b[0m\u001b[0msplit\u001b[0m\u001b[1;33m(\u001b[0m\u001b[1;34m' '\u001b[0m\u001b[1;33m)\u001b[0m\u001b[1;33m)\u001b[0m \u001b[1;31m#자료의 길이, 출력되는 순서를 알고자 하는 값\u001b[0m\u001b[1;33m\u001b[0m\u001b[1;33m\u001b[0m\u001b[0m\n",
      "\u001b[1;31mValueError\u001b[0m: invalid literal for int() with base 10: '3 1 0 5 4 2 1 2 3 4 6 0 1 1 9 1 1 1'"
     ]
    }
   ],
   "source": [
    "#import string\n",
    "#alp_list = list(string.ascii_uppercase)\n",
    "case_n = int(input()) #변수를 입력받는다(시행 횟수)\n",
    "for i in range(0, case_n):\n",
    "    length, order = map(int, input().split(' ')) #자료의 길이, 출력되는 순서를 알고자 하는 값\n",
    "    #print(length, order)\n",
    "    #matrix = [[0 for col in range(10)] for row in range(10)]\n",
    "    queue = list(map(int, input().split(' '))) #queue를 생성함, 우선순위와 함께 튜플로 생성\n",
    "    queue = [(idx, i) for i, idx in enumerate(queue)]\n",
    "    #for i in range(len(queue)):\n",
    "    #    queue = (alp_list[i], queue[i])\n",
    "    count = 0\n",
    "    while True:\n",
    "        if queue[0] == max(queue, key=lambda x: x[0]):\n",
    "            count += 1\n",
    "            if queue[0][1] == order:\n",
    "                print(count)\n",
    "                break\n",
    "            else:\n",
    "                queue.pop(0)\n",
    "        else:\n",
    "            queue.append(queue.pop(0))"
   ]
  },
  {
   "cell_type": "code",
   "execution_count": 2,
   "metadata": {},
   "outputs": [
    {
     "name": "stdout",
     "output_type": "stream",
     "text": [
      "3\n",
      "1 0\n",
      "5\n",
      "1\n",
      "4 2\n",
      "1 2 3 4\n",
      "2\n",
      "6 0\n",
      "1 1 9 1 1 1\n",
      "5\n"
     ]
    }
   ],
   "source": [
    "#import string\n",
    "#alp_list = list(string.ascii_uppercase)\n",
    "case_n = int(input()) #변수를 입력받는다(시행 횟수)\n",
    "for i in range(0, case_n):\n",
    "    length, order = map(int, input().split(' ')) #자료의 길이, 출력되는 순서를 알고자 하는 값\n",
    "    #print(length, order)\n",
    "    #matrix = [[0 for col in range(10)] for row in range(10)]\n",
    "    queue = list(map(int, input().split(' '))) #queue를 생성함, 우선순위와 함께 튜플로 생성\n",
    "    queue = [(idx, i) for i, idx in enumerate(queue)]\n",
    "    #for i in range(len(queue)):\n",
    "    #    queue = (alp_list[i], queue[i])\n",
    "    count = 0\n",
    "    while True:\n",
    "        if queue[0] == max(queue, key=lambda x: x[0]):\n",
    "            count += 1\n",
    "            if queue[0][1] == order:\n",
    "                print(count)\n",
    "                break\n",
    "            else:\n",
    "                queue.pop(0)\n",
    "        else:\n",
    "            queue.append(queue.pop(0))"
   ]
  },
  {
   "cell_type": "code",
   "execution_count": null,
   "metadata": {},
   "outputs": [],
   "source": []
  }
 ],
 "metadata": {
  "kernelspec": {
   "display_name": "Python 3",
   "language": "python",
   "name": "python3"
  },
  "language_info": {
   "codemirror_mode": {
    "name": "ipython",
    "version": 3
   },
   "file_extension": ".py",
   "mimetype": "text/x-python",
   "name": "python",
   "nbconvert_exporter": "python",
   "pygments_lexer": "ipython3",
   "version": "3.7.4"
  }
 },
 "nbformat": 4,
 "nbformat_minor": 4
}
