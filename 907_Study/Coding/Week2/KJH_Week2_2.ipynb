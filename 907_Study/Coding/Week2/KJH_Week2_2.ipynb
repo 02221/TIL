{
 "cells": [
  {
   "cell_type": "markdown",
   "metadata": {},
   "source": [
    "파일 이름 : 이름_Week2_2"
   ]
  },
  {
   "cell_type": "markdown",
   "metadata": {},
   "source": [
    "# [쇠막대기](#쇠막대기)"
   ]
  },
  {
   "cell_type": "markdown",
   "metadata": {},
   "source": [
    "## 출처\n",
    "https://www.acmicpc.net/problem/10799"
   ]
  },
  {
   "cell_type": "markdown",
   "metadata": {},
   "source": [
    "# 선행학습"
   ]
  },
  {
   "cell_type": "markdown",
   "metadata": {},
   "source": [
    "https://www.youtube.com/watch?v=BdsyG5yP1cQ  \n",
    "https://www.youtube.com/watch?v=CCtjuZhkxLc  \n",
    "추가 사항이 있다면 정보 공유 바람"
   ]
  },
  {
   "cell_type": "markdown",
   "metadata": {},
   "source": [
    "# 쇠막대기"
   ]
  },
  {
   "cell_type": "markdown",
   "metadata": {},
   "source": [
    "## 문제\n",
    "여러 개의 쇠막대기를 레이저로 절단하려고 한다. 효율적인 작업을 위해서 쇠막대기를 아래에서 위로 겹쳐 놓고, 레이저를 위에서 수직으로 발사하여 쇠막대기들을 자른다. 쇠막대기와 레이저의 배치는 다음 조건을 만족한다.\n",
    "\n",
    "쇠막대기는 자신보다 긴 쇠막대기 위에만 놓일 수 있다. - 쇠막대기를 다른 쇠막대기 위에 놓는 경우 완전히 포함되도록 놓되, 끝점은 겹치지 않도록 놓는다.\n",
    "각 쇠막대기를 자르는 레이저는 적어도 하나 존재한다.\n",
    "레이저는 어떤 쇠막대기의 양 끝점과도 겹치지 않는다. \n",
    "아래 그림은 위 조건을 만족하는 예를 보여준다. 수평으로 그려진 굵은 실선은 쇠막대기이고, 점은 레이저의 위치, 수직으로 그려진 점선 화살표는 레이저의 발사 방향이다.\n",
    "\n",
    "\n",
    "\n",
    "이러한 레이저와 쇠막대기의 배치는 다음과 같이 괄호를 이용하여 왼쪽부터 순서대로 표현할 수 있다.\n",
    "\n",
    "레이저는 여는 괄호와 닫는 괄호의 인접한 쌍 ‘( ) ’ 으로 표현된다. 또한, 모든 ‘( ) ’는 반드시 레이저를 표현한다.\n",
    "쇠막대기의 왼쪽 끝은 여는 괄호 ‘ ( ’ 로, 오른쪽 끝은 닫힌 괄호 ‘) ’ 로 표현된다. \n",
    "위 예의 괄호 표현은 그림 위에 주어져 있다.\n",
    "\n",
    "쇠막대기는 레이저에 의해 몇 개의 조각으로 잘려지는데, 위 예에서 가장 위에 있는 두 개의 쇠막대기는 각각 3개와 2개의 조각으로 잘려지고, 이와 같은 방식으로 주어진 쇠막대기들은 총 17개의 조각으로 잘려진다. \n",
    "\n",
    "쇠막대기와 레이저의 배치를 나타내는 괄호 표현이 주어졌을 때, 잘려진 쇠막대기 조각의 총 개수를 구하는 프로그램을 작성하시오."
   ]
  },
  {
   "cell_type": "markdown",
   "metadata": {},
   "source": [
    "## 입력\n",
    "한 줄에 쇠막대기와 레이저의 배치를 나타내는 괄호 표현이 공백없이 주어진다. 괄호 문자의 개수는 최대 100,000이다. "
   ]
  },
  {
   "cell_type": "markdown",
   "metadata": {},
   "source": [
    "## 출력\n",
    "잘려진 조각의 총 개수를 나타내는 정수를 한 줄에 출력한다."
   ]
  },
  {
   "cell_type": "markdown",
   "metadata": {},
   "source": [
    "## 풀이"
   ]
  },
  {
   "cell_type": "code",
   "execution_count": 3,
   "metadata": {},
   "outputs": [
    {
     "name": "stdout",
     "output_type": "stream",
     "text": [
      "(((()(()()))(())()))(()())\n",
      "24\n"
     ]
    }
   ],
   "source": [
    "r_cutter = list(str(input())) #입력값은 즉시 리스트로 생성함\n",
    "res = 0 #막대기 수 카운트할 결과값\n",
    "check = [] # 잘린 막대기의 개수를 세는 체크리스트\n",
    "end = \"\" #방금 체크리스트에 어떤 값이 있었는지 확인하는\n",
    "\n",
    "def __init__(self, r_cutter, res, check, end): #각 변수의 생성자(생성자를 만들어서 실행하니 실행 속도가 올라감. 왜지?)\n",
    "    self.r_cutter = r_cutter\n",
    "    self.res = res\n",
    "    self.check = check\n",
    "    self.end = end\n",
    "\n",
    "def count_stick(r_cutter, res, check, end): #막대기 수를 세는 함수\n",
    "    if len(r_cutter) <= 100000: #입력 글자수 10^5 제한\n",
    "        for i in range(len(r_cutter)): # for문을 실행하여 입력 값만큼 반복실행한다.\n",
    "            stick_or_laser = r_cutter[i] #입력변수로 생성한 리스트의 첫번째 값\n",
    "            if stick_or_laser == \"(\": # 컷팅의 시작 '('\n",
    "                check.append(r_cutter[i])\n",
    "                end = stick_or_laser #레이저의 일부인지 확인하기 위한 변수\n",
    "            else:\n",
    "                if end == \"(\": #레이저가 확실함. (방금 입력받은 괄호를 삭제해주는 조건문)\n",
    "                    check.pop(-1) #방금 들어간 부분은 레이저의 일부이니 뽑아냄\n",
    "                    res += check.count('(') #체크리스트에 저장된 괄호의 시작을 \n",
    "                    end = \"\" #막대인지 레이저인지 확인하는 변수\n",
    "                else: \n",
    "                    check.pop(-1) \n",
    "                    res += 1 #막대기 끝을 의미함, 1만큼 더해줌.\n",
    "                    end = \"\"#막대인지 레이저인지 확인하는 변수\n",
    "        return res\n",
    "    else:\n",
    "        pass #예외처리\n",
    "\n",
    "if __name__ == \"__main__\": #실행할 메인함수\n",
    "    print(count_stick(r_cutter, res, check, end)) #프린트 결과"
   ]
  }
 ],
 "metadata": {
  "kernelspec": {
   "display_name": "Python 3",
   "language": "python",
   "name": "python3"
  },
  "language_info": {
   "codemirror_mode": {
    "name": "ipython",
    "version": 3
   },
   "file_extension": ".py",
   "mimetype": "text/x-python",
   "name": "python",
   "nbconvert_exporter": "python",
   "pygments_lexer": "ipython3",
   "version": "3.7.4"
  }
 },
 "nbformat": 4,
 "nbformat_minor": 4
}
