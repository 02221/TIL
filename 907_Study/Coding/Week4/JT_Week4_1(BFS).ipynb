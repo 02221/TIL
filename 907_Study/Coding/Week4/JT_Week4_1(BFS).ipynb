{
 "cells": [
  {
   "cell_type": "markdown",
   "metadata": {},
   "source": [
    "파일 이름 : 이름_Week4_2"
   ]
  },
  {
   "cell_type": "markdown",
   "metadata": {},
   "source": [
    "# [DFS와 BFS](#DFS와BFS)"
   ]
  },
  {
   "cell_type": "markdown",
   "metadata": {},
   "source": [
    "## 출처\n",
    "https://www.acmicpc.net/problem/1260"
   ]
  },
  {
   "cell_type": "markdown",
   "metadata": {},
   "source": [
    "# 선행학습"
   ]
  },
  {
   "cell_type": "markdown",
   "metadata": {},
   "source": []
  },
  {
   "cell_type": "markdown",
   "metadata": {},
   "source": [
    "# DFS와BFS "
   ]
  },
  {
   "cell_type": "markdown",
   "metadata": {},
   "source": [
    "## 문제\n",
    "그래프를 DFS로 탐색한 결과와 BFS로 탐색한 결과를 출력하는 프로그램을 작성하시오. 단, 방문할 수 있는 정점이 여러 개인 경우에는 정점 번호가 작은 것을 먼저 방문하고, 더 이상 방문할 수 있는 점이 없는 경우 종료한다. 정점 번호는 1번부터 N번까지이다."
   ]
  },
  {
   "cell_type": "markdown",
   "metadata": {},
   "source": [
    "## 입력\n",
    "첫째 줄에 정점의 개수 N(1 ≤ N ≤ 1,000), 간선의 개수 M(1 ≤ M ≤ 10,000), 탐색을 시작할 정점의 번호 V가 주어진다. 다음 M개의 줄에는 간선이 연결하는 두 정점의 번호가 주어진다. 어떤 두 정점 사이에 여러 개의 간선이 있을 수 있다. 입력으로 주어지는 간선은 양방향이다."
   ]
  },
  {
   "cell_type": "markdown",
   "metadata": {},
   "source": [
    "## 출력\n",
    "첫째 줄에 DFS를 수행한 결과를, 그 다음 줄에는 BFS를 수행한 결과를 출력한다. V부터 방문된 점을 순서대로 출력하면 된다."
   ]
  },
  {
   "cell_type": "markdown",
   "metadata": {},
   "source": [
    "## 풀이"
   ]
  },
  {
   "cell_type": "code",
   "execution_count": 127,
   "metadata": {},
   "outputs": [
    {
     "name": "stdin",
     "output_type": "stream",
     "text": [
      " 7 6 1\n",
      " 1 4\n",
      " 1 3\n",
      " 1 2\n",
      " 4 6\n",
      " 4 5\n",
      " 2 7\n"
     ]
    },
    {
     "name": "stdout",
     "output_type": "stream",
     "text": [
      "1 2 7 3 4 5 6 \n",
      "1 2 3 4 7 5 6\n"
     ]
    }
   ],
   "source": [
    "def dict_check(dic, start, end):\n",
    "    if start not in dic:\n",
    "        dic[start] = [end]\n",
    "    elif end not in dic[start]:\n",
    "        dic[start].append(end)\n",
    "    # 서로 연결 \n",
    "    if end not in dic:\n",
    "        dic[end] = [start]\n",
    "    elif end not in dic[end]:\n",
    "        dic[end].append(start)\n",
    "\n",
    "def DFS(dic, start, visited):\n",
    "    print(start, end=' ')\n",
    "    visited.append(start)\n",
    "    for i in dic[start]:\n",
    "        if i not in visited:\n",
    "            DFS(dic, i, visited)\n",
    "def BFS(dic, start):\n",
    "    visited = [start]\n",
    "    last_visit = [start]\n",
    "    for s in visited:\n",
    "        cn = dic.pop(s)\n",
    "        temp = [n for n in cn if n not in visited]\n",
    "        visited += temp\n",
    "    print(\" \".join([str(dot) for dot in visited]))\n",
    "    \n",
    "dic = {}\n",
    "dot_num, line_num, start_dot = [int(x) for x in input().split()]\n",
    "for line in range(line_num):\n",
    "    start, end = [int(x) for x in input().split()]\n",
    "    dict_check(dic, start, end)\n",
    "dic = {key : sorted(val) for key, val in dic.items()}\n",
    "visited = []\n",
    "DFS(dic, start_dot, visited)\n",
    "print()\n",
    "BFS(dic, start_dot)"
   ]
  }
 ],
 "metadata": {
  "kernelspec": {
   "display_name": "Python 3",
   "language": "python",
   "name": "python3"
  },
  "language_info": {
   "codemirror_mode": {
    "name": "ipython",
    "version": 3
   },
   "file_extension": ".py",
   "mimetype": "text/x-python",
   "name": "python",
   "nbconvert_exporter": "python",
   "pygments_lexer": "ipython3",
   "version": "3.7.6"
  }
 },
 "nbformat": 4,
 "nbformat_minor": 4
}
