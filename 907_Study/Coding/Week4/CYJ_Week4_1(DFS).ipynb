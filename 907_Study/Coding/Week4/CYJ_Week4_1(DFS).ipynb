{
 "cells": [
  {
   "cell_type": "markdown",
   "metadata": {},
   "source": [
    "파일 이름 : 이름_Week4_1"
   ]
  },
  {
   "cell_type": "markdown",
   "metadata": {},
   "source": [
    "# [DFS와 BFS](#DFS와BFS)"
   ]
  },
  {
   "cell_type": "markdown",
   "metadata": {},
   "source": [
    "## 출처\n",
    "https://www.acmicpc.net/problem/1260"
   ]
  },
  {
   "cell_type": "markdown",
   "metadata": {},
   "source": [
    "# 선행학습"
   ]
  },
  {
   "cell_type": "markdown",
   "metadata": {},
   "source": []
  },
  {
   "cell_type": "markdown",
   "metadata": {},
   "source": [
    "# DFS와BFS "
   ]
  },
  {
   "cell_type": "markdown",
   "metadata": {},
   "source": [
    "## 문제\n",
    "그래프를 DFS로 탐색한 결과와 BFS로 탐색한 결과를 출력하는 프로그램을 작성하시오. 단, 방문할 수 있는 정점이 여러 개인 경우에는 정점 번호가 작은 것을 먼저 방문하고, 더 이상 방문할 수 있는 점이 없는 경우 종료한다. 정점 번호는 1번부터 N번까지이다."
   ]
  },
  {
   "cell_type": "markdown",
   "metadata": {},
   "source": [
    "## 입력\n",
    "첫째 줄에 정점의 개수 N(1 ≤ N ≤ 1,000), 간선의 개수 M(1 ≤ M ≤ 10,000), 탐색을 시작할 정점의 번호 V가 주어진다. 다음 M개의 줄에는 간선이 연결하는 두 정점의 번호가 주어진다. 어떤 두 정점 사이에 여러 개의 간선이 있을 수 있다. 입력으로 주어지는 간선은 양방향이다."
   ]
  },
  {
   "cell_type": "markdown",
   "metadata": {},
   "source": [
    "## 출력\n",
    "첫째 줄에 DFS를 수행한 결과를, 그 다음 줄에는 BFS를 수행한 결과를 출력한다. V부터 방문된 점을 순서대로 출력하면 된다."
   ]
  },
  {
   "cell_type": "markdown",
   "metadata": {},
   "source": [
    "## 풀이"
   ]
  },
  {
   "cell_type": "code",
   "execution_count": 1,
   "metadata": {},
   "outputs": [
    {
     "name": "stdout",
     "output_type": "stream",
     "text": [
      "4 5 1\n",
      "1 2\n",
      "1 3\n",
      "1 4\n",
      "2 4\n",
      "3 4\n",
      "1 2 4 3\n"
     ]
    }
   ],
   "source": [
    "#from sys import stdin\n",
    "#n, m, v = map(int, stdin.readline().split())\n",
    "\n",
    "N, M, V = map(int, input().split())\n",
    "#인덱스와 번호가 헷갈리는 것을 방지하기 위해,\n",
    "#왼쪽, 위쪽을 영으로 둘러줌.\n",
    "matrix = [[0] * (N +1) for _ in range(N + 1)]\n",
    "#np.matrix랑 무슨차이가 있지?\n",
    "for _ in range(M):\n",
    "    link = list(map(int, input().split()))\n",
    "    matrix[link[0]][link[1]] = 1\n",
    "    matrix[link[1]][link[0]] = 1\n",
    "#1은 True 라는 것을 이용하여 하단의 for문을 돌림.\n",
    "#인접행렬 형성.\n",
    "    \n",
    "def dfs(current_node, row, foot_prints):\n",
    "    #헷갈릴 땐 마지막에 뭘 프린트하는지 보셈.\n",
    "    foot_prints += [current_node]\n",
    "    for search_node in range(len(row[current_node])):\n",
    "        if row[current_node][search_node] and search_node not in foot_prints:\n",
    "            #연결되어있으면서 search node가 발자취에 없으면\n",
    "            #search node에서 더 깊게 파고 들어야 하므로\n",
    "            #재귀함수\n",
    "            foot_prints = dfs(search_node, row, foot_prints)\n",
    "    return foot_prints\n",
    "\n",
    "print(*dfs(V, matrix, []))\n",
    "#*를 붙이면 리스트가 풀어짐."
   ]
  },
  {
   "cell_type": "code",
   "execution_count": null,
   "metadata": {},
   "outputs": [],
   "source": []
  }
 ],
 "metadata": {
  "kernelspec": {
   "display_name": "Python 3",
   "language": "python",
   "name": "python3"
  },
  "language_info": {
   "codemirror_mode": {
    "name": "ipython",
    "version": 3
   },
   "file_extension": ".py",
   "mimetype": "text/x-python",
   "name": "python",
   "nbconvert_exporter": "python",
   "pygments_lexer": "ipython3",
   "version": "3.7.4"
  }
 },
 "nbformat": 4,
 "nbformat_minor": 4
}
