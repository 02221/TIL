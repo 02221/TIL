{
 "cells": [
  {
   "cell_type": "markdown",
   "metadata": {},
   "source": [
    "## 크레인 인형 뽑기\n",
    "https://programmers.co.kr/learn/courses/30/lessons/64061"
   ]
  },
  {
   "cell_type": "code",
   "execution_count": null,
   "metadata": {},
   "outputs": [],
   "source": [
    "def solution(board, moves):\n",
    "    stack=[]\n",
    "    count=0\n",
    "    for j in range(len(moves)):\n",
    "        for i in range(len(board)):\n",
    "            if board[i][moves[j]-1]!=0: \n",
    "                if not stack:#리스트가 비어있다\n",
    "                    stack.append(board[i][moves[j]-1])\n",
    "                    board[i][moves[j]-1]=0\n",
    "                    break\n",
    "                else : \n",
    "                    if stack[-1]==board[i][moves[j]-1]: #마지막 원소랑 같다면\n",
    "                        board[i][moves[j]-1]=0\n",
    "                        stack.pop(-1)\n",
    "                        count=count+2\n",
    "                    elif stack[-1]!=board[i][moves[j]-1]:\n",
    "                        stack.append(board[i][moves[j]-1])     \n",
    "                        board[i][moves[j]-1]=0\n",
    "                    break\n",
    "    return count"
   ]
  },
  {
   "cell_type": "markdown",
   "metadata": {},
   "source": [
    "## 완주하지 못한 선수\n",
    "https://programmers.co.kr/learn/courses/30/lessons/42576"
   ]
  },
  {
   "cell_type": "code",
   "execution_count": null,
   "metadata": {},
   "outputs": [],
   "source": [
    "def solution(participant, completion):\n",
    "    participant.sort()\n",
    "    completion.sort()\n",
    "    for i in range(len(completion)):\n",
    "        if participant[i] != completion[i]:\n",
    "            return participant[i]\n",
    "    return participant[-1]\n",
    "    \"\"\"\n",
    "    for i in range(len(participant)):\n",
    "        count=0\n",
    "        for j in range(len(completion)):\n",
    "            if participant[i]==completion[j]:\n",
    "                break\n",
    "            else:\n",
    "                count=count+1\n",
    "                if count==len(completion):\n",
    "                    return participant[i]\n",
    "                    \n",
    "    #print(answer)\n",
    "    \"\"\""
   ]
  },
  {
   "cell_type": "markdown",
   "metadata": {},
   "source": [
    "## 모의고사\n",
    "https://programmers.co.kr/learn/courses/30/lessons/42840"
   ]
  },
  {
   "cell_type": "code",
   "execution_count": null,
   "metadata": {},
   "outputs": [],
   "source": [
    "def solution(answers):\n",
    "    answer = []\n",
    "    tester_1 = [1, 2, 3, 4, 5] \n",
    "    tester_2 = [2, 1, 2, 3, 2, 4, 2, 5] \n",
    "    tester_3 = [3, 3, 1, 1, 2, 2, 4, 4, 5, 5]\n",
    "    \n",
    "    len_tester_1 = len(tester_1) \n",
    "    len_tester_2 = len(tester_2) \n",
    "    len_tester_3 = len(tester_3) \n",
    "    check_1 = 0 \n",
    "    check_2 = 0 \n",
    "    check_3 = 0\n",
    "    for i in range(len(answers)):\n",
    "        if tester_1[i%len_tester_1] == answers[i]:\n",
    "            check_1 = check_1 + 1\n",
    "        if tester_2[i%len_tester_2] == answers[i]: \n",
    "            check_2 = check_2 + 1\n",
    "        if tester_3[i%len_tester_3] == answers[i]: \n",
    "            check_3 = check_3 + 1\n",
    "    max_right = max(check_1, check_2, check_3)\n",
    "\n",
    "    if max_right == check_1: \n",
    "        answer.append(1) \n",
    "    if max_right == check_2: \n",
    "        answer.append(2) \n",
    "    if max_right == check_3:\n",
    "        answer.append(3) \n",
    "    answer = sorted(answer) \n",
    "    return answer\n",
    "\n",
    "\n",
    "    \"\"\"\n",
    "    one=[1,2,3,4,5]\n",
    "    two=[2,1,2,3,2,4,2,5]\n",
    "    three=[3,3,1,1,2,2,4,4,5,5]\n",
    "\n",
    "    answers_len=len(answers)\n",
    "    one_len=len(one)\n",
    "    two_len=len(two)\n",
    "    three_len=len(three)\n",
    "    #print(answers_len,one_len,two_len,three_len)\n",
    "    answer=[]\n",
    "    count1=0\n",
    "    count2=0\n",
    "    count3=0\n",
    "    # answers의 길이를 one으로 나눴을 때 나머지가 0이라면\n",
    "    #     --> 몫을 곱해줌\n",
    "    # // 나눴을때 나머지가 0이 아니면 나머지 길이만큼 더해줌 [: 나머지]\n",
    "    for i in range(len(answer)):\n",
    "        if one[i%one_len]==answer[i]:\n",
    "            count1=count1+1\n",
    "            \n",
    "        if two[i%two_len]==answer[i]:\n",
    "            count2=count2+1\n",
    "            \n",
    "        if three[i%three_len]==answer[i]:\n",
    "            count3=count3+1\n",
    "    \"\"\"\n",
    "    \"\"\"\n",
    "    if answers_len%one_len==0:\n",
    "        one=one*(answers_len//one_len)\n",
    "    elif answers_len%one_len!=0:\n",
    "        if answers_len>one_len:\n",
    "\n",
    "            one=one+one[:answers_len%one_len]\n",
    "        elif answers_len<one_len:\n",
    "            one=one[:answers_len]\n",
    "\n",
    "    if answers_len%two_len==0:\n",
    "        two=two*(answers_len//two_len)\n",
    "\n",
    "    elif answers_len%two_len!=0:\n",
    "        if answers_len>two_len:\n",
    "            two=two+two[:answers_len%two_len]\n",
    "        elif answers_len<two_len:\n",
    "            two=two[:answers_len]\n",
    "\n",
    "    if answers_len%two_len==0:\n",
    "        three=three*(answers_len//three_len)\n",
    "    elif answers_len%three_len!=0:\n",
    "        if answers_len>three_len:\n",
    "            three=three+three[:answers_len%three_len]\n",
    "        elif answers_len<three_len:\n",
    "            three=three[:answers_len]\n",
    "\n",
    "    \n",
    "    for i in range(0,len(one)):\n",
    "        if answers[i]==one[i]:\n",
    "            count1=count1+1\n",
    "\n",
    "    for i in range(0,len(two)):\n",
    "        if answers[i]==two[i]:\n",
    "            count2=count2+1\n",
    "\n",
    "    for i in range(0,len(three)):\n",
    "        if answers[i]==three[i]:\n",
    "            count3=count3+1\n",
    "\"\"\"\n",
    "\"\"\"\n",
    "    max_r=max(count1,count2,count3)\n",
    "    if max_r==count1:\n",
    "        answer.append(1)\n",
    "    if max_r==count2:\n",
    "        answer.append(2)\n",
    "    if max_r==count3:\n",
    "        answer.append(3)\n",
    "    \n",
    "    answer=sorted(answer)\n",
    "    \n",
    "    return answer\n",
    "\"\"\""
   ]
  },
  {
   "cell_type": "markdown",
   "metadata": {},
   "source": [
    "## 체육복\n",
    "https://programmers.co.kr/learn/courses/30/lessons/42862"
   ]
  },
  {
   "cell_type": "code",
   "execution_count": null,
   "metadata": {},
   "outputs": [],
   "source": [
    "def solution(n, lost, reserve):\n",
    "    #집합 set이용\n",
    "    reserve_set=set(reserve)-set(lost) #ex1) {1,3,5}\n",
    "    lost_set=set(lost)-set(reserve) #ex1) {2,4}\n",
    "    \n",
    "    for i in reserve_set:\n",
    "        if i-1 in lost_set:\n",
    "            lost_set.remove(i-1)\n",
    "        elif i+1 in lost_set:\n",
    "            lost_set.remove(i+1)\n",
    "    answer = n-len(lost_set)\n",
    "    return answer"
   ]
  },
  {
   "cell_type": "markdown",
   "metadata": {},
   "source": [
    "## K번째 수\n",
    "https://programmers.co.kr/learn/courses/30/lessons/42748"
   ]
  },
  {
   "cell_type": "code",
   "execution_count": null,
   "metadata": {},
   "outputs": [],
   "source": [
    "def solution(array, commands):\n",
    "    result=[]\n",
    "    for i in range(len(commands)):\n",
    "        num=array[commands[i][0]-1:commands[i][1]]    \n",
    "        order=sorted(num)\n",
    "        result.append(order[commands[i][2]-1])\n",
    "    return result"
   ]
  },
  {
   "cell_type": "markdown",
   "metadata": {},
   "source": [
    "## 2016년\n",
    "https://programmers.co.kr/learn/courses/30/lessons/12901"
   ]
  },
  {
   "cell_type": "code",
   "execution_count": null,
   "metadata": {},
   "outputs": [],
   "source": [
    "import datetime\n",
    "def solution(a, b):\n",
    "    d=datetime.date(2016,a,b)\n",
    "    \n",
    "    answer = d.strftime('%a')\n",
    "    answer=answer.upper()\n",
    "    return answer"
   ]
  },
  {
   "cell_type": "markdown",
   "metadata": {},
   "source": [
    "## 가운데 글자 가져오기\n",
    "https://programmers.co.kr/learn/courses/30/lessons/12903"
   ]
  },
  {
   "cell_type": "code",
   "execution_count": null,
   "metadata": {},
   "outputs": [],
   "source": [
    "def solution(s):\n",
    "    length=int(len(s)/2)\n",
    "    if int(len(s)%2)==0:\n",
    "        \n",
    "        answer = s[length-1]+s[length]\n",
    "    else:\n",
    "        answer =s[length]\n",
    "    return answer"
   ]
  },
  {
   "cell_type": "markdown",
   "metadata": {},
   "source": [
    "## 같은 숫자는 싫어\n",
    "https://programmers.co.kr/learn/courses/30/lessons/12906"
   ]
  },
  {
   "cell_type": "code",
   "execution_count": null,
   "metadata": {},
   "outputs": [],
   "source": [
    "def solution(arr):\n",
    "    result=[]\n",
    "    result.append(arr[0])\n",
    "    for i in range(1,len(arr)):\n",
    "        if arr[i]!=arr[i-1]:\n",
    "            result.append(arr[i])\n",
    "    return result"
   ]
  },
  {
   "cell_type": "markdown",
   "metadata": {},
   "source": [
    "## 나누어 떨어지는 숫자 배열\n",
    "https://programmers.co.kr/learn/courses/30/lessons/12910"
   ]
  },
  {
   "cell_type": "code",
   "execution_count": null,
   "metadata": {},
   "outputs": [],
   "source": [
    "def solution(arr, divisor):\n",
    "    result = []\n",
    "    for i in range(0,len(arr)):\n",
    "        if i==len(arr)-1:\n",
    "            if arr[i]%divisor!=0 and not result:\n",
    "                result.append(-1)\n",
    "        if arr[i]%divisor==0:\n",
    "            result.append(arr[i])\n",
    "            result.sort()\n",
    "        \n",
    "    \n",
    "    return result"
   ]
  },
  {
   "cell_type": "markdown",
   "metadata": {},
   "source": [
    "## 두 정수 사이의 합\n",
    "https://programmers.co.kr/learn/courses/30/lessons/12912"
   ]
  },
  {
   "cell_type": "code",
   "execution_count": null,
   "metadata": {},
   "outputs": [],
   "source": [
    "def solution(a, b):\n",
    "    sum=0\n",
    "    temp=0\n",
    "    if a>b:\n",
    "        temp=a\n",
    "        a=b\n",
    "        b=temp\n",
    "    for i in range(a,b+1):\n",
    "        if a==b:\n",
    "            sum=sum+a\n",
    "        else:\n",
    "            sum=sum+i\n",
    "\n",
    "    \n",
    "    return sum"
   ]
  },
  {
   "cell_type": "markdown",
   "metadata": {},
   "source": [
    "## 문자열 내 마음대로 정렬하기\n",
    "https://programmers.co.kr/learn/courses/30/lessons/12915"
   ]
  },
  {
   "cell_type": "code",
   "execution_count": null,
   "metadata": {},
   "outputs": [],
   "source": [
    "def solution(strings, n):\n",
    "    a=[]\n",
    "    answer=[]\n",
    "    strings.sort()\n",
    "    for i in strings:\n",
    "        a.append(i[n])\n",
    "    a.sort()\n",
    "    \n",
    "    for i in a:\n",
    "        for j in range(len(a)):\n",
    "            if i==strings[j][n]:\n",
    "                answer.append(strings[j])\n",
    "                strings[j]=[0]*100\n",
    "    return answer"
   ]
  },
  {
   "cell_type": "markdown",
   "metadata": {},
   "source": [
    "## 문자열 내의 p와 y의 개수\n",
    "https://programmers.co.kr/learn/courses/30/lessons/12916"
   ]
  },
  {
   "cell_type": "code",
   "execution_count": null,
   "metadata": {},
   "outputs": [],
   "source": [
    "def solution(s):\n",
    "    s=s.upper()\n",
    "    count1=0\n",
    "    count2=0\n",
    "    \n",
    "    for i in range(len(s)):\n",
    "        if s[i]=='P':\n",
    "            count1+=1\n",
    "        if s[i]=='Y':\n",
    "            count2+=1\n",
    "            \n",
    "    if count1==count2:\n",
    "        answer=True\n",
    "    if count1!=count2:\n",
    "        answer=False\n",
    "    # [실행] 버튼을 누르면 출력 값을 볼 수 있습니다.\n",
    "    #print('Hello Python')\n",
    "\n",
    "    return answer"
   ]
  },
  {
   "cell_type": "markdown",
   "metadata": {},
   "source": [
    "## 문자열 내림차순으로 배치하기\n",
    "https://programmers.co.kr/learn/courses/30/lessons/12917"
   ]
  },
  {
   "cell_type": "code",
   "execution_count": null,
   "metadata": {},
   "outputs": [],
   "source": [
    "def solution(s):\n",
    "    s=reversed(sorted(s))\n",
    "    answer = ''.join(s)\n",
    "    return answer"
   ]
  },
  {
   "cell_type": "markdown",
   "metadata": {},
   "source": [
    "## 문자열 다루기 기본\n",
    "https://programmers.co.kr/learn/courses/30/lessons/12918"
   ]
  },
  {
   "cell_type": "code",
   "execution_count": null,
   "metadata": {},
   "outputs": [],
   "source": [
    "def solution(s):\n",
    "    try:\n",
    "        if len(s)==4 or len(s)==6:\n",
    "            for i in range(len(s)):\n",
    "                int(s[i])\n",
    "            result=True\n",
    "        else:\n",
    "            result = False\n",
    "    except:\n",
    "        result=False\n",
    "    \n",
    "    \n",
    "    return result"
   ]
  },
  {
   "cell_type": "markdown",
   "metadata": {},
   "source": [
    "## 서울에서 김서방 찾기\n",
    "https://programmers.co.kr/learn/courses/30/lessons/12919"
   ]
  },
  {
   "cell_type": "code",
   "execution_count": null,
   "metadata": {},
   "outputs": [],
   "source": [
    "def solution(seoul):\n",
    "    #print(seoul)\n",
    "    x=seoul.index('Kim')\n",
    "    answer = '김서방은 '+str(x)+'에 있다'\n",
    "    print(answer)\n",
    "    return answer\n",
    "\n",
    "seoul=['Jane','Kim']\n",
    "solution(seoul)"
   ]
  },
  {
   "cell_type": "markdown",
   "metadata": {},
   "source": [
    "## 소수 찾기\n",
    "https://programmers.co.kr/learn/courses/30/lessons/12921"
   ]
  },
  {
   "cell_type": "code",
   "execution_count": null,
   "metadata": {},
   "outputs": [],
   "source": [
    "def solution(n):\n",
    "    final=[]*n\n",
    "    if n<2:\n",
    "        count=0\n",
    "    else:\n",
    "        for i in range(2,n+1):\n",
    "            count=0\n",
    "            for j in range(1,i+1):\n",
    "                if i%j==0:\n",
    "                    count+=1\n",
    "            if count==2:\n",
    "                final.append(i)\n",
    "    return len(final)"
   ]
  },
  {
   "cell_type": "markdown",
   "metadata": {},
   "source": [
    "## 수박수박수박수박수박수?\n",
    "https://programmers.co.kr/learn/courses/30/lessons/12922"
   ]
  },
  {
   "cell_type": "code",
   "execution_count": null,
   "metadata": {},
   "outputs": [],
   "source": []
  },
  {
   "cell_type": "markdown",
   "metadata": {},
   "source": [
    "## 문자열을 정수로 바꾸기\n",
    "https://programmers.co.kr/learn/courses/30/lessons/12925"
   ]
  },
  {
   "cell_type": "code",
   "execution_count": null,
   "metadata": {},
   "outputs": [],
   "source": []
  },
  {
   "cell_type": "markdown",
   "metadata": {},
   "source": [
    "## 시저 암호\n",
    "https://programmers.co.kr/learn/courses/30/lessons/12926"
   ]
  },
  {
   "cell_type": "code",
   "execution_count": null,
   "metadata": {},
   "outputs": [],
   "source": []
  },
  {
   "cell_type": "markdown",
   "metadata": {},
   "source": [
    "## 약수의 합\n",
    "https://programmers.co.kr/learn/courses/30/lessons/12928"
   ]
  },
  {
   "cell_type": "code",
   "execution_count": null,
   "metadata": {},
   "outputs": [],
   "source": []
  }
 ],
 "metadata": {
  "kernelspec": {
   "display_name": "Python 3",
   "language": "python",
   "name": "python3"
  },
  "language_info": {
   "codemirror_mode": {
    "name": "ipython",
    "version": 3
   },
   "file_extension": ".py",
   "mimetype": "text/x-python",
   "name": "python",
   "nbconvert_exporter": "python",
   "pygments_lexer": "ipython3",
   "version": "3.7.3"
  }
 },
 "nbformat": 4,
 "nbformat_minor": 4
}
