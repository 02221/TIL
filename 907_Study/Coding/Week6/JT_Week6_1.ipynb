{
 "cells": [
  {
   "cell_type": "markdown",
   "metadata": {},
   "source": [
    "## 크레인 인형 뽑기\n",
    "https://programmers.co.kr/learn/courses/30/lessons/64061"
   ]
  },
  {
   "cell_type": "code",
   "execution_count": 1,
   "metadata": {},
   "outputs": [],
   "source": [
    "def T(board):\n",
    "    return [list(x) for x in zip(*board)] \n",
    "def check_count(result, count_sum):\n",
    "    count = 0\n",
    "    ls = result.copy()\n",
    "    for i in range(len(result) - 1):\n",
    "        print(ls)\n",
    "        if result[i] == result[i + 1]:\n",
    "            ls.pop(i + 1)\n",
    "            ls.pop(i)\n",
    "            count += 2\n",
    "    result = ls\n",
    "    if count == 0:\n",
    "        return count_sum\n",
    "    else:\n",
    "        count_sum += count\n",
    "        count_sum = check_count(result, count_sum)\n",
    "    return count_sum\n",
    "\n",
    "def solution(board, moves):\n",
    "    aT = T(board)\n",
    "    result = []\n",
    "    for move in moves:\n",
    "        ls = aT[move - 1]\n",
    "        for i in range(len(aT[move - 1])):\n",
    "            if ls[i] != 0:\n",
    "                result.append(ls[i])\n",
    "                ls[i] = 0\n",
    "                break\n",
    "    count_sum = 0\n",
    "    answer = check_count(result, count_sum)            \n",
    "    return answer\n",
    "\n",
    "####################################################################################################################\n",
    "\n",
    "def T(board):\n",
    "    return [list(x) for x in zip(*board)] \n",
    "\n",
    "def check_count(result, count_sum):\n",
    "    count_sum = 0\n",
    "    while True:\n",
    "        count = 0\n",
    "        for i in range(len(result) - 1):\n",
    "            if result[i] == result[i + 1]:\n",
    "                result.pop(i + 1)\n",
    "                result.pop(i)\n",
    "                count += 2\n",
    "                break\n",
    "        if count == 0:\n",
    "            break\n",
    "        count_sum += count\n",
    "    return count_sum\n",
    "\n",
    "def solution(board, moves):\n",
    "    aT = T(board)\n",
    "    result = []\n",
    "    for move in moves:\n",
    "        ls = aT[move - 1]\n",
    "        for i in range(len(aT[move - 1])):\n",
    "            if ls[i] != 0:\n",
    "                result.append(ls[i])\n",
    "                ls[i] = 0\n",
    "                break\n",
    "    count_sum = 0\n",
    "    answer = check_count(result, count_sum)            \n",
    "    return answer\n",
    "\n",
    "####################################################################################################################\n",
    "def solution(board, moves):\n",
    "    stack = []\n",
    "    answer = 0\n",
    "    for i in moves:\n",
    "        for j in range(len(board)):\n",
    "            if board[j][i - 1] != 0:\n",
    "                stack.append(board[j][i - 1])\n",
    "                board[j][i - 1] = 0\n",
    "                if len(stack) > 1:\n",
    "                    if stack[-1] == stack[-2]:\n",
    "                        stack.pop(-1)\n",
    "                        stack.pop(-1)\n",
    "                        answer += 2\n",
    "                break\n",
    "    return answer"
   ]
  },
  {
   "cell_type": "markdown",
   "metadata": {},
   "source": [
    "## 완주하지 못한 선수\n",
    "https://programmers.co.kr/learn/courses/30/lessons/42576"
   ]
  },
  {
   "cell_type": "code",
   "execution_count": 26,
   "metadata": {},
   "outputs": [],
   "source": [
    "participant = [\"mislav\", \"stanko\", \"mislav\", \"ana\"]\n",
    "completion = [\"stanko\", \"ana\", \"mislav\"]"
   ]
  },
  {
   "cell_type": "code",
   "execution_count": 29,
   "metadata": {},
   "outputs": [],
   "source": [
    "# 시간 초과\n",
    "def solution(participant, completion):\n",
    "    for winner in completion:\n",
    "        participant.remove(winner)\n",
    "    return participant[0]"
   ]
  },
  {
   "cell_type": "code",
   "execution_count": 30,
   "metadata": {},
   "outputs": [],
   "source": [
    "# 시간 초과\n",
    "def get_dic(ls):\n",
    "    names = list(set(ls))\n",
    "    dic = {name : ls.count(name) for name in names}\n",
    "    return dic\n",
    "def solution(participant, completion):\n",
    "    part_dic = get_dic(participant)\n",
    "    com_dic  = get_dic(completion)\n",
    "    for name in part_dic.keys():\n",
    "        if name not in com_dic.keys():\n",
    "            return name\n",
    "        elif part_dic[name] != com_dic[name]:\n",
    "            return name"
   ]
  },
  {
   "cell_type": "code",
   "execution_count": 31,
   "metadata": {},
   "outputs": [
    {
     "data": {
      "text/plain": [
       "'mislav'"
      ]
     },
     "execution_count": 31,
     "metadata": {},
     "output_type": "execute_result"
    }
   ],
   "source": [
    "solution(participant, completion)"
   ]
  },
  {
   "cell_type": "code",
   "execution_count": 42,
   "metadata": {},
   "outputs": [],
   "source": [
    "## 시간초과 -> 리스트컴프리핸션도 안됨\n",
    "def solution(participant, completion):\n",
    "    return [x for x in participant if participant.count(x) != completion.count(x)][0]"
   ]
  },
  {
   "cell_type": "code",
   "execution_count": 36,
   "metadata": {},
   "outputs": [
    {
     "data": {
      "text/plain": [
       "'mislav'"
      ]
     },
     "execution_count": 36,
     "metadata": {},
     "output_type": "execute_result"
    }
   ],
   "source": [
    "solution(participant, completion)"
   ]
  },
  {
   "cell_type": "code",
   "execution_count": 43,
   "metadata": {},
   "outputs": [],
   "source": [
    "## 성공 : 횟수를 줄임\n",
    "def solution(participant, completion):\n",
    "    participant.sort()\n",
    "    completion.sort()\n",
    "    for i in range(len(participant)):\n",
    "        if participant[i] != completion[i]:\n",
    "            return participant[i]\n",
    "    return participant[len(participant)-1]"
   ]
  },
  {
   "cell_type": "code",
   "execution_count": 40,
   "metadata": {},
   "outputs": [
    {
     "data": {
      "text/plain": [
       "'mislav'"
      ]
     },
     "execution_count": 40,
     "metadata": {},
     "output_type": "execute_result"
    }
   ],
   "source": [
    "solution(participant, completion)"
   ]
  },
  {
   "cell_type": "markdown",
   "metadata": {},
   "source": [
    "## 모의고사\n",
    "https://programmers.co.kr/learn/courses/30/lessons/42840"
   ]
  },
  {
   "cell_type": "code",
   "execution_count": null,
   "metadata": {},
   "outputs": [],
   "source": [
    "range(len(x))\n",
    "x"
   ]
  },
  {
   "cell_type": "code",
   "execution_count": null,
   "metadata": {},
   "outputs": [],
   "source": [
    "def check(answers, case):\n",
    "    return len([i for i in range(len(answers)) if answers[i]  == case[i % len(case)]])\n",
    "def solution(answers):\n",
    "    case1 = [1,2,3,4,5]\n",
    "    case2 = [2,1,2,3,2,4,2,5]\n",
    "    case3 = [3,3,1,1,2,2,4,4,5,5]\n",
    "    dic = {1 : check(answers, case1),\n",
    "           2 : check(answers, case2),\n",
    "           3 : check(answers, case3)}\n",
    "    max_val = max(dic[1], dic[2], dic[3])\n",
    "    return [key for key, value in dic.items() if value == max_val]"
   ]
  },
  {
   "cell_type": "markdown",
   "metadata": {},
   "source": [
    "## 체육복\n",
    "https://programmers.co.kr/learn/courses/30/lessons/42862"
   ]
  },
  {
   "cell_type": "code",
   "execution_count": 54,
   "metadata": {},
   "outputs": [],
   "source": [
    "n = 5\n",
    "losts = [1,2,3,4,5]\n",
    "reserves = [1,2,3,4,5]\n",
    "\n",
    "def solution(n, losts, reserves):\n",
    "    no = 0\n",
    "    for lost in losts:\n",
    "        small = lost - 1\n",
    "        big   = lost + 1\n",
    "        if lost in reserves:\n",
    "            reserves.remove(lost)\n",
    "        elif small in reserves and small not in losts:\n",
    "            reserves.remove(small)\n",
    "        elif big in reserves and big not in losts:\n",
    "            reserves.remove(big)            \n",
    "        else:\n",
    "            no += 1\n",
    "    answer = n - no\n",
    "    return answer"
   ]
  },
  {
   "cell_type": "code",
   "execution_count": 55,
   "metadata": {},
   "outputs": [
    {
     "data": {
      "text/plain": [
       "5"
      ]
     },
     "execution_count": 55,
     "metadata": {},
     "output_type": "execute_result"
    }
   ],
   "source": [
    "solution(n, losts, reserves)"
   ]
  },
  {
   "cell_type": "markdown",
   "metadata": {},
   "source": [
    "## K번째 수\n",
    "https://programmers.co.kr/learn/courses/30/lessons/42748"
   ]
  },
  {
   "cell_type": "code",
   "execution_count": 52,
   "metadata": {},
   "outputs": [],
   "source": [
    "def solution(array, commands):\n",
    "    answer = []\n",
    "    for command in commands:\n",
    "        i, j, k = command\n",
    "        ls = sorted(array[i-1:j])\n",
    "        answer.append(ls[k-1])\n",
    "    return answer"
   ]
  },
  {
   "cell_type": "code",
   "execution_count": 53,
   "metadata": {},
   "outputs": [
    {
     "data": {
      "text/plain": [
       "[5, 6, 3]"
      ]
     },
     "execution_count": 53,
     "metadata": {},
     "output_type": "execute_result"
    }
   ],
   "source": [
    "array = [1, 5, 2, 6, 3, 7, 4]\n",
    "commands = [[2, 5, 3], [4, 4, 1], [1, 7, 3]]\n",
    "solution(array, commands)"
   ]
  },
  {
   "cell_type": "markdown",
   "metadata": {},
   "source": [
    "## 2016년\n",
    "https://programmers.co.kr/learn/courses/30/lessons/12901"
   ]
  },
  {
   "cell_type": "code",
   "execution_count": 54,
   "metadata": {},
   "outputs": [],
   "source": [
    "import datetime\n",
    "def solution(a, b):\n",
    "    dic = {0 : \"MON\",\n",
    "           1 : \"TUE\",\n",
    "           2 : \"WED\",\n",
    "           3: \"THU\",\n",
    "           4 : \"FRI\",\n",
    "           5 : \"SAT\", \n",
    "           6 : \"SUN\"}\n",
    "    return dic[datetime.datetime(2016, a, b).weekday()]"
   ]
  },
  {
   "cell_type": "markdown",
   "metadata": {},
   "source": [
    "## 가운데 글자 가져오기\n",
    "https://programmers.co.kr/learn/courses/30/lessons/12903"
   ]
  },
  {
   "cell_type": "code",
   "execution_count": 55,
   "metadata": {},
   "outputs": [],
   "source": [
    "def solution(s):\n",
    "    mid = len(s) // 2\n",
    "    return s[mid] if len(s) %2 == 1 else s[mid-1:mid+1]"
   ]
  },
  {
   "cell_type": "markdown",
   "metadata": {},
   "source": [
    "## 같은 숫자는 싫어\n",
    "https://programmers.co.kr/learn/courses/30/lessons/12906"
   ]
  },
  {
   "cell_type": "code",
   "execution_count": 2,
   "metadata": {},
   "outputs": [],
   "source": [
    "def solution(arr):\n",
    "    #list(set(arr)) 순서 변경\n",
    "    return [arr[0]] +[arr[i] for i in range(1, len(arr)) if arr[i] != arr[i - 1]]"
   ]
  },
  {
   "cell_type": "code",
   "execution_count": 7,
   "metadata": {},
   "outputs": [],
   "source": [
    "def solution(arr):\n",
    "    #list(set(arr)) 순서 변경\n",
    "    return [arr[i] for i in range(len(arr)) if [arr[i]] != arr[i+1:i+2]]"
   ]
  },
  {
   "cell_type": "code",
   "execution_count": 6,
   "metadata": {},
   "outputs": [
    {
     "data": {
      "text/plain": [
       "[1, 3, 0, 1]"
      ]
     },
     "execution_count": 6,
     "metadata": {},
     "output_type": "execute_result"
    }
   ],
   "source": [
    "arr = [1,1,3,3,0,1,1]\n",
    "solution(arr)"
   ]
  },
  {
   "cell_type": "markdown",
   "metadata": {},
   "source": [
    "## 나누어 떨어지는 숫자 배열\n",
    "https://programmers.co.kr/learn/courses/30/lessons/12910"
   ]
  },
  {
   "cell_type": "code",
   "execution_count": null,
   "metadata": {},
   "outputs": [],
   "source": [
    "def solution(arr, divisor):\n",
    "    answer = [x for x in arr if x % divisor == 0]\n",
    "    if len(answer) == 0: answer = [-1]\n",
    "    return sorted(answer)"
   ]
  },
  {
   "cell_type": "markdown",
   "metadata": {},
   "source": [
    "## 두 정수 사이의 합\n",
    "https://programmers.co.kr/learn/courses/30/lessons/12912"
   ]
  },
  {
   "cell_type": "code",
   "execution_count": null,
   "metadata": {},
   "outputs": [],
   "source": [
    "def solution(a, b): \n",
    "    if a > b:\n",
    "        a, b = b, a\n",
    "        # sum([x for x in range(a,b + 1)])\n",
    "    return sum(range(a, b + 1))"
   ]
  },
  {
   "cell_type": "markdown",
   "metadata": {},
   "source": [
    "## 문자열 내 마음대로 정렬하기\n",
    "https://programmers.co.kr/learn/courses/30/lessons/12915"
   ]
  },
  {
   "cell_type": "code",
   "execution_count": null,
   "metadata": {},
   "outputs": [],
   "source": [
    "def solution(strings, n):\n",
    "    return sorted(sorted(strings), key = lambda x : x[n])"
   ]
  },
  {
   "cell_type": "markdown",
   "metadata": {},
   "source": [
    "## 문자열 내의 p와 y의 개수\n",
    "https://programmers.co.kr/learn/courses/30/lessons/12916"
   ]
  },
  {
   "cell_type": "code",
   "execution_count": null,
   "metadata": {},
   "outputs": [],
   "source": [
    "def solution(s):\n",
    "    num_p = s.count(\"p\") + s.count(\"P\")\n",
    "    num_y = s.count(\"y\") + s.count(\"Y\")\n",
    "    return num_p == num_y"
   ]
  },
  {
   "cell_type": "markdown",
   "metadata": {},
   "source": [
    "## 문자열 내림차순으로 배치하기\n",
    "https://programmers.co.kr/learn/courses/30/lessons/12917"
   ]
  },
  {
   "cell_type": "code",
   "execution_count": null,
   "metadata": {},
   "outputs": [],
   "source": [
    "def solution(s):\n",
    "    # s_ls = [x for x in s]\n",
    "    # \"\".join(sorted([x for x in s], key = lambda x : ord(x), reverse = True))\n",
    "    return \"\".join(sorted(s, reverse = True))"
   ]
  },
  {
   "cell_type": "markdown",
   "metadata": {},
   "source": [
    "## 문자열 다루기 기본\n",
    "https://programmers.co.kr/learn/courses/30/lessons/12918"
   ]
  },
  {
   "cell_type": "code",
   "execution_count": null,
   "metadata": {},
   "outputs": [],
   "source": [
    "def solution(s):\n",
    "    answer = s.isdigit() and (len(s) == 4 or len(s) == 6)\n",
    "    return answer"
   ]
  },
  {
   "cell_type": "markdown",
   "metadata": {},
   "source": [
    "## 서울에서 김서방 찾기\n",
    "https://programmers.co.kr/learn/courses/30/lessons/12919"
   ]
  },
  {
   "cell_type": "code",
   "execution_count": null,
   "metadata": {},
   "outputs": [],
   "source": [
    "def solution(seoul):\n",
    "    answer = [idx for idx, val in enumerate(seoul) if val == \"Kim\"][0]\n",
    "    return f\"김서방은 {answer}에 있다\""
   ]
  },
  {
   "cell_type": "markdown",
   "metadata": {},
   "source": [
    "## 소수 찾기\n",
    "https://programmers.co.kr/learn/courses/30/lessons/12921"
   ]
  },
  {
   "cell_type": "code",
   "execution_count": 58,
   "metadata": {},
   "outputs": [],
   "source": [
    "def solution(n):\n",
    "    number = set(range(2, n+1))\n",
    "    for i in range(2, n + 1):\n",
    "        if i in number:\n",
    "            number -= set(range(2*i, n+1, i))\n",
    "    return len(number)"
   ]
  },
  {
   "cell_type": "markdown",
   "metadata": {},
   "source": [
    "## 수박수박수박수박수박수?\n",
    "https://programmers.co.kr/learn/courses/30/lessons/12922"
   ]
  },
  {
   "cell_type": "code",
   "execution_count": null,
   "metadata": {},
   "outputs": [],
   "source": [
    "def solution(n):\n",
    "    return \"수박\"*(n//2) + \"수\"*(n%2)"
   ]
  },
  {
   "cell_type": "markdown",
   "metadata": {},
   "source": [
    "## 문자열을 정수로 바꾸기\n",
    "https://programmers.co.kr/learn/courses/30/lessons/12925"
   ]
  },
  {
   "cell_type": "code",
   "execution_count": null,
   "metadata": {},
   "outputs": [],
   "source": [
    "def solution(s):\n",
    "    return int(s)"
   ]
  },
  {
   "cell_type": "markdown",
   "metadata": {},
   "source": [
    "## 시저 암호\n",
    "https://programmers.co.kr/learn/courses/30/lessons/12926"
   ]
  },
  {
   "cell_type": "code",
   "execution_count": null,
   "metadata": {},
   "outputs": [],
   "source": [
    "def s_loop(x, n):\n",
    "    if x.isupper():\n",
    "        return (ord(x) + n - ord(\"A\")) % 26 + ord(\"A\")\n",
    "    elif x.islower():\n",
    "        return (ord(x) + n - ord(\"a\")) % 26 + ord(\"a\")   \n",
    "    else:\n",
    "        return ord(x)\n",
    "def solution(s, n):\n",
    "    s_ls = [chr(s_loop(x, n)) for x in s]\n",
    "    return \"\".join(s_ls)"
   ]
  },
  {
   "cell_type": "markdown",
   "metadata": {},
   "source": [
    "## 약수의 합\n",
    "https://programmers.co.kr/learn/courses/30/lessons/12928"
   ]
  },
  {
   "cell_type": "code",
   "execution_count": null,
   "metadata": {},
   "outputs": [],
   "source": [
    "def solution(n):\n",
    "    answer = [x for x in range(1, n//2 + 1) if n % x == 0]\n",
    "    return sum(answer) + n"
   ]
  }
 ],
 "metadata": {
  "kernelspec": {
   "display_name": "Python 3",
   "language": "python",
   "name": "python3"
  },
  "language_info": {
   "codemirror_mode": {
    "name": "ipython",
    "version": 3
   },
   "file_extension": ".py",
   "mimetype": "text/x-python",
   "name": "python",
   "nbconvert_exporter": "python",
   "pygments_lexer": "ipython3",
   "version": "3.7.4"
  }
 },
 "nbformat": 4,
 "nbformat_minor": 4
}
