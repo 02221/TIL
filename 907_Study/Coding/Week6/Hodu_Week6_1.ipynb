{
 "cells": [
  {
   "cell_type": "markdown",
   "metadata": {},
   "source": [
    "## 크레인 인형 뽑기\n",
    "https://programmers.co.kr/learn/courses/30/lessons/64061"
   ]
  },
  {
   "cell_type": "code",
   "execution_count": null,
   "metadata": {},
   "outputs": [],
   "source": [
    "def solution(board, moves):\n",
    "    result = []\n",
    "    answer = 0\n",
    "    for i in moves:\n",
    "        for j in range(len(board)):\n",
    "            if board[j][i-1] != 0:\n",
    "                result.append(board[j][i-1])\n",
    "                board[j][i-1] = 0\n",
    "                break\n",
    "        if len(result) > 1:    \n",
    "            if result[-2] == result[-1]:\n",
    "                answer += 2\n",
    "                del result[-1]\n",
    "                del result[-1]\n",
    "    return answer"
   ]
  },
  {
   "cell_type": "markdown",
   "metadata": {},
   "source": [
    "## 완주하지 못한 선수\n",
    "https://programmers.co.kr/learn/courses/30/lessons/42576"
   ]
  },
  {
   "cell_type": "code",
   "execution_count": null,
   "metadata": {},
   "outputs": [],
   "source": [
    "def solution(participant, completion):\n",
    "    p = sorted(participant)\n",
    "    c = sorted(completion)\n",
    "    for i in range(len(c)):\n",
    "        if c[i] != p[i]:\n",
    "            answer = p[i]\n",
    "            return answer\n",
    "            break\n",
    "    answer = p[-1]\n",
    "    return answer"
   ]
  },
  {
   "cell_type": "markdown",
   "metadata": {},
   "source": [
    "## 모의고사\n",
    "https://programmers.co.kr/learn/courses/30/lessons/42840"
   ]
  },
  {
   "cell_type": "code",
   "execution_count": null,
   "metadata": {},
   "outputs": [],
   "source": [
    "def solution(answers):\n",
    "    first = list(map(int, '12345' * (len(answers)//5 + 1)))\n",
    "    second = list(map(int, '21232425' * (len(answers)//8 + 1)))\n",
    "    third = list(map(int, '3311224455' * (len(answers)//10 +1)))\n",
    "    \n",
    "    f = 0\n",
    "    s = 0\n",
    "    t = 0\n",
    "    \n",
    "    for i in range(len(answers)):\n",
    "        if answers[i] == first[i]:\n",
    "            f += 1\n",
    "        if answers[i] == second[i]:\n",
    "            s += 1\n",
    "        if answers[i] == third[i]:\n",
    "            t += 1\n",
    "    \n",
    "    group = [f, s, t]\n",
    "    answer = []\n",
    "    \n",
    "    for j in range(len(group)):\n",
    "        if group[j] == group[j-1]:\n",
    "            if group[j] >= group[j-2]:\n",
    "                answer.append(j+1)\n",
    "        elif group[j] > group[j-1]:\n",
    "            if group[j] > group[j-2]:\n",
    "                answer.clear()\n",
    "                answer.append(j+1)\n",
    "            elif group[j] == group[j-2]:\n",
    "                answer.append(j+1)\n",
    "                \n",
    "    return answer"
   ]
  },
  {
   "cell_type": "markdown",
   "metadata": {},
   "source": [
    "## 체육복\n",
    "https://programmers.co.kr/learn/courses/30/lessons/42862"
   ]
  },
  {
   "cell_type": "code",
   "execution_count": null,
   "metadata": {},
   "outputs": [],
   "source": [
    "def solution(n, lost, reserve):\n",
    "    lost_n = lost.copy()\n",
    "    for i in lost:\n",
    "        if i in reserve:\n",
    "            reserve.remove(i)\n",
    "            lost_n.remove(i)\n",
    "        elif i-1 in reserve and i-1 not in lost:\n",
    "            reserve.remove(i-1)\n",
    "            lost_n.remove(i)\n",
    "        elif i+1 in reserve and i+1 not in lost:\n",
    "            reserve.remove(i+1)\n",
    "            lost_n.remove(i)\n",
    "    answer = n - (len(lost_n))\n",
    "    return answer"
   ]
  },
  {
   "cell_type": "markdown",
   "metadata": {},
   "source": [
    "## K번째 수\n",
    "https://programmers.co.kr/learn/courses/30/lessons/42748"
   ]
  },
  {
   "cell_type": "code",
   "execution_count": null,
   "metadata": {},
   "outputs": [],
   "source": [
    "def solution(array, commands):\n",
    "    piece = []\n",
    "    pieces = []\n",
    "    for i in range(len(commands)):\n",
    "        piece = sorted(array[(commands[i][0])-1:commands[i][1]])\n",
    "        pieces.append(piece[commands[i][2]-1]) \n",
    "    return pieces"
   ]
  },
  {
   "cell_type": "markdown",
   "metadata": {},
   "source": [
    "## 2016년\n",
    "https://programmers.co.kr/learn/courses/30/lessons/12901"
   ]
  },
  {
   "cell_type": "code",
   "execution_count": null,
   "metadata": {},
   "outputs": [],
   "source": []
  },
  {
   "cell_type": "markdown",
   "metadata": {},
   "source": [
    "## 가운데 글자 가져오기\n",
    "https://programmers.co.kr/learn/courses/30/lessons/12903"
   ]
  },
  {
   "cell_type": "code",
   "execution_count": null,
   "metadata": {},
   "outputs": [],
   "source": []
  },
  {
   "cell_type": "markdown",
   "metadata": {},
   "source": [
    "## 같은 숫자는 싫어\n",
    "https://programmers.co.kr/learn/courses/30/lessons/12906"
   ]
  },
  {
   "cell_type": "code",
   "execution_count": null,
   "metadata": {},
   "outputs": [],
   "source": []
  },
  {
   "cell_type": "markdown",
   "metadata": {},
   "source": [
    "## 나누어 떨어지는 숫자 배열\n",
    "https://programmers.co.kr/learn/courses/30/lessons/12910"
   ]
  },
  {
   "cell_type": "code",
   "execution_count": null,
   "metadata": {},
   "outputs": [],
   "source": []
  },
  {
   "cell_type": "markdown",
   "metadata": {},
   "source": [
    "## 두 정수 사이의 합\n",
    "https://programmers.co.kr/learn/courses/30/lessons/12912"
   ]
  },
  {
   "cell_type": "code",
   "execution_count": null,
   "metadata": {},
   "outputs": [],
   "source": []
  },
  {
   "cell_type": "markdown",
   "metadata": {},
   "source": [
    "## 문자열 내 마음대로 정렬하기\n",
    "https://programmers.co.kr/learn/courses/30/lessons/12915"
   ]
  },
  {
   "cell_type": "code",
   "execution_count": null,
   "metadata": {},
   "outputs": [],
   "source": []
  },
  {
   "cell_type": "markdown",
   "metadata": {},
   "source": [
    "## 문자열 내의 p와 y의 개수\n",
    "https://programmers.co.kr/learn/courses/30/lessons/12916"
   ]
  },
  {
   "cell_type": "code",
   "execution_count": null,
   "metadata": {},
   "outputs": [],
   "source": []
  },
  {
   "cell_type": "markdown",
   "metadata": {},
   "source": [
    "## 문자열 내림차순으로 배치하기\n",
    "https://programmers.co.kr/learn/courses/30/lessons/12917"
   ]
  },
  {
   "cell_type": "code",
   "execution_count": null,
   "metadata": {},
   "outputs": [],
   "source": []
  },
  {
   "cell_type": "markdown",
   "metadata": {},
   "source": [
    "## 문자열 다루기 기본\n",
    "https://programmers.co.kr/learn/courses/30/lessons/12918"
   ]
  },
  {
   "cell_type": "code",
   "execution_count": null,
   "metadata": {},
   "outputs": [],
   "source": []
  },
  {
   "cell_type": "markdown",
   "metadata": {},
   "source": [
    "## 서울에서 김서방 찾기\n",
    "https://programmers.co.kr/learn/courses/30/lessons/12919"
   ]
  },
  {
   "cell_type": "code",
   "execution_count": null,
   "metadata": {},
   "outputs": [],
   "source": [
    "def solution(seoul):\n",
    "    idx = seoul.index(\"Kim\")\n",
    "    answer = '김서방은 %s에 있다'%idx\n",
    "    return answer"
   ]
  },
  {
   "cell_type": "markdown",
   "metadata": {},
   "source": [
    "## 소수 찾기\n",
    "https://programmers.co.kr/learn/courses/30/lessons/12921"
   ]
  },
  {
   "cell_type": "code",
   "execution_count": null,
   "metadata": {},
   "outputs": [],
   "source": []
  },
  {
   "cell_type": "markdown",
   "metadata": {},
   "source": [
    "## 수박수박수박수박수박수?\n",
    "https://programmers.co.kr/learn/courses/30/lessons/12922"
   ]
  },
  {
   "cell_type": "code",
   "execution_count": null,
   "metadata": {},
   "outputs": [],
   "source": []
  },
  {
   "cell_type": "markdown",
   "metadata": {},
   "source": [
    "## 문자열을 정수로 바꾸기\n",
    "https://programmers.co.kr/learn/courses/30/lessons/12925"
   ]
  },
  {
   "cell_type": "code",
   "execution_count": null,
   "metadata": {},
   "outputs": [],
   "source": []
  },
  {
   "cell_type": "markdown",
   "metadata": {},
   "source": [
    "## 시저 암호\n",
    "https://programmers.co.kr/learn/courses/30/lessons/12926"
   ]
  },
  {
   "cell_type": "code",
   "execution_count": null,
   "metadata": {},
   "outputs": [],
   "source": []
  },
  {
   "cell_type": "markdown",
   "metadata": {},
   "source": [
    "## 약수의 합\n",
    "https://programmers.co.kr/learn/courses/30/lessons/12928"
   ]
  },
  {
   "cell_type": "code",
   "execution_count": null,
   "metadata": {},
   "outputs": [],
   "source": []
  }
 ],
 "metadata": {
  "kernelspec": {
   "display_name": "Python 3",
   "language": "python",
   "name": "python3"
  },
  "language_info": {
   "codemirror_mode": {
    "name": "ipython",
    "version": 3
   },
   "file_extension": ".py",
   "mimetype": "text/x-python",
   "name": "python",
   "nbconvert_exporter": "python",
   "pygments_lexer": "ipython3",
   "version": "3.7.4"
  }
 },
 "nbformat": 4,
 "nbformat_minor": 4
}
