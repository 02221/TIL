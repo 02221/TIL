{
 "cells": [
  {
   "cell_type": "markdown",
   "metadata": {},
   "source": [
    "## 크레인 인형 뽑기\n",
    "https://programmers.co.kr/learn/courses/30/lessons/64061"
   ]
  },
  {
   "cell_type": "code",
   "execution_count": null,
   "metadata": {},
   "outputs": [],
   "source": [
    "def solution(board, moves):\n",
    "    result = []\n",
    "    answer = 0\n",
    "    for i in moves:\n",
    "        for j in range(len(board)):\n",
    "            if board[j][i-1] != 0:\n",
    "                result.append(board[j][i-1])\n",
    "                board[j][i-1] = 0\n",
    "                break\n",
    "        if len(result) > 1:    \n",
    "            if result[-2] == result[-1]:\n",
    "                answer += 2\n",
    "                del result[-1]\n",
    "                del result[-1]\n",
    "    return answer"
   ]
  },
  {
   "cell_type": "markdown",
   "metadata": {},
   "source": [
    "## 완주하지 못한 선수\n",
    "https://programmers.co.kr/learn/courses/30/lessons/42576"
   ]
  },
  {
   "cell_type": "code",
   "execution_count": null,
   "metadata": {},
   "outputs": [],
   "source": [
    "def solution(participant, completion):\n",
    "    p = sorted(participant)\n",
    "    c = sorted(completion)\n",
    "    for i in range(len(c)):\n",
    "        if c[i] != p[i]:\n",
    "            answer = p[i]\n",
    "            return answer\n",
    "            break\n",
    "    answer = p[-1]\n",
    "    return answer"
   ]
  },
  {
   "cell_type": "markdown",
   "metadata": {},
   "source": [
    "## 모의고사\n",
    "https://programmers.co.kr/learn/courses/30/lessons/42840"
   ]
  },
  {
   "cell_type": "code",
   "execution_count": null,
   "metadata": {},
   "outputs": [],
   "source": [
    "def solution(answers):\n",
    "    first = list(map(int, '12345' * (len(answers)//5 + 1)))\n",
    "    second = list(map(int, '21232425' * (len(answers)//8 + 1)))\n",
    "    third = list(map(int, '3311224455' * (len(answers)//10 +1)))\n",
    "    \n",
    "    f = 0\n",
    "    s = 0\n",
    "    t = 0\n",
    "    \n",
    "    for i in range(len(answers)):\n",
    "        if answers[i] == first[i]:\n",
    "            f += 1\n",
    "        if answers[i] == second[i]:\n",
    "            s += 1\n",
    "        if answers[i] == third[i]:\n",
    "            t += 1\n",
    "    \n",
    "    group = [f, s, t]\n",
    "    answer = []\n",
    "    \n",
    "    for j in range(len(group)):\n",
    "        if group[j] == group[j-1]:\n",
    "            if group[j] >= group[j-2]:\n",
    "                answer.append(j+1)\n",
    "        elif group[j] > group[j-1]:\n",
    "            if group[j] > group[j-2]:\n",
    "                answer.clear()\n",
    "                answer.append(j+1)\n",
    "            elif group[j] == group[j-2]:\n",
    "                answer.append(j+1)\n",
    "                \n",
    "    return answer"
   ]
  },
  {
   "cell_type": "markdown",
   "metadata": {},
   "source": [
    "## 체육복\n",
    "https://programmers.co.kr/learn/courses/30/lessons/42862"
   ]
  },
  {
   "cell_type": "code",
   "execution_count": null,
   "metadata": {},
   "outputs": [],
   "source": [
    "def solution(n, lost, reserve):\n",
    "    lost_n = lost.copy()\n",
    "    for i in lost:\n",
    "        if i in reserve:\n",
    "            reserve.remove(i)\n",
    "            lost_n.remove(i)\n",
    "        elif i-1 in reserve and i-1 not in lost:\n",
    "            reserve.remove(i-1)\n",
    "            lost_n.remove(i)\n",
    "        elif i+1 in reserve and i+1 not in lost:\n",
    "            reserve.remove(i+1)\n",
    "            lost_n.remove(i)\n",
    "    answer = n - (len(lost_n))\n",
    "    return answer"
   ]
  },
  {
   "cell_type": "markdown",
   "metadata": {},
   "source": [
    "## K번째 수\n",
    "https://programmers.co.kr/learn/courses/30/lessons/42748"
   ]
  },
  {
   "cell_type": "code",
   "execution_count": null,
   "metadata": {},
   "outputs": [],
   "source": [
    "def solution(array, commands):\n",
    "    piece = []\n",
    "    pieces = []\n",
    "    for i in range(len(commands)):\n",
    "        piece = sorted(array[(commands[i][0])-1:commands[i][1]])\n",
    "        pieces.append(piece[commands[i][2]-1]) \n",
    "    return pieces"
   ]
  },
  {
   "cell_type": "markdown",
   "metadata": {},
   "source": [
    "## 2016년\n",
    "https://programmers.co.kr/learn/courses/30/lessons/12901"
   ]
  },
  {
   "cell_type": "code",
   "execution_count": null,
   "metadata": {},
   "outputs": [],
   "source": []
  },
  {
   "cell_type": "markdown",
   "metadata": {},
   "source": [
    "## 가운데 글자 가져오기\n",
    "https://programmers.co.kr/learn/courses/30/lessons/12903"
   ]
  },
  {
   "cell_type": "code",
   "execution_count": null,
   "metadata": {},
   "outputs": [],
   "source": []
  },
  {
   "cell_type": "markdown",
   "metadata": {},
   "source": [
    "## 같은 숫자는 싫어\n",
    "https://programmers.co.kr/learn/courses/30/lessons/12906"
   ]
  },
  {
   "cell_type": "code",
   "execution_count": null,
   "metadata": {},
   "outputs": [],
   "source": []
  },
  {
   "cell_type": "markdown",
   "metadata": {},
   "source": [
    "## 나누어 떨어지는 숫자 배열\n",
    "https://programmers.co.kr/learn/courses/30/lessons/12910"
   ]
  },
  {
   "cell_type": "code",
   "execution_count": null,
   "metadata": {},
   "outputs": [],
   "source": []
  },
  {
   "cell_type": "markdown",
   "metadata": {},
   "source": [
    "## 두 정수 사이의 합\n",
    "https://programmers.co.kr/learn/courses/30/lessons/12912"
   ]
  },
  {
   "cell_type": "code",
   "execution_count": null,
   "metadata": {},
   "outputs": [],
   "source": []
  },
  {
   "cell_type": "markdown",
   "metadata": {},
   "source": [
    "## 문자열 내 마음대로 정렬하기\n",
    "https://programmers.co.kr/learn/courses/30/lessons/12915"
   ]
  },
  {
   "cell_type": "code",
   "execution_count": 47,
   "metadata": {},
   "outputs": [],
   "source": [
    "strings = [\"abce\", \"cdx\", \"abcd\"]\n",
    "n = 2"
   ]
  },
  {
   "cell_type": "code",
   "execution_count": null,
   "metadata": {},
   "outputs": [],
   "source": [
    "strings.sort()\n"
   ]
  },
  {
   "cell_type": "code",
   "execution_count": 63,
   "metadata": {},
   "outputs": [],
   "source": [
    "def solution(strings, n):\n",
    "    strings.sort()\n",
    "    answer = sorted(strings, key = lambda x: x[n])\n",
    "    return answer"
   ]
  },
  {
   "cell_type": "code",
   "execution_count": 64,
   "metadata": {},
   "outputs": [
    {
     "data": {
      "text/plain": [
       "['abcd', 'abce', 'cdx']"
      ]
     },
     "execution_count": 64,
     "metadata": {},
     "output_type": "execute_result"
    }
   ],
   "source": [
    "solution(strings, n)"
   ]
  },
  {
   "cell_type": "markdown",
   "metadata": {},
   "source": [
    "strings_n = [[\"abce\",\"abcd\"], [\"cdx\"]]\n",
    "strings_nn = sorted(strings_n)\n",
    "딕셔너리에 넣어서 strings의 각 원소를 key로,\n",
    "각 원소 슬라이싱 한것을 value로 함.\n",
    "value를 기준으로 오름차순 정렬.\n",
    "key값만 넣은 리스트 생성하고 리스트 반환."
   ]
  },
  {
   "cell_type": "code",
   "execution_count": 42,
   "metadata": {},
   "outputs": [],
   "source": [
    "strings_n = [[\"abce\",\"abcd\"], [\"cdx\"]]"
   ]
  },
  {
   "cell_type": "code",
   "execution_count": 43,
   "metadata": {},
   "outputs": [
    {
     "data": {
      "text/plain": [
       "2"
      ]
     },
     "execution_count": 43,
     "metadata": {},
     "output_type": "execute_result"
    }
   ],
   "source": [
    "len(strings_n)"
   ]
  },
  {
   "cell_type": "code",
   "execution_count": 45,
   "metadata": {},
   "outputs": [],
   "source": [
    "strings_n = [[\"abce\",\"abcd\"], [\"cdx\"]]\n",
    "strings_nn = []\n",
    "for i in range(len(strings_n)):\n",
    "    strings_nn.append(sorted(strings_n[i]))"
   ]
  },
  {
   "cell_type": "code",
   "execution_count": 46,
   "metadata": {},
   "outputs": [
    {
     "data": {
      "text/plain": [
       "[['abcd', 'abce'], ['cdx']]"
      ]
     },
     "execution_count": 46,
     "metadata": {},
     "output_type": "execute_result"
    }
   ],
   "source": [
    "strings_nn"
   ]
  },
  {
   "cell_type": "markdown",
   "metadata": {},
   "source": [
    "## 문자열 내의 p와 y의 개수\n",
    "https://programmers.co.kr/learn/courses/30/lessons/12916"
   ]
  },
  {
   "cell_type": "code",
   "execution_count": 7,
   "metadata": {},
   "outputs": [],
   "source": [
    "s = \"pPoooyY\""
   ]
  },
  {
   "cell_type": "code",
   "execution_count": 5,
   "metadata": {},
   "outputs": [],
   "source": [
    "S = s.upper()"
   ]
  },
  {
   "cell_type": "code",
   "execution_count": 6,
   "metadata": {},
   "outputs": [
    {
     "data": {
      "text/plain": [
       "2"
      ]
     },
     "execution_count": 6,
     "metadata": {},
     "output_type": "execute_result"
    }
   ],
   "source": [
    "S.count('P')"
   ]
  },
  {
   "cell_type": "code",
   "execution_count": 15,
   "metadata": {},
   "outputs": [],
   "source": [
    "def solution(s):\n",
    "    S = s.upper()\n",
    "    if S.count('P') == S.count('Y'):\n",
    "        return True\n",
    "    else:\n",
    "        return False"
   ]
  },
  {
   "cell_type": "code",
   "execution_count": 16,
   "metadata": {},
   "outputs": [
    {
     "data": {
      "text/plain": [
       "True"
      ]
     },
     "execution_count": 16,
     "metadata": {},
     "output_type": "execute_result"
    }
   ],
   "source": [
    "solution(s)"
   ]
  },
  {
   "cell_type": "markdown",
   "metadata": {},
   "source": [
    "if s.upper.count('P') == s.upper.count('Y')\n",
    "이렇게 한줄로 짤 수 있음"
   ]
  },
  {
   "cell_type": "markdown",
   "metadata": {},
   "source": [
    "## 문자열 내림차순으로 배치하기\n",
    "https://programmers.co.kr/learn/courses/30/lessons/12917"
   ]
  },
  {
   "cell_type": "code",
   "execution_count": 21,
   "metadata": {},
   "outputs": [],
   "source": [
    "s = \"ZbcdAefg\"\n",
    "# answer = \"gfedcbZA\""
   ]
  },
  {
   "cell_type": "code",
   "execution_count": 28,
   "metadata": {},
   "outputs": [],
   "source": [
    "ls = sorted(list(s), reverse = True)"
   ]
  },
  {
   "cell_type": "code",
   "execution_count": 29,
   "metadata": {},
   "outputs": [
    {
     "data": {
      "text/plain": [
       "['g', 'f', 'e', 'd', 'c', 'b', 'Z', 'A']"
      ]
     },
     "execution_count": 29,
     "metadata": {},
     "output_type": "execute_result"
    }
   ],
   "source": [
    "ls"
   ]
  },
  {
   "cell_type": "code",
   "execution_count": 30,
   "metadata": {},
   "outputs": [],
   "source": [
    "def solution(s):\n",
    "    ls = sorted(list(s), reverse = True)\n",
    "    answer = ''.join(ls)\n",
    "    return answer"
   ]
  },
  {
   "cell_type": "code",
   "execution_count": 31,
   "metadata": {},
   "outputs": [
    {
     "data": {
      "text/plain": [
       "'gfedcbZA'"
      ]
     },
     "execution_count": 31,
     "metadata": {},
     "output_type": "execute_result"
    }
   ],
   "source": [
    "solution(s)"
   ]
  },
  {
   "cell_type": "markdown",
   "metadata": {},
   "source": [
    "## 문자열 다루기 기본\n",
    "https://programmers.co.kr/learn/courses/30/lessons/12918"
   ]
  },
  {
   "cell_type": "code",
   "execution_count": 32,
   "metadata": {},
   "outputs": [],
   "source": [
    "s = '12345'"
   ]
  },
  {
   "cell_type": "code",
   "execution_count": 36,
   "metadata": {},
   "outputs": [],
   "source": [
    "def solution(s):\n",
    "    if s.isdigit() == True:\n",
    "        if len(s) == 4:\n",
    "            answer = True\n",
    "        elif len(s) ==6:\n",
    "            answer = True\n",
    "        else:\n",
    "            answer = False\n",
    "    else:\n",
    "        answer = False\n",
    "    return answer"
   ]
  },
  {
   "cell_type": "code",
   "execution_count": 37,
   "metadata": {},
   "outputs": [
    {
     "data": {
      "text/plain": [
       "False"
      ]
     },
     "execution_count": 37,
     "metadata": {},
     "output_type": "execute_result"
    }
   ],
   "source": [
    "solution(s)"
   ]
  },
  {
   "cell_type": "markdown",
   "metadata": {},
   "source": [
    "def alpha_string46(s):\n",
    "    return s.isdigit() and len(s) in (4, 6)"
   ]
  },
  {
   "cell_type": "markdown",
   "metadata": {},
   "source": [
    "if len(s) == 4 or len(s) ==6 이라고 해야하지,\n",
    "len(s) == 4 or 6 이라고 하면 안됨"
   ]
  },
  {
   "cell_type": "markdown",
   "metadata": {},
   "source": [
    "## 서울에서 김서방 찾기\n",
    "https://programmers.co.kr/learn/courses/30/lessons/12919"
   ]
  },
  {
   "cell_type": "code",
   "execution_count": null,
   "metadata": {},
   "outputs": [],
   "source": [
    "seoul = [\"Jane\",'Kim']\n"
   ]
  },
  {
   "cell_type": "code",
   "execution_count": null,
   "metadata": {},
   "outputs": [],
   "source": [
    "def solution(seoul):\n",
    "    idx = seoul.index(\"Kim\")\n",
    "    answer = '김서방은 %s에 있다'%idx\n",
    "    return answer"
   ]
  },
  {
   "cell_type": "markdown",
   "metadata": {},
   "source": [
    "## 소수 찾기\n",
    "https://programmers.co.kr/learn/courses/30/lessons/12921"
   ]
  },
  {
   "cell_type": "code",
   "execution_count": 26,
   "metadata": {},
   "outputs": [],
   "source": [
    "n = 13"
   ]
  },
  {
   "cell_type": "code",
   "execution_count": 111,
   "metadata": {},
   "outputs": [
    {
     "data": {
      "text/plain": [
       "[11,\n",
       " 13,\n",
       " 17,\n",
       " 19,\n",
       " 23,\n",
       " 29,\n",
       " 31,\n",
       " 37,\n",
       " 41,\n",
       " 43,\n",
       " 47,\n",
       " 53,\n",
       " 59,\n",
       " 61,\n",
       " 67,\n",
       " 71,\n",
       " 73,\n",
       " 79,\n",
       " 83,\n",
       " 89,\n",
       " 97,\n",
       " 101,\n",
       " 103,\n",
       " 107,\n",
       " 109,\n",
       " 113,\n",
       " 121,\n",
       " 127,\n",
       " 131,\n",
       " 137,\n",
       " 139,\n",
       " 143,\n",
       " 149,\n",
       " 151,\n",
       " 157,\n",
       " 163,\n",
       " 167,\n",
       " 169,\n",
       " 173,\n",
       " 179,\n",
       " 181,\n",
       " 187,\n",
       " 191,\n",
       " 193,\n",
       " 197,\n",
       " 199,\n",
       " 209,\n",
       " 211,\n",
       " 221,\n",
       " 223,\n",
       " 227,\n",
       " 229,\n",
       " 233,\n",
       " 239,\n",
       " 241,\n",
       " 247,\n",
       " 251,\n",
       " 253,\n",
       " 257,\n",
       " 263,\n",
       " 269,\n",
       " 271,\n",
       " 277,\n",
       " 281,\n",
       " 283,\n",
       " 289,\n",
       " 293,\n",
       " 299,\n",
       " 307,\n",
       " 311,\n",
       " 313,\n",
       " 317,\n",
       " 319,\n",
       " 323,\n",
       " 331,\n",
       " 337,\n",
       " 341,\n",
       " 347,\n",
       " 349,\n",
       " 353,\n",
       " 359,\n",
       " 361,\n",
       " 367,\n",
       " 373,\n",
       " 377,\n",
       " 379,\n",
       " 383,\n",
       " 389,\n",
       " 391,\n",
       " 397,\n",
       " 401,\n",
       " 403,\n",
       " 407,\n",
       " 409,\n",
       " 419,\n",
       " 421,\n",
       " 431,\n",
       " 433,\n",
       " 437,\n",
       " 439,\n",
       " 443,\n",
       " 449,\n",
       " 451,\n",
       " 457,\n",
       " 461,\n",
       " 463,\n",
       " 467,\n",
       " 473,\n",
       " 479,\n",
       " 481,\n",
       " 487,\n",
       " 491,\n",
       " 493,\n",
       " 499,\n",
       " 503,\n",
       " 509,\n",
       " 517,\n",
       " 521,\n",
       " 523,\n",
       " 527,\n",
       " 529,\n",
       " 533,\n",
       " 541,\n",
       " 547,\n",
       " 551,\n",
       " 557,\n",
       " 559,\n",
       " 563,\n",
       " 569,\n",
       " 571,\n",
       " 577,\n",
       " 583,\n",
       " 587,\n",
       " 589,\n",
       " 593,\n",
       " 599,\n",
       " 601,\n",
       " 607,\n",
       " 611,\n",
       " 613,\n",
       " 617,\n",
       " 619,\n",
       " 629,\n",
       " 631,\n",
       " 641,\n",
       " 643,\n",
       " 647,\n",
       " 649,\n",
       " 653,\n",
       " 659,\n",
       " 661,\n",
       " 667,\n",
       " 671,\n",
       " 673,\n",
       " 677,\n",
       " 683,\n",
       " 689,\n",
       " 691,\n",
       " 697,\n",
       " 701,\n",
       " 703,\n",
       " 709,\n",
       " 713,\n",
       " 719,\n",
       " 727,\n",
       " 731,\n",
       " 733,\n",
       " 737,\n",
       " 739,\n",
       " 743,\n",
       " 751,\n",
       " 757,\n",
       " 761,\n",
       " 767,\n",
       " 769,\n",
       " 773,\n",
       " 779,\n",
       " 781,\n",
       " 787,\n",
       " 793,\n",
       " 797,\n",
       " 799,\n",
       " 803,\n",
       " 809,\n",
       " 811,\n",
       " 817,\n",
       " 821,\n",
       " 823,\n",
       " 827,\n",
       " 829,\n",
       " 839,\n",
       " 841,\n",
       " 851,\n",
       " 853,\n",
       " 857,\n",
       " 859,\n",
       " 863,\n",
       " 869,\n",
       " 871,\n",
       " 877,\n",
       " 881,\n",
       " 883,\n",
       " 887,\n",
       " 893,\n",
       " 899,\n",
       " 901,\n",
       " 907,\n",
       " 911,\n",
       " 913,\n",
       " 919,\n",
       " 923,\n",
       " 929,\n",
       " 937,\n",
       " 941,\n",
       " 943,\n",
       " 947,\n",
       " 949,\n",
       " 953,\n",
       " 961,\n",
       " 967,\n",
       " 971,\n",
       " 977,\n",
       " 979,\n",
       " 983,\n",
       " 989,\n",
       " 991,\n",
       " 997,\n",
       " 1003,\n",
       " 1007,\n",
       " 1009,\n",
       " 1013,\n",
       " 1019,\n",
       " 1021,\n",
       " 1027,\n",
       " 1031,\n",
       " 1033,\n",
       " 1037,\n",
       " 1039,\n",
       " 1049,\n",
       " 1051,\n",
       " 1061,\n",
       " 1063,\n",
       " 1067,\n",
       " 1069,\n",
       " 1073,\n",
       " 1079,\n",
       " 1081,\n",
       " 1087,\n",
       " 1091,\n",
       " 1093,\n",
       " 1097,\n",
       " 1103,\n",
       " 1109,\n",
       " 1111,\n",
       " 1117,\n",
       " 1121,\n",
       " 1123,\n",
       " 1129,\n",
       " 1133,\n",
       " 1139,\n",
       " 1147,\n",
       " 1151,\n",
       " 1153,\n",
       " 1157,\n",
       " 1159,\n",
       " 1163,\n",
       " 1171,\n",
       " 1177,\n",
       " 1181,\n",
       " 1187,\n",
       " 1189,\n",
       " 1193,\n",
       " 1199,\n",
       " 1201,\n",
       " 1207,\n",
       " 1213,\n",
       " 1217,\n",
       " 1219,\n",
       " 1223,\n",
       " 1229,\n",
       " 1231,\n",
       " 1237,\n",
       " 1241,\n",
       " 1243,\n",
       " 1247,\n",
       " 1249,\n",
       " 1259,\n",
       " 1261,\n",
       " 1271,\n",
       " 1273,\n",
       " 1277,\n",
       " 1279,\n",
       " 1283,\n",
       " 1289,\n",
       " 1291,\n",
       " 1297,\n",
       " 1301,\n",
       " 1303,\n",
       " 1307,\n",
       " 1313,\n",
       " 1319,\n",
       " 1321,\n",
       " 1327,\n",
       " 1331,\n",
       " 1333,\n",
       " 1339,\n",
       " 1343,\n",
       " 1349,\n",
       " 1357,\n",
       " 1361,\n",
       " 1363,\n",
       " 1367,\n",
       " 1369,\n",
       " 1373,\n",
       " 1381,\n",
       " 1387,\n",
       " 1391,\n",
       " 1397,\n",
       " 1399]"
      ]
     },
     "execution_count": 111,
     "metadata": {},
     "output_type": "execute_result"
    }
   ],
   "source": [
    "n = 1400\n",
    "sosu1 = [2, 3, 5, 7]\n",
    "#sosu2 = [x for x in range(2,n+1) if len([y for y in sosu1 if x%y == 0]) == 0]\n",
    "sosu2 = [x for x in range(2,n+1) if not [y for y in sosu1 if x%y == 0]]\n",
    "sosu2"
   ]
  },
  {
   "cell_type": "code",
   "execution_count": 53,
   "metadata": {},
   "outputs": [
    {
     "data": {
      "text/plain": [
       "2"
      ]
     },
     "execution_count": 53,
     "metadata": {},
     "output_type": "execute_result"
    }
   ],
   "source": [
    "    n = 3\n",
    "    sosu1 = [2, 3, 5, 7]\n",
    "    if n <10:\n",
    "        for i in range(len(sosu1)):\n",
    "            if n < sosu1[i]:\n",
    "                answer = len(sosu1[0:i])\n",
    "                break\n",
    "    answer"
   ]
  },
  {
   "cell_type": "code",
   "execution_count": 101,
   "metadata": {},
   "outputs": [],
   "source": [
    "    n = 1000\n",
    "    sosu1 = [2, 3, 5, 7]\n",
    "    sosu2 = [x for x in range(2,n+1) if not [y for y in sosu1 if x%y == 0]]\n",
    "    sosu3 = []\n",
    "    for j in sosu2:\n",
    "        for k in sosu2:\n",
    "            if j <= k and j*k in sosu2:\n",
    "                sosu2.remove(j*k)\n",
    "            \n",
    "    answer = 4 + len(sosu2) - len(sosu3)*(len(sosu3)+1)/2"
   ]
  },
  {
   "cell_type": "code",
   "execution_count": 102,
   "metadata": {},
   "outputs": [
    {
     "data": {
      "text/plain": [
       "[11, 13, 17, 19, 23, 29, 31]"
      ]
     },
     "execution_count": 102,
     "metadata": {},
     "output_type": "execute_result"
    }
   ],
   "source": [
    "sosu3"
   ]
  },
  {
   "cell_type": "code",
   "execution_count": null,
   "metadata": {},
   "outputs": [],
   "source": [
    "def solution(n):    \n",
    "    sosu1 = [2, 3, 5, 7]\n",
    "    if n <10:\n",
    "        for i in range(len(sosu1)):\n",
    "            if n < sosu1[i]:\n",
    "                answer = len(sosu1[0:i])\n",
    "                break\n",
    "            \n",
    "    elif n<121: #121부터 두자리수 소수 곱하기 두자리수 소수가 시작됨\n",
    "        sosu2 = [x for x in range(2,n+1) if not [y for y in sosu1 if x%y == 0]]\n",
    "        #2,3,5,7 모두로 나누어지지 않는 수 = 소수\n",
    "        answer = 4 + len(sosu2)\n",
    "\n",
    "    else:\n",
    "        sosu2 = [x for x in range(2,n+1) if not [y for y in sosu1 if x%y == 0]]\n",
    "        #2,3,5,7로 나누어지지않는 수들\n",
    "        sosu3 = []\n",
    "        for j in sosu2:\n",
    "            if j*j <= sosu2[-1]:\n",
    "                sosu3.append(j) #sosu3는 sosu2에 있는 숫자들을 나눌수있는 소수 \n",
    "            else:\n",
    "                break #j*j가 sosu2에 있는 숫자들중에 가장 큰 숫자보다 크다면 시간절약을 위해 for문 탈출\n",
    "        answer = 4 + len(sosu2) - len(sosu3)*(len(sosu3)+1)/2\n",
    "        #sosu2에서 제외할 원소들의 숫자는 sosu3를 조합해서 만들 수 있는 숫자 = n(n+1)/2\n",
    "        #예를 들어 sosu3 = [11,13,17] -> 11*11, 11*13, 11*17, 13*13, 13*17, 17*17 = 6개 \n",
    "    return answer"
   ]
  },
  {
   "cell_type": "code",
   "execution_count": 121,
   "metadata": {},
   "outputs": [],
   "source": [
    "def solution(n):    \n",
    "    sosu1 = [2, 3, 5, 7]\n",
    "    if n <10:\n",
    "        for i in range(len(sosu1)):\n",
    "            if n < sosu1[i]:\n",
    "                answer = len(sosu1[0:i])\n",
    "                break\n",
    "            \n",
    "    elif n<121: #121부터 두자리수 소수 곱하기 두자리수 소수가 시작됨\n",
    "        sosu2 = [x for x in range(2,n+1) if not [y for y in sosu1 if x%y == 0]]\n",
    "        #2,3,5,7 모두로 나누어지지 않는 수 = 소수\n",
    "        answer = 4 + len(sosu2)\n",
    "\n",
    "    else:\n",
    "        sosu2 = [x for x in range(2,n+1) if not [y for y in sosu1 if x%y == 0]]\n",
    "        #2,3,5,7로 나누어지지않는 수들\n",
    "        sosu3 = []\n",
    "        for j in sosu2:\n",
    "            for k in sosu2[sosu2.index(j):]: #11*13을 했다면 13*11은 할 필요없으므로 13*13부터\n",
    "                if j*k <= sosu2[-1] and j*k not in sosu3: #j*k가 sosu2의 가장 큰 수 보다 작을때\n",
    "                    #(121)*(121)과 (121*11)*11의 결과는 같으므로 중복되지 않을때만 sosu3에 담음\n",
    "                    sosu3.append(j*k)\n",
    "        answer = 4 + len(sosu2) - len(sosu3)\n",
    "    return answer"
   ]
  },
  {
   "cell_type": "code",
   "execution_count": 122,
   "metadata": {},
   "outputs": [
    {
     "data": {
      "text/plain": [
       "35"
      ]
     },
     "execution_count": 122,
     "metadata": {},
     "output_type": "execute_result"
    }
   ],
   "source": [
    "solution(150)"
   ]
  },
  {
   "cell_type": "markdown",
   "metadata": {},
   "source": [
    "## 수박수박수박수박수박수?\n",
    "https://programmers.co.kr/learn/courses/30/lessons/12922"
   ]
  },
  {
   "cell_type": "code",
   "execution_count": 129,
   "metadata": {},
   "outputs": [],
   "source": [
    "def solution(n):\n",
    "    answer = ''\n",
    "    if n%2 == 0:\n",
    "        answer = '수박' * int(n/2)\n",
    "    else:\n",
    "        answer = '수' + '박수' * int((n-1)/2)\n",
    "    return answer"
   ]
  },
  {
   "cell_type": "code",
   "execution_count": 130,
   "metadata": {},
   "outputs": [
    {
     "data": {
      "text/plain": [
       "'수박수박수'"
      ]
     },
     "execution_count": 130,
     "metadata": {},
     "output_type": "execute_result"
    }
   ],
   "source": [
    "solution(5)"
   ]
  },
  {
   "cell_type": "code",
   "execution_count": null,
   "metadata": {},
   "outputs": [],
   "source": []
  },
  {
   "cell_type": "markdown",
   "metadata": {},
   "source": [
    "## 문자열을 정수로 바꾸기\n",
    "https://programmers.co.kr/learn/courses/30/lessons/12925"
   ]
  },
  {
   "cell_type": "code",
   "execution_count": 131,
   "metadata": {},
   "outputs": [],
   "source": [
    "def solution(s):\n",
    "    answer = int(s)\n",
    "    return answer"
   ]
  },
  {
   "cell_type": "code",
   "execution_count": 133,
   "metadata": {},
   "outputs": [
    {
     "data": {
      "text/plain": [
       "-1234"
      ]
     },
     "execution_count": 133,
     "metadata": {},
     "output_type": "execute_result"
    }
   ],
   "source": [
    "solution(\"-1234\")"
   ]
  },
  {
   "cell_type": "code",
   "execution_count": null,
   "metadata": {},
   "outputs": [],
   "source": [
    "#다른사람풀이\n",
    "def strToInt(str):\n",
    "    result = 0\n",
    "\n",
    "    for idx, number in enumerate(str[::-1]):\n",
    "        if number == '-':\n",
    "            result *= -1\n",
    "        else:\n",
    "            result += int(number) * (10 ** idx)\n",
    "\n",
    "    return result"
   ]
  },
  {
   "cell_type": "markdown",
   "metadata": {},
   "source": [
    "## 시저 암호\n",
    "https://programmers.co.kr/learn/courses/30/lessons/12926"
   ]
  },
  {
   "cell_type": "code",
   "execution_count": null,
   "metadata": {},
   "outputs": [],
   "source": []
  },
  {
   "cell_type": "code",
   "execution_count": 151,
   "metadata": {},
   "outputs": [],
   "source": [
    "def solution(s, n):\n",
    "    answer = s\n",
    "    j = ''\n",
    "    for i in s:\n",
    "        if ord(i) >= 65 and ord(i) <=90:\n",
    "            N = ord(i) + n\n",
    "            if N > 90:\n",
    "                N -= 26\n",
    "            answer.replace(i, chr(N), 1)\n",
    "        elif ord(i) >=97 and ord(i) <=120:\n",
    "            N = ord(i) + n\n",
    "            if N > 120:\n",
    "                N -= 26\n",
    "            answer.replace(i, chr(N), 1)\n",
    "    return answer"
   ]
  },
  {
   "cell_type": "code",
   "execution_count": 152,
   "metadata": {},
   "outputs": [
    {
     "data": {
      "text/plain": [
       "'a B z'"
      ]
     },
     "execution_count": 152,
     "metadata": {},
     "output_type": "execute_result"
    }
   ],
   "source": [
    "solution(\"a B z\", 4)"
   ]
  },
  {
   "cell_type": "markdown",
   "metadata": {},
   "source": [
    "## 약수의 합\n",
    "https://programmers.co.kr/learn/courses/30/lessons/12928"
   ]
  },
  {
   "cell_type": "code",
   "execution_count": 134,
   "metadata": {},
   "outputs": [],
   "source": [
    "def solution(n):\n",
    "    answer = 0\n",
    "    for i in range(1, n+1):\n",
    "        if n%i ==0:\n",
    "            answer += i\n",
    "    return answer"
   ]
  },
  {
   "cell_type": "code",
   "execution_count": 139,
   "metadata": {},
   "outputs": [],
   "source": [
    "def solution(n):\n",
    "    answer = sum(x for x in range(1, n+1) if n%x == 0)\n",
    "    #리스트컴프리헨션이 sum안에 들어올 수 있음\n",
    "    return answer"
   ]
  },
  {
   "cell_type": "code",
   "execution_count": 140,
   "metadata": {},
   "outputs": [
    {
     "data": {
      "text/plain": [
       "42"
      ]
     },
     "execution_count": 140,
     "metadata": {},
     "output_type": "execute_result"
    }
   ],
   "source": [
    "solution(20)"
   ]
  },
  {
   "cell_type": "code",
   "execution_count": null,
   "metadata": {},
   "outputs": [],
   "source": []
  }
 ],
 "metadata": {
  "kernelspec": {
   "display_name": "Python 3",
   "language": "python",
   "name": "python3"
  },
  "language_info": {
   "codemirror_mode": {
    "name": "ipython",
    "version": 3
   },
   "file_extension": ".py",
   "mimetype": "text/x-python",
   "name": "python",
   "nbconvert_exporter": "python",
   "pygments_lexer": "ipython3",
   "version": "3.7.4"
  }
 },
 "nbformat": 4,
 "nbformat_minor": 4
}
