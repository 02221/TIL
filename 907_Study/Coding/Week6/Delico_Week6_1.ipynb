{
 "cells": [
  {
   "cell_type": "markdown",
   "metadata": {},
   "source": [
    "## 크레인 인형 뽑기\n",
    "https://programmers.co.kr/learn/courses/30/lessons/64061"
   ]
  },
  {
   "cell_type": "code",
   "execution_count": 47,
   "metadata": {},
   "outputs": [],
   "source": [
    "board = [[0,0,0,0,0],[0,0,1,0,3],[0,2,5,0,1],[4,2,4,4,2],[3,5,1,3,1]]\n",
    "moves = [1,5,3,5,1,2,1,4]"
   ]
  },
  {
   "cell_type": "code",
   "execution_count": 48,
   "metadata": {},
   "outputs": [],
   "source": [
    "def solution(board, moves):\n",
    "    arr = []\n",
    "    answer = 0\n",
    "    for i in moves:\n",
    "        for j in range(len(board)):\n",
    "            if board[j][i-1] == 0:\n",
    "                pass\n",
    "            else:\n",
    "                arr.append(board[j][i-1])\n",
    "                board[j][i-1] = 0\n",
    "                break\n",
    "        if len(arr) >= 2 and arr[-1] == arr[-2]:\n",
    "            answer += 2\n",
    "            arr.pop(-1)\n",
    "            arr.pop(-1)\n",
    "        else:\n",
    "            pass\n",
    "    return answer"
   ]
  },
  {
   "cell_type": "code",
   "execution_count": 49,
   "metadata": {},
   "outputs": [
    {
     "data": {
      "text/plain": [
       "4"
      ]
     },
     "execution_count": 49,
     "metadata": {},
     "output_type": "execute_result"
    }
   ],
   "source": [
    "solution(board, moves)"
   ]
  },
  {
   "cell_type": "markdown",
   "metadata": {},
   "source": [
    "## 완주하지 못한 선수\n",
    "https://programmers.co.kr/learn/courses/30/lessons/42576"
   ]
  },
  {
   "cell_type": "code",
   "execution_count": 1,
   "metadata": {},
   "outputs": [],
   "source": [
    "participant = [\"leo\", \"kiki\", \"eden\"]\n",
    "completion = [\"eden\", \"kiki\"]"
   ]
  },
  {
   "cell_type": "code",
   "execution_count": 8,
   "metadata": {},
   "outputs": [],
   "source": [
    "def solution(participant, completion):\n",
    "    participant.sort()\n",
    "    completion.sort()\n",
    "    for i in range(len(completion)):\n",
    "        if participant[i] != completion[i]:\n",
    "            return participant[i]\n",
    "        else:\n",
    "            pass\n",
    "    return participant[-1]"
   ]
  },
  {
   "cell_type": "code",
   "execution_count": 13,
   "metadata": {},
   "outputs": [
    {
     "data": {
      "text/plain": [
       "'leo'"
      ]
     },
     "execution_count": 13,
     "metadata": {},
     "output_type": "execute_result"
    }
   ],
   "source": [
    "solution(participant, completion)"
   ]
  },
  {
   "cell_type": "code",
   "execution_count": 10,
   "metadata": {},
   "outputs": [],
   "source": [
    "import collections"
   ]
  },
  {
   "cell_type": "code",
   "execution_count": 11,
   "metadata": {},
   "outputs": [],
   "source": [
    "# 코드 봤으면 좋겠는거 긁어옴\n",
    "def solu(participant, completion):\n",
    "    ans = collections.Counter(participant) - collections.Counter(completion)\n",
    "    return list(ans.keys())[0]"
   ]
  },
  {
   "cell_type": "code",
   "execution_count": 12,
   "metadata": {},
   "outputs": [
    {
     "data": {
      "text/plain": [
       "'leo'"
      ]
     },
     "execution_count": 12,
     "metadata": {},
     "output_type": "execute_result"
    }
   ],
   "source": [
    "solu(participant, completion)"
   ]
  },
  {
   "cell_type": "markdown",
   "metadata": {},
   "source": [
    "## 모의고사\n",
    "https://programmers.co.kr/learn/courses/30/lessons/42840"
   ]
  },
  {
   "cell_type": "code",
   "execution_count": 29,
   "metadata": {},
   "outputs": [],
   "source": [
    "answers = [1,2,3,4,5]"
   ]
  },
  {
   "cell_type": "code",
   "execution_count": 30,
   "metadata": {},
   "outputs": [],
   "source": [
    "def solution(answers):\n",
    "    answer = []\n",
    "    ans1 = [1,2,3,4,5]\n",
    "    ans2 = [2,1,2,3,2,4,2,5]\n",
    "    ans3 = [3,3,1,1,2,2,4,4,5,5]\n",
    "    count = [0,0,0]\n",
    "    for i in range(len(answers)):\n",
    "        if answers[i] == ans1[i%5]:\n",
    "            count[0] += 1\n",
    "        else:\n",
    "            pass\n",
    "    for i in range(len(answers)):\n",
    "        if answers[i] == ans2[i%8]:\n",
    "            count[1] += 1\n",
    "        else:\n",
    "            pass\n",
    "    for i in range(len(answers)):\n",
    "        if answers[i] == ans3[i%10]:\n",
    "            count[2] += 1\n",
    "        else:\n",
    "            pass\n",
    "    for i in range(3):\n",
    "        if max(count) == count[i]:\n",
    "            answer.append(i+1)\n",
    "        else:\n",
    "            pass\n",
    "    return answer"
   ]
  },
  {
   "cell_type": "code",
   "execution_count": 31,
   "metadata": {},
   "outputs": [
    {
     "data": {
      "text/plain": [
       "[1]"
      ]
     },
     "execution_count": 31,
     "metadata": {},
     "output_type": "execute_result"
    }
   ],
   "source": [
    "solution(answers)"
   ]
  },
  {
   "cell_type": "markdown",
   "metadata": {},
   "source": [
    "## 체육복\n",
    "https://programmers.co.kr/learn/courses/30/lessons/42862"
   ]
  },
  {
   "cell_type": "code",
   "execution_count": 36,
   "metadata": {},
   "outputs": [],
   "source": [
    "n = 30\n",
    "lost = [1,2,4,5]\n",
    "reserve = [2,3,5,6,7]"
   ]
  },
  {
   "cell_type": "code",
   "execution_count": 181,
   "metadata": {},
   "outputs": [],
   "source": [
    "def solution(n, lost, reserve):\n",
    "    res = [x for x in reserve if x not in lost]\n",
    "    los = [x for x in lost if x not in reserve]\n",
    "    for i in res:\n",
    "        if (i-1) in los:\n",
    "            los.remove(i-1)\n",
    "        elif (i+1) in los:\n",
    "            los.remove(i+1)\n",
    "        else:\n",
    "            pass\n",
    "    ans = n - len(los)\n",
    "    return ans"
   ]
  },
  {
   "cell_type": "code",
   "execution_count": 182,
   "metadata": {},
   "outputs": [
    {
     "data": {
      "text/plain": [
       "29"
      ]
     },
     "execution_count": 182,
     "metadata": {},
     "output_type": "execute_result"
    }
   ],
   "source": [
    "solution(n, lost, reserve)"
   ]
  },
  {
   "cell_type": "markdown",
   "metadata": {},
   "source": [
    "## K번째 수\n",
    "https://programmers.co.kr/learn/courses/30/lessons/42748"
   ]
  },
  {
   "cell_type": "code",
   "execution_count": 230,
   "metadata": {},
   "outputs": [],
   "source": [
    "array = [1,5,2,6,3,7,4]\n",
    "commands = [[2,5,3],[4,4,1],[1,7,3]]"
   ]
  },
  {
   "cell_type": "code",
   "execution_count": 231,
   "metadata": {},
   "outputs": [],
   "source": [
    "def solution(array, commands):\n",
    "    arr = []\n",
    "    for i in range(len(commands)):\n",
    "        arr.append(sorted(array[commands[i][0]-1:commands[i][1]])[commands[i][2]-1])\n",
    "    return arr"
   ]
  },
  {
   "cell_type": "code",
   "execution_count": 232,
   "metadata": {},
   "outputs": [
    {
     "data": {
      "text/plain": [
       "[5, 6, 3]"
      ]
     },
     "execution_count": 232,
     "metadata": {},
     "output_type": "execute_result"
    }
   ],
   "source": [
    "solution(array, commands)"
   ]
  },
  {
   "cell_type": "code",
   "execution_count": 233,
   "metadata": {},
   "outputs": [],
   "source": [
    "def solution(array, commands):\n",
    "    return list(map(lambda x:sorted(array[x[0]-1:x[1]])[x[2]-1], commands))"
   ]
  },
  {
   "cell_type": "code",
   "execution_count": 234,
   "metadata": {},
   "outputs": [
    {
     "data": {
      "text/plain": [
       "[5, 6, 3]"
      ]
     },
     "execution_count": 234,
     "metadata": {},
     "output_type": "execute_result"
    }
   ],
   "source": [
    "solution(array, commands)"
   ]
  },
  {
   "cell_type": "markdown",
   "metadata": {},
   "source": [
    "## 2016년\n",
    "https://programmers.co.kr/learn/courses/30/lessons/12901"
   ]
  },
  {
   "cell_type": "code",
   "execution_count": 236,
   "metadata": {},
   "outputs": [],
   "source": [
    "a = 5\n",
    "b = 24"
   ]
  },
  {
   "cell_type": "code",
   "execution_count": 239,
   "metadata": {},
   "outputs": [],
   "source": [
    "def solution(a, b):\n",
    "    answer = ''\n",
    "    year = [31,29,31,30,31,30,31,31,30,31,30,31]\n",
    "    day = [\"FRI\",\"SAT\",\"SUN\",\"MON\",\"TUE\",\"WED\",\"THU\"]\n",
    "    answer = day[(sum(year[0:a-1]) + b - 1) % 7]\n",
    "    return answer"
   ]
  },
  {
   "cell_type": "code",
   "execution_count": 240,
   "metadata": {},
   "outputs": [
    {
     "data": {
      "text/plain": [
       "'TUE'"
      ]
     },
     "execution_count": 240,
     "metadata": {},
     "output_type": "execute_result"
    }
   ],
   "source": [
    "solution(a, b)"
   ]
  },
  {
   "cell_type": "markdown",
   "metadata": {},
   "source": [
    "## 가운데 글자 가져오기\n",
    "https://programmers.co.kr/learn/courses/30/lessons/12903"
   ]
  },
  {
   "cell_type": "code",
   "execution_count": 6,
   "metadata": {},
   "outputs": [],
   "source": [
    "s = \"qwer\""
   ]
  },
  {
   "cell_type": "code",
   "execution_count": 7,
   "metadata": {},
   "outputs": [],
   "source": [
    "def solution(s):\n",
    "    answer = ''\n",
    "    if len(s)%2 == 0:\n",
    "        answer = s[len(s)//2-1] + s[len(s)//2]\n",
    "    else:\n",
    "        answer = s[len(s)//2]\n",
    "    return answer"
   ]
  },
  {
   "cell_type": "code",
   "execution_count": 8,
   "metadata": {},
   "outputs": [
    {
     "data": {
      "text/plain": [
       "'we'"
      ]
     },
     "execution_count": 8,
     "metadata": {},
     "output_type": "execute_result"
    }
   ],
   "source": [
    "solution(s)"
   ]
  },
  {
   "cell_type": "markdown",
   "metadata": {},
   "source": [
    "## 같은 숫자는 싫어\n",
    "https://programmers.co.kr/learn/courses/30/lessons/12906"
   ]
  },
  {
   "cell_type": "code",
   "execution_count": 64,
   "metadata": {},
   "outputs": [],
   "source": [
    "arr = [4,4,4,4,4,4,4]"
   ]
  },
  {
   "cell_type": "code",
   "execution_count": 61,
   "metadata": {},
   "outputs": [],
   "source": [
    "# 시간초과\n",
    "def solution(arr):\n",
    "    i = 0\n",
    "    while i != len(arr) - 1:\n",
    "        if arr[i] == arr[i+1]:\n",
    "            del arr[i+1]\n",
    "        else:\n",
    "            i += 1\n",
    "    return arr"
   ]
  },
  {
   "cell_type": "code",
   "execution_count": 62,
   "metadata": {},
   "outputs": [
    {
     "data": {
      "text/plain": [
       "[4, 3]"
      ]
     },
     "execution_count": 62,
     "metadata": {},
     "output_type": "execute_result"
    }
   ],
   "source": [
    "solution(arr)"
   ]
  },
  {
   "cell_type": "code",
   "execution_count": 156,
   "metadata": {},
   "outputs": [],
   "source": [
    "def solution(arr):\n",
    "    nodab = [(a, b) for a, b in zip(arr[:-1], arr[1:])]\n",
    "    ans = [x for (x,y) in nodab if x != y]\n",
    "    if len(ans) != 0 and ans[-1] != arr[-1]:\n",
    "        ans.append(arr[-1])\n",
    "    elif len(ans) == 0:\n",
    "        ans.append(arr[-1])\n",
    "    else:\n",
    "        pass\n",
    "    return ans"
   ]
  },
  {
   "cell_type": "code",
   "execution_count": 157,
   "metadata": {},
   "outputs": [
    {
     "data": {
      "text/plain": [
       "[1, 3, 0, 1]"
      ]
     },
     "execution_count": 157,
     "metadata": {},
     "output_type": "execute_result"
    }
   ],
   "source": [
    "solution(arr)"
   ]
  },
  {
   "cell_type": "markdown",
   "metadata": {},
   "source": [
    "## 나누어 떨어지는 숫자 배열\n",
    "https://programmers.co.kr/learn/courses/30/lessons/12910"
   ]
  },
  {
   "cell_type": "code",
   "execution_count": 158,
   "metadata": {},
   "outputs": [],
   "source": [
    "arr = [5,9,7,10]\n",
    "divisor = 5"
   ]
  },
  {
   "cell_type": "code",
   "execution_count": 166,
   "metadata": {},
   "outputs": [],
   "source": [
    "def solution(arr, divisor):\n",
    "    ans = sorted([x for x in arr if x % divisor == 0])\n",
    "    if len(ans) == 0:\n",
    "        ans.append(-1)\n",
    "    else:\n",
    "        pass\n",
    "    return ans"
   ]
  },
  {
   "cell_type": "code",
   "execution_count": 167,
   "metadata": {},
   "outputs": [
    {
     "data": {
      "text/plain": [
       "[5, 10]"
      ]
     },
     "execution_count": 167,
     "metadata": {},
     "output_type": "execute_result"
    }
   ],
   "source": [
    "solution(arr, divisor)"
   ]
  },
  {
   "cell_type": "markdown",
   "metadata": {},
   "source": [
    "## 두 정수 사이의 합\n",
    "https://programmers.co.kr/learn/courses/30/lessons/12912"
   ]
  },
  {
   "cell_type": "code",
   "execution_count": 188,
   "metadata": {},
   "outputs": [],
   "source": [
    "a = 5\n",
    "b = 3"
   ]
  },
  {
   "cell_type": "code",
   "execution_count": 189,
   "metadata": {},
   "outputs": [],
   "source": [
    "def solution(a, b):\n",
    "    m = max(a,b)\n",
    "    n = min(a,b)\n",
    "    arr = [x for x in range(n, m+1)]\n",
    "    return sum(arr)"
   ]
  },
  {
   "cell_type": "code",
   "execution_count": 190,
   "metadata": {},
   "outputs": [
    {
     "data": {
      "text/plain": [
       "12"
      ]
     },
     "execution_count": 190,
     "metadata": {},
     "output_type": "execute_result"
    }
   ],
   "source": [
    "solution(a, b)"
   ]
  },
  {
   "cell_type": "markdown",
   "metadata": {},
   "source": [
    "## 문자열 내 마음대로 정렬하기\n",
    "https://programmers.co.kr/learn/courses/30/lessons/12915"
   ]
  },
  {
   "cell_type": "code",
   "execution_count": 40,
   "metadata": {},
   "outputs": [],
   "source": [
    "strings = [\"abce\",\"cdx\",\"sdcqrw\",\"pqxvfd\",\"abcd\",\"park\"]\n",
    "n = 2"
   ]
  },
  {
   "cell_type": "code",
   "execution_count": 41,
   "metadata": {},
   "outputs": [],
   "source": [
    "def solution(strings, n):\n",
    "    strings.sort()\n",
    "    strings.sort(key = lambda x : x[n])\n",
    "\n",
    "    return strings"
   ]
  },
  {
   "cell_type": "code",
   "execution_count": 42,
   "metadata": {},
   "outputs": [
    {
     "data": {
      "text/plain": [
       "['abcd', 'abce', 'sdcqrw', 'park', 'cdx', 'pqxvfd']"
      ]
     },
     "execution_count": 42,
     "metadata": {},
     "output_type": "execute_result"
    }
   ],
   "source": [
    "solution(strings, n)"
   ]
  },
  {
   "cell_type": "markdown",
   "metadata": {},
   "source": [
    "## 문자열 내의 p와 y의 개수\n",
    "https://programmers.co.kr/learn/courses/30/lessons/12916"
   ]
  },
  {
   "cell_type": "code",
   "execution_count": 43,
   "metadata": {},
   "outputs": [],
   "source": [
    "s = \"pPoooyY\""
   ]
  },
  {
   "cell_type": "code",
   "execution_count": 50,
   "metadata": {},
   "outputs": [],
   "source": [
    "def solution(s):\n",
    "    return (list(s).count('p') + list(s).count('P')) == (list(s).count('y') + list(s).count('Y'))"
   ]
  },
  {
   "cell_type": "code",
   "execution_count": 51,
   "metadata": {},
   "outputs": [
    {
     "data": {
      "text/plain": [
       "True"
      ]
     },
     "execution_count": 51,
     "metadata": {},
     "output_type": "execute_result"
    }
   ],
   "source": [
    "solution(s)"
   ]
  },
  {
   "cell_type": "markdown",
   "metadata": {},
   "source": [
    "## 문자열 내림차순으로 배치하기\n",
    "https://programmers.co.kr/learn/courses/30/lessons/12917"
   ]
  },
  {
   "cell_type": "code",
   "execution_count": 30,
   "metadata": {},
   "outputs": [],
   "source": [
    "s = \"Zbcdefg\""
   ]
  },
  {
   "cell_type": "code",
   "execution_count": 31,
   "metadata": {},
   "outputs": [],
   "source": [
    "def solution(s):\n",
    "    return ''.join(list(sorted(list(s), reverse = True)))"
   ]
  },
  {
   "cell_type": "code",
   "execution_count": 32,
   "metadata": {},
   "outputs": [
    {
     "data": {
      "text/plain": [
       "'gfedcbZ'"
      ]
     },
     "execution_count": 32,
     "metadata": {},
     "output_type": "execute_result"
    }
   ],
   "source": [
    "solution(s)"
   ]
  },
  {
   "cell_type": "markdown",
   "metadata": {},
   "source": [
    "## 문자열 다루기 기본\n",
    "https://programmers.co.kr/learn/courses/30/lessons/12918"
   ]
  },
  {
   "cell_type": "code",
   "execution_count": 87,
   "metadata": {},
   "outputs": [],
   "source": [
    "s = \"2234\""
   ]
  },
  {
   "cell_type": "code",
   "execution_count": 88,
   "metadata": {},
   "outputs": [],
   "source": [
    "def solution(s):\n",
    "    if len(s) == 4 or len(s) == 6:\n",
    "        for i in list(s):\n",
    "            if ord(i) >= ord(\"0\") and ord(i) <= ord(\"9\"):\n",
    "                pass\n",
    "            else:\n",
    "                return False\n",
    "        return True\n",
    "    else:\n",
    "        return False"
   ]
  },
  {
   "cell_type": "code",
   "execution_count": 91,
   "metadata": {},
   "outputs": [],
   "source": [
    "def solution(s):\n",
    "    return s.isdigit() and len(s) in (4,6)"
   ]
  },
  {
   "cell_type": "code",
   "execution_count": 92,
   "metadata": {
    "scrolled": true
   },
   "outputs": [
    {
     "data": {
      "text/plain": [
       "True"
      ]
     },
     "execution_count": 92,
     "metadata": {},
     "output_type": "execute_result"
    }
   ],
   "source": [
    "solution(s)"
   ]
  },
  {
   "cell_type": "markdown",
   "metadata": {},
   "source": [
    "## 서울에서 김서방 찾기\n",
    "https://programmers.co.kr/learn/courses/30/lessons/12919"
   ]
  },
  {
   "cell_type": "code",
   "execution_count": 32,
   "metadata": {},
   "outputs": [],
   "source": [
    "seoul = [\"Jane\", \"Kim\"]"
   ]
  },
  {
   "cell_type": "code",
   "execution_count": 33,
   "metadata": {},
   "outputs": [],
   "source": [
    "def solution(seoul):\n",
    "    answer = ''\n",
    "    return \"김서방은 {}에 있다\".format(seoul.index(\"Kim\"))"
   ]
  },
  {
   "cell_type": "code",
   "execution_count": 34,
   "metadata": {},
   "outputs": [
    {
     "data": {
      "text/plain": [
       "'김서방은 1에 있다'"
      ]
     },
     "execution_count": 34,
     "metadata": {},
     "output_type": "execute_result"
    }
   ],
   "source": [
    "solution(seoul)"
   ]
  },
  {
   "cell_type": "markdown",
   "metadata": {},
   "source": [
    "## 소수 찾기\n",
    "https://programmers.co.kr/learn/courses/30/lessons/12921"
   ]
  },
  {
   "cell_type": "code",
   "execution_count": 1,
   "metadata": {},
   "outputs": [],
   "source": [
    "n = 10"
   ]
  },
  {
   "cell_type": "code",
   "execution_count": 30,
   "metadata": {},
   "outputs": [],
   "source": [
    "#시간 초과\n",
    "def dit(n):\n",
    "    count = 0\n",
    "    for i in range(1, int(pow(n, 0.5)+1)):\n",
    "        if n % i == 0:\n",
    "            count += 1\n",
    "        else:\n",
    "            pass\n",
    "    return count == 1\n",
    "def solution(n):\n",
    "    \n",
    "    if n == 2:\n",
    "        return 1\n",
    "    else:\n",
    "        cou = 1\n",
    "        for i in range(1, n+1, 2):\n",
    "            if dit(i):\n",
    "                cou += 1\n",
    "            else:\n",
    "                pass\n",
    "    return cou"
   ]
  },
  {
   "cell_type": "code",
   "execution_count": 5,
   "metadata": {},
   "outputs": [],
   "source": [
    "#내 풀이\n",
    "#에라토스테네스의 체(배열)\n",
    "\n",
    "def solution(n):\n",
    "    ans = []\n",
    "    arr = [1 for x in range(n+1)]\n",
    "    arr[0], arr[1] = 0, 0\n",
    "    for i in range(2, n+1):\n",
    "        if arr[i] == 1:\n",
    "            ans.append(i)\n",
    "            for j in range(1, n//i + 1):\n",
    "                arr[j*i] = 0\n",
    "        else:\n",
    "            pass\n",
    "    return len(ans)"
   ]
  },
  {
   "cell_type": "code",
   "execution_count": 11,
   "metadata": {},
   "outputs": [],
   "source": [
    "#잘푼거 가져온것\n",
    "#에라토스테네스의 체(집합)\n",
    "\n",
    "def solution(n):\n",
    "    num=set(range(2,n+1))\n",
    "\n",
    "    for i in range(2,n+1):\n",
    "        if i in num:\n",
    "            num-=set(range(2*i,n+1,i))\n",
    "    return len(num)"
   ]
  },
  {
   "cell_type": "code",
   "execution_count": 12,
   "metadata": {},
   "outputs": [
    {
     "data": {
      "text/plain": [
       "1229"
      ]
     },
     "execution_count": 12,
     "metadata": {},
     "output_type": "execute_result"
    }
   ],
   "source": [
    "solution(10000)"
   ]
  },
  {
   "cell_type": "markdown",
   "metadata": {},
   "source": [
    "## 수박수박수박수박수박수?\n",
    "https://programmers.co.kr/learn/courses/30/lessons/12922"
   ]
  },
  {
   "cell_type": "code",
   "execution_count": 30,
   "metadata": {},
   "outputs": [],
   "source": [
    "n = 5"
   ]
  },
  {
   "cell_type": "code",
   "execution_count": 33,
   "metadata": {},
   "outputs": [],
   "source": [
    "def solution(n):\n",
    "    original = \"수박\"\n",
    "    ans =''\n",
    "    if n % 2:\n",
    "        ans = ''.join(original*(n//2) + '수')\n",
    "    else:\n",
    "        ans = ''.join(original*(n//2))\n",
    "    return ans"
   ]
  },
  {
   "cell_type": "code",
   "execution_count": 34,
   "metadata": {},
   "outputs": [
    {
     "data": {
      "text/plain": [
       "'수박수박수'"
      ]
     },
     "execution_count": 34,
     "metadata": {},
     "output_type": "execute_result"
    }
   ],
   "source": [
    "solution(n)"
   ]
  },
  {
   "cell_type": "markdown",
   "metadata": {},
   "source": [
    "## 문자열을 정수로 바꾸기\n",
    "https://programmers.co.kr/learn/courses/30/lessons/12925"
   ]
  },
  {
   "cell_type": "code",
   "execution_count": 60,
   "metadata": {},
   "outputs": [],
   "source": [
    "s = \"-1234\""
   ]
  },
  {
   "cell_type": "code",
   "execution_count": 43,
   "metadata": {},
   "outputs": [],
   "source": [
    "# 문제에서 말하는 코드가 int() 와 동일해서 그냥 이걸 쓰면 됨\n",
    "\n",
    "def  solution(s):\n",
    "    return int(s)"
   ]
  },
  {
   "cell_type": "code",
   "execution_count": 66,
   "metadata": {},
   "outputs": [],
   "source": [
    "# 출제의도는 대충 이런 느낌일것같아서 짠 코드\n",
    "# int()를 사용하지 않은게 특징\n",
    "\n",
    "def solution(s):\n",
    "    n = len(s)\n",
    "    k = 0\n",
    "    if s[0] == '+':\n",
    "        n -= 1\n",
    "        for i in range(1, n+1):\n",
    "            k += pow(10, n-i) * (ord(s[i]) - 48)\n",
    "    elif s[0] == '-':\n",
    "        n -= 1\n",
    "        for i in range(1, n+1):\n",
    "            k += pow(10, n-i) * (ord(s[i]) - 48)\n",
    "        k = -k\n",
    "    else:\n",
    "        for i in range(n):\n",
    "            k += pow(10, n-1-i) * (ord(s[i]) - 48)\n",
    "    return k"
   ]
  },
  {
   "cell_type": "code",
   "execution_count": 67,
   "metadata": {},
   "outputs": [
    {
     "data": {
      "text/plain": [
       "-1234"
      ]
     },
     "execution_count": 67,
     "metadata": {},
     "output_type": "execute_result"
    }
   ],
   "source": [
    "solution(s)"
   ]
  },
  {
   "cell_type": "markdown",
   "metadata": {},
   "source": [
    "## 시저 암호\n",
    "https://programmers.co.kr/learn/courses/30/lessons/12926"
   ]
  },
  {
   "cell_type": "code",
   "execution_count": 145,
   "metadata": {},
   "outputs": [],
   "source": [
    "s = \"Park Tae Hyun\"\n",
    "n = 10"
   ]
  },
  {
   "cell_type": "code",
   "execution_count": 153,
   "metadata": {},
   "outputs": [],
   "source": [
    "# 아스키코드를 이용했으나 약간 하드코딩스러움\n",
    "# 아스키코드를 사용할때 ord(x) - ord('a')등을 사용하는게 더 자연스러움\n",
    "# .isupper() .islower() .isdigit() 등의 코드를 활용할 생각을 계속 해주는게 좋을것 같음\n",
    "\n",
    "def solution(s, n):\n",
    "    ans = ''\n",
    "    for i in range(len(s)):\n",
    "        k = n\n",
    "        if ord(s[i]) >= 97 and ord(s[i]) <= 122:    #알파벳 소문자\n",
    "            if (ord(s[i]) + k) >= 123:\n",
    "                k -= 26\n",
    "            else:\n",
    "                pass\n",
    "            \n",
    "            ans += ''.join(chr(ord(s[i]) + k))\n",
    "            \n",
    "        elif ord(s[i]) >= 65 and ord(s[i]) <= 90:   #알파벳 대문자\n",
    "            \n",
    "            if (ord(s[i]) + k) >= 91:\n",
    "                k -= 26\n",
    "            else:\n",
    "                pass   \n",
    "            ans += ''.join(chr(ord(s[i]) + k))\n",
    "            \n",
    "        else:                                        #else에는 빈칸이 들어감\n",
    "            ans += ''.join(' ')\n",
    "    return ans"
   ]
  },
  {
   "cell_type": "code",
   "execution_count": 154,
   "metadata": {
    "scrolled": false
   },
   "outputs": [
    {
     "data": {
      "text/plain": [
       "'Zkbu Dko Riex'"
      ]
     },
     "execution_count": 154,
     "metadata": {},
     "output_type": "execute_result"
    }
   ],
   "source": [
    "solution(s, n)"
   ]
  },
  {
   "cell_type": "markdown",
   "metadata": {},
   "source": [
    "## 약수의 합\n",
    "https://programmers.co.kr/learn/courses/30/lessons/12928"
   ]
  },
  {
   "cell_type": "code",
   "execution_count": 170,
   "metadata": {},
   "outputs": [],
   "source": [
    "n = 12"
   ]
  },
  {
   "cell_type": "code",
   "execution_count": 171,
   "metadata": {},
   "outputs": [],
   "source": [
    "# 원래 내 풀이\n",
    "# 집합을 사용하려함\n",
    "# 그다지 효율적이진 않음\n",
    "\n",
    "def solution(n):\n",
    "    arr = set([])\n",
    "    if n:\n",
    "        for i in range(1, int(pow(n, 0.5))+1):\n",
    "            if n % i:\n",
    "                pass\n",
    "            else:\n",
    "                arr.update([i, n//i])\n",
    "    else:\n",
    "        return 0\n",
    "    return sum(arr)"
   ]
  },
  {
   "cell_type": "code",
   "execution_count": 186,
   "metadata": {},
   "outputs": [],
   "source": [
    "# 프로그래머스에서 가져온 풀이\n",
    "\n",
    "def solution(n):\n",
    "    return sum([x for x in range(1, n + 1) if n % x == 0])"
   ]
  }
 ],
 "metadata": {
  "kernelspec": {
   "display_name": "Python 3",
   "language": "python",
   "name": "python3"
  },
  "language_info": {
   "codemirror_mode": {
    "name": "ipython",
    "version": 3
   },
   "file_extension": ".py",
   "mimetype": "text/x-python",
   "name": "python",
   "nbconvert_exporter": "python",
   "pygments_lexer": "ipython3",
   "version": "3.7.4"
  }
 },
 "nbformat": 4,
 "nbformat_minor": 4
}
