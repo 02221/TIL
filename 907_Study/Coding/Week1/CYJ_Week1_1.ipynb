{
 "cells": [
  {
   "cell_type": "markdown",
   "metadata": {},
   "source": [
    "<if_사분면_Quadrant>"
   ]
  },
  {
   "cell_type": "code",
   "execution_count": 12,
   "metadata": {},
   "outputs": [
    {
     "name": "stdin",
     "output_type": "stream",
     "text": [
      " 10\n",
      " -10\n"
     ]
    }
   ],
   "source": [
    "x = int(input())\n",
    "y = int(input())"
   ]
  },
  {
   "cell_type": "code",
   "execution_count": 13,
   "metadata": {},
   "outputs": [
    {
     "name": "stdout",
     "output_type": "stream",
     "text": [
      "4\n"
     ]
    }
   ],
   "source": [
    "if(-1000 <= x <= 1000 and -1000 <= y <= 1000 and x!=0 and y!= 0):\n",
    "    if x > 0 and y > 0 :\n",
    "        print('1')\n",
    "    elif x < 0 and y > 0 :\n",
    "        print('2')\n",
    "    elif x < 0 and y > 0 :\n",
    "        print('3')\n",
    "    elif x > 0 and y < 0 :\n",
    "        print('4')"
   ]
  },
  {
   "cell_type": "code",
   "execution_count": null,
   "metadata": {},
   "outputs": [],
   "source": []
  },
  {
   "cell_type": "markdown",
   "metadata": {},
   "source": [
    "<for_구구단_Times Table>"
   ]
  },
  {
   "cell_type": "code",
   "execution_count": 16,
   "metadata": {},
   "outputs": [
    {
     "name": "stdin",
     "output_type": "stream",
     "text": [
      " 4\n"
     ]
    },
    {
     "name": "stdout",
     "output_type": "stream",
     "text": [
      "4*1= 4\n",
      "4*2= 8\n",
      "4*3= 12\n",
      "4*4= 16\n",
      "4*5= 20\n",
      "4*6= 24\n",
      "4*7= 28\n",
      "4*8= 32\n",
      "4*9= 36\n"
     ]
    }
   ],
   "source": [
    "N = int(input())\n",
    "M = int\n",
    "\n",
    "if (2<=N<=10):\n",
    "    for M in range(1,10):\n",
    "        print(str(N) + ' * ' + str(M) + '=', N*M)\n",
    "         #예제 출력의 형식이 M*N의 값이 아니라 'M * N = MN'이어서\n",
    "         #좌변을 어떻게 표현해야 할 지 몰라서 헤맴\n",
    "         #출력값 줄바꿀때랑 줄바꿈 없을 때랑 차이 기억 안나서 다시 검색해봄"
   ]
  },
  {
   "cell_type": "code",
   "execution_count": null,
   "metadata": {},
   "outputs": [],
   "source": []
  },
  {
   "cell_type": "markdown",
   "metadata": {},
   "source": [
    "<while_더하기 사이클_Adding Up Cycle>"
   ]
  },
  {
   "cell_type": "code",
   "execution_count": null,
   "metadata": {},
   "outputs": [],
   "source": []
  }
 ],
 "metadata": {
  "kernelspec": {
   "display_name": "Python 3",
   "language": "python",
   "name": "python3"
  },
  "language_info": {
   "codemirror_mode": {
    "name": "ipython",
    "version": 3
   },
   "file_extension": ".py",
   "mimetype": "text/x-python",
   "name": "python",
   "nbconvert_exporter": "python",
   "pygments_lexer": "ipython3",
   "version": "3.7.6"
  }
 },
 "nbformat": 4,
 "nbformat_minor": 4
}
