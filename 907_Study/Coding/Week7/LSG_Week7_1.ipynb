{
 "cells": [
  {
   "cell_type": "markdown",
   "metadata": {},
   "source": [
    "## 이상한 문자 만들기\n",
    "https://programmers.co.kr/learn/courses/30/lessons/12930"
   ]
  },
  {
   "cell_type": "code",
   "execution_count": 1,
   "metadata": {},
   "outputs": [],
   "source": [
    "def solution(s):\n",
    "    string=s.split(' ')\n",
    "    result=[]\n",
    "    for i in string:\n",
    "        answer=''\n",
    "        for j in range(0,len(i)):\n",
    "            if j%2==0:\n",
    "                answer+=i[j].upper()\n",
    "            elif j%2!=0:\n",
    "                answer+=i[j].lower()\n",
    "        result.append(answer)\n",
    "    return ' '.join(result)"
   ]
  },
  {
   "cell_type": "code",
   "execution_count": null,
   "metadata": {},
   "outputs": [],
   "source": [
    "\"try hello world\"\n",
    "TrY HeLlO WoRlD"
   ]
  },
  {
   "cell_type": "markdown",
   "metadata": {},
   "source": [
    "## 자릿수 더하기\n",
    "https://programmers.co.kr/learn/courses/30/lessons/12931"
   ]
  },
  {
   "cell_type": "code",
   "execution_count": 2,
   "metadata": {},
   "outputs": [],
   "source": [
    "def solution(n):\n",
    "    answer=0\n",
    "    while n!=0:\n",
    "        answer+=n%10 #나머지\n",
    "        n=n//10 #몫\n",
    "    return answer"
   ]
  },
  {
   "cell_type": "code",
   "execution_count": null,
   "metadata": {},
   "outputs": [],
   "source": [
    "123 6"
   ]
  },
  {
   "cell_type": "markdown",
   "metadata": {},
   "source": [
    "## 자연수 뒤집어 배열로 만들기\n",
    "https://programmers.co.kr/learn/courses/30/lessons/12932"
   ]
  },
  {
   "cell_type": "code",
   "execution_count": 3,
   "metadata": {},
   "outputs": [],
   "source": [
    "def solution(n):\n",
    "    k=list(str(n))\n",
    "    kk=list(map(int,k))\n",
    "    return kk[::-1]"
   ]
  },
  {
   "cell_type": "code",
   "execution_count": null,
   "metadata": {},
   "outputs": [],
   "source": [
    "12345 -> [5,4,3,2,1]"
   ]
  },
  {
   "cell_type": "markdown",
   "metadata": {},
   "source": [
    "## 정수 내림차순으로 배치하기\n",
    "https://programmers.co.kr/learn/courses/30/lessons/12933"
   ]
  },
  {
   "cell_type": "code",
   "execution_count": 4,
   "metadata": {},
   "outputs": [],
   "source": [
    "def solution(n):\n",
    "    k=list(str(n))\n",
    "    kk=list(map(int,k))\n",
    "    kk.sort(reverse=True)\n",
    "    kkk=list(map(str,kk))\n",
    "    a=int(''.join(kkk))\n",
    "    return a"
   ]
  },
  {
   "cell_type": "code",
   "execution_count": null,
   "metadata": {},
   "outputs": [],
   "source": [
    "118372 -> 873211"
   ]
  },
  {
   "cell_type": "markdown",
   "metadata": {},
   "source": [
    "## 정수 제곱근 판별\n",
    "https://programmers.co.kr/learn/courses/30/lessons/12934"
   ]
  },
  {
   "cell_type": "code",
   "execution_count": 5,
   "metadata": {},
   "outputs": [],
   "source": [
    "import math as m\n",
    "\n",
    "def solution(n):\n",
    "    k=m.sqrt(n)#.is_integer() 121 k=11\n",
    "    if k.is_integer()==True:\n",
    "        num=(int(k+1))**2\n",
    "    else:\n",
    "        num=-1\n",
    "    return num"
   ]
  },
  {
   "cell_type": "code",
   "execution_count": null,
   "metadata": {},
   "outputs": [],
   "source": [
    "121_> 144"
   ]
  },
  {
   "cell_type": "markdown",
   "metadata": {},
   "source": [
    "## 제일 작은 수 제거하기\n",
    "https://programmers.co.kr/learn/courses/30/lessons/12935"
   ]
  },
  {
   "cell_type": "code",
   "execution_count": null,
   "metadata": {},
   "outputs": [],
   "source": [
    "def solution(arr):\n",
    "    k=min(arr)\n",
    "    kk=arr.index(k)\n",
    "    del arr[kk]\n",
    "    \n",
    "    if not arr:\n",
    "        return [-1]\n",
    "    else:\n",
    "        return arr"
   ]
  },
  {
   "cell_type": "markdown",
   "metadata": {},
   "source": [
    "## 짝수와 홀수\n",
    "https://programmers.co.kr/learn/courses/30/lessons/12937"
   ]
  },
  {
   "cell_type": "code",
   "execution_count": null,
   "metadata": {},
   "outputs": [],
   "source": [
    "def solution(num):\n",
    "    answer = ''\n",
    "    if num%2==0:\n",
    "        answer+=\"Even\"\n",
    "    else:\n",
    "        answer+=\"Odd\"\n",
    "    return answer"
   ]
  },
  {
   "cell_type": "markdown",
   "metadata": {},
   "source": [
    "## 키패드 누르기\n",
    "https://programmers.co.kr/learn/courses/30/lessons/67256"
   ]
  },
  {
   "cell_type": "code",
   "execution_count": 10,
   "metadata": {},
   "outputs": [],
   "source": [
    "#arr=[[1 for col in range(4)] for i in range(1,4)]"
   ]
  },
  {
   "cell_type": "code",
   "execution_count": 20,
   "metadata": {},
   "outputs": [],
   "source": [
    "#처음에 matrix를 만들어서 시도 ->실패\n",
    "def solution(numbers, hand):\n",
    "    matrix=[[1,2,3],[4,5,6],[7,8,9],['*',0,'#']]\n",
    "    rn=0\n",
    "    ln=0\n",
    "    result=[]\n",
    "    for i in numbers:\n",
    "        for j in range(3):\n",
    "            if matrix[j][0]==i: #왼쪽버튼\n",
    "                result.append('L')\n",
    "                ln=i\n",
    "                countl+=1\n",
    "\n",
    "            elif matrix[j][2]==i: #오른쪽 버튼\n",
    "                result.append('R')\n",
    "                rn=i\n",
    "                countr+=1\n",
    "                print(\"1\")\n",
    "\n",
    "            elif matrix[j][1]==i: #가운데 버튼\n",
    "                \n",
    "                if abs(rn-matrix[j][1])>abs(ln-matrix[j][1]):#오른쪽이 크다면\n",
    "                    result.append('L')\n",
    "\n",
    "                elif abs(rn-matrix[j][1])<abs(ln-matrix[j][1]): #왼쪽이 크다면\n",
    "                    result.append('R')\n",
    "\n",
    "                elif abs(rn-matrix[j][1])==abs(ln-matrix[j][1]): #\n",
    "                     if hand=='right':\n",
    "                        result.append('R')\n",
    "                     elif hand=='left':\n",
    "                        result.append('L')\n",
    "                \n",
    "    answer = ''\n",
    "    return answer.join(result)"
   ]
  },
  {
   "cell_type": "code",
   "execution_count": 22,
   "metadata": {},
   "outputs": [],
   "source": [
    "#좌표 설정\n",
    "\n",
    "def solution(numbers, hand):\n",
    "    rhand = 'R'  # 오른손\n",
    "    lhand = 'L'  # 왼손\n",
    "    R = (3, 6, 9)\n",
    "    L= (1, 4, 7)\n",
    "    key_dict = {1: (0, 0), 2: (0, 1), 3: (0, 2),\n",
    "                4: (1, 0), 5: (1, 1), 6: (1, 2),\n",
    "                7: (2, 0), 8: (2, 1), 9: (2, 2),\n",
    "                '*': (3, 0), 0: (3, 1), '#': (3, 2)}\n",
    "    answer = ''\n",
    "    rcur = '#'  # 오른손 현 위치 '#'\n",
    "    lcur = '*'  # 왼손 현 위치 '*'\n",
    "    for i in numbers: # 요청하는 숫자를 하나씩 확인\n",
    "        if i in R: # 오른쪽 숫자일 경우\n",
    "            answer += rhand\n",
    "            rcur = i\n",
    "        elif i in L: # 왼쪽 숫자일 경우\n",
    "            answer += lhand\n",
    "            lcur = i\n",
    "        else: # 중간의 숫자일 경우\n",
    "            curPos = key_dict[i] # 목표 숫자의 좌표값\n",
    "            lPos = key_dict[lcur] # 왼손의 좌표값\n",
    "            rPos = key_dict[rcur] # 오른손의 좌표값 \n",
    "            ldist = abs(curPos[0]-lPos[0]) + abs(curPos[1]-lPos[1]) # 좌표를 계산해서 우선순위를 구함\n",
    "            rdist = abs(curPos[0]-rPos[0]) + abs(curPos[1]-rPos[1]) # 숫자가 낮을수록 우선순위가 높음\n",
    "\n",
    "            if ldist == rdist: # 우선순위가 같다면 손잡이의 손의 우선순위를 높여준다 \n",
    "                if hand == \"left\": ldist -= 1 \n",
    "                else: rdist -= 1\n",
    "            if ldist > rdist: # 오른손의 우선순위가 높을 경우\n",
    "                answer += rhand\n",
    "                rcur = i\n",
    "            else: # 왼손의 우선순위가 높을 경우 \n",
    "                answer += lhand\n",
    "                lcur = i\n",
    "    return answer"
   ]
  },
  {
   "cell_type": "markdown",
   "metadata": {},
   "source": [
    "## 최대공약수와 최소공배수\n",
    "https://programmers.co.kr/learn/courses/30/lessons/12940"
   ]
  },
  {
   "cell_type": "code",
   "execution_count": null,
   "metadata": {},
   "outputs": [],
   "source": [
    "from math import gcd\n",
    "def solution(n, m):\n",
    "    answer = []\n",
    "    a=gcd(n,m) #최대공약수\n",
    "    b=(n*m)//gcd(n,m) #최대 공배수\n",
    "    return [a,b]"
   ]
  },
  {
   "cell_type": "markdown",
   "metadata": {},
   "source": [
    "## 콜라츠 추측\n",
    "https://programmers.co.kr/learn/courses/30/lessons/12943"
   ]
  },
  {
   "cell_type": "code",
   "execution_count": null,
   "metadata": {},
   "outputs": [],
   "source": [
    "def solution(num):\n",
    "    count=0\n",
    "    for i in range(1,501):\n",
    "        if num==1:\n",
    "            break\n",
    "        if num%2==0:\n",
    "            num=int(num/2)\n",
    "            count+=1\n",
    "        elif num%2!=0:\n",
    "            num=(num*3)+1\n",
    "            count+=1\n",
    "        \n",
    "        if i==500:\n",
    "            count=-1\n",
    "    return count"
   ]
  },
  {
   "cell_type": "markdown",
   "metadata": {},
   "source": [
    "## 평균 구하기\n",
    "https://programmers.co.kr/learn/courses/30/lessons/12944"
   ]
  },
  {
   "cell_type": "code",
   "execution_count": null,
   "metadata": {},
   "outputs": [],
   "source": [
    "def solution(arr):\n",
    "    z=sum(arr)\n",
    "    zz=z/len(arr)\n",
    "    return zz"
   ]
  },
  {
   "cell_type": "markdown",
   "metadata": {},
   "source": [
    "## 하샤드 수\n",
    "https://programmers.co.kr/learn/courses/30/lessons/12947"
   ]
  },
  {
   "cell_type": "code",
   "execution_count": null,
   "metadata": {},
   "outputs": [],
   "source": [
    "def solution(x):\n",
    "    answer = 0\n",
    "    num=x\n",
    "    while x!=0:\n",
    "        answer+=x%10\n",
    "        x=x//10\n",
    "    if num%answer==0:\n",
    "        return True\n",
    "    elif num%answer!=0:\n",
    "        return False"
   ]
  },
  {
   "cell_type": "markdown",
   "metadata": {},
   "source": [
    "## 핸드폰 번호 가리기\n",
    "https://programmers.co.kr/learn/courses/30/lessons/12948"
   ]
  },
  {
   "cell_type": "code",
   "execution_count": null,
   "metadata": {},
   "outputs": [],
   "source": [
    "def solution(phone_number):\n",
    "    n=list(phone_number)\n",
    "    n=list(n)\n",
    "    n.reverse()\n",
    "    for i in range(4,len(n)):\n",
    "        n[i]='*'\n",
    "    \n",
    "    n.reverse()\n",
    "    return ''.join(n)"
   ]
  },
  {
   "cell_type": "markdown",
   "metadata": {},
   "source": [
    "## 행렬의 덧셈\n",
    "https://programmers.co.kr/learn/courses/30/lessons/12950"
   ]
  },
  {
   "cell_type": "code",
   "execution_count": null,
   "metadata": {},
   "outputs": [],
   "source": []
  },
  {
   "cell_type": "markdown",
   "metadata": {},
   "source": [
    "## x만큼 간격이 있는 n개의 숫자\n",
    "https://programmers.co.kr/learn/courses/30/lessons/12954"
   ]
  },
  {
   "cell_type": "code",
   "execution_count": null,
   "metadata": {},
   "outputs": [],
   "source": [
    "def solution(x, n):\n",
    "    answer = []\n",
    "    num=0\n",
    "    for i in range(1,n+1):\n",
    "        num+=x\n",
    "        answer.append(num)\n",
    "    return answer"
   ]
  },
  {
   "cell_type": "markdown",
   "metadata": {},
   "source": [
    "## 직사각형 별찍기\n",
    "https://programmers.co.kr/learn/courses/30/lessons/12969"
   ]
  },
  {
   "cell_type": "code",
   "execution_count": null,
   "metadata": {},
   "outputs": [],
   "source": [
    "a, b = map(int, input().strip().split(' '))\n",
    "for i in range(b):\n",
    "    print('*'*a)"
   ]
  },
  {
   "cell_type": "markdown",
   "metadata": {},
   "source": [
    "## 예산\n",
    "https://programmers.co.kr/learn/courses/30/lessons/12982"
   ]
  },
  {
   "cell_type": "code",
   "execution_count": null,
   "metadata": {},
   "outputs": [],
   "source": []
  },
  {
   "cell_type": "markdown",
   "metadata": {},
   "source": [
    "## 비밀지도\n",
    "https://programmers.co.kr/learn/courses/30/lessons/17681"
   ]
  },
  {
   "cell_type": "code",
   "execution_count": null,
   "metadata": {},
   "outputs": [],
   "source": []
  },
  {
   "cell_type": "markdown",
   "metadata": {},
   "source": [
    "## 실패율\n",
    "https://programmers.co.kr/learn/courses/30/lessons/42889"
   ]
  },
  {
   "cell_type": "code",
   "execution_count": null,
   "metadata": {},
   "outputs": [],
   "source": []
  },
  {
   "cell_type": "markdown",
   "metadata": {},
   "source": [
    "## 다트 게임\n",
    "https://programmers.co.kr/learn/courses/30/lessons/17682"
   ]
  },
  {
   "cell_type": "code",
   "execution_count": null,
   "metadata": {},
   "outputs": [],
   "source": []
  }
 ],
 "metadata": {
  "kernelspec": {
   "display_name": "Python 3",
   "language": "python",
   "name": "python3"
  },
  "language_info": {
   "codemirror_mode": {
    "name": "ipython",
    "version": 3
   },
   "file_extension": ".py",
   "mimetype": "text/x-python",
   "name": "python",
   "nbconvert_exporter": "python",
   "pygments_lexer": "ipython3",
   "version": "3.7.3"
  }
 },
 "nbformat": 4,
 "nbformat_minor": 4
}
