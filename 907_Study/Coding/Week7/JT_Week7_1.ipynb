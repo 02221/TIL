{
 "cells": [
  {
   "cell_type": "markdown",
   "metadata": {},
   "source": [
    "## 이상한 문자 만들기\n",
    "https://programmers.co.kr/learn/courses/30/lessons/12930"
   ]
  },
  {
   "cell_type": "code",
   "execution_count": null,
   "metadata": {},
   "outputs": [],
   "source": [
    "def updown(word):\n",
    "    return [c.upper() if i % 2 == 0 else c.lower() for i, c in enumerate(word)]\n",
    "def solution(s):\n",
    "    return ' '.join([''.join(updown(word)) for word in s.split(' ')])"
   ]
  },
  {
   "cell_type": "markdown",
   "metadata": {},
   "source": [
    "## 자릿수 더하기\n",
    "https://programmers.co.kr/learn/courses/30/lessons/12931"
   ]
  },
  {
   "cell_type": "code",
   "execution_count": null,
   "metadata": {},
   "outputs": [],
   "source": [
    "def solution(n):\n",
    "    return sum([int(x) for x in str(n)])"
   ]
  },
  {
   "cell_type": "markdown",
   "metadata": {},
   "source": [
    "## 자연수 뒤집어 배열로 만들기\n",
    "https://programmers.co.kr/learn/courses/30/lessons/12932"
   ]
  },
  {
   "cell_type": "code",
   "execution_count": null,
   "metadata": {},
   "outputs": [],
   "source": [
    "def solution(n):\n",
    "    return list(map(int, reversed(str(n))))"
   ]
  },
  {
   "cell_type": "markdown",
   "metadata": {},
   "source": [
    "## 정수 내림차순으로 배치하기\n",
    "https://programmers.co.kr/learn/courses/30/lessons/12933"
   ]
  },
  {
   "cell_type": "code",
   "execution_count": null,
   "metadata": {},
   "outputs": [],
   "source": [
    "def solution(n):\n",
    "    ls = [x for x in str(n)]\n",
    "    ls.sort(reverse = True)    \n",
    "    return int(\"\".join(ls))\n",
    "\n",
    "def solution(n):\n",
    "    ls = list(str(n))\n",
    "    ls.sort(reverse = True)    \n",
    "    return int(\"\".join(ls))\n",
    "\n",
    "def solution(n):\n",
    "    return int(\"\".join(sorted(str(n), reverse=True)))"
   ]
  },
  {
   "cell_type": "markdown",
   "metadata": {},
   "source": [
    "## 정수 제곱근 판별\n",
    "https://programmers.co.kr/learn/courses/30/lessons/12934"
   ]
  },
  {
   "cell_type": "code",
   "execution_count": null,
   "metadata": {},
   "outputs": [],
   "source": [
    "def solution(n):\n",
    "    sqrt = n**(1/2)\n",
    "    return -1 if round(sqrt) != sqrt else (sqrt + 1)**2"
   ]
  },
  {
   "cell_type": "markdown",
   "metadata": {},
   "source": [
    "## 제일 작은 수 제거하기\n",
    "https://programmers.co.kr/learn/courses/30/lessons/12935"
   ]
  },
  {
   "cell_type": "code",
   "execution_count": null,
   "metadata": {},
   "outputs": [],
   "source": [
    "def solution(arr):\n",
    "    arr.remove(min(arr))\n",
    "    return [-1] if len(arr) == 0 else arr"
   ]
  },
  {
   "cell_type": "markdown",
   "metadata": {},
   "source": [
    "## 짝수와 홀수\n",
    "https://programmers.co.kr/learn/courses/30/lessons/12937"
   ]
  },
  {
   "cell_type": "code",
   "execution_count": null,
   "metadata": {},
   "outputs": [],
   "source": [
    "def solution(num):\n",
    "    return \"Even\" if num % 2 == 0 else \"Odd\""
   ]
  },
  {
   "cell_type": "markdown",
   "metadata": {},
   "source": [
    "## 키패드 누르기\n",
    "https://programmers.co.kr/learn/courses/30/lessons/67256"
   ]
  },
  {
   "cell_type": "code",
   "execution_count": 65,
   "metadata": {},
   "outputs": [],
   "source": [
    "def dist(hand, mid):\n",
    "    return abs(hand[0]-mid) + hand[1]\n",
    "def get_mid(n):\n",
    "    if n == 0:\n",
    "        return 3\n",
    "    else:\n",
    "        return (n-2)//3\n",
    "def solution(numbers, hand):\n",
    "    dic = {0 : \"R\",\n",
    "           1 : \"L\",\n",
    "           2 : \"M\"}\n",
    "    result = \"\"\n",
    "    left, right = (3,1), (3,1)\n",
    "    for n in numbers:\n",
    "        answer = n%3 if n != 0 else 2\n",
    "        if answer == 1:\n",
    "            left = ((n-1)//3, 1)\n",
    "        elif answer == 0:\n",
    "            right = ((n-3)//3, 1)\n",
    "        else:\n",
    "            mid = get_mid(n)\n",
    "            answer = dist(left, mid) < dist(right, mid)\n",
    "            if dist(left, mid) == dist(right, mid):\n",
    "                answer = (hand == \"left\")\n",
    "                if answer:\n",
    "                    left = (mid,0)\n",
    "                else:\n",
    "                    right = (mid,0)\n",
    "            elif answer:\n",
    "                left = (mid,0)\n",
    "            else:\n",
    "                right = (mid,0)\n",
    "        result += dic[answer]\n",
    "    return result"
   ]
  },
  {
   "cell_type": "markdown",
   "metadata": {},
   "source": [
    "## 최대공약수와 최소공배수\n",
    "https://programmers.co.kr/learn/courses/30/lessons/12940"
   ]
  },
  {
   "cell_type": "code",
   "execution_count": null,
   "metadata": {},
   "outputs": [],
   "source": [
    "def solution(n, m):\n",
    "    if m > n:\n",
    "        m, n = n, m\n",
    "    for i in range(1, n):\n",
    "        if n % i == m % i == 0:\n",
    "            same = i\n",
    "    return [same, m / same * n]"
   ]
  },
  {
   "cell_type": "markdown",
   "metadata": {},
   "source": [
    "## 콜라츠 추측\n",
    "https://programmers.co.kr/learn/courses/30/lessons/12943"
   ]
  },
  {
   "cell_type": "code",
   "execution_count": null,
   "metadata": {},
   "outputs": [],
   "source": [
    "def asd(num, count):\n",
    "    if num == 1:\n",
    "        return count\n",
    "    elif count == 500:\n",
    "        return -1    \n",
    "    elif num % 2 == 0:\n",
    "        count = asd(num/ 2, count + 1)\n",
    "        return count\n",
    "    elif num % 2 == 1:\n",
    "        count = asd(3*num+1, count + 1)\n",
    "        return count\n",
    "def solution(num):\n",
    "    count = 0\n",
    "    return asd(num, count)"
   ]
  },
  {
   "cell_type": "markdown",
   "metadata": {},
   "source": [
    "## 평균 구하기\n",
    "https://programmers.co.kr/learn/courses/30/lessons/12944"
   ]
  },
  {
   "cell_type": "code",
   "execution_count": null,
   "metadata": {},
   "outputs": [],
   "source": [
    "def solution(arr):\n",
    "    return sum(arr) / len(arr) if sum(arr) != 0 else 0"
   ]
  },
  {
   "cell_type": "markdown",
   "metadata": {},
   "source": [
    "## 하샤드 수\n",
    "https://programmers.co.kr/learn/courses/30/lessons/12947"
   ]
  },
  {
   "cell_type": "code",
   "execution_count": null,
   "metadata": {},
   "outputs": [],
   "source": [
    "def solution(x):\n",
    "    return x % sum([int(x) for x in str(x)])== 0"
   ]
  },
  {
   "cell_type": "markdown",
   "metadata": {},
   "source": [
    "## 핸드폰 번호 가리기\n",
    "https://programmers.co.kr/learn/courses/30/lessons/12948"
   ]
  },
  {
   "cell_type": "code",
   "execution_count": null,
   "metadata": {},
   "outputs": [],
   "source": [
    "def solution(pn):\n",
    "    return \"*\"*(len(pn)-4) + pn[-4:]"
   ]
  },
  {
   "cell_type": "markdown",
   "metadata": {},
   "source": [
    "## 행렬의 덧셈\n",
    "https://programmers.co.kr/learn/courses/30/lessons/12950"
   ]
  },
  {
   "cell_type": "code",
   "execution_count": null,
   "metadata": {},
   "outputs": [],
   "source": [
    "def solution(arr1, arr2):\n",
    "    return [[x + y for x, y in zip(*z)] for z in zip(arr1, arr2)]"
   ]
  },
  {
   "cell_type": "markdown",
   "metadata": {},
   "source": [
    "## x만큼 간격이 있는 n개의 숫자\n",
    "https://programmers.co.kr/learn/courses/30/lessons/12954"
   ]
  },
  {
   "cell_type": "code",
   "execution_count": null,
   "metadata": {},
   "outputs": [],
   "source": [
    "def solution(x, n):\n",
    "    return [i*x+x for i in range(n)]"
   ]
  },
  {
   "cell_type": "markdown",
   "metadata": {},
   "source": [
    "## 직사각형 별찍기\n",
    "https://programmers.co.kr/learn/courses/30/lessons/12969"
   ]
  },
  {
   "cell_type": "code",
   "execution_count": null,
   "metadata": {},
   "outputs": [],
   "source": [
    "a, b = map(int, input().strip().split(' '))\n",
    "print((\"*\"*a+\"\\n\")*b)"
   ]
  },
  {
   "cell_type": "markdown",
   "metadata": {},
   "source": [
    "## 예산\n",
    "https://programmers.co.kr/learn/courses/30/lessons/12982"
   ]
  },
  {
   "cell_type": "code",
   "execution_count": null,
   "metadata": {},
   "outputs": [],
   "source": [
    "def solution(d, budget):\n",
    "    d.sort()\n",
    "    for i in range(len(d)):\n",
    "        budget -= d[i]\n",
    "        if budget < 0:\n",
    "            return i\n",
    "    return len(d)"
   ]
  },
  {
   "cell_type": "markdown",
   "metadata": {},
   "source": [
    "## 비밀지도\n",
    "https://programmers.co.kr/learn/courses/30/lessons/17681"
   ]
  },
  {
   "cell_type": "code",
   "execution_count": 142,
   "metadata": {},
   "outputs": [],
   "source": [
    "def make_n(x, n):\n",
    "    x = bin(x)[2:]\n",
    "    dist = n - len(x)\n",
    "    if dist:\n",
    "        x = \"0\"*dist + x \n",
    "    return x\n",
    "\n",
    "def check_block(n):\n",
    "    return \" \" if (int(n[0])-1)*(int(n[1])-1) else \"#\"\n",
    "    \n",
    "def solution(n, arr1, arr2):\n",
    "    ar1, ar2 = [make_n(x,n) for x in arr1], [make_n(x,n) for x in arr2]\n",
    "    return [\"\".join([check_block(n) for n in zip(*x)]) for x in zip(ar1, ar2)]"
   ]
  },
  {
   "cell_type": "code",
   "execution_count": 145,
   "metadata": {},
   "outputs": [],
   "source": [
    "def check_block(n):\n",
    "    return \" \" if (int(n[0])-1)*(int(n[1])-1) else \"#\"\n",
    "def solution(n, arr1, arr2):\n",
    "    ar1, ar2 = [bin(x)[2:].zfill(n) for x in arr1], [bin(x)[2:].zfill(n) for x in arr2]\n",
    "    return [\"\".join([check_block(n) for n in zip(*x)]) for x in zip(ar1, ar2)]"
   ]
  },
  {
   "cell_type": "markdown",
   "metadata": {},
   "source": [
    "## 실패율\n",
    "https://programmers.co.kr/learn/courses/30/lessons/42889"
   ]
  },
  {
   "cell_type": "code",
   "execution_count": 100,
   "metadata": {},
   "outputs": [],
   "source": [
    "def solution(N, stages):\n",
    "    suc_stage, in_stage = [], []\n",
    "    for i in range(1, N + 1):\n",
    "        suc_stage.append(sum(1 for x in stages if x >= i))\n",
    "        in_stage.append(sum(1 for x in stages if x == i))\n",
    "    answer = [(idx + 1, y / x) if x != 0 else (idx + 1, 0) for idx, (x, y) in enumerate(zip(suc_stage, in_stage))]\n",
    "    answer.sort(key = lambda x : x[1], reverse = True)\n",
    "    return [x[0] for x in answer]\n",
    "\n",
    "def solution(N, stages):\n",
    "    answer = {}\n",
    "    for stage in range(1, N + 1):\n",
    "        stage_count = stages.count(stage)\n",
    "        user = sum(1 for x in stages if x >= stage)\n",
    "        answer[stage] = (stage_count / user) if user != 0 else 0\n",
    "    return sorted(answer, key = lambda x : answer[x], reverse = True)\n",
    "## sult는 dictionary이므로 sorted에 result를 그냥 넘기면 result의 keys가 들어갑니다. keys는 생략이 가능합니다. 거기에 lambda는 기준을 result[x]: 즉 value로 정렬한다는 뜻입니다. 그래서 key가 출력되게 됩니다."
   ]
  },
  {
   "cell_type": "markdown",
   "metadata": {},
   "source": [
    "## 다트 게임\n",
    "https://programmers.co.kr/learn/courses/30/lessons/17682"
   ]
  },
  {
   "cell_type": "code",
   "execution_count": 260,
   "metadata": {},
   "outputs": [],
   "source": [
    "dartResult = \"0S*10S*10S*\""
   ]
  },
  {
   "cell_type": "code",
   "execution_count": 271,
   "metadata": {},
   "outputs": [],
   "source": [
    "dic = "
   ]
  },
  {
   "cell_type": "code",
   "execution_count": 272,
   "metadata": {},
   "outputs": [
    {
     "data": {
      "text/plain": [
       "{'S': 1, 'D': 2, 'T': 3}"
      ]
     },
     "execution_count": 272,
     "metadata": {},
     "output_type": "execute_result"
    }
   ],
   "source": [
    "dic"
   ]
  },
  {
   "cell_type": "code",
   "execution_count": 318,
   "metadata": {},
   "outputs": [],
   "source": [
    "def solution(dartResult):\n",
    "    num = list(str(x) for x in range(9+1)) + [\"-\"]\n",
    "    score = [\"S\", \"D\", \"T\"]\n",
    "    s_dic = {k : v for k, v in zip(score + [\"*\", \"#\"], [1,2,3,2,-1])}\n",
    "    dartResult = dartResult.replace(\"10\", \"-\")\n",
    "    ls, n = [], 0\n",
    "    for s in dartResult:\n",
    "        if s in num:\n",
    "            ls.append(n)\n",
    "            n = int(s) if s != \"-\" else 10\n",
    "        else:\n",
    "            if s == \"*\":\n",
    "                ls[-1] *= 2\n",
    "            n = n**s_dic[s] if s in score else n*s_dic[s]\n",
    "    ls.append(n)\n",
    "    return sum(ls)"
   ]
  },
  {
   "cell_type": "code",
   "execution_count": 328,
   "metadata": {},
   "outputs": [],
   "source": [
    "def solution(dartResult):\n",
    "    s_dic = {k : v for k, v in zip([\"S\", \"D\", \"T\", \"*\", \"#\"], [1,2,3,2,-1])}\n",
    "    dartResult = dartResult.replace(\"10\", \"-\")\n",
    "    ls, n = [], 0\n",
    "    for s in dartResult:\n",
    "        if s in s_dic.keys():\n",
    "            if s == \"*\":\n",
    "                ls[-1] *= 2\n",
    "            n = n**s_dic[s] if s.isalpha() else n*s_dic[s]\n",
    "        else:\n",
    "            ls.append(n)\n",
    "            n = int(s) if s != \"-\" else 10\n",
    "    ls.append(n)\n",
    "    return sum(ls)"
   ]
  },
  {
   "cell_type": "code",
   "execution_count": 329,
   "metadata": {},
   "outputs": [],
   "source": [
    "num = list(str(x) for x in range(9+1)) + [\"-\"]\n",
    "score = [\"S\", \"D\", \"T\"]\n",
    "s_dic = {k : v for k, v in zip(score + [\"*\", \"#\"], [1,2,3,2,-1])}"
   ]
  },
  {
   "cell_type": "code",
   "execution_count": 331,
   "metadata": {},
   "outputs": [
    {
     "data": {
      "text/plain": [
       "60"
      ]
     },
     "execution_count": 331,
     "metadata": {},
     "output_type": "execute_result"
    }
   ],
   "source": [
    "solution(dartResult)"
   ]
  },
  {
   "cell_type": "code",
   "execution_count": null,
   "metadata": {},
   "outputs": [],
   "source": []
  },
  {
   "cell_type": "code",
   "execution_count": null,
   "metadata": {},
   "outputs": [],
   "source": []
  },
  {
   "cell_type": "code",
   "execution_count": null,
   "metadata": {},
   "outputs": [],
   "source": []
  }
 ],
 "metadata": {
  "kernelspec": {
   "display_name": "Python 3",
   "language": "python",
   "name": "python3"
  },
  "language_info": {
   "codemirror_mode": {
    "name": "ipython",
    "version": 3
   },
   "file_extension": ".py",
   "mimetype": "text/x-python",
   "name": "python",
   "nbconvert_exporter": "python",
   "pygments_lexer": "ipython3",
   "version": "3.7.6"
  }
 },
 "nbformat": 4,
 "nbformat_minor": 4
}
