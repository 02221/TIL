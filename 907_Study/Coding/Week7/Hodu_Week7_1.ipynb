{
 "cells": [
  {
   "cell_type": "markdown",
   "metadata": {},
   "source": [
    "## 이상한 문자 만들기\n",
    "https://programmers.co.kr/learn/courses/30/lessons/12930"
   ]
  },
  {
   "cell_type": "code",
   "execution_count": 222,
   "metadata": {},
   "outputs": [],
   "source": [
    "s = \"THE HE\""
   ]
  },
  {
   "cell_type": "code",
   "execution_count": 257,
   "metadata": {},
   "outputs": [],
   "source": [
    "ls = s.split(\" \")"
   ]
  },
  {
   "cell_type": "code",
   "execution_count": 258,
   "metadata": {},
   "outputs": [
    {
     "data": {
      "text/plain": [
       "['try', 'hello', 'world']"
      ]
     },
     "execution_count": 258,
     "metadata": {},
     "output_type": "execute_result"
    }
   ],
   "source": [
    "ls"
   ]
  },
  {
   "cell_type": "markdown",
   "metadata": {},
   "source": [
    "ls = [[x]for x in s.split()]"
   ]
  },
  {
   "cell_type": "markdown",
   "metadata": {},
   "source": [
    "ls"
   ]
  },
  {
   "cell_type": "code",
   "execution_count": 266,
   "metadata": {},
   "outputs": [],
   "source": [
    "s = \"C h o i y e o n j i\"\n",
    "def solution(s):\n",
    "    ls = s.split()\n",
    "    ls_n = []\n",
    "    answer = \"\"\n",
    "    for i in range(len(ls)):\n",
    "        for j in range(len(ls[i])):\n",
    "            if j%2 == 0:\n",
    "                ls_n.append(ls[i][j].upper())\n",
    "            else:\n",
    "                ls_n.append(ls[i][j].lower())\n",
    "        string = ''.join(ls_n)\n",
    "        answer += string\n",
    "        answer += ' '\n",
    "        ls_n = []\n",
    "    return answer[:-1]"
   ]
  },
  {
   "cell_type": "code",
   "execution_count": 267,
   "metadata": {},
   "outputs": [
    {
     "data": {
      "text/plain": [
       "'C H O I Y E O N J I'"
      ]
     },
     "execution_count": 267,
     "metadata": {},
     "output_type": "execute_result"
    }
   ],
   "source": [
    "solution(s)"
   ]
  },
  {
   "cell_type": "code",
   "execution_count": 251,
   "metadata": {},
   "outputs": [
    {
     "ename": "ValueError",
     "evalue": "empty separator",
     "output_type": "error",
     "traceback": [
      "\u001b[1;31m---------------------------------------------------------------------------\u001b[0m",
      "\u001b[1;31mValueError\u001b[0m                                Traceback (most recent call last)",
      "\u001b[1;32m<ipython-input-251-f04edf04efbf>\u001b[0m in \u001b[0;36m<module>\u001b[1;34m\u001b[0m\n\u001b[0;32m      1\u001b[0m \u001b[0ms\u001b[0m \u001b[1;33m=\u001b[0m \u001b[1;34m\"try hello world\"\u001b[0m\u001b[1;33m\u001b[0m\u001b[1;33m\u001b[0m\u001b[0m\n\u001b[1;32m----> 2\u001b[1;33m \u001b[0mls\u001b[0m \u001b[1;33m=\u001b[0m \u001b[0ms\u001b[0m\u001b[1;33m.\u001b[0m\u001b[0msplit\u001b[0m\u001b[1;33m(\u001b[0m\u001b[1;34m''\u001b[0m\u001b[1;33m)\u001b[0m\u001b[1;33m\u001b[0m\u001b[1;33m\u001b[0m\u001b[0m\n\u001b[0m\u001b[0;32m      3\u001b[0m \u001b[0mls_n\u001b[0m \u001b[1;33m=\u001b[0m \u001b[1;33m[\u001b[0m\u001b[1;33m]\u001b[0m\u001b[1;33m\u001b[0m\u001b[1;33m\u001b[0m\u001b[0m\n\u001b[0;32m      4\u001b[0m \u001b[0manswer\u001b[0m \u001b[1;33m=\u001b[0m \u001b[1;34m''\u001b[0m\u001b[1;33m\u001b[0m\u001b[1;33m\u001b[0m\u001b[0m\n\u001b[0;32m      5\u001b[0m \u001b[1;32mfor\u001b[0m \u001b[0mi\u001b[0m \u001b[1;32min\u001b[0m \u001b[0mrange\u001b[0m\u001b[1;33m(\u001b[0m\u001b[0mlen\u001b[0m\u001b[1;33m(\u001b[0m\u001b[0mls\u001b[0m\u001b[1;33m)\u001b[0m\u001b[1;33m)\u001b[0m\u001b[1;33m:\u001b[0m\u001b[1;33m\u001b[0m\u001b[1;33m\u001b[0m\u001b[0m\n",
      "\u001b[1;31mValueError\u001b[0m: empty separator"
     ]
    }
   ],
   "source": [
    "    s = \"try hello world\"\n",
    "    ls = s.split()\n",
    "    ls_n = []\n",
    "    answer = ''\n",
    "    for i in range(len(ls)):        \n",
    "        for j in range(len(ls[i])):\n",
    "            if j%2 == 0:\n",
    "                ls_n.append(ls[i][j].upper())\n",
    "            elif j%2 ==1:\n",
    "                ls_n.append(ls[i][j].lower())\n",
    "        string = ''.join(ls_n)\n",
    "        answer += string + ' '\n",
    "        ls_n = []\n",
    "    return answer[:-1]"
   ]
  },
  {
   "cell_type": "code",
   "execution_count": 252,
   "metadata": {},
   "outputs": [
    {
     "data": {
      "text/plain": [
       "'TrYHeLlOWoRlD'"
      ]
     },
     "execution_count": 252,
     "metadata": {},
     "output_type": "execute_result"
    }
   ],
   "source": [
    "answer"
   ]
  },
  {
   "cell_type": "code",
   "execution_count": 239,
   "metadata": {},
   "outputs": [
    {
     "data": {
      "text/plain": [
       "['try', 'hello', 'world']"
      ]
     },
     "execution_count": 239,
     "metadata": {},
     "output_type": "execute_result"
    }
   ],
   "source": [
    "ls"
   ]
  },
  {
   "cell_type": "code",
   "execution_count": 241,
   "metadata": {},
   "outputs": [
    {
     "data": {
      "text/plain": [
       "5"
      ]
     },
     "execution_count": 241,
     "metadata": {},
     "output_type": "execute_result"
    }
   ],
   "source": [
    "len(ls[1])"
   ]
  },
  {
   "cell_type": "markdown",
   "metadata": {},
   "source": [
    "## 자릿수 더하기\n",
    "https://programmers.co.kr/learn/courses/30/lessons/12931"
   ]
  },
  {
   "cell_type": "code",
   "execution_count": 32,
   "metadata": {},
   "outputs": [],
   "source": [
    "    n = 123\n",
    "    string = str(n)\n",
    "    N = n\n",
    "    answer = 0\n",
    "    for i in range(1,len(string)+1):\n",
    "        answer += N % (10^i)\n",
    "        N -= answer*(10^(i-1))\n",
    "    "
   ]
  },
  {
   "cell_type": "code",
   "execution_count": 33,
   "metadata": {},
   "outputs": [
    {
     "data": {
      "text/plain": [
       "13"
      ]
     },
     "execution_count": 33,
     "metadata": {},
     "output_type": "execute_result"
    }
   ],
   "source": [
    "answer"
   ]
  },
  {
   "cell_type": "code",
   "execution_count": 66,
   "metadata": {},
   "outputs": [
    {
     "data": {
      "text/plain": [
       "4"
      ]
     },
     "execution_count": 66,
     "metadata": {},
     "output_type": "execute_result"
    }
   ],
   "source": [
    "980 % (10^2)"
   ]
  },
  {
   "cell_type": "code",
   "execution_count": 67,
   "metadata": {},
   "outputs": [],
   "source": [
    "def solution(n):\n",
    "    string = str(n)\n",
    "    N = n\n",
    "    answer = 0\n",
    "    for i in range(1, len(string)+1):\n",
    "        answer += (N % 10**i) / (10**(i-1))\n",
    "        N -= N % 10**i\n",
    "    return answer\n"
   ]
  },
  {
   "cell_type": "markdown",
   "metadata": {},
   "source": [
    "예를 들어 n =9876\n",
    "N = 9876\n",
    "i = 1~4\n",
    "i = 1\n",
    "answer += 6 (9876을 10으로 나눈 나머지 / 10^0)\n",
    "answer = 0+6이 됨\n",
    "N -= 9876을 10으로 나눈 나머지\n",
    "N = 9870이 됨\n",
    "\n",
    "i = 2\n",
    "answer += 7 (9870을 100으로 나눈 나머지 / 10^1)\n",
    "answer = 0+6+7이 됨\n",
    "N -= 9870을 100으로 나눈 나머지\n",
    "N = 9800이 됨\n",
    "\n",
    "i = 3\n",
    "answer += 8 (9800을 1000으로 나눈 나머지 / 10^2)\n",
    "answer = 0+6+7+8\n",
    "N -= 9800을 1000으로 나눈 나머지\n",
    "N = 9000이 됨\n",
    "\n",
    "i = 4\n",
    "answer += 9 (9800을 10000으로 나눈 나머지/ 10^3)\n",
    "answer = 0+6+7+8+9\n",
    "N -= 9000을 10000으로 나눈 나머지\n",
    "N = 0이 됨"
   ]
  },
  {
   "cell_type": "code",
   "execution_count": 81,
   "metadata": {},
   "outputs": [],
   "source": [
    "def solution(n):\n",
    "    answer = 0\n",
    "    while True:\n",
    "        answer += int(n % 10)\n",
    "        n = n / 10\n",
    "        if n < 1:\n",
    "            return answer"
   ]
  },
  {
   "cell_type": "code",
   "execution_count": 82,
   "metadata": {},
   "outputs": [
    {
     "data": {
      "text/plain": [
       "24"
      ]
     },
     "execution_count": 82,
     "metadata": {},
     "output_type": "execute_result"
    }
   ],
   "source": [
    "solution(987)"
   ]
  },
  {
   "cell_type": "code",
   "execution_count": null,
   "metadata": {},
   "outputs": [],
   "source": [
    "#다른사람풀이(재귀)\n",
    "def sum_digit(number):\n",
    "    if number < 10:\n",
    "        return number;\n",
    "    return (number % 10) + sum_digit(number // 10)"
   ]
  },
  {
   "cell_type": "code",
   "execution_count": null,
   "metadata": {},
   "outputs": [],
   "source": [
    "#다른사람풀이(sum)\n",
    "def sum_digit(number):\n",
    "    return sum([int(i) for i in str(number)])\n",
    "\n",
    "def sum_digit(number):\n",
    "    '''number의 각 자릿수를 더해서 return하세요'''\n",
    "    return sum(map(int,str(number)))"
   ]
  },
  {
   "cell_type": "markdown",
   "metadata": {},
   "source": [
    "## 자연수 뒤집어 배열로 만들기\n",
    "https://programmers.co.kr/learn/courses/30/lessons/12932"
   ]
  },
  {
   "cell_type": "code",
   "execution_count": 129,
   "metadata": {},
   "outputs": [],
   "source": [
    "def solution(n):    \n",
    "    answer = list(map(int, str(n)))\n",
    "    answer = reversed(answer)\n",
    "    return list(answer)"
   ]
  },
  {
   "cell_type": "code",
   "execution_count": 130,
   "metadata": {},
   "outputs": [
    {
     "data": {
      "text/plain": [
       "[5, 4, 3, 2, 1]"
      ]
     },
     "execution_count": 130,
     "metadata": {},
     "output_type": "execute_result"
    }
   ],
   "source": [
    "solution(12345)"
   ]
  },
  {
   "cell_type": "code",
   "execution_count": null,
   "metadata": {},
   "outputs": [],
   "source": [
    "#다른사람풀이\n",
    "def solution(n):\n",
    "    return list(map(int, reversed(str(n))))\n",
    "    #reversed 가 str도 받을수 있기 때문에 한줄로 작성 가능\n",
    "    \n",
    "    return [int(i) for i in str(n)][::-1]"
   ]
  },
  {
   "cell_type": "markdown",
   "metadata": {},
   "source": [
    "## 정수 내림차순으로 배치하기\n",
    "https://programmers.co.kr/learn/courses/30/lessons/12933"
   ]
  },
  {
   "cell_type": "code",
   "execution_count": 157,
   "metadata": {},
   "outputs": [],
   "source": [
    "def solution(n):    \n",
    "    ls = list(map(str, sorted(str(n), reverse=True)))\n",
    "    answer = int(''.join(ls))\n",
    "    return answer"
   ]
  },
  {
   "cell_type": "code",
   "execution_count": 158,
   "metadata": {},
   "outputs": [
    {
     "data": {
      "text/plain": [
       "873211"
      ]
     },
     "execution_count": 158,
     "metadata": {},
     "output_type": "execute_result"
    }
   ],
   "source": [
    "solution(118372)"
   ]
  },
  {
   "cell_type": "markdown",
   "metadata": {},
   "source": [
    "## 정수 제곱근 판별\n",
    "https://programmers.co.kr/learn/courses/30/lessons/12934"
   ]
  },
  {
   "cell_type": "code",
   "execution_count": 169,
   "metadata": {},
   "outputs": [
    {
     "data": {
      "text/plain": [
       "float"
      ]
     },
     "execution_count": 169,
     "metadata": {},
     "output_type": "execute_result"
    }
   ],
   "source": [
    "type(121**0.5)"
   ]
  },
  {
   "cell_type": "code",
   "execution_count": 176,
   "metadata": {},
   "outputs": [],
   "source": [
    "def solution(n):\n",
    "    if (n**0.5)%1 == 0: #정수판별\n",
    "        answer = ((n**0.5)+1)**2\n",
    "    else:\n",
    "        answer = -1\n",
    "    return answer"
   ]
  },
  {
   "cell_type": "code",
   "execution_count": 177,
   "metadata": {},
   "outputs": [
    {
     "data": {
      "text/plain": [
       "144.0"
      ]
     },
     "execution_count": 177,
     "metadata": {},
     "output_type": "execute_result"
    }
   ],
   "source": [
    "solution(121)"
   ]
  },
  {
   "cell_type": "code",
   "execution_count": null,
   "metadata": {},
   "outputs": [],
   "source": [
    "#다른사람풀이 (and, or 연산자)\n",
    "def nextSqure(n):\n",
    "    return n == int(n**.5)**2 and int(n**.5+1)**2 or 'no'\n",
    "\n",
    "1) A and B\n",
    "- A,B 둘 다 참이면 B 를 출력\n",
    "\n",
    "- A,B 둘 다 거짓이면 A 를 출력\n",
    "\n",
    "- A, B 둘 중에 하나만 참이면 거짓인 값을 출력\n",
    "\n",
    " \n",
    "\n",
    "2) A or B\n",
    "- A,B 둘 다 참이면 A 를 출력\n",
    "\n",
    "- A,B 둘 다 거짓이면 B 를 출력\n",
    "\n",
    "- A, B 둘 중에 하나만 참이면 참인 값을 출력\n",
    "\n",
    " "
   ]
  },
  {
   "cell_type": "markdown",
   "metadata": {},
   "source": [
    "## 제일 작은 수 제거하기\n",
    "https://programmers.co.kr/learn/courses/30/lessons/12935"
   ]
  },
  {
   "cell_type": "code",
   "execution_count": null,
   "metadata": {},
   "outputs": [],
   "source": []
  },
  {
   "cell_type": "markdown",
   "metadata": {},
   "source": [
    "## 짝수와 홀수\n",
    "https://programmers.co.kr/learn/courses/30/lessons/12937"
   ]
  },
  {
   "cell_type": "code",
   "execution_count": null,
   "metadata": {},
   "outputs": [],
   "source": []
  },
  {
   "cell_type": "markdown",
   "metadata": {},
   "source": [
    "## 키패드 누르기\n",
    "https://programmers.co.kr/learn/courses/30/lessons/67256"
   ]
  },
  {
   "cell_type": "code",
   "execution_count": null,
   "metadata": {},
   "outputs": [],
   "source": []
  },
  {
   "cell_type": "markdown",
   "metadata": {},
   "source": [
    "## 최대공약수와 최소공배수\n",
    "https://programmers.co.kr/learn/courses/30/lessons/12940"
   ]
  },
  {
   "cell_type": "code",
   "execution_count": null,
   "metadata": {},
   "outputs": [],
   "source": []
  },
  {
   "cell_type": "markdown",
   "metadata": {},
   "source": [
    "## 콜라츠 추측\n",
    "https://programmers.co.kr/learn/courses/30/lessons/12943"
   ]
  },
  {
   "cell_type": "code",
   "execution_count": null,
   "metadata": {},
   "outputs": [],
   "source": []
  },
  {
   "cell_type": "markdown",
   "metadata": {},
   "source": [
    "## 평균 구하기\n",
    "https://programmers.co.kr/learn/courses/30/lessons/12944"
   ]
  },
  {
   "cell_type": "code",
   "execution_count": null,
   "metadata": {},
   "outputs": [],
   "source": []
  },
  {
   "cell_type": "markdown",
   "metadata": {},
   "source": [
    "## 하샤드 수\n",
    "https://programmers.co.kr/learn/courses/30/lessons/12947"
   ]
  },
  {
   "cell_type": "code",
   "execution_count": null,
   "metadata": {},
   "outputs": [],
   "source": []
  },
  {
   "cell_type": "markdown",
   "metadata": {},
   "source": [
    "## 핸드폰 번호 가리기\n",
    "https://programmers.co.kr/learn/courses/30/lessons/12948"
   ]
  },
  {
   "cell_type": "code",
   "execution_count": null,
   "metadata": {},
   "outputs": [],
   "source": []
  },
  {
   "cell_type": "markdown",
   "metadata": {},
   "source": [
    "## 행렬의 덧셈\n",
    "https://programmers.co.kr/learn/courses/30/lessons/12950"
   ]
  },
  {
   "cell_type": "code",
   "execution_count": null,
   "metadata": {},
   "outputs": [],
   "source": []
  },
  {
   "cell_type": "markdown",
   "metadata": {},
   "source": [
    "## x만큼 간격이 있는 n개의 숫자\n",
    "https://programmers.co.kr/learn/courses/30/lessons/12954"
   ]
  },
  {
   "cell_type": "code",
   "execution_count": null,
   "metadata": {},
   "outputs": [],
   "source": []
  },
  {
   "cell_type": "markdown",
   "metadata": {},
   "source": [
    "## 직사각형 별찍기\n",
    "https://programmers.co.kr/learn/courses/30/lessons/12969"
   ]
  },
  {
   "cell_type": "code",
   "execution_count": null,
   "metadata": {},
   "outputs": [],
   "source": []
  },
  {
   "cell_type": "markdown",
   "metadata": {},
   "source": [
    "## 예산\n",
    "https://programmers.co.kr/learn/courses/30/lessons/12982"
   ]
  },
  {
   "cell_type": "code",
   "execution_count": null,
   "metadata": {},
   "outputs": [],
   "source": []
  },
  {
   "cell_type": "markdown",
   "metadata": {},
   "source": [
    "## 비밀지도\n",
    "https://programmers.co.kr/learn/courses/30/lessons/17681"
   ]
  },
  {
   "cell_type": "code",
   "execution_count": null,
   "metadata": {},
   "outputs": [],
   "source": []
  },
  {
   "cell_type": "markdown",
   "metadata": {},
   "source": [
    "## 실패율\n",
    "https://programmers.co.kr/learn/courses/30/lessons/42889"
   ]
  },
  {
   "cell_type": "code",
   "execution_count": null,
   "metadata": {},
   "outputs": [],
   "source": []
  },
  {
   "cell_type": "markdown",
   "metadata": {},
   "source": [
    "## 다트 게임\n",
    "https://programmers.co.kr/learn/courses/30/lessons/17682"
   ]
  },
  {
   "cell_type": "code",
   "execution_count": null,
   "metadata": {},
   "outputs": [],
   "source": []
  }
 ],
 "metadata": {
  "kernelspec": {
   "display_name": "Python 3",
   "language": "python",
   "name": "python3"
  },
  "language_info": {
   "codemirror_mode": {
    "name": "ipython",
    "version": 3
   },
   "file_extension": ".py",
   "mimetype": "text/x-python",
   "name": "python",
   "nbconvert_exporter": "python",
   "pygments_lexer": "ipython3",
   "version": "3.7.4"
  }
 },
 "nbformat": 4,
 "nbformat_minor": 4
}
