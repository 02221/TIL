{
 "cells": [
  {
   "cell_type": "markdown",
   "metadata": {},
   "source": [
    "# ARCH"
   ]
  },
  {
   "cell_type": "markdown",
   "metadata": {},
   "source": [
    "- 고전 회귀모형\n",
    "    - 동분산 가정\n",
    "        - 교란항은 모든 독립변수에 대해 동일한 분산을 갖음\n",
    "        - 교란항은 서로 독립\n",
    "        - $E[u_i^2]=\\sigma^2$\n",
    "- 이분산성\n",
    "    - 교란항의 분산이 달라진다\n",
    "    - 자기상관 오차\n",
    "        - 교란항의 분산이 독립변수와 관계\n",
    "            - 계열상관성\n",
    "                - 오차항끼리 상관성\n",
    "            - 이분산성\n",
    "                - 오차항의 분산끼리 상관성\n",
    "- 차분\n",
    "    - 추세 제거 가능\n",
    "    - 분산을 크게 함\n",
    "        - 2차 이하로 함"
   ]
  },
  {
   "cell_type": "markdown",
   "metadata": {},
   "source": [
    "- 변동성 \n",
    "    - 분산\n",
    "    - 표준편차"
   ]
  },
  {
   "cell_type": "markdown",
   "metadata": {},
   "source": []
  },
  {
   "cell_type": "markdown",
   "metadata": {},
   "source": []
  }
 ],
 "metadata": {
  "kernelspec": {
   "display_name": "Python 3",
   "language": "python",
   "name": "python3"
  },
  "language_info": {
   "codemirror_mode": {
    "name": "ipython",
    "version": 3
   },
   "file_extension": ".py",
   "mimetype": "text/x-python",
   "name": "python",
   "nbconvert_exporter": "python",
   "pygments_lexer": "ipython3",
   "version": "3.7.6"
  }
 },
 "nbformat": 4,
 "nbformat_minor": 4
}
